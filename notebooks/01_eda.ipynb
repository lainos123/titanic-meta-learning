{
 "cells": [
  {
   "cell_type": "markdown",
   "metadata": {},
   "source": [
    "# Exploratory Data Analysis with python and plotly"
   ]
  },
  {
   "cell_type": "markdown",
   "metadata": {},
   "source": [
    "##### Contents\n",
    "\n",
    "[1. Load data](###1.-Load-data)\n",
    "\n",
    "[2. Data Understanding and Cleaning](###2.-data-understanding-and-cleaning)"
   ]
  },
  {
   "cell_type": "markdown",
   "metadata": {},
   "source": [
    "### 1. Load data"
   ]
  },
  {
   "cell_type": "code",
   "execution_count": 1129,
   "metadata": {},
   "outputs": [],
   "source": [
    "\n",
    "import pandas as pd\n",
    "\n",
    "train = pd.read_csv('../data/raw/train.csv') \n",
    "test = pd.read_csv('../data/raw/test.csv')\n"
   ]
  },
  {
   "cell_type": "markdown",
   "metadata": {},
   "source": [
    "Stick training and test data together so that feature engineering is done to the test set as well. "
   ]
  },
  {
   "cell_type": "code",
   "execution_count": 1130,
   "metadata": {},
   "outputs": [],
   "source": [
    "train['source'] = 'train'\n",
    "test['source'] = 'test'\n",
    "combined = pd.concat([train, test], sort=False)"
   ]
  },
  {
   "cell_type": "markdown",
   "metadata": {},
   "source": [
    "### 2. Data Understanding and Cleaning"
   ]
  },
  {
   "cell_type": "markdown",
   "metadata": {},
   "source": [
    "#### Understanding"
   ]
  },
  {
   "cell_type": "code",
   "execution_count": 1131,
   "metadata": {},
   "outputs": [
    {
     "data": {
      "text/html": [
       "<div>\n",
       "<style scoped>\n",
       "    .dataframe tbody tr th:only-of-type {\n",
       "        vertical-align: middle;\n",
       "    }\n",
       "\n",
       "    .dataframe tbody tr th {\n",
       "        vertical-align: top;\n",
       "    }\n",
       "\n",
       "    .dataframe thead th {\n",
       "        text-align: right;\n",
       "    }\n",
       "</style>\n",
       "<table border=\"1\" class=\"dataframe\">\n",
       "  <thead>\n",
       "    <tr style=\"text-align: right;\">\n",
       "      <th></th>\n",
       "      <th>PassengerId</th>\n",
       "      <th>Survived</th>\n",
       "      <th>Pclass</th>\n",
       "      <th>Name</th>\n",
       "      <th>Sex</th>\n",
       "      <th>Age</th>\n",
       "      <th>SibSp</th>\n",
       "      <th>Parch</th>\n",
       "      <th>Ticket</th>\n",
       "      <th>Fare</th>\n",
       "      <th>Cabin</th>\n",
       "      <th>Embarked</th>\n",
       "      <th>source</th>\n",
       "    </tr>\n",
       "  </thead>\n",
       "  <tbody>\n",
       "    <tr>\n",
       "      <th>0</th>\n",
       "      <td>1</td>\n",
       "      <td>0.0</td>\n",
       "      <td>3</td>\n",
       "      <td>Braund, Mr. Owen Harris</td>\n",
       "      <td>male</td>\n",
       "      <td>22.0</td>\n",
       "      <td>1</td>\n",
       "      <td>0</td>\n",
       "      <td>A/5 21171</td>\n",
       "      <td>7.2500</td>\n",
       "      <td>NaN</td>\n",
       "      <td>S</td>\n",
       "      <td>train</td>\n",
       "    </tr>\n",
       "    <tr>\n",
       "      <th>1</th>\n",
       "      <td>2</td>\n",
       "      <td>1.0</td>\n",
       "      <td>1</td>\n",
       "      <td>Cumings, Mrs. John Bradley (Florence Briggs Th...</td>\n",
       "      <td>female</td>\n",
       "      <td>38.0</td>\n",
       "      <td>1</td>\n",
       "      <td>0</td>\n",
       "      <td>PC 17599</td>\n",
       "      <td>71.2833</td>\n",
       "      <td>C85</td>\n",
       "      <td>C</td>\n",
       "      <td>train</td>\n",
       "    </tr>\n",
       "    <tr>\n",
       "      <th>2</th>\n",
       "      <td>3</td>\n",
       "      <td>1.0</td>\n",
       "      <td>3</td>\n",
       "      <td>Heikkinen, Miss. Laina</td>\n",
       "      <td>female</td>\n",
       "      <td>26.0</td>\n",
       "      <td>0</td>\n",
       "      <td>0</td>\n",
       "      <td>STON/O2. 3101282</td>\n",
       "      <td>7.9250</td>\n",
       "      <td>NaN</td>\n",
       "      <td>S</td>\n",
       "      <td>train</td>\n",
       "    </tr>\n",
       "    <tr>\n",
       "      <th>3</th>\n",
       "      <td>4</td>\n",
       "      <td>1.0</td>\n",
       "      <td>1</td>\n",
       "      <td>Futrelle, Mrs. Jacques Heath (Lily May Peel)</td>\n",
       "      <td>female</td>\n",
       "      <td>35.0</td>\n",
       "      <td>1</td>\n",
       "      <td>0</td>\n",
       "      <td>113803</td>\n",
       "      <td>53.1000</td>\n",
       "      <td>C123</td>\n",
       "      <td>S</td>\n",
       "      <td>train</td>\n",
       "    </tr>\n",
       "    <tr>\n",
       "      <th>4</th>\n",
       "      <td>5</td>\n",
       "      <td>0.0</td>\n",
       "      <td>3</td>\n",
       "      <td>Allen, Mr. William Henry</td>\n",
       "      <td>male</td>\n",
       "      <td>35.0</td>\n",
       "      <td>0</td>\n",
       "      <td>0</td>\n",
       "      <td>373450</td>\n",
       "      <td>8.0500</td>\n",
       "      <td>NaN</td>\n",
       "      <td>S</td>\n",
       "      <td>train</td>\n",
       "    </tr>\n",
       "    <tr>\n",
       "      <th>5</th>\n",
       "      <td>6</td>\n",
       "      <td>0.0</td>\n",
       "      <td>3</td>\n",
       "      <td>Moran, Mr. James</td>\n",
       "      <td>male</td>\n",
       "      <td>NaN</td>\n",
       "      <td>0</td>\n",
       "      <td>0</td>\n",
       "      <td>330877</td>\n",
       "      <td>8.4583</td>\n",
       "      <td>NaN</td>\n",
       "      <td>Q</td>\n",
       "      <td>train</td>\n",
       "    </tr>\n",
       "    <tr>\n",
       "      <th>6</th>\n",
       "      <td>7</td>\n",
       "      <td>0.0</td>\n",
       "      <td>1</td>\n",
       "      <td>McCarthy, Mr. Timothy J</td>\n",
       "      <td>male</td>\n",
       "      <td>54.0</td>\n",
       "      <td>0</td>\n",
       "      <td>0</td>\n",
       "      <td>17463</td>\n",
       "      <td>51.8625</td>\n",
       "      <td>E46</td>\n",
       "      <td>S</td>\n",
       "      <td>train</td>\n",
       "    </tr>\n",
       "    <tr>\n",
       "      <th>7</th>\n",
       "      <td>8</td>\n",
       "      <td>0.0</td>\n",
       "      <td>3</td>\n",
       "      <td>Palsson, Master. Gosta Leonard</td>\n",
       "      <td>male</td>\n",
       "      <td>2.0</td>\n",
       "      <td>3</td>\n",
       "      <td>1</td>\n",
       "      <td>349909</td>\n",
       "      <td>21.0750</td>\n",
       "      <td>NaN</td>\n",
       "      <td>S</td>\n",
       "      <td>train</td>\n",
       "    </tr>\n",
       "    <tr>\n",
       "      <th>8</th>\n",
       "      <td>9</td>\n",
       "      <td>1.0</td>\n",
       "      <td>3</td>\n",
       "      <td>Johnson, Mrs. Oscar W (Elisabeth Vilhelmina Berg)</td>\n",
       "      <td>female</td>\n",
       "      <td>27.0</td>\n",
       "      <td>0</td>\n",
       "      <td>2</td>\n",
       "      <td>347742</td>\n",
       "      <td>11.1333</td>\n",
       "      <td>NaN</td>\n",
       "      <td>S</td>\n",
       "      <td>train</td>\n",
       "    </tr>\n",
       "    <tr>\n",
       "      <th>9</th>\n",
       "      <td>10</td>\n",
       "      <td>1.0</td>\n",
       "      <td>2</td>\n",
       "      <td>Nasser, Mrs. Nicholas (Adele Achem)</td>\n",
       "      <td>female</td>\n",
       "      <td>14.0</td>\n",
       "      <td>1</td>\n",
       "      <td>0</td>\n",
       "      <td>237736</td>\n",
       "      <td>30.0708</td>\n",
       "      <td>NaN</td>\n",
       "      <td>C</td>\n",
       "      <td>train</td>\n",
       "    </tr>\n",
       "  </tbody>\n",
       "</table>\n",
       "</div>"
      ],
      "text/plain": [
       "   PassengerId  Survived  Pclass  \\\n",
       "0            1       0.0       3   \n",
       "1            2       1.0       1   \n",
       "2            3       1.0       3   \n",
       "3            4       1.0       1   \n",
       "4            5       0.0       3   \n",
       "5            6       0.0       3   \n",
       "6            7       0.0       1   \n",
       "7            8       0.0       3   \n",
       "8            9       1.0       3   \n",
       "9           10       1.0       2   \n",
       "\n",
       "                                                Name     Sex   Age  SibSp  \\\n",
       "0                            Braund, Mr. Owen Harris    male  22.0      1   \n",
       "1  Cumings, Mrs. John Bradley (Florence Briggs Th...  female  38.0      1   \n",
       "2                             Heikkinen, Miss. Laina  female  26.0      0   \n",
       "3       Futrelle, Mrs. Jacques Heath (Lily May Peel)  female  35.0      1   \n",
       "4                           Allen, Mr. William Henry    male  35.0      0   \n",
       "5                                   Moran, Mr. James    male   NaN      0   \n",
       "6                            McCarthy, Mr. Timothy J    male  54.0      0   \n",
       "7                     Palsson, Master. Gosta Leonard    male   2.0      3   \n",
       "8  Johnson, Mrs. Oscar W (Elisabeth Vilhelmina Berg)  female  27.0      0   \n",
       "9                Nasser, Mrs. Nicholas (Adele Achem)  female  14.0      1   \n",
       "\n",
       "   Parch            Ticket     Fare Cabin Embarked source  \n",
       "0      0         A/5 21171   7.2500   NaN        S  train  \n",
       "1      0          PC 17599  71.2833   C85        C  train  \n",
       "2      0  STON/O2. 3101282   7.9250   NaN        S  train  \n",
       "3      0            113803  53.1000  C123        S  train  \n",
       "4      0            373450   8.0500   NaN        S  train  \n",
       "5      0            330877   8.4583   NaN        Q  train  \n",
       "6      0             17463  51.8625   E46        S  train  \n",
       "7      1            349909  21.0750   NaN        S  train  \n",
       "8      2            347742  11.1333   NaN        S  train  \n",
       "9      0            237736  30.0708   NaN        C  train  "
      ]
     },
     "execution_count": 1131,
     "metadata": {},
     "output_type": "execute_result"
    }
   ],
   "source": [
    "combined.head(10)\n",
    "\n"
   ]
  },
  {
   "cell_type": "code",
   "execution_count": 1132,
   "metadata": {},
   "outputs": [
    {
     "name": "stdout",
     "output_type": "stream",
     "text": [
      "<class 'pandas.core.frame.DataFrame'>\n",
      "Index: 1309 entries, 0 to 417\n",
      "Data columns (total 13 columns):\n",
      " #   Column       Non-Null Count  Dtype  \n",
      "---  ------       --------------  -----  \n",
      " 0   PassengerId  1309 non-null   int64  \n",
      " 1   Survived     891 non-null    float64\n",
      " 2   Pclass       1309 non-null   int64  \n",
      " 3   Name         1309 non-null   object \n",
      " 4   Sex          1309 non-null   object \n",
      " 5   Age          1046 non-null   float64\n",
      " 6   SibSp        1309 non-null   int64  \n",
      " 7   Parch        1309 non-null   int64  \n",
      " 8   Ticket       1309 non-null   object \n",
      " 9   Fare         1308 non-null   float64\n",
      " 10  Cabin        295 non-null    object \n",
      " 11  Embarked     1307 non-null   object \n",
      " 12  source       1309 non-null   object \n",
      "dtypes: float64(3), int64(4), object(6)\n",
      "memory usage: 143.2+ KB\n"
     ]
    }
   ],
   "source": [
    "combined.info()"
   ]
  },
  {
   "cell_type": "markdown",
   "metadata": {},
   "source": [
    "All of these datatypes make sense, none need to be converted"
   ]
  },
  {
   "cell_type": "code",
   "execution_count": 1133,
   "metadata": {},
   "outputs": [
    {
     "data": {
      "text/html": [
       "<div>\n",
       "<style scoped>\n",
       "    .dataframe tbody tr th:only-of-type {\n",
       "        vertical-align: middle;\n",
       "    }\n",
       "\n",
       "    .dataframe tbody tr th {\n",
       "        vertical-align: top;\n",
       "    }\n",
       "\n",
       "    .dataframe thead th {\n",
       "        text-align: right;\n",
       "    }\n",
       "</style>\n",
       "<table border=\"1\" class=\"dataframe\">\n",
       "  <thead>\n",
       "    <tr style=\"text-align: right;\">\n",
       "      <th></th>\n",
       "      <th>PassengerId</th>\n",
       "      <th>Survived</th>\n",
       "      <th>Pclass</th>\n",
       "      <th>Age</th>\n",
       "      <th>SibSp</th>\n",
       "      <th>Parch</th>\n",
       "      <th>Fare</th>\n",
       "    </tr>\n",
       "  </thead>\n",
       "  <tbody>\n",
       "    <tr>\n",
       "      <th>count</th>\n",
       "      <td>1309.00</td>\n",
       "      <td>891.00</td>\n",
       "      <td>1309.00</td>\n",
       "      <td>1046.00</td>\n",
       "      <td>1309.00</td>\n",
       "      <td>1309.00</td>\n",
       "      <td>1308.00</td>\n",
       "    </tr>\n",
       "    <tr>\n",
       "      <th>mean</th>\n",
       "      <td>655.00</td>\n",
       "      <td>0.38</td>\n",
       "      <td>2.29</td>\n",
       "      <td>29.88</td>\n",
       "      <td>0.50</td>\n",
       "      <td>0.39</td>\n",
       "      <td>33.30</td>\n",
       "    </tr>\n",
       "    <tr>\n",
       "      <th>std</th>\n",
       "      <td>378.02</td>\n",
       "      <td>0.49</td>\n",
       "      <td>0.84</td>\n",
       "      <td>14.41</td>\n",
       "      <td>1.04</td>\n",
       "      <td>0.87</td>\n",
       "      <td>51.76</td>\n",
       "    </tr>\n",
       "    <tr>\n",
       "      <th>min</th>\n",
       "      <td>1.00</td>\n",
       "      <td>0.00</td>\n",
       "      <td>1.00</td>\n",
       "      <td>0.17</td>\n",
       "      <td>0.00</td>\n",
       "      <td>0.00</td>\n",
       "      <td>0.00</td>\n",
       "    </tr>\n",
       "    <tr>\n",
       "      <th>25%</th>\n",
       "      <td>328.00</td>\n",
       "      <td>0.00</td>\n",
       "      <td>2.00</td>\n",
       "      <td>21.00</td>\n",
       "      <td>0.00</td>\n",
       "      <td>0.00</td>\n",
       "      <td>7.90</td>\n",
       "    </tr>\n",
       "    <tr>\n",
       "      <th>50%</th>\n",
       "      <td>655.00</td>\n",
       "      <td>0.00</td>\n",
       "      <td>3.00</td>\n",
       "      <td>28.00</td>\n",
       "      <td>0.00</td>\n",
       "      <td>0.00</td>\n",
       "      <td>14.45</td>\n",
       "    </tr>\n",
       "    <tr>\n",
       "      <th>75%</th>\n",
       "      <td>982.00</td>\n",
       "      <td>1.00</td>\n",
       "      <td>3.00</td>\n",
       "      <td>39.00</td>\n",
       "      <td>1.00</td>\n",
       "      <td>0.00</td>\n",
       "      <td>31.28</td>\n",
       "    </tr>\n",
       "    <tr>\n",
       "      <th>max</th>\n",
       "      <td>1309.00</td>\n",
       "      <td>1.00</td>\n",
       "      <td>3.00</td>\n",
       "      <td>80.00</td>\n",
       "      <td>8.00</td>\n",
       "      <td>9.00</td>\n",
       "      <td>512.33</td>\n",
       "    </tr>\n",
       "  </tbody>\n",
       "</table>\n",
       "</div>"
      ],
      "text/plain": [
       "       PassengerId  Survived   Pclass      Age    SibSp    Parch     Fare\n",
       "count      1309.00    891.00  1309.00  1046.00  1309.00  1309.00  1308.00\n",
       "mean        655.00      0.38     2.29    29.88     0.50     0.39    33.30\n",
       "std         378.02      0.49     0.84    14.41     1.04     0.87    51.76\n",
       "min           1.00      0.00     1.00     0.17     0.00     0.00     0.00\n",
       "25%         328.00      0.00     2.00    21.00     0.00     0.00     7.90\n",
       "50%         655.00      0.00     3.00    28.00     0.00     0.00    14.45\n",
       "75%         982.00      1.00     3.00    39.00     1.00     0.00    31.28\n",
       "max        1309.00      1.00     3.00    80.00     8.00     9.00   512.33"
      ]
     },
     "execution_count": 1133,
     "metadata": {},
     "output_type": "execute_result"
    }
   ],
   "source": [
    "combined.describe().round(2)\n"
   ]
  },
  {
   "cell_type": "markdown",
   "metadata": {},
   "source": [
    "#### Deal with Missing Values"
   ]
  },
  {
   "cell_type": "code",
   "execution_count": 1134,
   "metadata": {},
   "outputs": [
    {
     "name": "stdout",
     "output_type": "stream",
     "text": [
      "Missing values in train data:\n",
      "Survived     418\n",
      "Age          263\n",
      "Fare           1\n",
      "Cabin       1014\n",
      "Embarked       2\n",
      "dtype: int64\n"
     ]
    }
   ],
   "source": [
    "missing_values = combined.isnull().sum()\n",
    "missing_values = missing_values[missing_values > 0]\n",
    "print(\"Missing values in train data:\")\n",
    "print(missing_values)"
   ]
  },
  {
   "cell_type": "markdown",
   "metadata": {},
   "source": [
    "possible values"
   ]
  },
  {
   "cell_type": "code",
   "execution_count": 1135,
   "metadata": {},
   "outputs": [
    {
     "name": "stdout",
     "output_type": "stream",
     "text": [
      "PassengerId    1309\n",
      "Survived          2\n",
      "Pclass            3\n",
      "Name           1307\n",
      "Sex               2\n",
      "Age              98\n",
      "SibSp             7\n",
      "Parch             8\n",
      "Ticket          929\n",
      "Fare            281\n",
      "Cabin           186\n",
      "Embarked          3\n",
      "source            2\n",
      "dtype: int64\n",
      "Survived: [ 0.  1. nan]\n",
      "Pclass: [3 1 2]\n",
      "Sex: ['male' 'female']\n",
      "SibSp: [1 0 3 4 2 5 8]\n",
      "Parch: [0 1 2 5 3 4 6 9]\n",
      "Embarked: ['S' 'C' 'Q' nan]\n",
      "source: ['train' 'test']\n"
     ]
    }
   ],
   "source": [
    "unique_values = combined.nunique()\n",
    "print(unique_values)\n",
    "\n",
    "for col in combined.columns:\n",
    "    if combined[col].nunique() < 10:\n",
    "        print(f\"{col}: {combined[col].unique()}\") # show unique values for columns with less than 10 unique values\n"
   ]
  },
  {
   "cell_type": "markdown",
   "metadata": {},
   "source": [
    "##### Embarked Column"
   ]
  },
  {
   "cell_type": "code",
   "execution_count": 1136,
   "metadata": {},
   "outputs": [
    {
     "name": "stdout",
     "output_type": "stream",
     "text": [
      "Embarked\n",
      "S    914\n",
      "C    270\n",
      "Q    123\n",
      "Name: count, dtype: int64\n",
      "Embarked\n",
      "S    0.698243\n",
      "C    0.206264\n",
      "Q    0.093965\n",
      "Name: count, dtype: float64\n"
     ]
    }
   ],
   "source": [
    "print(combined['Embarked'].value_counts())\n",
    "print(combined['Embarked'].value_counts() / len(combined))\n"
   ]
  },
  {
   "cell_type": "markdown",
   "metadata": {},
   "source": [
    "Becuase there is a 73% chance a passanger embarked in Cherbourg (C), it makes sense to fill in the two missing values in with C"
   ]
  },
  {
   "cell_type": "code",
   "execution_count": 1137,
   "metadata": {},
   "outputs": [
    {
     "name": "stdout",
     "output_type": "stream",
     "text": [
      "Before filling:\n",
      "2\n",
      "\n",
      "After filling:\n",
      "0\n"
     ]
    }
   ],
   "source": [
    "print(\"Before filling:\")\n",
    "print(combined['Embarked'].isnull().sum()) # 2\n",
    "\n",
    "# Fill missing values\n",
    "combined['Embarked'] = combined['Embarked'].fillna(combined['Embarked'].mode()[0])\n",
    "\n",
    "print(\"\\nAfter filling:\")\n",
    "print(combined['Embarked'].isnull().sum()) # should be 0"
   ]
  },
  {
   "cell_type": "markdown",
   "metadata": {},
   "source": [
    "##### Age Column"
   ]
  },
  {
   "cell_type": "code",
   "execution_count": 1138,
   "metadata": {},
   "outputs": [
    {
     "name": "stdout",
     "output_type": "stream",
     "text": [
      "Survived    0.319328\n",
      "dtype: float64\n",
      "count    1046.00\n",
      "mean       29.88\n",
      "std        14.41\n",
      "min         0.17\n",
      "25%        21.00\n",
      "50%        28.00\n",
      "75%        39.00\n",
      "max        80.00\n",
      "Name: Age, dtype: float64\n"
     ]
    }
   ],
   "source": [
    "print(missing_values[0:1] / len(combined))\n",
    "\n",
    "print(combined['Age'].describe().round(2))"
   ]
  },
  {
   "cell_type": "markdown",
   "metadata": {},
   "source": [
    "For age, we have 20% of rows missing an entry. This is probably an important predictive columns so we we will impute values. \n",
    "\n",
    "First lets extract a title, beucase that coule be useful. "
   ]
  },
  {
   "cell_type": "code",
   "execution_count": 1139,
   "metadata": {},
   "outputs": [
    {
     "name": "stdout",
     "output_type": "stream",
     "text": [
      "Title\n",
      "Mr              757\n",
      "Miss            260\n",
      "Mrs             197\n",
      "Master           61\n",
      "Rev               8\n",
      "Dr                8\n",
      "Col               4\n",
      "Mlle              2\n",
      "Major             2\n",
      "Ms                2\n",
      "Lady              1\n",
      "Sir               1\n",
      "Mme               1\n",
      "Don               1\n",
      "Capt              1\n",
      "the Countess      1\n",
      "Jonkheer          1\n",
      "Dona              1\n",
      "Name: count, dtype: int64\n"
     ]
    }
   ],
   "source": [
    "# add a nnew column for the title, found in the second index after splitting the name column\n",
    "combined['Title'] = combined['Name'].str.split(',').str[1].str.split('.').str[0]\n",
    "\n",
    "# print the unique values in the title column and the number of occurences\n",
    "print(combined['Title'].value_counts())\n",
    "\n"
   ]
  },
  {
   "cell_type": "markdown",
   "metadata": {},
   "source": [
    "Predict the missing vlaues of age using XGBoost"
   ]
  },
  {
   "cell_type": "code",
   "execution_count": 1140,
   "metadata": {},
   "outputs": [
    {
     "name": "stdout",
     "output_type": "stream",
     "text": [
      "\n",
      "Missing values after prediction:\n",
      "0\n",
      "\n",
      "Age statistics after imputation:\n",
      "count    1309.00\n",
      "mean       29.90\n",
      "std        13.52\n",
      "min         0.17\n",
      "25%        21.96\n",
      "50%        28.12\n",
      "75%        38.00\n",
      "max        80.00\n",
      "Name: Age, dtype: float64\n"
     ]
    }
   ],
   "source": [
    "# lets use a Gradient Boosting Regressor to predict the missing values of age \n",
    "# using columns Pclass, Sex, SibSp, Parch, Embarked, Title.\n",
    "\n",
    "import xgboost as xgb\n",
    "import numpy as np\n",
    "from sklearn.preprocessing import LabelEncoder\n",
    "\n",
    "# First, let's prepare the data for XGBoost\n",
    "# Create a copy of the data we'll use for prediction\n",
    "age_data = combined[['Age', 'Pclass', 'Sex', 'SibSp', 'Parch', 'Embarked', 'Title', 'Fare']].copy()\n",
    "\n",
    "# Encode categorical variables\n",
    "le_sex = LabelEncoder()\n",
    "le_emb = LabelEncoder()\n",
    "le_title = LabelEncoder()\n",
    "\n",
    "age_data['Sex'] = le_sex.fit_transform(age_data['Sex'])\n",
    "age_data['Embarked'] = le_emb.fit_transform(age_data['Embarked'])\n",
    "age_data['Title'] = le_title.fit_transform(age_data['Title'])\n",
    "\n",
    "# Split into two sets: known age and unknown age\n",
    "known_age = age_data[age_data['Age'].notnull()]\n",
    "unknown_age = age_data[age_data['Age'].isnull()]\n",
    "\n",
    "# Prepare the training data\n",
    "X_train = known_age.drop('Age', axis=1)\n",
    "y_train = known_age['Age']\n",
    "\n",
    "# Train XGBoost model\n",
    "xgb_reg = xgb.XGBRegressor(\n",
    "    n_estimators=100,\n",
    "    learning_rate=0.1,\n",
    "    max_depth=6,\n",
    "    subsample=0.8,\n",
    "    colsample_bytree=0.8,\n",
    "    random_state=42\n",
    ")\n",
    "\n",
    "xgb_reg.fit(X_train, y_train)\n",
    "\n",
    "# Predict missing ages\n",
    "X_test = unknown_age.drop('Age', axis=1)\n",
    "predicted_ages = xgb_reg.predict(X_test)\n",
    "\n",
    "# Fill the missing values in the original dataframe\n",
    "combined.loc[combined['Age'].isnull(), 'Age'] = predicted_ages\n",
    "\n",
    "# Verify the results\n",
    "print(\"\\nMissing values after prediction:\")\n",
    "print(combined['Age'].isnull().sum())\n",
    "\n",
    "# Show age distribution statistics before and after\n",
    "print(\"\\nAge statistics after imputation:\")\n",
    "print(combined['Age'].describe().round(2))\n",
    "\n"
   ]
  },
  {
   "cell_type": "markdown",
   "metadata": {},
   "source": [
    "##### Cabin Column"
   ]
  },
  {
   "cell_type": "markdown",
   "metadata": {},
   "source": [
    "For cabin we have two components, the letter and the number. Lets split these, creating new columns and deleting the old ones.\n",
    "\n",
    "note that for some tickets that are booked together, there are multiple Cabins recoded, for these we can only take the cabin letter."
   ]
  },
  {
   "cell_type": "code",
   "execution_count": 1141,
   "metadata": {},
   "outputs": [
    {
     "data": {
      "text/html": [
       "<div>\n",
       "<style scoped>\n",
       "    .dataframe tbody tr th:only-of-type {\n",
       "        vertical-align: middle;\n",
       "    }\n",
       "\n",
       "    .dataframe tbody tr th {\n",
       "        vertical-align: top;\n",
       "    }\n",
       "\n",
       "    .dataframe thead th {\n",
       "        text-align: right;\n",
       "    }\n",
       "</style>\n",
       "<table border=\"1\" class=\"dataframe\">\n",
       "  <thead>\n",
       "    <tr style=\"text-align: right;\">\n",
       "      <th></th>\n",
       "      <th>PassengerId</th>\n",
       "      <th>Survived</th>\n",
       "      <th>Pclass</th>\n",
       "      <th>Name</th>\n",
       "      <th>Sex</th>\n",
       "      <th>Age</th>\n",
       "      <th>SibSp</th>\n",
       "      <th>Parch</th>\n",
       "      <th>Ticket</th>\n",
       "      <th>Fare</th>\n",
       "      <th>Embarked</th>\n",
       "      <th>source</th>\n",
       "      <th>Title</th>\n",
       "      <th>Cabin_letter</th>\n",
       "      <th>Cabin_number</th>\n",
       "    </tr>\n",
       "  </thead>\n",
       "  <tbody>\n",
       "    <tr>\n",
       "      <th>0</th>\n",
       "      <td>1</td>\n",
       "      <td>0.0</td>\n",
       "      <td>3</td>\n",
       "      <td>Braund, Mr. Owen Harris</td>\n",
       "      <td>male</td>\n",
       "      <td>22.0</td>\n",
       "      <td>1</td>\n",
       "      <td>0</td>\n",
       "      <td>A/5 21171</td>\n",
       "      <td>7.2500</td>\n",
       "      <td>S</td>\n",
       "      <td>train</td>\n",
       "      <td>Mr</td>\n",
       "      <td>NaN</td>\n",
       "      <td>NaN</td>\n",
       "    </tr>\n",
       "    <tr>\n",
       "      <th>1</th>\n",
       "      <td>2</td>\n",
       "      <td>1.0</td>\n",
       "      <td>1</td>\n",
       "      <td>Cumings, Mrs. John Bradley (Florence Briggs Th...</td>\n",
       "      <td>female</td>\n",
       "      <td>38.0</td>\n",
       "      <td>1</td>\n",
       "      <td>0</td>\n",
       "      <td>PC 17599</td>\n",
       "      <td>71.2833</td>\n",
       "      <td>C</td>\n",
       "      <td>train</td>\n",
       "      <td>Mrs</td>\n",
       "      <td>C</td>\n",
       "      <td>85</td>\n",
       "    </tr>\n",
       "    <tr>\n",
       "      <th>2</th>\n",
       "      <td>3</td>\n",
       "      <td>1.0</td>\n",
       "      <td>3</td>\n",
       "      <td>Heikkinen, Miss. Laina</td>\n",
       "      <td>female</td>\n",
       "      <td>26.0</td>\n",
       "      <td>0</td>\n",
       "      <td>0</td>\n",
       "      <td>STON/O2. 3101282</td>\n",
       "      <td>7.9250</td>\n",
       "      <td>S</td>\n",
       "      <td>train</td>\n",
       "      <td>Miss</td>\n",
       "      <td>NaN</td>\n",
       "      <td>NaN</td>\n",
       "    </tr>\n",
       "    <tr>\n",
       "      <th>3</th>\n",
       "      <td>4</td>\n",
       "      <td>1.0</td>\n",
       "      <td>1</td>\n",
       "      <td>Futrelle, Mrs. Jacques Heath (Lily May Peel)</td>\n",
       "      <td>female</td>\n",
       "      <td>35.0</td>\n",
       "      <td>1</td>\n",
       "      <td>0</td>\n",
       "      <td>113803</td>\n",
       "      <td>53.1000</td>\n",
       "      <td>S</td>\n",
       "      <td>train</td>\n",
       "      <td>Mrs</td>\n",
       "      <td>C</td>\n",
       "      <td>123</td>\n",
       "    </tr>\n",
       "    <tr>\n",
       "      <th>4</th>\n",
       "      <td>5</td>\n",
       "      <td>0.0</td>\n",
       "      <td>3</td>\n",
       "      <td>Allen, Mr. William Henry</td>\n",
       "      <td>male</td>\n",
       "      <td>35.0</td>\n",
       "      <td>0</td>\n",
       "      <td>0</td>\n",
       "      <td>373450</td>\n",
       "      <td>8.0500</td>\n",
       "      <td>S</td>\n",
       "      <td>train</td>\n",
       "      <td>Mr</td>\n",
       "      <td>NaN</td>\n",
       "      <td>NaN</td>\n",
       "    </tr>\n",
       "  </tbody>\n",
       "</table>\n",
       "</div>"
      ],
      "text/plain": [
       "   PassengerId  Survived  Pclass  \\\n",
       "0            1       0.0       3   \n",
       "1            2       1.0       1   \n",
       "2            3       1.0       3   \n",
       "3            4       1.0       1   \n",
       "4            5       0.0       3   \n",
       "\n",
       "                                                Name     Sex   Age  SibSp  \\\n",
       "0                            Braund, Mr. Owen Harris    male  22.0      1   \n",
       "1  Cumings, Mrs. John Bradley (Florence Briggs Th...  female  38.0      1   \n",
       "2                             Heikkinen, Miss. Laina  female  26.0      0   \n",
       "3       Futrelle, Mrs. Jacques Heath (Lily May Peel)  female  35.0      1   \n",
       "4                           Allen, Mr. William Henry    male  35.0      0   \n",
       "\n",
       "   Parch            Ticket     Fare Embarked source  Title Cabin_letter  \\\n",
       "0      0         A/5 21171   7.2500        S  train     Mr          NaN   \n",
       "1      0          PC 17599  71.2833        C  train    Mrs            C   \n",
       "2      0  STON/O2. 3101282   7.9250        S  train   Miss          NaN   \n",
       "3      0            113803  53.1000        S  train    Mrs            C   \n",
       "4      0            373450   8.0500        S  train     Mr          NaN   \n",
       "\n",
       "  Cabin_number  \n",
       "0          NaN  \n",
       "1           85  \n",
       "2          NaN  \n",
       "3          123  \n",
       "4          NaN  "
      ]
     },
     "execution_count": 1141,
     "metadata": {},
     "output_type": "execute_result"
    }
   ],
   "source": [
    "def extract_cabin_info(cabin_entry):\n",
    "    if pd.isna(cabin_entry):\n",
    "        return pd.Series([np.nan, np.nan])\n",
    "    cabins = cabin_entry.split()\n",
    "    first_cabin = cabins[0]\n",
    "    cabin_letter = first_cabin[0]\n",
    "    cabin_number = first_cabin[1:] if len(cabins) == 1 else np.nan\n",
    "    return pd.Series([cabin_letter, cabin_number])\n",
    "\n",
    "combined[['Cabin_letter', 'Cabin_number']] = combined['Cabin'].apply(extract_cabin_info)\n",
    "\n",
    "combined = combined.drop('Cabin', axis=1)\n",
    "\n",
    "combined.head(5)"
   ]
  },
  {
   "cell_type": "code",
   "execution_count": 1142,
   "metadata": {},
   "outputs": [
    {
     "name": "stdout",
     "output_type": "stream",
     "text": [
      "Age    0.200917\n",
      "dtype: float64\n"
     ]
    }
   ],
   "source": [
    "\n",
    "print(missing_values[1:2] / len(combined))"
   ]
  },
  {
   "cell_type": "markdown",
   "metadata": {},
   "source": [
    "77% of the Cabin letter and number were not recorded. This is too much to drop, and hard to predict given our other predictors. We will leave it as NaN."
   ]
  },
  {
   "cell_type": "markdown",
   "metadata": {},
   "source": [
    "### 3. Feature Engineering"
   ]
  },
  {
   "cell_type": "markdown",
   "metadata": {},
   "source": [
    "#### Last Name"
   ]
  },
  {
   "cell_type": "code",
   "execution_count": 1143,
   "metadata": {},
   "outputs": [
    {
     "name": "stdout",
     "output_type": "stream",
     "text": [
      "LastName\n",
      "Andersson    11\n",
      "Sage         11\n",
      "Goodwin       8\n",
      "Asplund       8\n",
      "Davies        7\n",
      "             ..\n",
      "Milling       1\n",
      "Maisner       1\n",
      "Goncalves     1\n",
      "Campbell      1\n",
      "Saether       1\n",
      "Name: count, Length: 875, dtype: int64\n"
     ]
    }
   ],
   "source": [
    "combined['LastName'] = combined['Name'].str.split(',').str[0].str.split('.').str[0]\n",
    "print(combined['LastName'].value_counts())"
   ]
  },
  {
   "cell_type": "markdown",
   "metadata": {},
   "source": [
    "#### Family Size"
   ]
  },
  {
   "cell_type": "code",
   "execution_count": 1144,
   "metadata": {},
   "outputs": [
    {
     "data": {
      "text/html": [
       "<div>\n",
       "<style scoped>\n",
       "    .dataframe tbody tr th:only-of-type {\n",
       "        vertical-align: middle;\n",
       "    }\n",
       "\n",
       "    .dataframe tbody tr th {\n",
       "        vertical-align: top;\n",
       "    }\n",
       "\n",
       "    .dataframe thead th {\n",
       "        text-align: right;\n",
       "    }\n",
       "</style>\n",
       "<table border=\"1\" class=\"dataframe\">\n",
       "  <thead>\n",
       "    <tr style=\"text-align: right;\">\n",
       "      <th></th>\n",
       "      <th>PassengerId</th>\n",
       "      <th>Survived</th>\n",
       "      <th>Pclass</th>\n",
       "      <th>Name</th>\n",
       "      <th>Sex</th>\n",
       "      <th>Age</th>\n",
       "      <th>SibSp</th>\n",
       "      <th>Parch</th>\n",
       "      <th>Ticket</th>\n",
       "      <th>Fare</th>\n",
       "      <th>Embarked</th>\n",
       "      <th>source</th>\n",
       "      <th>Title</th>\n",
       "      <th>Cabin_letter</th>\n",
       "      <th>Cabin_number</th>\n",
       "      <th>LastName</th>\n",
       "      <th>FamilySize</th>\n",
       "    </tr>\n",
       "  </thead>\n",
       "  <tbody>\n",
       "    <tr>\n",
       "      <th>159</th>\n",
       "      <td>160</td>\n",
       "      <td>0.0</td>\n",
       "      <td>3</td>\n",
       "      <td>Sage, Master. Thomas Henry</td>\n",
       "      <td>male</td>\n",
       "      <td>15.969364</td>\n",
       "      <td>8</td>\n",
       "      <td>2</td>\n",
       "      <td>CA. 2343</td>\n",
       "      <td>69.5500</td>\n",
       "      <td>S</td>\n",
       "      <td>train</td>\n",
       "      <td>Master</td>\n",
       "      <td>NaN</td>\n",
       "      <td>NaN</td>\n",
       "      <td>Sage</td>\n",
       "      <td>11</td>\n",
       "    </tr>\n",
       "    <tr>\n",
       "      <th>180</th>\n",
       "      <td>181</td>\n",
       "      <td>0.0</td>\n",
       "      <td>3</td>\n",
       "      <td>Sage, Miss. Constance Gladys</td>\n",
       "      <td>female</td>\n",
       "      <td>23.197212</td>\n",
       "      <td>8</td>\n",
       "      <td>2</td>\n",
       "      <td>CA. 2343</td>\n",
       "      <td>69.5500</td>\n",
       "      <td>S</td>\n",
       "      <td>train</td>\n",
       "      <td>Miss</td>\n",
       "      <td>NaN</td>\n",
       "      <td>NaN</td>\n",
       "      <td>Sage</td>\n",
       "      <td>11</td>\n",
       "    </tr>\n",
       "    <tr>\n",
       "      <th>201</th>\n",
       "      <td>202</td>\n",
       "      <td>0.0</td>\n",
       "      <td>3</td>\n",
       "      <td>Sage, Mr. Frederick</td>\n",
       "      <td>male</td>\n",
       "      <td>20.659479</td>\n",
       "      <td>8</td>\n",
       "      <td>2</td>\n",
       "      <td>CA. 2343</td>\n",
       "      <td>69.5500</td>\n",
       "      <td>S</td>\n",
       "      <td>train</td>\n",
       "      <td>Mr</td>\n",
       "      <td>NaN</td>\n",
       "      <td>NaN</td>\n",
       "      <td>Sage</td>\n",
       "      <td>11</td>\n",
       "    </tr>\n",
       "    <tr>\n",
       "      <th>324</th>\n",
       "      <td>325</td>\n",
       "      <td>0.0</td>\n",
       "      <td>3</td>\n",
       "      <td>Sage, Mr. George John Jr</td>\n",
       "      <td>male</td>\n",
       "      <td>20.659479</td>\n",
       "      <td>8</td>\n",
       "      <td>2</td>\n",
       "      <td>CA. 2343</td>\n",
       "      <td>69.5500</td>\n",
       "      <td>S</td>\n",
       "      <td>train</td>\n",
       "      <td>Mr</td>\n",
       "      <td>NaN</td>\n",
       "      <td>NaN</td>\n",
       "      <td>Sage</td>\n",
       "      <td>11</td>\n",
       "    </tr>\n",
       "    <tr>\n",
       "      <th>792</th>\n",
       "      <td>793</td>\n",
       "      <td>0.0</td>\n",
       "      <td>3</td>\n",
       "      <td>Sage, Miss. Stella Anna</td>\n",
       "      <td>female</td>\n",
       "      <td>23.197212</td>\n",
       "      <td>8</td>\n",
       "      <td>2</td>\n",
       "      <td>CA. 2343</td>\n",
       "      <td>69.5500</td>\n",
       "      <td>S</td>\n",
       "      <td>train</td>\n",
       "      <td>Miss</td>\n",
       "      <td>NaN</td>\n",
       "      <td>NaN</td>\n",
       "      <td>Sage</td>\n",
       "      <td>11</td>\n",
       "    </tr>\n",
       "    <tr>\n",
       "      <th>846</th>\n",
       "      <td>847</td>\n",
       "      <td>0.0</td>\n",
       "      <td>3</td>\n",
       "      <td>Sage, Mr. Douglas Bullen</td>\n",
       "      <td>male</td>\n",
       "      <td>20.659479</td>\n",
       "      <td>8</td>\n",
       "      <td>2</td>\n",
       "      <td>CA. 2343</td>\n",
       "      <td>69.5500</td>\n",
       "      <td>S</td>\n",
       "      <td>train</td>\n",
       "      <td>Mr</td>\n",
       "      <td>NaN</td>\n",
       "      <td>NaN</td>\n",
       "      <td>Sage</td>\n",
       "      <td>11</td>\n",
       "    </tr>\n",
       "    <tr>\n",
       "      <th>863</th>\n",
       "      <td>864</td>\n",
       "      <td>0.0</td>\n",
       "      <td>3</td>\n",
       "      <td>Sage, Miss. Dorothy Edith \"Dolly\"</td>\n",
       "      <td>female</td>\n",
       "      <td>23.197212</td>\n",
       "      <td>8</td>\n",
       "      <td>2</td>\n",
       "      <td>CA. 2343</td>\n",
       "      <td>69.5500</td>\n",
       "      <td>S</td>\n",
       "      <td>train</td>\n",
       "      <td>Miss</td>\n",
       "      <td>NaN</td>\n",
       "      <td>NaN</td>\n",
       "      <td>Sage</td>\n",
       "      <td>11</td>\n",
       "    </tr>\n",
       "    <tr>\n",
       "      <th>188</th>\n",
       "      <td>1080</td>\n",
       "      <td>NaN</td>\n",
       "      <td>3</td>\n",
       "      <td>Sage, Miss. Ada</td>\n",
       "      <td>female</td>\n",
       "      <td>23.197212</td>\n",
       "      <td>8</td>\n",
       "      <td>2</td>\n",
       "      <td>CA. 2343</td>\n",
       "      <td>69.5500</td>\n",
       "      <td>S</td>\n",
       "      <td>test</td>\n",
       "      <td>Miss</td>\n",
       "      <td>NaN</td>\n",
       "      <td>NaN</td>\n",
       "      <td>Sage</td>\n",
       "      <td>11</td>\n",
       "    </tr>\n",
       "    <tr>\n",
       "      <th>342</th>\n",
       "      <td>1234</td>\n",
       "      <td>NaN</td>\n",
       "      <td>3</td>\n",
       "      <td>Sage, Mr. John George</td>\n",
       "      <td>male</td>\n",
       "      <td>39.557892</td>\n",
       "      <td>1</td>\n",
       "      <td>9</td>\n",
       "      <td>CA. 2343</td>\n",
       "      <td>69.5500</td>\n",
       "      <td>S</td>\n",
       "      <td>test</td>\n",
       "      <td>Mr</td>\n",
       "      <td>NaN</td>\n",
       "      <td>NaN</td>\n",
       "      <td>Sage</td>\n",
       "      <td>11</td>\n",
       "    </tr>\n",
       "    <tr>\n",
       "      <th>360</th>\n",
       "      <td>1252</td>\n",
       "      <td>NaN</td>\n",
       "      <td>3</td>\n",
       "      <td>Sage, Master. William Henry</td>\n",
       "      <td>male</td>\n",
       "      <td>14.500000</td>\n",
       "      <td>8</td>\n",
       "      <td>2</td>\n",
       "      <td>CA. 2343</td>\n",
       "      <td>69.5500</td>\n",
       "      <td>S</td>\n",
       "      <td>test</td>\n",
       "      <td>Master</td>\n",
       "      <td>NaN</td>\n",
       "      <td>NaN</td>\n",
       "      <td>Sage</td>\n",
       "      <td>11</td>\n",
       "    </tr>\n",
       "    <tr>\n",
       "      <th>365</th>\n",
       "      <td>1257</td>\n",
       "      <td>NaN</td>\n",
       "      <td>3</td>\n",
       "      <td>Sage, Mrs. John (Annie Bullen)</td>\n",
       "      <td>female</td>\n",
       "      <td>42.789989</td>\n",
       "      <td>1</td>\n",
       "      <td>9</td>\n",
       "      <td>CA. 2343</td>\n",
       "      <td>69.5500</td>\n",
       "      <td>S</td>\n",
       "      <td>test</td>\n",
       "      <td>Mrs</td>\n",
       "      <td>NaN</td>\n",
       "      <td>NaN</td>\n",
       "      <td>Sage</td>\n",
       "      <td>11</td>\n",
       "    </tr>\n",
       "    <tr>\n",
       "      <th>59</th>\n",
       "      <td>60</td>\n",
       "      <td>0.0</td>\n",
       "      <td>3</td>\n",
       "      <td>Goodwin, Master. William Frederick</td>\n",
       "      <td>male</td>\n",
       "      <td>11.000000</td>\n",
       "      <td>5</td>\n",
       "      <td>2</td>\n",
       "      <td>CA 2144</td>\n",
       "      <td>46.9000</td>\n",
       "      <td>S</td>\n",
       "      <td>train</td>\n",
       "      <td>Master</td>\n",
       "      <td>NaN</td>\n",
       "      <td>NaN</td>\n",
       "      <td>Goodwin</td>\n",
       "      <td>8</td>\n",
       "    </tr>\n",
       "    <tr>\n",
       "      <th>71</th>\n",
       "      <td>72</td>\n",
       "      <td>0.0</td>\n",
       "      <td>3</td>\n",
       "      <td>Goodwin, Miss. Lillian Amy</td>\n",
       "      <td>female</td>\n",
       "      <td>16.000000</td>\n",
       "      <td>5</td>\n",
       "      <td>2</td>\n",
       "      <td>CA 2144</td>\n",
       "      <td>46.9000</td>\n",
       "      <td>S</td>\n",
       "      <td>train</td>\n",
       "      <td>Miss</td>\n",
       "      <td>NaN</td>\n",
       "      <td>NaN</td>\n",
       "      <td>Goodwin</td>\n",
       "      <td>8</td>\n",
       "    </tr>\n",
       "    <tr>\n",
       "      <th>386</th>\n",
       "      <td>387</td>\n",
       "      <td>0.0</td>\n",
       "      <td>3</td>\n",
       "      <td>Goodwin, Master. Sidney Leonard</td>\n",
       "      <td>male</td>\n",
       "      <td>1.000000</td>\n",
       "      <td>5</td>\n",
       "      <td>2</td>\n",
       "      <td>CA 2144</td>\n",
       "      <td>46.9000</td>\n",
       "      <td>S</td>\n",
       "      <td>train</td>\n",
       "      <td>Master</td>\n",
       "      <td>NaN</td>\n",
       "      <td>NaN</td>\n",
       "      <td>Goodwin</td>\n",
       "      <td>8</td>\n",
       "    </tr>\n",
       "    <tr>\n",
       "      <th>480</th>\n",
       "      <td>481</td>\n",
       "      <td>0.0</td>\n",
       "      <td>3</td>\n",
       "      <td>Goodwin, Master. Harold Victor</td>\n",
       "      <td>male</td>\n",
       "      <td>9.000000</td>\n",
       "      <td>5</td>\n",
       "      <td>2</td>\n",
       "      <td>CA 2144</td>\n",
       "      <td>46.9000</td>\n",
       "      <td>S</td>\n",
       "      <td>train</td>\n",
       "      <td>Master</td>\n",
       "      <td>NaN</td>\n",
       "      <td>NaN</td>\n",
       "      <td>Goodwin</td>\n",
       "      <td>8</td>\n",
       "    </tr>\n",
       "    <tr>\n",
       "      <th>678</th>\n",
       "      <td>679</td>\n",
       "      <td>0.0</td>\n",
       "      <td>3</td>\n",
       "      <td>Goodwin, Mrs. Frederick (Augusta Tyler)</td>\n",
       "      <td>female</td>\n",
       "      <td>43.000000</td>\n",
       "      <td>1</td>\n",
       "      <td>6</td>\n",
       "      <td>CA 2144</td>\n",
       "      <td>46.9000</td>\n",
       "      <td>S</td>\n",
       "      <td>train</td>\n",
       "      <td>Mrs</td>\n",
       "      <td>NaN</td>\n",
       "      <td>NaN</td>\n",
       "      <td>Goodwin</td>\n",
       "      <td>8</td>\n",
       "    </tr>\n",
       "    <tr>\n",
       "      <th>683</th>\n",
       "      <td>684</td>\n",
       "      <td>0.0</td>\n",
       "      <td>3</td>\n",
       "      <td>Goodwin, Mr. Charles Edward</td>\n",
       "      <td>male</td>\n",
       "      <td>14.000000</td>\n",
       "      <td>5</td>\n",
       "      <td>2</td>\n",
       "      <td>CA 2144</td>\n",
       "      <td>46.9000</td>\n",
       "      <td>S</td>\n",
       "      <td>train</td>\n",
       "      <td>Mr</td>\n",
       "      <td>NaN</td>\n",
       "      <td>NaN</td>\n",
       "      <td>Goodwin</td>\n",
       "      <td>8</td>\n",
       "    </tr>\n",
       "    <tr>\n",
       "      <th>139</th>\n",
       "      <td>1031</td>\n",
       "      <td>NaN</td>\n",
       "      <td>3</td>\n",
       "      <td>Goodwin, Mr. Charles Frederick</td>\n",
       "      <td>male</td>\n",
       "      <td>40.000000</td>\n",
       "      <td>1</td>\n",
       "      <td>6</td>\n",
       "      <td>CA 2144</td>\n",
       "      <td>46.9000</td>\n",
       "      <td>S</td>\n",
       "      <td>test</td>\n",
       "      <td>Mr</td>\n",
       "      <td>NaN</td>\n",
       "      <td>NaN</td>\n",
       "      <td>Goodwin</td>\n",
       "      <td>8</td>\n",
       "    </tr>\n",
       "    <tr>\n",
       "      <th>140</th>\n",
       "      <td>1032</td>\n",
       "      <td>NaN</td>\n",
       "      <td>3</td>\n",
       "      <td>Goodwin, Miss. Jessie Allis</td>\n",
       "      <td>female</td>\n",
       "      <td>10.000000</td>\n",
       "      <td>5</td>\n",
       "      <td>2</td>\n",
       "      <td>CA 2144</td>\n",
       "      <td>46.9000</td>\n",
       "      <td>S</td>\n",
       "      <td>test</td>\n",
       "      <td>Miss</td>\n",
       "      <td>NaN</td>\n",
       "      <td>NaN</td>\n",
       "      <td>Goodwin</td>\n",
       "      <td>8</td>\n",
       "    </tr>\n",
       "    <tr>\n",
       "      <th>25</th>\n",
       "      <td>26</td>\n",
       "      <td>1.0</td>\n",
       "      <td>3</td>\n",
       "      <td>Asplund, Mrs. Carl Oscar (Selma Augusta Emilia...</td>\n",
       "      <td>female</td>\n",
       "      <td>38.000000</td>\n",
       "      <td>1</td>\n",
       "      <td>5</td>\n",
       "      <td>347077</td>\n",
       "      <td>31.3875</td>\n",
       "      <td>S</td>\n",
       "      <td>train</td>\n",
       "      <td>Mrs</td>\n",
       "      <td>NaN</td>\n",
       "      <td>NaN</td>\n",
       "      <td>Asplund</td>\n",
       "      <td>7</td>\n",
       "    </tr>\n",
       "    <tr>\n",
       "      <th>182</th>\n",
       "      <td>183</td>\n",
       "      <td>0.0</td>\n",
       "      <td>3</td>\n",
       "      <td>Asplund, Master. Clarence Gustaf Hugo</td>\n",
       "      <td>male</td>\n",
       "      <td>9.000000</td>\n",
       "      <td>4</td>\n",
       "      <td>2</td>\n",
       "      <td>347077</td>\n",
       "      <td>31.3875</td>\n",
       "      <td>S</td>\n",
       "      <td>train</td>\n",
       "      <td>Master</td>\n",
       "      <td>NaN</td>\n",
       "      <td>NaN</td>\n",
       "      <td>Asplund</td>\n",
       "      <td>7</td>\n",
       "    </tr>\n",
       "    <tr>\n",
       "      <th>233</th>\n",
       "      <td>234</td>\n",
       "      <td>1.0</td>\n",
       "      <td>3</td>\n",
       "      <td>Asplund, Miss. Lillian Gertrud</td>\n",
       "      <td>female</td>\n",
       "      <td>5.000000</td>\n",
       "      <td>4</td>\n",
       "      <td>2</td>\n",
       "      <td>347077</td>\n",
       "      <td>31.3875</td>\n",
       "      <td>S</td>\n",
       "      <td>train</td>\n",
       "      <td>Miss</td>\n",
       "      <td>NaN</td>\n",
       "      <td>NaN</td>\n",
       "      <td>Asplund</td>\n",
       "      <td>7</td>\n",
       "    </tr>\n",
       "    <tr>\n",
       "      <th>261</th>\n",
       "      <td>262</td>\n",
       "      <td>1.0</td>\n",
       "      <td>3</td>\n",
       "      <td>Asplund, Master. Edvin Rojj Felix</td>\n",
       "      <td>male</td>\n",
       "      <td>3.000000</td>\n",
       "      <td>4</td>\n",
       "      <td>2</td>\n",
       "      <td>347077</td>\n",
       "      <td>31.3875</td>\n",
       "      <td>S</td>\n",
       "      <td>train</td>\n",
       "      <td>Master</td>\n",
       "      <td>NaN</td>\n",
       "      <td>NaN</td>\n",
       "      <td>Asplund</td>\n",
       "      <td>7</td>\n",
       "    </tr>\n",
       "    <tr>\n",
       "      <th>154</th>\n",
       "      <td>1046</td>\n",
       "      <td>NaN</td>\n",
       "      <td>3</td>\n",
       "      <td>Asplund, Master. Filip Oscar</td>\n",
       "      <td>male</td>\n",
       "      <td>13.000000</td>\n",
       "      <td>4</td>\n",
       "      <td>2</td>\n",
       "      <td>347077</td>\n",
       "      <td>31.3875</td>\n",
       "      <td>S</td>\n",
       "      <td>test</td>\n",
       "      <td>Master</td>\n",
       "      <td>NaN</td>\n",
       "      <td>NaN</td>\n",
       "      <td>Asplund</td>\n",
       "      <td>7</td>\n",
       "    </tr>\n",
       "    <tr>\n",
       "      <th>174</th>\n",
       "      <td>1066</td>\n",
       "      <td>NaN</td>\n",
       "      <td>3</td>\n",
       "      <td>Asplund, Mr. Carl Oscar Vilhelm Gustafsson</td>\n",
       "      <td>male</td>\n",
       "      <td>40.000000</td>\n",
       "      <td>1</td>\n",
       "      <td>5</td>\n",
       "      <td>347077</td>\n",
       "      <td>31.3875</td>\n",
       "      <td>S</td>\n",
       "      <td>test</td>\n",
       "      <td>Mr</td>\n",
       "      <td>NaN</td>\n",
       "      <td>NaN</td>\n",
       "      <td>Asplund</td>\n",
       "      <td>7</td>\n",
       "    </tr>\n",
       "    <tr>\n",
       "      <th>379</th>\n",
       "      <td>1271</td>\n",
       "      <td>NaN</td>\n",
       "      <td>3</td>\n",
       "      <td>Asplund, Master. Carl Edgar</td>\n",
       "      <td>male</td>\n",
       "      <td>5.000000</td>\n",
       "      <td>4</td>\n",
       "      <td>2</td>\n",
       "      <td>347077</td>\n",
       "      <td>31.3875</td>\n",
       "      <td>S</td>\n",
       "      <td>test</td>\n",
       "      <td>Master</td>\n",
       "      <td>NaN</td>\n",
       "      <td>NaN</td>\n",
       "      <td>Asplund</td>\n",
       "      <td>7</td>\n",
       "    </tr>\n",
       "    <tr>\n",
       "      <th>68</th>\n",
       "      <td>69</td>\n",
       "      <td>1.0</td>\n",
       "      <td>3</td>\n",
       "      <td>Andersson, Miss. Erna Alexandra</td>\n",
       "      <td>female</td>\n",
       "      <td>17.000000</td>\n",
       "      <td>4</td>\n",
       "      <td>2</td>\n",
       "      <td>3101281</td>\n",
       "      <td>7.9250</td>\n",
       "      <td>S</td>\n",
       "      <td>train</td>\n",
       "      <td>Miss</td>\n",
       "      <td>NaN</td>\n",
       "      <td>NaN</td>\n",
       "      <td>Andersson</td>\n",
       "      <td>7</td>\n",
       "    </tr>\n",
       "    <tr>\n",
       "      <th>13</th>\n",
       "      <td>14</td>\n",
       "      <td>0.0</td>\n",
       "      <td>3</td>\n",
       "      <td>Andersson, Mr. Anders Johan</td>\n",
       "      <td>male</td>\n",
       "      <td>39.000000</td>\n",
       "      <td>1</td>\n",
       "      <td>5</td>\n",
       "      <td>347082</td>\n",
       "      <td>31.2750</td>\n",
       "      <td>S</td>\n",
       "      <td>train</td>\n",
       "      <td>Mr</td>\n",
       "      <td>NaN</td>\n",
       "      <td>NaN</td>\n",
       "      <td>Andersson</td>\n",
       "      <td>7</td>\n",
       "    </tr>\n",
       "    <tr>\n",
       "      <th>119</th>\n",
       "      <td>120</td>\n",
       "      <td>0.0</td>\n",
       "      <td>3</td>\n",
       "      <td>Andersson, Miss. Ellis Anna Maria</td>\n",
       "      <td>female</td>\n",
       "      <td>2.000000</td>\n",
       "      <td>4</td>\n",
       "      <td>2</td>\n",
       "      <td>347082</td>\n",
       "      <td>31.2750</td>\n",
       "      <td>S</td>\n",
       "      <td>train</td>\n",
       "      <td>Miss</td>\n",
       "      <td>NaN</td>\n",
       "      <td>NaN</td>\n",
       "      <td>Andersson</td>\n",
       "      <td>7</td>\n",
       "    </tr>\n",
       "    <tr>\n",
       "      <th>541</th>\n",
       "      <td>542</td>\n",
       "      <td>0.0</td>\n",
       "      <td>3</td>\n",
       "      <td>Andersson, Miss. Ingeborg Constanzia</td>\n",
       "      <td>female</td>\n",
       "      <td>9.000000</td>\n",
       "      <td>4</td>\n",
       "      <td>2</td>\n",
       "      <td>347082</td>\n",
       "      <td>31.2750</td>\n",
       "      <td>S</td>\n",
       "      <td>train</td>\n",
       "      <td>Miss</td>\n",
       "      <td>NaN</td>\n",
       "      <td>NaN</td>\n",
       "      <td>Andersson</td>\n",
       "      <td>7</td>\n",
       "    </tr>\n",
       "    <tr>\n",
       "      <th>542</th>\n",
       "      <td>543</td>\n",
       "      <td>0.0</td>\n",
       "      <td>3</td>\n",
       "      <td>Andersson, Miss. Sigrid Elisabeth</td>\n",
       "      <td>female</td>\n",
       "      <td>11.000000</td>\n",
       "      <td>4</td>\n",
       "      <td>2</td>\n",
       "      <td>347082</td>\n",
       "      <td>31.2750</td>\n",
       "      <td>S</td>\n",
       "      <td>train</td>\n",
       "      <td>Miss</td>\n",
       "      <td>NaN</td>\n",
       "      <td>NaN</td>\n",
       "      <td>Andersson</td>\n",
       "      <td>7</td>\n",
       "    </tr>\n",
       "    <tr>\n",
       "      <th>610</th>\n",
       "      <td>611</td>\n",
       "      <td>0.0</td>\n",
       "      <td>3</td>\n",
       "      <td>Andersson, Mrs. Anders Johan (Alfrida Konstant...</td>\n",
       "      <td>female</td>\n",
       "      <td>39.000000</td>\n",
       "      <td>1</td>\n",
       "      <td>5</td>\n",
       "      <td>347082</td>\n",
       "      <td>31.2750</td>\n",
       "      <td>S</td>\n",
       "      <td>train</td>\n",
       "      <td>Mrs</td>\n",
       "      <td>NaN</td>\n",
       "      <td>NaN</td>\n",
       "      <td>Andersson</td>\n",
       "      <td>7</td>\n",
       "    </tr>\n",
       "    <tr>\n",
       "      <th>813</th>\n",
       "      <td>814</td>\n",
       "      <td>0.0</td>\n",
       "      <td>3</td>\n",
       "      <td>Andersson, Miss. Ebba Iris Alfrida</td>\n",
       "      <td>female</td>\n",
       "      <td>6.000000</td>\n",
       "      <td>4</td>\n",
       "      <td>2</td>\n",
       "      <td>347082</td>\n",
       "      <td>31.2750</td>\n",
       "      <td>S</td>\n",
       "      <td>train</td>\n",
       "      <td>Miss</td>\n",
       "      <td>NaN</td>\n",
       "      <td>NaN</td>\n",
       "      <td>Andersson</td>\n",
       "      <td>7</td>\n",
       "    </tr>\n",
       "    <tr>\n",
       "      <th>850</th>\n",
       "      <td>851</td>\n",
       "      <td>0.0</td>\n",
       "      <td>3</td>\n",
       "      <td>Andersson, Master. Sigvard Harald Elias</td>\n",
       "      <td>male</td>\n",
       "      <td>4.000000</td>\n",
       "      <td>4</td>\n",
       "      <td>2</td>\n",
       "      <td>347082</td>\n",
       "      <td>31.2750</td>\n",
       "      <td>S</td>\n",
       "      <td>train</td>\n",
       "      <td>Master</td>\n",
       "      <td>NaN</td>\n",
       "      <td>NaN</td>\n",
       "      <td>Andersson</td>\n",
       "      <td>7</td>\n",
       "    </tr>\n",
       "    <tr>\n",
       "      <th>214</th>\n",
       "      <td>1106</td>\n",
       "      <td>NaN</td>\n",
       "      <td>3</td>\n",
       "      <td>Andersson, Miss. Ida Augusta Margareta</td>\n",
       "      <td>female</td>\n",
       "      <td>38.000000</td>\n",
       "      <td>4</td>\n",
       "      <td>2</td>\n",
       "      <td>347091</td>\n",
       "      <td>7.7750</td>\n",
       "      <td>S</td>\n",
       "      <td>test</td>\n",
       "      <td>Miss</td>\n",
       "      <td>NaN</td>\n",
       "      <td>NaN</td>\n",
       "      <td>Andersson</td>\n",
       "      <td>7</td>\n",
       "    </tr>\n",
       "    <tr>\n",
       "      <th>63</th>\n",
       "      <td>64</td>\n",
       "      <td>0.0</td>\n",
       "      <td>3</td>\n",
       "      <td>Skoog, Master. Harald</td>\n",
       "      <td>male</td>\n",
       "      <td>4.000000</td>\n",
       "      <td>3</td>\n",
       "      <td>2</td>\n",
       "      <td>347088</td>\n",
       "      <td>27.9000</td>\n",
       "      <td>S</td>\n",
       "      <td>train</td>\n",
       "      <td>Master</td>\n",
       "      <td>NaN</td>\n",
       "      <td>NaN</td>\n",
       "      <td>Skoog</td>\n",
       "      <td>6</td>\n",
       "    </tr>\n",
       "    <tr>\n",
       "      <th>167</th>\n",
       "      <td>168</td>\n",
       "      <td>0.0</td>\n",
       "      <td>3</td>\n",
       "      <td>Skoog, Mrs. William (Anna Bernhardina Karlsson)</td>\n",
       "      <td>female</td>\n",
       "      <td>45.000000</td>\n",
       "      <td>1</td>\n",
       "      <td>4</td>\n",
       "      <td>347088</td>\n",
       "      <td>27.9000</td>\n",
       "      <td>S</td>\n",
       "      <td>train</td>\n",
       "      <td>Mrs</td>\n",
       "      <td>NaN</td>\n",
       "      <td>NaN</td>\n",
       "      <td>Skoog</td>\n",
       "      <td>6</td>\n",
       "    </tr>\n",
       "    <tr>\n",
       "      <th>360</th>\n",
       "      <td>361</td>\n",
       "      <td>0.0</td>\n",
       "      <td>3</td>\n",
       "      <td>Skoog, Mr. Wilhelm</td>\n",
       "      <td>male</td>\n",
       "      <td>40.000000</td>\n",
       "      <td>1</td>\n",
       "      <td>4</td>\n",
       "      <td>347088</td>\n",
       "      <td>27.9000</td>\n",
       "      <td>S</td>\n",
       "      <td>train</td>\n",
       "      <td>Mr</td>\n",
       "      <td>NaN</td>\n",
       "      <td>NaN</td>\n",
       "      <td>Skoog</td>\n",
       "      <td>6</td>\n",
       "    </tr>\n",
       "    <tr>\n",
       "      <th>634</th>\n",
       "      <td>635</td>\n",
       "      <td>0.0</td>\n",
       "      <td>3</td>\n",
       "      <td>Skoog, Miss. Mabel</td>\n",
       "      <td>female</td>\n",
       "      <td>9.000000</td>\n",
       "      <td>3</td>\n",
       "      <td>2</td>\n",
       "      <td>347088</td>\n",
       "      <td>27.9000</td>\n",
       "      <td>S</td>\n",
       "      <td>train</td>\n",
       "      <td>Miss</td>\n",
       "      <td>NaN</td>\n",
       "      <td>NaN</td>\n",
       "      <td>Skoog</td>\n",
       "      <td>6</td>\n",
       "    </tr>\n",
       "    <tr>\n",
       "      <th>642</th>\n",
       "      <td>643</td>\n",
       "      <td>0.0</td>\n",
       "      <td>3</td>\n",
       "      <td>Skoog, Miss. Margit Elizabeth</td>\n",
       "      <td>female</td>\n",
       "      <td>2.000000</td>\n",
       "      <td>3</td>\n",
       "      <td>2</td>\n",
       "      <td>347088</td>\n",
       "      <td>27.9000</td>\n",
       "      <td>S</td>\n",
       "      <td>train</td>\n",
       "      <td>Miss</td>\n",
       "      <td>NaN</td>\n",
       "      <td>NaN</td>\n",
       "      <td>Skoog</td>\n",
       "      <td>6</td>\n",
       "    </tr>\n",
       "    <tr>\n",
       "      <th>819</th>\n",
       "      <td>820</td>\n",
       "      <td>0.0</td>\n",
       "      <td>3</td>\n",
       "      <td>Skoog, Master. Karl Thorsten</td>\n",
       "      <td>male</td>\n",
       "      <td>10.000000</td>\n",
       "      <td>3</td>\n",
       "      <td>2</td>\n",
       "      <td>347088</td>\n",
       "      <td>27.9000</td>\n",
       "      <td>S</td>\n",
       "      <td>train</td>\n",
       "      <td>Master</td>\n",
       "      <td>NaN</td>\n",
       "      <td>NaN</td>\n",
       "      <td>Skoog</td>\n",
       "      <td>6</td>\n",
       "    </tr>\n",
       "    <tr>\n",
       "      <th>437</th>\n",
       "      <td>438</td>\n",
       "      <td>1.0</td>\n",
       "      <td>2</td>\n",
       "      <td>Richards, Mrs. Sidney (Emily Hocking)</td>\n",
       "      <td>female</td>\n",
       "      <td>24.000000</td>\n",
       "      <td>2</td>\n",
       "      <td>3</td>\n",
       "      <td>29106</td>\n",
       "      <td>18.7500</td>\n",
       "      <td>S</td>\n",
       "      <td>train</td>\n",
       "      <td>Mrs</td>\n",
       "      <td>NaN</td>\n",
       "      <td>NaN</td>\n",
       "      <td>Richards</td>\n",
       "      <td>6</td>\n",
       "    </tr>\n",
       "    <tr>\n",
       "      <th>16</th>\n",
       "      <td>17</td>\n",
       "      <td>0.0</td>\n",
       "      <td>3</td>\n",
       "      <td>Rice, Master. Eugene</td>\n",
       "      <td>male</td>\n",
       "      <td>2.000000</td>\n",
       "      <td>4</td>\n",
       "      <td>1</td>\n",
       "      <td>382652</td>\n",
       "      <td>29.1250</td>\n",
       "      <td>Q</td>\n",
       "      <td>train</td>\n",
       "      <td>Master</td>\n",
       "      <td>NaN</td>\n",
       "      <td>NaN</td>\n",
       "      <td>Rice</td>\n",
       "      <td>6</td>\n",
       "    </tr>\n",
       "    <tr>\n",
       "      <th>171</th>\n",
       "      <td>172</td>\n",
       "      <td>0.0</td>\n",
       "      <td>3</td>\n",
       "      <td>Rice, Master. Arthur</td>\n",
       "      <td>male</td>\n",
       "      <td>4.000000</td>\n",
       "      <td>4</td>\n",
       "      <td>1</td>\n",
       "      <td>382652</td>\n",
       "      <td>29.1250</td>\n",
       "      <td>Q</td>\n",
       "      <td>train</td>\n",
       "      <td>Master</td>\n",
       "      <td>NaN</td>\n",
       "      <td>NaN</td>\n",
       "      <td>Rice</td>\n",
       "      <td>6</td>\n",
       "    </tr>\n",
       "    <tr>\n",
       "      <th>278</th>\n",
       "      <td>279</td>\n",
       "      <td>0.0</td>\n",
       "      <td>3</td>\n",
       "      <td>Rice, Master. Eric</td>\n",
       "      <td>male</td>\n",
       "      <td>7.000000</td>\n",
       "      <td>4</td>\n",
       "      <td>1</td>\n",
       "      <td>382652</td>\n",
       "      <td>29.1250</td>\n",
       "      <td>Q</td>\n",
       "      <td>train</td>\n",
       "      <td>Master</td>\n",
       "      <td>NaN</td>\n",
       "      <td>NaN</td>\n",
       "      <td>Rice</td>\n",
       "      <td>6</td>\n",
       "    </tr>\n",
       "    <tr>\n",
       "      <th>787</th>\n",
       "      <td>788</td>\n",
       "      <td>0.0</td>\n",
       "      <td>3</td>\n",
       "      <td>Rice, Master. George Hugh</td>\n",
       "      <td>male</td>\n",
       "      <td>8.000000</td>\n",
       "      <td>4</td>\n",
       "      <td>1</td>\n",
       "      <td>382652</td>\n",
       "      <td>29.1250</td>\n",
       "      <td>Q</td>\n",
       "      <td>train</td>\n",
       "      <td>Master</td>\n",
       "      <td>NaN</td>\n",
       "      <td>NaN</td>\n",
       "      <td>Rice</td>\n",
       "      <td>6</td>\n",
       "    </tr>\n",
       "    <tr>\n",
       "      <th>885</th>\n",
       "      <td>886</td>\n",
       "      <td>0.0</td>\n",
       "      <td>3</td>\n",
       "      <td>Rice, Mrs. William (Margaret Norton)</td>\n",
       "      <td>female</td>\n",
       "      <td>39.000000</td>\n",
       "      <td>0</td>\n",
       "      <td>5</td>\n",
       "      <td>382652</td>\n",
       "      <td>29.1250</td>\n",
       "      <td>Q</td>\n",
       "      <td>train</td>\n",
       "      <td>Mrs</td>\n",
       "      <td>NaN</td>\n",
       "      <td>NaN</td>\n",
       "      <td>Rice</td>\n",
       "      <td>6</td>\n",
       "    </tr>\n",
       "    <tr>\n",
       "      <th>55</th>\n",
       "      <td>947</td>\n",
       "      <td>NaN</td>\n",
       "      <td>3</td>\n",
       "      <td>Rice, Master. Albert</td>\n",
       "      <td>male</td>\n",
       "      <td>10.000000</td>\n",
       "      <td>4</td>\n",
       "      <td>1</td>\n",
       "      <td>382652</td>\n",
       "      <td>29.1250</td>\n",
       "      <td>Q</td>\n",
       "      <td>test</td>\n",
       "      <td>Master</td>\n",
       "      <td>NaN</td>\n",
       "      <td>NaN</td>\n",
       "      <td>Rice</td>\n",
       "      <td>6</td>\n",
       "    </tr>\n",
       "    <tr>\n",
       "      <th>50</th>\n",
       "      <td>51</td>\n",
       "      <td>0.0</td>\n",
       "      <td>3</td>\n",
       "      <td>Panula, Master. Juha Niilo</td>\n",
       "      <td>male</td>\n",
       "      <td>7.000000</td>\n",
       "      <td>4</td>\n",
       "      <td>1</td>\n",
       "      <td>3101295</td>\n",
       "      <td>39.6875</td>\n",
       "      <td>S</td>\n",
       "      <td>train</td>\n",
       "      <td>Master</td>\n",
       "      <td>NaN</td>\n",
       "      <td>NaN</td>\n",
       "      <td>Panula</td>\n",
       "      <td>6</td>\n",
       "    </tr>\n",
       "    <tr>\n",
       "      <th>164</th>\n",
       "      <td>165</td>\n",
       "      <td>0.0</td>\n",
       "      <td>3</td>\n",
       "      <td>Panula, Master. Eino Viljami</td>\n",
       "      <td>male</td>\n",
       "      <td>1.000000</td>\n",
       "      <td>4</td>\n",
       "      <td>1</td>\n",
       "      <td>3101295</td>\n",
       "      <td>39.6875</td>\n",
       "      <td>S</td>\n",
       "      <td>train</td>\n",
       "      <td>Master</td>\n",
       "      <td>NaN</td>\n",
       "      <td>NaN</td>\n",
       "      <td>Panula</td>\n",
       "      <td>6</td>\n",
       "    </tr>\n",
       "  </tbody>\n",
       "</table>\n",
       "</div>"
      ],
      "text/plain": [
       "     PassengerId  Survived  Pclass  \\\n",
       "159          160       0.0       3   \n",
       "180          181       0.0       3   \n",
       "201          202       0.0       3   \n",
       "324          325       0.0       3   \n",
       "792          793       0.0       3   \n",
       "846          847       0.0       3   \n",
       "863          864       0.0       3   \n",
       "188         1080       NaN       3   \n",
       "342         1234       NaN       3   \n",
       "360         1252       NaN       3   \n",
       "365         1257       NaN       3   \n",
       "59            60       0.0       3   \n",
       "71            72       0.0       3   \n",
       "386          387       0.0       3   \n",
       "480          481       0.0       3   \n",
       "678          679       0.0       3   \n",
       "683          684       0.0       3   \n",
       "139         1031       NaN       3   \n",
       "140         1032       NaN       3   \n",
       "25            26       1.0       3   \n",
       "182          183       0.0       3   \n",
       "233          234       1.0       3   \n",
       "261          262       1.0       3   \n",
       "154         1046       NaN       3   \n",
       "174         1066       NaN       3   \n",
       "379         1271       NaN       3   \n",
       "68            69       1.0       3   \n",
       "13            14       0.0       3   \n",
       "119          120       0.0       3   \n",
       "541          542       0.0       3   \n",
       "542          543       0.0       3   \n",
       "610          611       0.0       3   \n",
       "813          814       0.0       3   \n",
       "850          851       0.0       3   \n",
       "214         1106       NaN       3   \n",
       "63            64       0.0       3   \n",
       "167          168       0.0       3   \n",
       "360          361       0.0       3   \n",
       "634          635       0.0       3   \n",
       "642          643       0.0       3   \n",
       "819          820       0.0       3   \n",
       "437          438       1.0       2   \n",
       "16            17       0.0       3   \n",
       "171          172       0.0       3   \n",
       "278          279       0.0       3   \n",
       "787          788       0.0       3   \n",
       "885          886       0.0       3   \n",
       "55           947       NaN       3   \n",
       "50            51       0.0       3   \n",
       "164          165       0.0       3   \n",
       "\n",
       "                                                  Name     Sex        Age  \\\n",
       "159                         Sage, Master. Thomas Henry    male  15.969364   \n",
       "180                       Sage, Miss. Constance Gladys  female  23.197212   \n",
       "201                                Sage, Mr. Frederick    male  20.659479   \n",
       "324                           Sage, Mr. George John Jr    male  20.659479   \n",
       "792                            Sage, Miss. Stella Anna  female  23.197212   \n",
       "846                           Sage, Mr. Douglas Bullen    male  20.659479   \n",
       "863                  Sage, Miss. Dorothy Edith \"Dolly\"  female  23.197212   \n",
       "188                                    Sage, Miss. Ada  female  23.197212   \n",
       "342                              Sage, Mr. John George    male  39.557892   \n",
       "360                        Sage, Master. William Henry    male  14.500000   \n",
       "365                     Sage, Mrs. John (Annie Bullen)  female  42.789989   \n",
       "59                  Goodwin, Master. William Frederick    male  11.000000   \n",
       "71                          Goodwin, Miss. Lillian Amy  female  16.000000   \n",
       "386                    Goodwin, Master. Sidney Leonard    male   1.000000   \n",
       "480                     Goodwin, Master. Harold Victor    male   9.000000   \n",
       "678            Goodwin, Mrs. Frederick (Augusta Tyler)  female  43.000000   \n",
       "683                        Goodwin, Mr. Charles Edward    male  14.000000   \n",
       "139                     Goodwin, Mr. Charles Frederick    male  40.000000   \n",
       "140                        Goodwin, Miss. Jessie Allis  female  10.000000   \n",
       "25   Asplund, Mrs. Carl Oscar (Selma Augusta Emilia...  female  38.000000   \n",
       "182              Asplund, Master. Clarence Gustaf Hugo    male   9.000000   \n",
       "233                     Asplund, Miss. Lillian Gertrud  female   5.000000   \n",
       "261                  Asplund, Master. Edvin Rojj Felix    male   3.000000   \n",
       "154                       Asplund, Master. Filip Oscar    male  13.000000   \n",
       "174         Asplund, Mr. Carl Oscar Vilhelm Gustafsson    male  40.000000   \n",
       "379                        Asplund, Master. Carl Edgar    male   5.000000   \n",
       "68                     Andersson, Miss. Erna Alexandra  female  17.000000   \n",
       "13                         Andersson, Mr. Anders Johan    male  39.000000   \n",
       "119                  Andersson, Miss. Ellis Anna Maria  female   2.000000   \n",
       "541               Andersson, Miss. Ingeborg Constanzia  female   9.000000   \n",
       "542                  Andersson, Miss. Sigrid Elisabeth  female  11.000000   \n",
       "610  Andersson, Mrs. Anders Johan (Alfrida Konstant...  female  39.000000   \n",
       "813                 Andersson, Miss. Ebba Iris Alfrida  female   6.000000   \n",
       "850            Andersson, Master. Sigvard Harald Elias    male   4.000000   \n",
       "214             Andersson, Miss. Ida Augusta Margareta  female  38.000000   \n",
       "63                               Skoog, Master. Harald    male   4.000000   \n",
       "167    Skoog, Mrs. William (Anna Bernhardina Karlsson)  female  45.000000   \n",
       "360                                 Skoog, Mr. Wilhelm    male  40.000000   \n",
       "634                                 Skoog, Miss. Mabel  female   9.000000   \n",
       "642                      Skoog, Miss. Margit Elizabeth  female   2.000000   \n",
       "819                       Skoog, Master. Karl Thorsten    male  10.000000   \n",
       "437              Richards, Mrs. Sidney (Emily Hocking)  female  24.000000   \n",
       "16                                Rice, Master. Eugene    male   2.000000   \n",
       "171                               Rice, Master. Arthur    male   4.000000   \n",
       "278                                 Rice, Master. Eric    male   7.000000   \n",
       "787                          Rice, Master. George Hugh    male   8.000000   \n",
       "885               Rice, Mrs. William (Margaret Norton)  female  39.000000   \n",
       "55                                Rice, Master. Albert    male  10.000000   \n",
       "50                          Panula, Master. Juha Niilo    male   7.000000   \n",
       "164                       Panula, Master. Eino Viljami    male   1.000000   \n",
       "\n",
       "     SibSp  Parch    Ticket     Fare Embarked source    Title Cabin_letter  \\\n",
       "159      8      2  CA. 2343  69.5500        S  train   Master          NaN   \n",
       "180      8      2  CA. 2343  69.5500        S  train     Miss          NaN   \n",
       "201      8      2  CA. 2343  69.5500        S  train       Mr          NaN   \n",
       "324      8      2  CA. 2343  69.5500        S  train       Mr          NaN   \n",
       "792      8      2  CA. 2343  69.5500        S  train     Miss          NaN   \n",
       "846      8      2  CA. 2343  69.5500        S  train       Mr          NaN   \n",
       "863      8      2  CA. 2343  69.5500        S  train     Miss          NaN   \n",
       "188      8      2  CA. 2343  69.5500        S   test     Miss          NaN   \n",
       "342      1      9  CA. 2343  69.5500        S   test       Mr          NaN   \n",
       "360      8      2  CA. 2343  69.5500        S   test   Master          NaN   \n",
       "365      1      9  CA. 2343  69.5500        S   test      Mrs          NaN   \n",
       "59       5      2   CA 2144  46.9000        S  train   Master          NaN   \n",
       "71       5      2   CA 2144  46.9000        S  train     Miss          NaN   \n",
       "386      5      2   CA 2144  46.9000        S  train   Master          NaN   \n",
       "480      5      2   CA 2144  46.9000        S  train   Master          NaN   \n",
       "678      1      6   CA 2144  46.9000        S  train      Mrs          NaN   \n",
       "683      5      2   CA 2144  46.9000        S  train       Mr          NaN   \n",
       "139      1      6   CA 2144  46.9000        S   test       Mr          NaN   \n",
       "140      5      2   CA 2144  46.9000        S   test     Miss          NaN   \n",
       "25       1      5    347077  31.3875        S  train      Mrs          NaN   \n",
       "182      4      2    347077  31.3875        S  train   Master          NaN   \n",
       "233      4      2    347077  31.3875        S  train     Miss          NaN   \n",
       "261      4      2    347077  31.3875        S  train   Master          NaN   \n",
       "154      4      2    347077  31.3875        S   test   Master          NaN   \n",
       "174      1      5    347077  31.3875        S   test       Mr          NaN   \n",
       "379      4      2    347077  31.3875        S   test   Master          NaN   \n",
       "68       4      2   3101281   7.9250        S  train     Miss          NaN   \n",
       "13       1      5    347082  31.2750        S  train       Mr          NaN   \n",
       "119      4      2    347082  31.2750        S  train     Miss          NaN   \n",
       "541      4      2    347082  31.2750        S  train     Miss          NaN   \n",
       "542      4      2    347082  31.2750        S  train     Miss          NaN   \n",
       "610      1      5    347082  31.2750        S  train      Mrs          NaN   \n",
       "813      4      2    347082  31.2750        S  train     Miss          NaN   \n",
       "850      4      2    347082  31.2750        S  train   Master          NaN   \n",
       "214      4      2    347091   7.7750        S   test     Miss          NaN   \n",
       "63       3      2    347088  27.9000        S  train   Master          NaN   \n",
       "167      1      4    347088  27.9000        S  train      Mrs          NaN   \n",
       "360      1      4    347088  27.9000        S  train       Mr          NaN   \n",
       "634      3      2    347088  27.9000        S  train     Miss          NaN   \n",
       "642      3      2    347088  27.9000        S  train     Miss          NaN   \n",
       "819      3      2    347088  27.9000        S  train   Master          NaN   \n",
       "437      2      3     29106  18.7500        S  train      Mrs          NaN   \n",
       "16       4      1    382652  29.1250        Q  train   Master          NaN   \n",
       "171      4      1    382652  29.1250        Q  train   Master          NaN   \n",
       "278      4      1    382652  29.1250        Q  train   Master          NaN   \n",
       "787      4      1    382652  29.1250        Q  train   Master          NaN   \n",
       "885      0      5    382652  29.1250        Q  train      Mrs          NaN   \n",
       "55       4      1    382652  29.1250        Q   test   Master          NaN   \n",
       "50       4      1   3101295  39.6875        S  train   Master          NaN   \n",
       "164      4      1   3101295  39.6875        S  train   Master          NaN   \n",
       "\n",
       "    Cabin_number   LastName  FamilySize  \n",
       "159          NaN       Sage          11  \n",
       "180          NaN       Sage          11  \n",
       "201          NaN       Sage          11  \n",
       "324          NaN       Sage          11  \n",
       "792          NaN       Sage          11  \n",
       "846          NaN       Sage          11  \n",
       "863          NaN       Sage          11  \n",
       "188          NaN       Sage          11  \n",
       "342          NaN       Sage          11  \n",
       "360          NaN       Sage          11  \n",
       "365          NaN       Sage          11  \n",
       "59           NaN    Goodwin           8  \n",
       "71           NaN    Goodwin           8  \n",
       "386          NaN    Goodwin           8  \n",
       "480          NaN    Goodwin           8  \n",
       "678          NaN    Goodwin           8  \n",
       "683          NaN    Goodwin           8  \n",
       "139          NaN    Goodwin           8  \n",
       "140          NaN    Goodwin           8  \n",
       "25           NaN    Asplund           7  \n",
       "182          NaN    Asplund           7  \n",
       "233          NaN    Asplund           7  \n",
       "261          NaN    Asplund           7  \n",
       "154          NaN    Asplund           7  \n",
       "174          NaN    Asplund           7  \n",
       "379          NaN    Asplund           7  \n",
       "68           NaN  Andersson           7  \n",
       "13           NaN  Andersson           7  \n",
       "119          NaN  Andersson           7  \n",
       "541          NaN  Andersson           7  \n",
       "542          NaN  Andersson           7  \n",
       "610          NaN  Andersson           7  \n",
       "813          NaN  Andersson           7  \n",
       "850          NaN  Andersson           7  \n",
       "214          NaN  Andersson           7  \n",
       "63           NaN      Skoog           6  \n",
       "167          NaN      Skoog           6  \n",
       "360          NaN      Skoog           6  \n",
       "634          NaN      Skoog           6  \n",
       "642          NaN      Skoog           6  \n",
       "819          NaN      Skoog           6  \n",
       "437          NaN   Richards           6  \n",
       "16           NaN       Rice           6  \n",
       "171          NaN       Rice           6  \n",
       "278          NaN       Rice           6  \n",
       "787          NaN       Rice           6  \n",
       "885          NaN       Rice           6  \n",
       "55           NaN       Rice           6  \n",
       "50           NaN     Panula           6  \n",
       "164          NaN     Panula           6  "
      ]
     },
     "execution_count": 1144,
     "metadata": {},
     "output_type": "execute_result"
    }
   ],
   "source": [
    "# Create family size column\n",
    "combined['FamilySize'] = combined['SibSp'] + combined['Parch'] + 1  # +1 to include the passenger themselves\n",
    "\n",
    "# Sort by FamilySize and then by Fare to help identify family groups\n",
    "families = combined.loc[combined['FamilySize'] > 1].sort_values(\n",
    "    ['FamilySize', 'LastName', 'Ticket', 'Fare'], \n",
    "    ascending=[False, False, True, True]\n",
    ")\n",
    "\n",
    "families.head(50)\n"
   ]
  },
  {
   "cell_type": "code",
   "execution_count": 1145,
   "metadata": {},
   "outputs": [
    {
     "data": {
      "text/plain": [
       "PassengerId        0\n",
       "Survived         418\n",
       "Pclass             0\n",
       "Name               0\n",
       "Sex                0\n",
       "Age                0\n",
       "SibSp              0\n",
       "Parch              0\n",
       "Ticket             0\n",
       "Fare               1\n",
       "Embarked           0\n",
       "source             0\n",
       "Title              0\n",
       "Cabin_letter    1014\n",
       "Cabin_number    1055\n",
       "LastName           0\n",
       "FamilySize         0\n",
       "dtype: int64"
      ]
     },
     "execution_count": 1145,
     "metadata": {},
     "output_type": "execute_result"
    }
   ],
   "source": [
    "combined.isnull().sum()\n",
    "\n",
    "# print rows with missing vlaues in LastName_encoded\n",
    "\n",
    "\n"
   ]
  },
  {
   "cell_type": "markdown",
   "metadata": {},
   "source": [
    "Sweet that kind of works, its problems is that parents will (moslty) show up as having no parents on board, so will have incorrect family sizes. The family size will only work for the rows of children.\n",
    "\n",
    "Note in the Sage's case there are parents and grandparents, so grandparents will not have the correct family size."
   ]
  },
  {
   "cell_type": "markdown",
   "metadata": {},
   "source": [
    "#### LastName"
   ]
  },
  {
   "cell_type": "markdown",
   "metadata": {},
   "source": [
    "The last name is currently our most effective method for grouping families. However, due to its high cardinality, we will encode this feature using target encoding by assigning the mean survival rate to a new variable, LastName_encoded"
   ]
  },
  {
   "cell_type": "code",
   "execution_count": 1146,
   "metadata": {},
   "outputs": [
    {
     "name": "stdout",
     "output_type": "stream",
     "text": [
      "                  Survived_Mean  Count\n",
      "LastName_encoded                      \n",
      "0.000000               0.000000    470\n",
      "1.000000               1.000000    259\n",
      "0.500000               0.500000     72\n",
      "0.666667               0.666667     36\n",
      "0.333333               0.333333     21\n",
      "0.750000               0.750000     16\n",
      "0.222222               0.222222      9\n",
      "0.250000               0.250000      8\n"
     ]
    }
   ],
   "source": [
    "combined[\"LastName_encoded\"] = combined.groupby(\"LastName\")[\"Survived\"].transform(\"mean\")\n",
    "\n",
    "combined[[\"LastName\", \"Survived\", \"LastName_encoded\"]].head(10)\n",
    "\n",
    "LName_stats = combined.groupby(\"LastName_encoded\").agg(\n",
    "    Survived_Mean=(\"Survived\", \"mean\"),\n",
    "    Count=(\"Survived\", \"count\")\n",
    ").sort_values(by=\"Count\", ascending=False)\n",
    "\n",
    "print(LName_stats)"
   ]
  },
  {
   "cell_type": "code",
   "execution_count": 1147,
   "metadata": {},
   "outputs": [],
   "source": [
    "combined = combined.drop('LastName', axis=1)"
   ]
  },
  {
   "cell_type": "markdown",
   "metadata": {},
   "source": [
    "#### Title"
   ]
  },
  {
   "cell_type": "markdown",
   "metadata": {},
   "source": [
    "We will also do target encoding with Title due to its high cartinality"
   ]
  },
  {
   "cell_type": "code",
   "execution_count": 1148,
   "metadata": {},
   "outputs": [
    {
     "name": "stdout",
     "output_type": "stream",
     "text": [
      "              Survived_Mean  Count\n",
      "Title                             \n",
      "Mr                 0.156673    517\n",
      "Miss               0.697802    182\n",
      "Mrs                0.792000    125\n",
      "Master             0.575000     40\n",
      "Dr                 0.428571      7\n",
      "Rev                0.000000      6\n",
      "Major              0.500000      2\n",
      "Col                0.500000      2\n",
      "Mlle               1.000000      2\n",
      "Sir                1.000000      1\n",
      "Ms                 1.000000      1\n",
      "Capt               0.000000      1\n",
      "Mme                1.000000      1\n",
      "Lady               1.000000      1\n",
      "Jonkheer           0.000000      1\n",
      "Don                0.000000      1\n",
      "the Countess       1.000000      1\n",
      "Dona                    NaN      0\n"
     ]
    }
   ],
   "source": [
    "combined[\"Title_encoded\"] = combined.groupby(\"Title\")[\"Survived\"].transform(\"mean\")\n",
    "\n",
    "title_stats = combined.groupby(\"Title\").agg(\n",
    "    Survived_Mean=(\"Survived\", \"mean\"),\n",
    "    Count=(\"Survived\", \"count\")\n",
    ").sort_values(by=\"Count\", ascending=False)\n",
    "\n",
    "print(title_stats)"
   ]
  },
  {
   "cell_type": "code",
   "execution_count": 1149,
   "metadata": {},
   "outputs": [],
   "source": [
    "combined = combined.drop('Title', axis=1)"
   ]
  },
  {
   "cell_type": "markdown",
   "metadata": {},
   "source": [
    "#### Drop columns with high cartinality or non-useful Information"
   ]
  },
  {
   "cell_type": "code",
   "execution_count": 1150,
   "metadata": {},
   "outputs": [
    {
     "name": "stdout",
     "output_type": "stream",
     "text": [
      "Cardinality and Data Types (Before Dropping):\n",
      "                  Cardinality    Dtype\n",
      "PassengerId              1309    int64\n",
      "Name                     1307   object\n",
      "Ticket                    929   object\n",
      "Fare                      281  float64\n",
      "Age                       224  float64\n",
      "Cabin_number              101   object\n",
      "FamilySize                  9    int64\n",
      "Parch                       8    int64\n",
      "Cabin_letter                8   object\n",
      "LastName_encoded            8  float64\n",
      "Title_encoded               8  float64\n",
      "SibSp                       7    int64\n",
      "Pclass                      3    int64\n",
      "Embarked                    3   object\n",
      "Sex                         2   object\n",
      "Survived                    2  float64\n",
      "source                      2   object\n",
      "\n",
      "\n",
      "Columns to drop (cardinality > 10 and not float):\n",
      "PassengerId: int64\n",
      "Name: object\n",
      "Ticket: object\n",
      "Cabin_number: object\n",
      "\n",
      "\n",
      "Cardinality and Data Types (After Dropping):\n",
      "                  Cardinality    Dtype\n",
      "Fare                      281  float64\n",
      "Age                       224  float64\n",
      "FamilySize                  9    int64\n",
      "Parch                       8    int64\n",
      "Cabin_letter                8   object\n",
      "LastName_encoded            8  float64\n",
      "Title_encoded               8  float64\n",
      "SibSp                       7    int64\n",
      "Pclass                      3    int64\n",
      "Embarked                    3   object\n",
      "Survived                    2  float64\n",
      "Sex                         2   object\n",
      "source                      2   object\n"
     ]
    }
   ],
   "source": [
    "# Calculate original cardinality and data types\n",
    "cardinality_before = combined.nunique()\n",
    "dtypes_before = combined.dtypes\n",
    "\n",
    "# Combine into a DataFrame\n",
    "cardinality_df_before = pd.DataFrame({\n",
    "    'Cardinality': cardinality_before,\n",
    "    'Dtype': dtypes_before\n",
    "})\n",
    "\n",
    "print(\"Cardinality and Data Types (Before Dropping):\")\n",
    "print(cardinality_df_before.sort_values(by=\"Cardinality\", ascending=False))\n",
    "print(\"\\n\")\n",
    "\n",
    "# Identify high-cardinality columns\n",
    "high_cardinality = cardinality_before[cardinality_before > 10].index\n",
    "\n",
    "# Drop only if dtype is not float\n",
    "columns_to_drop = [col for col in high_cardinality if not pd.api.types.is_float_dtype(combined[col])]\n",
    "\n",
    "print(\"Columns to drop (cardinality > 10 and not float):\")\n",
    "for col in columns_to_drop:\n",
    "    print(f\"{col}: {combined[col].dtype}\")\n",
    "# drop the Cabin_\n",
    "print(\"\\n\")\n",
    "\n",
    "# Drop from train and test\n",
    "combined.drop(columns=columns_to_drop, inplace=True)\n",
    "\n",
    "# Calculate new cardinality and data types\n",
    "cardinality_after = combined.nunique()\n",
    "dtypes_after = combined.dtypes\n",
    "\n",
    "# Combine into a DataFrame\n",
    "cardinality_df_after = pd.DataFrame({\n",
    "    'Cardinality': cardinality_after,\n",
    "    'Dtype': dtypes_after\n",
    "})\n",
    "\n",
    "print(\"Cardinality and Data Types (After Dropping):\")\n",
    "print(cardinality_df_after.sort_values(by=\"Cardinality\", ascending=False))"
   ]
  },
  {
   "cell_type": "markdown",
   "metadata": {},
   "source": [
    "#### Cabin_letter"
   ]
  },
  {
   "cell_type": "code",
   "execution_count": 1151,
   "metadata": {},
   "outputs": [
    {
     "name": "stdout",
     "output_type": "stream",
     "text": [
      "              Survived_Mean  Count\n",
      "Cabin_letter                      \n",
      "Missing            0.299854    687\n",
      "C                  0.593220     59\n",
      "B                  0.744681     47\n",
      "D                  0.757576     33\n",
      "E                  0.750000     32\n",
      "A                  0.466667     15\n",
      "F                  0.615385     13\n",
      "G                  0.500000      4\n",
      "T                  0.000000      1\n"
     ]
    }
   ],
   "source": [
    "# Step 2: Replace NaNs with 'Missing'\n",
    "combined['Cabin_letter'] = combined['Cabin_letter'].fillna('Missing')\n",
    "\n",
    "# Step 3: Calculate target mean encoding\n",
    "combined[\"Cabin_letter_encoded\"] = combined.groupby(\"Cabin_letter\")[\"Survived\"].transform(\"mean\")\n",
    "\n",
    "# Optional: Create stats summary\n",
    "Cabin_stats = combined.groupby(\"Cabin_letter\").agg(\n",
    "    Survived_Mean=(\"Survived\", \"mean\"),\n",
    "    Count=(\"Survived\", \"count\")\n",
    ").sort_values(by=\"Count\", ascending=False)\n",
    "\n",
    "print(Cabin_stats)"
   ]
  },
  {
   "cell_type": "code",
   "execution_count": 1152,
   "metadata": {},
   "outputs": [
    {
     "name": "stdout",
     "output_type": "stream",
     "text": [
      "0.3838383838383838\n"
     ]
    }
   ],
   "source": [
    "# print average survival rate overall\n",
    "print(combined[\"Survived\"].mean())"
   ]
  },
  {
   "cell_type": "code",
   "execution_count": 1153,
   "metadata": {},
   "outputs": [],
   "source": [
    "\n",
    "# drop rows with one missing value"
   ]
  },
  {
   "cell_type": "code",
   "execution_count": 1154,
   "metadata": {},
   "outputs": [
    {
     "name": "stdout",
     "output_type": "stream",
     "text": [
      "Missing values in train data:\n",
      "Survived                418\n",
      "Pclass                    0\n",
      "Sex                       0\n",
      "Age                       0\n",
      "SibSp                     0\n",
      "Parch                     0\n",
      "Fare                      1\n",
      "Embarked                  0\n",
      "source                    0\n",
      "Cabin_letter              0\n",
      "FamilySize                0\n",
      "LastName_encoded        230\n",
      "Title_encoded             1\n",
      "Cabin_letter_encoded      0\n",
      "dtype: int64\n"
     ]
    }
   ],
   "source": [
    "missing_values = combined.isnull().sum()\n",
    "print(\"Missing values in train data:\")\n",
    "print(missing_values)"
   ]
  },
  {
   "cell_type": "code",
   "execution_count": 1155,
   "metadata": {},
   "outputs": [],
   "source": [
    "combined = combined.dropna(subset=['Title_encoded'])\n",
    "combined = combined.dropna(subset=['Fare'])\n",
    "combined = combined.dropna(subset=['LastName_encoded'])\n"
   ]
  },
  {
   "cell_type": "markdown",
   "metadata": {},
   "source": [
    "### 4. Visual Exploatory Analysis"
   ]
  },
  {
   "cell_type": "code",
   "execution_count": 1156,
   "metadata": {},
   "outputs": [
    {
     "data": {
      "application/vnd.plotly.v1+json": {
       "config": {
        "plotlyServerURL": "https://plot.ly"
       },
       "data": [
        {
         "bingroup": "x",
         "hovertemplate": "Pclass=3<br>Sex=male<br>Age=%{x}<br>count=%{y}<extra></extra>",
         "legendgroup": "3",
         "marker": {
          "color": "#636efa",
          "opacity": 0.6,
          "pattern": {
           "shape": ""
          }
         },
         "name": "3",
         "orientation": "v",
         "showlegend": true,
         "type": "histogram",
         "x": {
          "bdata": "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",
          "dtype": "f8"
         },
         "xaxis": "x",
         "yaxis": "y"
        },
        {
         "bingroup": "x",
         "hovertemplate": "Pclass=3<br>Sex=female<br>Age=%{x}<br>count=%{y}<extra></extra>",
         "legendgroup": "3",
         "marker": {
          "color": "#636efa",
          "opacity": 0.6,
          "pattern": {
           "shape": ""
          }
         },
         "name": "3",
         "orientation": "v",
         "showlegend": false,
         "type": "histogram",
         "x": {
          "bdata": "AAAAAAAAOkAAAAAAAAA7QAAAAAAAABBAAAAAAAAALEAAAAAAAAA/QAAAACBB3ENAAAAAAAAALkAAAAAAAAAgQAAAAAAAAENAAAAAYBXGNUAAAACAd9w6QAAAAAAAADJAAAAAAAAALEAAAAAAAABEQAAAAAAAADNAAAAAgHfcOkAAAAAAAAAyQAAAAAAAADFAAAAAAAAAMEAAAAAAAAA+QAAAAED1fTZAAAAAAACAQEAAAAAAAAA8QAAAAAAAADVAAAAAQEx1NEAAAAAAAAAtQAAAAAAAADRAAAAAAAAAMUAAAAAAAAAAQAAAAID+YQ1AAAAAAACAR0AAAADAjt8+QAAAAAAAADZAAAAAAAAAOEAAAAAAAAAiQAAAAAAAADBAAAAAAACARkAAAAAAAADwPwAAAIB8MjdAAAAAAAAAEEAAAAAA1OhBQAAAAAAAADNAAAAAgHfcOkAAAAAAAAAAQAAAAAAAADBAAAAAAAAAO0AAAABgzCsaQAAAAAAAABRAAAAAQJicN0AAAAAg3IEtQAAAAAD6YDNAAAAAAAAAOUAAAAAAAAA9QAAAAAAAgERAAAAAAAAAPUAAAACAd9w6QAAAAIB33DpAAAAAAACARkAAAAAAAIBBQAAAAAAAADZAAAAAAAAAOEAAAACAd9w6QAAAAAAAADpAAAAAAAAAP0AAAADg5W4zQAAAAEDOHzxAAAAAYBXGNUAAAABgFcY1QAAAAAAAgEZAAAAAoAUDQEAAAACAd9w6QAAAAAAAAAhAAAAAAAAANkAAAAAAAADwPwAAAAAAADhAAAAAAAAAP0AAAAAAAAA1QAAAAAAAADRAAAAAYMwrGkAAAABAQQdCQAAAAAAAACRAAAAAAAAAPEAAAABAzh88QAAAAAAAADVAAAAAAAAAFEAAAAAAAADoPwAAAAAAADZAAAAAAAAAAEAAAAAAAIBPQAAAAGDMKxpAAAAAAAAANUAAAAAA0vk2QAAAAAAAgEJAAAAAoLnAO0AAAAAAAAA+QAAAAAAAACJAAAAAAAAAJkAAAAAAAAA2QAAAAAAAAEJAAAAAQH3aNkAAAAAAAAA9QAAAAIB33DpAAAAA4Hf5N0AAAADgPmE8QAAAAAAAgENAAAAAAPpgM0AAAAAAAAA6QAAAAAAAACJAAAAAAACAREAAAAAAAAAAQAAAAAAAAOg/AAAAAAAAN0AAAABAvn03QAAAAAAAADJAAAAAAAAAQEAAAAAAAAAyQAAAAAAAgEVAAAAAQLeSNUAAAAAAAAAQQAAAAOA8wDFAAAAAAAAAMkAAAADgPMAxQAAAAAAAADlAAAAAAAAASEAAAAAAAIA+QAAAAAAAABRAAAAAAAAAKkAAAAAAAAAyQAAAAIB8MjdAAAAAAAAAP0AAAAAAAAA+QAAAAAAAADJAAAAAAAAAGEAAAAAAAAA3QAAAAAAAADtAAAAAAAAALkAAAAAAAAAiQAAAAAAAADJAAAAAAAAAOEAAAACAfDI3QAAAAAAAAC5AAAAAAAAANkAAAAAAAIBDQAAAAEAcXxhAAAAAAAAANkAAAAAAAAA+QAAAAAAAADtAAAAAAACAQEAAAADgy8g/QAAAAAAAADVAAAAAAAAAQkAAAAAAAAA2QAAAAAAAADJAAAAAAAAAMEAAAAAAAADwPwAAAAAAADFAAAAA4OVuM0AAAADAQiFCQAAAAAAAACRAAAAAAAAAQkAAAAAAAAA6QAAAAIB8MjdAAAAAAAAAMkAAAADAPQEzQAAAAAAAgEFAAAAAAAAAQ0AAAADAjt8+QAAAAAAAAPA/AAAAAPpgM0AAAAAAAAA3QAAAAIB33DpAAAAAAAAAIkAAAAAAAAAAQAAAAAAAAD5AAAAAgHfcOkAAAAAAAIBGQAAAAAAAgEJAAAAAAAAAM0DD9Shcj8LFPwAAAAAAAD5AAAAAYB5lRUAAAAAAAAA2QAAAAKDDbkNAAAAAAAAAM0A=",
          "dtype": "f8"
         },
         "xaxis": "x2",
         "yaxis": "y2"
        },
        {
         "bingroup": "x",
         "hovertemplate": "Pclass=1<br>Sex=male<br>Age=%{x}<br>count=%{y}<extra></extra>",
         "legendgroup": "1",
         "marker": {
          "color": "#EF553B",
          "opacity": 0.6,
          "pattern": {
           "shape": ""
          }
         },
         "name": "1",
         "orientation": "v",
         "showlegend": true,
         "type": "histogram",
         "x": {
          "bdata": "AAAAAAAAS0AAAAAAAAA8QAAAAAAAADNAAAAAAAAAREAAAAAAAAA8QAAAAAAAAEVAAAAAAABAUEAAAABgZDlFQAAAAAAAgEZAAAAAAFkEQ0AAAAAAAAA8QAAAAAAAAEdAAAAAAADAUUAAAAAAAAA3QAAAAAAAADVAAAAAAACAR0AAAAAAAAA4QAAAAAAAAEtAAAAAAACAQkAAAAAAAAA4QAAAAAAAgElAAAAAQNCNRkAAAAAAAIBOQAAAAAAAAExAAAAAQLvISEAAAAAAAIBGQAAAAAAAAERAAAAAAAAAQ0AAAAAAAABGQAAAAAAAgEJAAAAAAAAAT0AAAAAAAABKQAAAAAAAAERAAAAAAOV3R0AAAAAAAIBCQAAAAMA4QkZAAAAAAFkEQ0AAAADAKdtGQHE9CtejcO0/AAAAAADARkAAAAAAAABDQAAAAAAAAD1AAAAAAACARkAAAAAgXc5LQAAAAAAAADlAAAAAAAAANkAAAAAAAAA7QAAAAAAAAEJAAAAAAAAAPEAAAAAAAABJQAAAAAAAAFBAAAAAAAAAEEAAAAAAAABBQAAAAAAAAEpAAAAAAAAAPkAAAAAAAIBIQAAAAAAAQFBAAAAAAAAASEAAAAAAAIBHQAAAAAAAAExAAAAAINb5REAAAAAAAAA5QAAAAAAAAE1AAAAAAACAS0AAAAAAAMBRQAAAAAAAADJAAAAAIHEwR0AAAAAAAABCQAAAAAAAgEdAAAAA4LquR0AAAAAAAIBGQAAAAAAAAElAAAAAAAAAUEAAAAAAAAAxQAAAAAAAAE9AAAAAQJKVPUAAAAAAAABCQAAAAAAAAEJAAAAAAAAATkAAAAAAAIBIQAAAAEBb3ERAAAAAAACAQUAAAAAAAAA7QAAAAAAAAEVAAAAAAACATkAAAAAAAABUQAAAAAAAAEBAAAAAoAqbREAAAAAAAABIQAAAAAAAAExAAAAAAAAATUAAAAAAAABJQAAAAAAAgEdAAAAAAAAAP0AAAAAAAABCQAAAAAAAADtAAAAAAAAAP0AAAAAAAABOQAAAAAAAgEhAAAAAAACAQUAAAAAAAABFQAAAACBxMEdAAAAAAAAASEAAAAAAAAA7QAAAAAAAgEFAAAAAIBsCR0AAAAAAAABCQAAAAAAAgFFAAAAAAAAAM0AAAADgq5tFQAAAAAAAAD1AAAAAAAAAR0AAAADgAeZGQAAAAAAAACZAAAAAAACAQ0AAAACgCptEQAAAAAAAAENAAAAAQLdARUAAAAAAAIBJQAAAAAAAAD9AAAAAAACAQEAAAAAAAAA6QAAAAAAAgEtAAAAAAAAANUAAAAAAAAA4QAAAAAAAACpAAAAAAACAR0AAAAAAAIBOQAAAAAAAgEJAAAAAAAAAGEAAAAAAAIBHQAAAAAAAgExAAAAAAACAQ0AAAAAAAABQQAAAAAAAgEZAAAAAAACAREAAAAAAAIBKQAAAAAAAAD5AAAAAAACAS0AAAAAAAIBMQAAAAAAAADFAAAAAAACARUAAAAAAAABJQA==",
          "dtype": "f8"
         },
         "xaxis": "x",
         "yaxis": "y"
        },
        {
         "bingroup": "x",
         "hovertemplate": "Pclass=1<br>Sex=female<br>Age=%{x}<br>count=%{y}<extra></extra>",
         "legendgroup": "1",
         "marker": {
          "color": "#EF553B",
          "opacity": 0.6,
          "pattern": {
           "shape": ""
          }
         },
         "name": "1",
         "orientation": "v",
         "showlegend": false,
         "type": "histogram",
         "x": {
          "bdata": "AAAAAAAAQ0AAAAAAAIBBQAAAAAAAAE1AAAAAAHq2RUAAAAAAAIBIQAAAAAAAAENAAAAAAAAAN0AAAAAAAAAzQAAAAAAAADZAAAAAYAnZQ0AAAAAAAABJQAAAAAAAAEZAAAAAAAAATUAAAAAAAAA/QAAAAAAAAEBAAAAAAACAQUAAAABA+v1JQAAAAAAAAD5AAAAAAACAQUAAAAAAAABNQAAAAAAAgEFAAAAAAACAT0AAAAAAAAA6QAAAAAAAADNAAAAAAAAAAEAAAAAAAABJQAAAAKBxWztAAAAAAAAAMUAAAAAAAAA+QAAAAAAAADhAAAAAAAAAMkAAAAAAAAA/QAAAAAAAAERAAAAAAAAAQkAAAAAAAAAwQAAAAIAxHEBAAAAAAACAREAAAAAAAAA4QAAAAAAAADZAAAAAAAAATkAAAAAAAAA4QAAAAECD3jtAAAAAAAAARUAAAAAAAIBBQAAAAAAAADdAAAAAAACAQEAAAAAAAAAsQAAAAEDTL0VAAAAAAACAQUAAAAAAAABLQAAAAAAAADlAAAAAAAAAMEAAAAAAAABLQAAAAAAAAD5AAAAAAAAARkAAAAAAAAA+QAAAAAAAADZAAAAAAAAAQkAAAAAAAABIQAAAAAAAgENAAAAAAACASkAAAAAAAIBDQAAAAAAAgENAAAAAAAAAMkAAAAAAAABKQAAAAAAAAERAAAAAAAAANUAAAAAAAAA4QAAAAOCMBkNAAAAAAAAALkAAAAAAAAAyQAAAAAAAADZAAAAAAAAAOEAAAAAAAABDQAAAAAAAAD1AAAAAAAAANUAAAAAAAIBAQAAAAAAAAEJAAAAAAACASUAAAAAAAIBFQAAAAAAAADFAAAAAAACASEAAAAAAAIBAQAAAAAAAAEpAAAAAAAAAT0AAAAAAAIBDQAAAAAAAAD5AAAAAgIqCQEAAAAAAAAAwQAAAAAAAgEZAAAAAAAAASEAAAAAAAIBHQAAAAAAAAExAAAAAAAAAM0AAAAAAAIBHQAAAAAAAAEhAAAAAAAAANkAAAAAAAIBGQAAAAAAAADxAAAAAAAAATkAAAAAAAAA7QAAAAAAAAFNAAAAAAAAAUEAAAAAAAAAyQAAAAAAAADtAAAAAAAAASUAAAAAAAABIQAAAAAAAAFBAAAAAAACAS0AAAAAAAABNQAAAAAAAgEZAAAAAAACATUAAAAAAAAA5QAAAAAAAAEtAAAAAAACARkAAAAAAAIBJQAAAAAAAADJAAAAAAAAASEAAAAAAAAA+QAAAAAAAgEJA",
          "dtype": "f8"
         },
         "xaxis": "x2",
         "yaxis": "y2"
        },
        {
         "bingroup": "x",
         "hovertemplate": "Pclass=2<br>Sex=male<br>Age=%{x}<br>count=%{y}<extra></extra>",
         "legendgroup": "2",
         "marker": {
          "color": "#00cc96",
          "opacity": 0.6,
          "pattern": {
           "shape": ""
          }
         },
         "name": "2",
         "orientation": "v",
         "showlegend": true,
         "type": "histogram",
         "x": {
          "bdata": "AAAAAFRVQEAAAAAAAIBBQAAAAAAAAEFAAAAAAACAUEAAAAAAAABAQAAAAAAAADVAj8L1KFyP6j8AAAAAAABBQAAAAAAAAD1AAAAAAAAANUAAAAAAAEBAQAAAAAAAADlAAAAAAAAAN0AAAAAAAAAyQAAAAAAAADNAAAAAAABAQkAAAAAAAABFQAAAAAAAgElAAAAAAAAAPkAAAADgEeY+QAAAAAAAAPA/AAAAAAAAM0AAAAAAAAAIQAAAAAAAAD5AAAAAAAAARUAAAAAAAAA+QAAAAAAAADtAAAAAAAAAM0AAAAAAAAAyQAAAAAAAgE1AAAAAAAAAOEAAAAAAAABGQAAAAAAAADNAAAAAAACAQEAAAAAAAAA9QAAAAAAAAEtAAAAAAAAAQkAAAACg99JBQAAAAAAAAEVAAAAAAAAAQkAAAAAAAAA+QAAAAAAAgEVAAAAAAAAAS0AAAAAAAAAAQAAAAAAAADxAAAAAAAAAOUAAAAAAAABCQAAAAAAAAD1AAAAAAAAAMkAAAAAAAABHQAAAAAAAADdAAAAAAAAAQUAAAAAAAAAIQAAAAKD30kFAAAAAAAAAPkAAAAAAAAA/QAAAAAAAAEJAAAAAAAAASEAAAACg99JBQAAAAAAAAEFAAAAAoPfSQUAAAAAAAAA3QAAAAAAAAEBAAAAA4OWnOEAAAAAAAAAgQAAAAAAAADtAAAAAAAAAPEAAAAAAAABPQAAAAAAAAEtAAAAAAACAR0AAAAAAAIBCQAAAAAAAADpAAAAAAACATEAAAAAAAAA/QAAAAAAAADhAAAAAAAAAN0AAAAAAAABAQAAAAAAAADlAAAAAAACAUUAAAAAAAAA/QAAAAKD30kFAAAAAAAAATkAAAAAAAAA5QAAAAAAAAEpAAAAAAACAQ0AAAAAAAABKQAAAAAAAAEFAAAAAAAAASUAAAAAAAAA5QAAAAKD30kFAAAAAAAAAN0AAAAAAAAA3QHE9CtejcOU/AAAAAAAAMkAAAAAAAAAwQAAAAAAAgENAAAAAAAAAQUAAAAAAAIBDQAAAAAAAgEFAAAAAAAAAP0AAAAAAAADwP4/C9Shcj+o/AAAAAAAAMEAAAAAAAAA8QAAAAAAAADVAAAAAAAAAOEAAAAAAAAA8QAAAAAAAADtAAAAAAAAAOkAAAAAAAIBBQAAAAAAAAElAAAAAAAAAAEAAAAAAAAA7QAAAAAAAAD5AAAAAAAAAQUAAAAAAAAAgQAAAAAAAADlAAAAAAAAAQkAAAAAAAABFQAAAAAAAAERAAAAAAACARUAAAAAAAAAzQAAAAAAAAD1AAAAAAAAAOEAAAAAAAIBIQAAAAAAAADVAAAAAAAAAQ0A=",
          "dtype": "f8"
         },
         "xaxis": "x",
         "yaxis": "y"
        },
        {
         "bingroup": "x",
         "hovertemplate": "Pclass=2<br>Sex=female<br>Age=%{x}<br>count=%{y}<extra></extra>",
         "legendgroup": "2",
         "marker": {
          "color": "#00cc96",
          "opacity": 0.6,
          "pattern": {
           "shape": ""
          }
         },
         "name": "2",
         "orientation": "v",
         "showlegend": false,
         "type": "histogram",
         "x": {
          "bdata": "AAAAAAAALEAAAAAAAIBLQAAAAAAAADtAAAAAAAAACEAAAAAAAAA9QAAAAAAAADVAAAAAAAAAFEAAAAAAAAA9QAAAAAAAADFAAAAAAAAAQUAAAAAAAEBAQAAAAAAAAD1AAAAAAAAAREAAAAAAAABAQAAAAAAAADhAAAAAAACAQUAAAAAAAAAgQAAAAAAAADhAAAAAAAAASUAAAAAAAIBEQAAAAOBnxT1AAAAAAAAAOkAAAAAAAAA4QAAAAAAAAD5AAAAAAAAANkAAAAAAAABCQAAAAAAAADhAAAAAAAAAREAAAAAAAABDQAAAAAAAAEJAAAAAAAAAMUAAAAAAAAA8QAAAAAAAAEFAAAAAAAAAMkAAAAAAAAA8QAAAAAAAADNAAAAAAAAARUAAAAAAAAA4QAAAAAAAgEZAAAAAAAAAPEAAAAAAAAAqQAAAAAAAAElAAAAAAACAQEAAAAAAAAA3QAAAAAAAgEBAAAAAAAAAQUAAAAAAAABCQAAAAAAAAElAAAAAAAAAAEAAAAAAAAAcQAAAAAAAADNAAAAAAAAAQUAAAAAAAAA5QAAAAICdojVAAAAAAAAAOEAAAAAAAAA2QAAAAAAAADhAAAAAAAAAEEAAAAAAAAA8QAAAAAAAADJAAAAAAAAAREAAAAAAAIBGQAAAAAAAADtAAAAAAAAAGEAAAAAAAAA+QAAAAAAAAD5AAAAAAAAAEEAAAAAAAABIQAAAAAAAgExAAAAAAAAAS0AAAAAAAAA/QAAAAAAAAEZAAAAAAAAARUAAAAAAAAA7QAAAAAAAADxAAAAAAAAAOUAAAAAAAAA4QAAAAAAAADRAAAAAAAAAPUAAAAAAAAAoQAAAAAAAADpAAAAAAAAALkAAAAAAAABCQAAAAAAAADVAAAAAAAAAIEAAAAAAAAA+QAAAAAAAADZAAAAAAACARkAAAAAAAAA9QHE9CtejcO0/AAAAAAAAPUAAAAAAAAA0QAAAAAAAAPA/AAAAAAAAKEAAAAAAAABIQAAAAAAAADhAAAAAAAAAOEA=",
          "dtype": "f8"
         },
         "xaxis": "x2",
         "yaxis": "y2"
        }
       ],
       "layout": {
        "annotations": [
         {
          "font": {},
          "showarrow": false,
          "text": "Sex=male",
          "x": 0.245,
          "xanchor": "center",
          "xref": "paper",
          "y": 1,
          "yanchor": "bottom",
          "yref": "paper"
         },
         {
          "font": {},
          "showarrow": false,
          "text": "Sex=female",
          "x": 0.755,
          "xanchor": "center",
          "xref": "paper",
          "y": 1,
          "yanchor": "bottom",
          "yref": "paper"
         }
        ],
        "barmode": "overlay",
        "legend": {
         "title": {
          "text": "Pclass"
         },
         "tracegroupgap": 0
        },
        "template": {
         "data": {
          "bar": [
           {
            "error_x": {
             "color": "#2a3f5f"
            },
            "error_y": {
             "color": "#2a3f5f"
            },
            "marker": {
             "line": {
              "color": "#E5ECF6",
              "width": 0.5
             },
             "pattern": {
              "fillmode": "overlay",
              "size": 10,
              "solidity": 0.2
             }
            },
            "type": "bar"
           }
          ],
          "barpolar": [
           {
            "marker": {
             "line": {
              "color": "#E5ECF6",
              "width": 0.5
             },
             "pattern": {
              "fillmode": "overlay",
              "size": 10,
              "solidity": 0.2
             }
            },
            "type": "barpolar"
           }
          ],
          "carpet": [
           {
            "aaxis": {
             "endlinecolor": "#2a3f5f",
             "gridcolor": "white",
             "linecolor": "white",
             "minorgridcolor": "white",
             "startlinecolor": "#2a3f5f"
            },
            "baxis": {
             "endlinecolor": "#2a3f5f",
             "gridcolor": "white",
             "linecolor": "white",
             "minorgridcolor": "white",
             "startlinecolor": "#2a3f5f"
            },
            "type": "carpet"
           }
          ],
          "choropleth": [
           {
            "colorbar": {
             "outlinewidth": 0,
             "ticks": ""
            },
            "type": "choropleth"
           }
          ],
          "contour": [
           {
            "colorbar": {
             "outlinewidth": 0,
             "ticks": ""
            },
            "colorscale": [
             [
              0,
              "#0d0887"
             ],
             [
              0.1111111111111111,
              "#46039f"
             ],
             [
              0.2222222222222222,
              "#7201a8"
             ],
             [
              0.3333333333333333,
              "#9c179e"
             ],
             [
              0.4444444444444444,
              "#bd3786"
             ],
             [
              0.5555555555555556,
              "#d8576b"
             ],
             [
              0.6666666666666666,
              "#ed7953"
             ],
             [
              0.7777777777777778,
              "#fb9f3a"
             ],
             [
              0.8888888888888888,
              "#fdca26"
             ],
             [
              1,
              "#f0f921"
             ]
            ],
            "type": "contour"
           }
          ],
          "contourcarpet": [
           {
            "colorbar": {
             "outlinewidth": 0,
             "ticks": ""
            },
            "type": "contourcarpet"
           }
          ],
          "heatmap": [
           {
            "colorbar": {
             "outlinewidth": 0,
             "ticks": ""
            },
            "colorscale": [
             [
              0,
              "#0d0887"
             ],
             [
              0.1111111111111111,
              "#46039f"
             ],
             [
              0.2222222222222222,
              "#7201a8"
             ],
             [
              0.3333333333333333,
              "#9c179e"
             ],
             [
              0.4444444444444444,
              "#bd3786"
             ],
             [
              0.5555555555555556,
              "#d8576b"
             ],
             [
              0.6666666666666666,
              "#ed7953"
             ],
             [
              0.7777777777777778,
              "#fb9f3a"
             ],
             [
              0.8888888888888888,
              "#fdca26"
             ],
             [
              1,
              "#f0f921"
             ]
            ],
            "type": "heatmap"
           }
          ],
          "histogram": [
           {
            "marker": {
             "pattern": {
              "fillmode": "overlay",
              "size": 10,
              "solidity": 0.2
             }
            },
            "type": "histogram"
           }
          ],
          "histogram2d": [
           {
            "colorbar": {
             "outlinewidth": 0,
             "ticks": ""
            },
            "colorscale": [
             [
              0,
              "#0d0887"
             ],
             [
              0.1111111111111111,
              "#46039f"
             ],
             [
              0.2222222222222222,
              "#7201a8"
             ],
             [
              0.3333333333333333,
              "#9c179e"
             ],
             [
              0.4444444444444444,
              "#bd3786"
             ],
             [
              0.5555555555555556,
              "#d8576b"
             ],
             [
              0.6666666666666666,
              "#ed7953"
             ],
             [
              0.7777777777777778,
              "#fb9f3a"
             ],
             [
              0.8888888888888888,
              "#fdca26"
             ],
             [
              1,
              "#f0f921"
             ]
            ],
            "type": "histogram2d"
           }
          ],
          "histogram2dcontour": [
           {
            "colorbar": {
             "outlinewidth": 0,
             "ticks": ""
            },
            "colorscale": [
             [
              0,
              "#0d0887"
             ],
             [
              0.1111111111111111,
              "#46039f"
             ],
             [
              0.2222222222222222,
              "#7201a8"
             ],
             [
              0.3333333333333333,
              "#9c179e"
             ],
             [
              0.4444444444444444,
              "#bd3786"
             ],
             [
              0.5555555555555556,
              "#d8576b"
             ],
             [
              0.6666666666666666,
              "#ed7953"
             ],
             [
              0.7777777777777778,
              "#fb9f3a"
             ],
             [
              0.8888888888888888,
              "#fdca26"
             ],
             [
              1,
              "#f0f921"
             ]
            ],
            "type": "histogram2dcontour"
           }
          ],
          "mesh3d": [
           {
            "colorbar": {
             "outlinewidth": 0,
             "ticks": ""
            },
            "type": "mesh3d"
           }
          ],
          "parcoords": [
           {
            "line": {
             "colorbar": {
              "outlinewidth": 0,
              "ticks": ""
             }
            },
            "type": "parcoords"
           }
          ],
          "pie": [
           {
            "automargin": true,
            "type": "pie"
           }
          ],
          "scatter": [
           {
            "fillpattern": {
             "fillmode": "overlay",
             "size": 10,
             "solidity": 0.2
            },
            "type": "scatter"
           }
          ],
          "scatter3d": [
           {
            "line": {
             "colorbar": {
              "outlinewidth": 0,
              "ticks": ""
             }
            },
            "marker": {
             "colorbar": {
              "outlinewidth": 0,
              "ticks": ""
             }
            },
            "type": "scatter3d"
           }
          ],
          "scattercarpet": [
           {
            "marker": {
             "colorbar": {
              "outlinewidth": 0,
              "ticks": ""
             }
            },
            "type": "scattercarpet"
           }
          ],
          "scattergeo": [
           {
            "marker": {
             "colorbar": {
              "outlinewidth": 0,
              "ticks": ""
             }
            },
            "type": "scattergeo"
           }
          ],
          "scattergl": [
           {
            "marker": {
             "colorbar": {
              "outlinewidth": 0,
              "ticks": ""
             }
            },
            "type": "scattergl"
           }
          ],
          "scattermap": [
           {
            "marker": {
             "colorbar": {
              "outlinewidth": 0,
              "ticks": ""
             }
            },
            "type": "scattermap"
           }
          ],
          "scattermapbox": [
           {
            "marker": {
             "colorbar": {
              "outlinewidth": 0,
              "ticks": ""
             }
            },
            "type": "scattermapbox"
           }
          ],
          "scatterpolar": [
           {
            "marker": {
             "colorbar": {
              "outlinewidth": 0,
              "ticks": ""
             }
            },
            "type": "scatterpolar"
           }
          ],
          "scatterpolargl": [
           {
            "marker": {
             "colorbar": {
              "outlinewidth": 0,
              "ticks": ""
             }
            },
            "type": "scatterpolargl"
           }
          ],
          "scatterternary": [
           {
            "marker": {
             "colorbar": {
              "outlinewidth": 0,
              "ticks": ""
             }
            },
            "type": "scatterternary"
           }
          ],
          "surface": [
           {
            "colorbar": {
             "outlinewidth": 0,
             "ticks": ""
            },
            "colorscale": [
             [
              0,
              "#0d0887"
             ],
             [
              0.1111111111111111,
              "#46039f"
             ],
             [
              0.2222222222222222,
              "#7201a8"
             ],
             [
              0.3333333333333333,
              "#9c179e"
             ],
             [
              0.4444444444444444,
              "#bd3786"
             ],
             [
              0.5555555555555556,
              "#d8576b"
             ],
             [
              0.6666666666666666,
              "#ed7953"
             ],
             [
              0.7777777777777778,
              "#fb9f3a"
             ],
             [
              0.8888888888888888,
              "#fdca26"
             ],
             [
              1,
              "#f0f921"
             ]
            ],
            "type": "surface"
           }
          ],
          "table": [
           {
            "cells": {
             "fill": {
              "color": "#EBF0F8"
             },
             "line": {
              "color": "white"
             }
            },
            "header": {
             "fill": {
              "color": "#C8D4E3"
             },
             "line": {
              "color": "white"
             }
            },
            "type": "table"
           }
          ]
         },
         "layout": {
          "annotationdefaults": {
           "arrowcolor": "#2a3f5f",
           "arrowhead": 0,
           "arrowwidth": 1
          },
          "autotypenumbers": "strict",
          "coloraxis": {
           "colorbar": {
            "outlinewidth": 0,
            "ticks": ""
           }
          },
          "colorscale": {
           "diverging": [
            [
             0,
             "#8e0152"
            ],
            [
             0.1,
             "#c51b7d"
            ],
            [
             0.2,
             "#de77ae"
            ],
            [
             0.3,
             "#f1b6da"
            ],
            [
             0.4,
             "#fde0ef"
            ],
            [
             0.5,
             "#f7f7f7"
            ],
            [
             0.6,
             "#e6f5d0"
            ],
            [
             0.7,
             "#b8e186"
            ],
            [
             0.8,
             "#7fbc41"
            ],
            [
             0.9,
             "#4d9221"
            ],
            [
             1,
             "#276419"
            ]
           ],
           "sequential": [
            [
             0,
             "#0d0887"
            ],
            [
             0.1111111111111111,
             "#46039f"
            ],
            [
             0.2222222222222222,
             "#7201a8"
            ],
            [
             0.3333333333333333,
             "#9c179e"
            ],
            [
             0.4444444444444444,
             "#bd3786"
            ],
            [
             0.5555555555555556,
             "#d8576b"
            ],
            [
             0.6666666666666666,
             "#ed7953"
            ],
            [
             0.7777777777777778,
             "#fb9f3a"
            ],
            [
             0.8888888888888888,
             "#fdca26"
            ],
            [
             1,
             "#f0f921"
            ]
           ],
           "sequentialminus": [
            [
             0,
             "#0d0887"
            ],
            [
             0.1111111111111111,
             "#46039f"
            ],
            [
             0.2222222222222222,
             "#7201a8"
            ],
            [
             0.3333333333333333,
             "#9c179e"
            ],
            [
             0.4444444444444444,
             "#bd3786"
            ],
            [
             0.5555555555555556,
             "#d8576b"
            ],
            [
             0.6666666666666666,
             "#ed7953"
            ],
            [
             0.7777777777777778,
             "#fb9f3a"
            ],
            [
             0.8888888888888888,
             "#fdca26"
            ],
            [
             1,
             "#f0f921"
            ]
           ]
          },
          "colorway": [
           "#636efa",
           "#EF553B",
           "#00cc96",
           "#ab63fa",
           "#FFA15A",
           "#19d3f3",
           "#FF6692",
           "#B6E880",
           "#FF97FF",
           "#FECB52"
          ],
          "font": {
           "color": "#2a3f5f"
          },
          "geo": {
           "bgcolor": "white",
           "lakecolor": "white",
           "landcolor": "#E5ECF6",
           "showlakes": true,
           "showland": true,
           "subunitcolor": "white"
          },
          "hoverlabel": {
           "align": "left"
          },
          "hovermode": "closest",
          "mapbox": {
           "style": "light"
          },
          "paper_bgcolor": "white",
          "plot_bgcolor": "#E5ECF6",
          "polar": {
           "angularaxis": {
            "gridcolor": "white",
            "linecolor": "white",
            "ticks": ""
           },
           "bgcolor": "#E5ECF6",
           "radialaxis": {
            "gridcolor": "white",
            "linecolor": "white",
            "ticks": ""
           }
          },
          "scene": {
           "xaxis": {
            "backgroundcolor": "#E5ECF6",
            "gridcolor": "white",
            "gridwidth": 2,
            "linecolor": "white",
            "showbackground": true,
            "ticks": "",
            "zerolinecolor": "white"
           },
           "yaxis": {
            "backgroundcolor": "#E5ECF6",
            "gridcolor": "white",
            "gridwidth": 2,
            "linecolor": "white",
            "showbackground": true,
            "ticks": "",
            "zerolinecolor": "white"
           },
           "zaxis": {
            "backgroundcolor": "#E5ECF6",
            "gridcolor": "white",
            "gridwidth": 2,
            "linecolor": "white",
            "showbackground": true,
            "ticks": "",
            "zerolinecolor": "white"
           }
          },
          "shapedefaults": {
           "line": {
            "color": "#2a3f5f"
           }
          },
          "ternary": {
           "aaxis": {
            "gridcolor": "white",
            "linecolor": "white",
            "ticks": ""
           },
           "baxis": {
            "gridcolor": "white",
            "linecolor": "white",
            "ticks": ""
           },
           "bgcolor": "#E5ECF6",
           "caxis": {
            "gridcolor": "white",
            "linecolor": "white",
            "ticks": ""
           }
          },
          "title": {
           "x": 0.05
          },
          "xaxis": {
           "automargin": true,
           "gridcolor": "white",
           "linecolor": "white",
           "ticks": "",
           "title": {
            "standoff": 15
           },
           "zerolinecolor": "white",
           "zerolinewidth": 2
          },
          "yaxis": {
           "automargin": true,
           "gridcolor": "white",
           "linecolor": "white",
           "ticks": "",
           "title": {
            "standoff": 15
           },
           "zerolinecolor": "white",
           "zerolinewidth": 2
          }
         }
        },
        "title": {
         "text": "Age Distribution by Passenger Class and Sex"
        },
        "xaxis": {
         "anchor": "y",
         "domain": [
          0,
          0.49
         ],
         "title": {
          "text": "Age"
         }
        },
        "xaxis2": {
         "anchor": "y2",
         "domain": [
          0.51,
          1
         ],
         "matches": "x",
         "title": {
          "text": "Age"
         }
        },
        "yaxis": {
         "anchor": "x",
         "domain": [
          0,
          1
         ],
         "title": {
          "text": "count"
         }
        },
        "yaxis2": {
         "anchor": "x2",
         "domain": [
          0,
          1
         ],
         "matches": "y",
         "showticklabels": false
        }
       }
      }
     },
     "metadata": {},
     "output_type": "display_data"
    }
   ],
   "source": [
    "fig = px.histogram(combined, x='Age', color='Pclass', barmode='overlay', \n",
    "                   facet_col='Sex',\n",
    "                   title='Age Distribution by Passenger Class and Sex',\n",
    "                   opacity=0.6)\n",
    "fig.show()"
   ]
  },
  {
   "cell_type": "code",
   "execution_count": 1157,
   "metadata": {},
   "outputs": [
    {
     "data": {
      "application/vnd.plotly.v1+json": {
       "config": {
        "plotlyServerURL": "https://plot.ly"
       },
       "data": [
        {
         "bingroup": "x",
         "hovertemplate": "Pclass=3<br>Cabin_letter=%{x}<br>count=%{y}<extra></extra>",
         "legendgroup": "3",
         "marker": {
          "color": "#636efa",
          "pattern": {
           "shape": ""
          }
         },
         "name": "3",
         "orientation": "v",
         "showlegend": true,
         "type": "histogram",
         "x": [
          "Missing",
          "Missing",
          "Missing",
          "Missing",
          "Missing",
          "Missing",
          "G",
          "Missing",
          "Missing",
          "Missing",
          "Missing",
          "Missing",
          "Missing",
          "Missing",
          "Missing",
          "Missing",
          "Missing",
          "Missing",
          "Missing",
          "Missing",
          "Missing",
          "Missing",
          "Missing",
          "Missing",
          "Missing",
          "Missing",
          "Missing",
          "Missing",
          "Missing",
          "Missing",
          "Missing",
          "Missing",
          "Missing",
          "Missing",
          "Missing",
          "Missing",
          "Missing",
          "Missing",
          "Missing",
          "Missing",
          "Missing",
          "Missing",
          "Missing",
          "Missing",
          "Missing",
          "F",
          "Missing",
          "Missing",
          "Missing",
          "Missing",
          "Missing",
          "Missing",
          "Missing",
          "Missing",
          "Missing",
          "Missing",
          "Missing",
          "Missing",
          "Missing",
          "Missing",
          "Missing",
          "Missing",
          "Missing",
          "Missing",
          "Missing",
          "Missing",
          "Missing",
          "Missing",
          "Missing",
          "Missing",
          "Missing",
          "Missing",
          "Missing",
          "Missing",
          "Missing",
          "Missing",
          "Missing",
          "Missing",
          "Missing",
          "Missing",
          "Missing",
          "F",
          "Missing",
          "Missing",
          "Missing",
          "Missing",
          "Missing",
          "Missing",
          "Missing",
          "Missing",
          "Missing",
          "Missing",
          "Missing",
          "Missing",
          "Missing",
          "Missing",
          "Missing",
          "Missing",
          "Missing",
          "Missing",
          "Missing",
          "Missing",
          "Missing",
          "Missing",
          "Missing",
          "Missing",
          "Missing",
          "Missing",
          "Missing",
          "Missing",
          "Missing",
          "Missing",
          "Missing",
          "Missing",
          "Missing",
          "Missing",
          "Missing",
          "Missing",
          "Missing",
          "Missing",
          "Missing",
          "Missing",
          "Missing",
          "Missing",
          "Missing",
          "Missing",
          "Missing",
          "Missing",
          "G",
          "Missing",
          "Missing",
          "Missing",
          "Missing",
          "Missing",
          "Missing",
          "Missing",
          "Missing",
          "Missing",
          "Missing",
          "Missing",
          "Missing",
          "Missing",
          "Missing",
          "Missing",
          "Missing",
          "Missing",
          "Missing",
          "Missing",
          "Missing",
          "Missing",
          "Missing",
          "G",
          "Missing",
          "Missing",
          "Missing",
          "Missing",
          "Missing",
          "Missing",
          "Missing",
          "Missing",
          "Missing",
          "Missing",
          "Missing",
          "Missing",
          "Missing",
          "Missing",
          "Missing",
          "Missing",
          "Missing",
          "Missing",
          "Missing",
          "Missing",
          "Missing",
          "Missing",
          "Missing",
          "Missing",
          "Missing",
          "Missing",
          "Missing",
          "Missing",
          "Missing",
          "Missing",
          "Missing",
          "Missing",
          "Missing",
          "Missing",
          "Missing",
          "Missing",
          "Missing",
          "Missing",
          "Missing",
          "Missing",
          "Missing",
          "Missing",
          "Missing",
          "Missing",
          "Missing",
          "Missing",
          "Missing",
          "Missing",
          "Missing",
          "Missing",
          "Missing",
          "Missing",
          "Missing",
          "Missing",
          "Missing",
          "Missing",
          "Missing",
          "Missing",
          "Missing",
          "Missing",
          "Missing",
          "Missing",
          "Missing",
          "Missing",
          "Missing",
          "Missing",
          "Missing",
          "Missing",
          "Missing",
          "G",
          "Missing",
          "Missing",
          "Missing",
          "Missing",
          "Missing",
          "Missing",
          "Missing",
          "Missing",
          "Missing",
          "Missing",
          "Missing",
          "Missing",
          "Missing",
          "Missing",
          "Missing",
          "Missing",
          "Missing",
          "Missing",
          "Missing",
          "Missing",
          "Missing",
          "Missing",
          "E",
          "Missing",
          "Missing",
          "Missing",
          "Missing",
          "Missing",
          "Missing",
          "Missing",
          "Missing",
          "Missing",
          "Missing",
          "Missing",
          "Missing",
          "Missing",
          "Missing",
          "Missing",
          "Missing",
          "Missing",
          "Missing",
          "Missing",
          "Missing",
          "Missing",
          "Missing",
          "Missing",
          "Missing",
          "Missing",
          "Missing",
          "Missing",
          "Missing",
          "Missing",
          "Missing",
          "Missing",
          "Missing",
          "Missing",
          "Missing",
          "Missing",
          "Missing",
          "Missing",
          "Missing",
          "Missing",
          "Missing",
          "Missing",
          "Missing",
          "Missing",
          "Missing",
          "Missing",
          "Missing",
          "Missing",
          "Missing",
          "Missing",
          "Missing",
          "Missing",
          "Missing",
          "Missing",
          "Missing",
          "Missing",
          "Missing",
          "Missing",
          "Missing",
          "Missing",
          "Missing",
          "Missing",
          "Missing",
          "Missing",
          "Missing",
          "Missing",
          "Missing",
          "Missing",
          "Missing",
          "Missing",
          "Missing",
          "Missing",
          "Missing",
          "Missing",
          "Missing",
          "Missing",
          "Missing",
          "Missing",
          "Missing",
          "Missing",
          "Missing",
          "Missing",
          "Missing",
          "Missing",
          "Missing",
          "Missing",
          "Missing",
          "Missing",
          "Missing",
          "Missing",
          "Missing",
          "Missing",
          "Missing",
          "Missing",
          "Missing",
          "Missing",
          "Missing",
          "Missing",
          "Missing",
          "Missing",
          "Missing",
          "Missing",
          "Missing",
          "Missing",
          "Missing",
          "Missing",
          "Missing",
          "Missing",
          "Missing",
          "Missing",
          "Missing",
          "Missing",
          "Missing",
          "Missing",
          "Missing",
          "Missing",
          "Missing",
          "Missing",
          "Missing",
          "Missing",
          "Missing",
          "Missing",
          "Missing",
          "Missing",
          "Missing",
          "Missing",
          "Missing",
          "Missing",
          "Missing",
          "Missing",
          "Missing",
          "Missing",
          "Missing",
          "Missing",
          "Missing",
          "Missing",
          "Missing",
          "Missing",
          "Missing",
          "Missing",
          "Missing",
          "F",
          "Missing",
          "Missing",
          "Missing",
          "Missing",
          "Missing",
          "F",
          "Missing",
          "Missing",
          "Missing",
          "Missing",
          "Missing",
          "Missing",
          "Missing",
          "Missing",
          "Missing",
          "Missing",
          "Missing",
          "Missing",
          "Missing",
          "Missing",
          "Missing",
          "E",
          "Missing",
          "Missing",
          "Missing",
          "Missing",
          "Missing",
          "Missing",
          "Missing",
          "Missing",
          "Missing",
          "Missing",
          "Missing",
          "Missing",
          "Missing",
          "Missing",
          "Missing",
          "F",
          "Missing",
          "Missing",
          "Missing",
          "Missing",
          "Missing",
          "Missing",
          "Missing",
          "Missing",
          "Missing",
          "Missing",
          "Missing",
          "Missing",
          "Missing",
          "Missing",
          "Missing",
          "Missing",
          "Missing",
          "Missing",
          "Missing",
          "Missing",
          "Missing",
          "Missing",
          "Missing",
          "Missing",
          "Missing",
          "Missing",
          "Missing",
          "E",
          "Missing",
          "Missing",
          "Missing",
          "Missing",
          "Missing",
          "Missing",
          "Missing",
          "Missing",
          "Missing",
          "Missing",
          "Missing",
          "Missing",
          "Missing",
          "Missing",
          "Missing",
          "Missing",
          "Missing",
          "Missing",
          "Missing",
          "Missing",
          "Missing",
          "Missing",
          "Missing",
          "Missing",
          "Missing",
          "Missing",
          "Missing",
          "Missing",
          "Missing",
          "Missing",
          "Missing",
          "Missing",
          "Missing",
          "Missing",
          "Missing",
          "Missing",
          "Missing",
          "Missing",
          "Missing",
          "Missing",
          "Missing",
          "Missing",
          "Missing",
          "Missing",
          "Missing",
          "Missing",
          "Missing",
          "Missing",
          "Missing",
          "Missing",
          "Missing",
          "Missing",
          "Missing",
          "Missing",
          "Missing",
          "Missing",
          "Missing",
          "Missing",
          "Missing",
          "Missing",
          "Missing",
          "Missing",
          "Missing",
          "Missing",
          "G",
          "Missing",
          "Missing",
          "Missing",
          "Missing",
          "Missing",
          "Missing",
          "Missing",
          "Missing",
          "Missing",
          "Missing",
          "Missing",
          "Missing",
          "Missing",
          "Missing",
          "Missing",
          "Missing",
          "Missing",
          "Missing",
          "Missing",
          "Missing",
          "Missing",
          "Missing",
          "Missing",
          "Missing",
          "Missing",
          "Missing",
          "Missing",
          "Missing",
          "Missing",
          "Missing",
          "Missing",
          "Missing",
          "Missing",
          "Missing",
          "Missing",
          "Missing",
          "Missing",
          "Missing",
          "Missing",
          "Missing",
          "Missing",
          "Missing",
          "Missing",
          "Missing",
          "Missing",
          "Missing",
          "Missing",
          "Missing",
          "Missing",
          "Missing",
          "Missing",
          "Missing",
          "Missing",
          "Missing",
          "Missing",
          "Missing",
          "Missing",
          "Missing",
          "Missing",
          "Missing",
          "Missing",
          "Missing",
          "Missing",
          "Missing",
          "Missing",
          "Missing",
          "Missing",
          "Missing",
          "Missing",
          "Missing",
          "Missing",
          "Missing",
          "Missing",
          "Missing",
          "Missing"
         ],
         "xaxis": "x",
         "yaxis": "y"
        },
        {
         "bingroup": "x",
         "hovertemplate": "Pclass=1<br>Cabin_letter=%{x}<br>count=%{y}<extra></extra>",
         "legendgroup": "1",
         "marker": {
          "color": "#EF553B",
          "pattern": {
           "shape": ""
          }
         },
         "name": "1",
         "orientation": "v",
         "showlegend": true,
         "type": "histogram",
         "x": [
          "C",
          "C",
          "E",
          "C",
          "A",
          "C",
          "Missing",
          "B",
          "Missing",
          "Missing",
          "D",
          "B",
          "C",
          "B",
          "C",
          "Missing",
          "Missing",
          "C",
          "E",
          "A",
          "D",
          "D",
          "C",
          "B",
          "D",
          "D",
          "C",
          "B",
          "C",
          "Missing",
          "E",
          "Missing",
          "B",
          "A",
          "C",
          "A",
          "Missing",
          "B",
          "B",
          "A",
          "D",
          "D",
          "C",
          "C",
          "C",
          "D",
          "C",
          "Missing",
          "B",
          "Missing",
          "E",
          "B",
          "C",
          "C",
          "Missing",
          "C",
          "D",
          "A",
          "Missing",
          "B",
          "Missing",
          "C",
          "C",
          "B",
          "C",
          "Missing",
          "C",
          "E",
          "C",
          "B",
          "C",
          "E",
          "C",
          "B",
          "C",
          "C",
          "Missing",
          "C",
          "E",
          "T",
          "C",
          "C",
          "E",
          "D",
          "B",
          "E",
          "Missing",
          "Missing",
          "C",
          "Missing",
          "Missing",
          "B",
          "D",
          "C",
          "C",
          "E",
          "B",
          "C",
          "A",
          "Missing",
          "C",
          "C",
          "C",
          "E",
          "D",
          "E",
          "E",
          "Missing",
          "A",
          "B",
          "C",
          "B",
          "C",
          "Missing",
          "D",
          "C",
          "B",
          "C",
          "Missing",
          "E",
          "Missing",
          "D",
          "B",
          "B",
          "C",
          "B",
          "Missing",
          "B",
          "B",
          "C",
          "Missing",
          "C",
          "Missing",
          "A",
          "Missing",
          "E",
          "C",
          "E",
          "E",
          "C",
          "A",
          "E",
          "B",
          "D",
          "A",
          "Missing",
          "Missing",
          "Missing",
          "C",
          "D",
          "D",
          "D",
          "A",
          "B",
          "Missing",
          "B",
          "D",
          "A",
          "D",
          "Missing",
          "E",
          "C",
          "B",
          "B",
          "D",
          "B",
          "B",
          "Missing",
          "C",
          "C",
          "E",
          "E",
          "Missing",
          "C",
          "C",
          "C",
          "C",
          "E",
          "B",
          "B",
          "D",
          "C",
          "B",
          "B",
          "D",
          "B",
          "B",
          "D",
          "Missing",
          "B",
          "B",
          "D",
          "B",
          "Missing",
          "D",
          "B",
          "A",
          "E",
          "B",
          "B",
          "Missing",
          "B",
          "E",
          "C",
          "Missing",
          "C",
          "D",
          "Missing",
          "E",
          "D",
          "A",
          "D",
          "B",
          "C",
          "B",
          "C",
          "E",
          "Missing",
          "Missing",
          "B",
          "B",
          "D",
          "C",
          "C",
          "B",
          "Missing",
          "C",
          "B",
          "C",
          "B",
          "E",
          "E",
          "D",
          "B",
          "E",
          "C",
          "Missing",
          "C",
          "C",
          "D",
          "C",
          "E",
          "D",
          "A",
          "B",
          "C",
          "B",
          "C",
          "B",
          "B",
          "D",
          "C",
          "E",
          "A",
          "Missing",
          "D",
          "C",
          "B",
          "C",
          "Missing",
          "D",
          "C",
          "C"
         ],
         "xaxis": "x",
         "yaxis": "y"
        },
        {
         "bingroup": "x",
         "hovertemplate": "Pclass=2<br>Cabin_letter=%{x}<br>count=%{y}<extra></extra>",
         "legendgroup": "2",
         "marker": {
          "color": "#00cc96",
          "pattern": {
           "shape": ""
          }
         },
         "name": "2",
         "orientation": "v",
         "showlegend": true,
         "type": "histogram",
         "x": [
          "Missing",
          "Missing",
          "Missing",
          "Missing",
          "D",
          "Missing",
          "Missing",
          "Missing",
          "Missing",
          "Missing",
          "Missing",
          "F",
          "Missing",
          "Missing",
          "Missing",
          "Missing",
          "Missing",
          "Missing",
          "Missing",
          "Missing",
          "Missing",
          "E",
          "Missing",
          "Missing",
          "Missing",
          "Missing",
          "Missing",
          "F",
          "Missing",
          "Missing",
          "Missing",
          "Missing",
          "Missing",
          "F",
          "Missing",
          "Missing",
          "F",
          "Missing",
          "Missing",
          "Missing",
          "Missing",
          "Missing",
          "Missing",
          "Missing",
          "Missing",
          "Missing",
          "Missing",
          "Missing",
          "Missing",
          "Missing",
          "Missing",
          "Missing",
          "Missing",
          "Missing",
          "Missing",
          "Missing",
          "Missing",
          "Missing",
          "Missing",
          "D",
          "E",
          "Missing",
          "Missing",
          "Missing",
          "Missing",
          "Missing",
          "Missing",
          "Missing",
          "D",
          "F",
          "Missing",
          "Missing",
          "Missing",
          "F",
          "Missing",
          "Missing",
          "Missing",
          "Missing",
          "Missing",
          "Missing",
          "Missing",
          "Missing",
          "Missing",
          "Missing",
          "Missing",
          "Missing",
          "Missing",
          "Missing",
          "Missing",
          "Missing",
          "Missing",
          "Missing",
          "Missing",
          "Missing",
          "Missing",
          "Missing",
          "Missing",
          "Missing",
          "Missing",
          "Missing",
          "Missing",
          "Missing",
          "D",
          "Missing",
          "Missing",
          "Missing",
          "F",
          "Missing",
          "Missing",
          "Missing",
          "Missing",
          "Missing",
          "Missing",
          "Missing",
          "Missing",
          "Missing",
          "Missing",
          "Missing",
          "Missing",
          "Missing",
          "Missing",
          "Missing",
          "Missing",
          "Missing",
          "Missing",
          "Missing",
          "Missing",
          "Missing",
          "F",
          "Missing",
          "Missing",
          "Missing",
          "Missing",
          "Missing",
          "Missing",
          "Missing",
          "Missing",
          "Missing",
          "Missing",
          "Missing",
          "Missing",
          "Missing",
          "Missing",
          "Missing",
          "Missing",
          "Missing",
          "Missing",
          "Missing",
          "E",
          "Missing",
          "Missing",
          "Missing",
          "Missing",
          "Missing",
          "Missing",
          "Missing",
          "Missing",
          "Missing",
          "Missing",
          "Missing",
          "Missing",
          "Missing",
          "E",
          "Missing",
          "Missing",
          "Missing",
          "Missing",
          "Missing",
          "Missing",
          "Missing",
          "Missing",
          "Missing",
          "Missing",
          "Missing",
          "Missing",
          "Missing",
          "Missing",
          "Missing",
          "Missing",
          "Missing",
          "Missing",
          "Missing",
          "Missing",
          "Missing",
          "Missing",
          "Missing",
          "Missing",
          "Missing",
          "Missing",
          "Missing",
          "Missing",
          "Missing",
          "Missing",
          "Missing",
          "Missing",
          "Missing",
          "F",
          "Missing",
          "Missing",
          "Missing",
          "Missing",
          "Missing",
          "Missing",
          "F",
          "Missing",
          "Missing",
          "Missing",
          "Missing",
          "Missing",
          "Missing",
          "Missing",
          "Missing",
          "Missing",
          "Missing",
          "Missing",
          "F",
          "Missing",
          "Missing",
          "Missing",
          "Missing",
          "Missing",
          "Missing",
          "Missing",
          "Missing"
         ],
         "xaxis": "x",
         "yaxis": "y"
        }
       ],
       "layout": {
        "barmode": "relative",
        "legend": {
         "title": {
          "text": "Pclass"
         },
         "tracegroupgap": 0
        },
        "template": {
         "data": {
          "bar": [
           {
            "error_x": {
             "color": "#2a3f5f"
            },
            "error_y": {
             "color": "#2a3f5f"
            },
            "marker": {
             "line": {
              "color": "#E5ECF6",
              "width": 0.5
             },
             "pattern": {
              "fillmode": "overlay",
              "size": 10,
              "solidity": 0.2
             }
            },
            "type": "bar"
           }
          ],
          "barpolar": [
           {
            "marker": {
             "line": {
              "color": "#E5ECF6",
              "width": 0.5
             },
             "pattern": {
              "fillmode": "overlay",
              "size": 10,
              "solidity": 0.2
             }
            },
            "type": "barpolar"
           }
          ],
          "carpet": [
           {
            "aaxis": {
             "endlinecolor": "#2a3f5f",
             "gridcolor": "white",
             "linecolor": "white",
             "minorgridcolor": "white",
             "startlinecolor": "#2a3f5f"
            },
            "baxis": {
             "endlinecolor": "#2a3f5f",
             "gridcolor": "white",
             "linecolor": "white",
             "minorgridcolor": "white",
             "startlinecolor": "#2a3f5f"
            },
            "type": "carpet"
           }
          ],
          "choropleth": [
           {
            "colorbar": {
             "outlinewidth": 0,
             "ticks": ""
            },
            "type": "choropleth"
           }
          ],
          "contour": [
           {
            "colorbar": {
             "outlinewidth": 0,
             "ticks": ""
            },
            "colorscale": [
             [
              0,
              "#0d0887"
             ],
             [
              0.1111111111111111,
              "#46039f"
             ],
             [
              0.2222222222222222,
              "#7201a8"
             ],
             [
              0.3333333333333333,
              "#9c179e"
             ],
             [
              0.4444444444444444,
              "#bd3786"
             ],
             [
              0.5555555555555556,
              "#d8576b"
             ],
             [
              0.6666666666666666,
              "#ed7953"
             ],
             [
              0.7777777777777778,
              "#fb9f3a"
             ],
             [
              0.8888888888888888,
              "#fdca26"
             ],
             [
              1,
              "#f0f921"
             ]
            ],
            "type": "contour"
           }
          ],
          "contourcarpet": [
           {
            "colorbar": {
             "outlinewidth": 0,
             "ticks": ""
            },
            "type": "contourcarpet"
           }
          ],
          "heatmap": [
           {
            "colorbar": {
             "outlinewidth": 0,
             "ticks": ""
            },
            "colorscale": [
             [
              0,
              "#0d0887"
             ],
             [
              0.1111111111111111,
              "#46039f"
             ],
             [
              0.2222222222222222,
              "#7201a8"
             ],
             [
              0.3333333333333333,
              "#9c179e"
             ],
             [
              0.4444444444444444,
              "#bd3786"
             ],
             [
              0.5555555555555556,
              "#d8576b"
             ],
             [
              0.6666666666666666,
              "#ed7953"
             ],
             [
              0.7777777777777778,
              "#fb9f3a"
             ],
             [
              0.8888888888888888,
              "#fdca26"
             ],
             [
              1,
              "#f0f921"
             ]
            ],
            "type": "heatmap"
           }
          ],
          "histogram": [
           {
            "marker": {
             "pattern": {
              "fillmode": "overlay",
              "size": 10,
              "solidity": 0.2
             }
            },
            "type": "histogram"
           }
          ],
          "histogram2d": [
           {
            "colorbar": {
             "outlinewidth": 0,
             "ticks": ""
            },
            "colorscale": [
             [
              0,
              "#0d0887"
             ],
             [
              0.1111111111111111,
              "#46039f"
             ],
             [
              0.2222222222222222,
              "#7201a8"
             ],
             [
              0.3333333333333333,
              "#9c179e"
             ],
             [
              0.4444444444444444,
              "#bd3786"
             ],
             [
              0.5555555555555556,
              "#d8576b"
             ],
             [
              0.6666666666666666,
              "#ed7953"
             ],
             [
              0.7777777777777778,
              "#fb9f3a"
             ],
             [
              0.8888888888888888,
              "#fdca26"
             ],
             [
              1,
              "#f0f921"
             ]
            ],
            "type": "histogram2d"
           }
          ],
          "histogram2dcontour": [
           {
            "colorbar": {
             "outlinewidth": 0,
             "ticks": ""
            },
            "colorscale": [
             [
              0,
              "#0d0887"
             ],
             [
              0.1111111111111111,
              "#46039f"
             ],
             [
              0.2222222222222222,
              "#7201a8"
             ],
             [
              0.3333333333333333,
              "#9c179e"
             ],
             [
              0.4444444444444444,
              "#bd3786"
             ],
             [
              0.5555555555555556,
              "#d8576b"
             ],
             [
              0.6666666666666666,
              "#ed7953"
             ],
             [
              0.7777777777777778,
              "#fb9f3a"
             ],
             [
              0.8888888888888888,
              "#fdca26"
             ],
             [
              1,
              "#f0f921"
             ]
            ],
            "type": "histogram2dcontour"
           }
          ],
          "mesh3d": [
           {
            "colorbar": {
             "outlinewidth": 0,
             "ticks": ""
            },
            "type": "mesh3d"
           }
          ],
          "parcoords": [
           {
            "line": {
             "colorbar": {
              "outlinewidth": 0,
              "ticks": ""
             }
            },
            "type": "parcoords"
           }
          ],
          "pie": [
           {
            "automargin": true,
            "type": "pie"
           }
          ],
          "scatter": [
           {
            "fillpattern": {
             "fillmode": "overlay",
             "size": 10,
             "solidity": 0.2
            },
            "type": "scatter"
           }
          ],
          "scatter3d": [
           {
            "line": {
             "colorbar": {
              "outlinewidth": 0,
              "ticks": ""
             }
            },
            "marker": {
             "colorbar": {
              "outlinewidth": 0,
              "ticks": ""
             }
            },
            "type": "scatter3d"
           }
          ],
          "scattercarpet": [
           {
            "marker": {
             "colorbar": {
              "outlinewidth": 0,
              "ticks": ""
             }
            },
            "type": "scattercarpet"
           }
          ],
          "scattergeo": [
           {
            "marker": {
             "colorbar": {
              "outlinewidth": 0,
              "ticks": ""
             }
            },
            "type": "scattergeo"
           }
          ],
          "scattergl": [
           {
            "marker": {
             "colorbar": {
              "outlinewidth": 0,
              "ticks": ""
             }
            },
            "type": "scattergl"
           }
          ],
          "scattermap": [
           {
            "marker": {
             "colorbar": {
              "outlinewidth": 0,
              "ticks": ""
             }
            },
            "type": "scattermap"
           }
          ],
          "scattermapbox": [
           {
            "marker": {
             "colorbar": {
              "outlinewidth": 0,
              "ticks": ""
             }
            },
            "type": "scattermapbox"
           }
          ],
          "scatterpolar": [
           {
            "marker": {
             "colorbar": {
              "outlinewidth": 0,
              "ticks": ""
             }
            },
            "type": "scatterpolar"
           }
          ],
          "scatterpolargl": [
           {
            "marker": {
             "colorbar": {
              "outlinewidth": 0,
              "ticks": ""
             }
            },
            "type": "scatterpolargl"
           }
          ],
          "scatterternary": [
           {
            "marker": {
             "colorbar": {
              "outlinewidth": 0,
              "ticks": ""
             }
            },
            "type": "scatterternary"
           }
          ],
          "surface": [
           {
            "colorbar": {
             "outlinewidth": 0,
             "ticks": ""
            },
            "colorscale": [
             [
              0,
              "#0d0887"
             ],
             [
              0.1111111111111111,
              "#46039f"
             ],
             [
              0.2222222222222222,
              "#7201a8"
             ],
             [
              0.3333333333333333,
              "#9c179e"
             ],
             [
              0.4444444444444444,
              "#bd3786"
             ],
             [
              0.5555555555555556,
              "#d8576b"
             ],
             [
              0.6666666666666666,
              "#ed7953"
             ],
             [
              0.7777777777777778,
              "#fb9f3a"
             ],
             [
              0.8888888888888888,
              "#fdca26"
             ],
             [
              1,
              "#f0f921"
             ]
            ],
            "type": "surface"
           }
          ],
          "table": [
           {
            "cells": {
             "fill": {
              "color": "#EBF0F8"
             },
             "line": {
              "color": "white"
             }
            },
            "header": {
             "fill": {
              "color": "#C8D4E3"
             },
             "line": {
              "color": "white"
             }
            },
            "type": "table"
           }
          ]
         },
         "layout": {
          "annotationdefaults": {
           "arrowcolor": "#2a3f5f",
           "arrowhead": 0,
           "arrowwidth": 1
          },
          "autotypenumbers": "strict",
          "coloraxis": {
           "colorbar": {
            "outlinewidth": 0,
            "ticks": ""
           }
          },
          "colorscale": {
           "diverging": [
            [
             0,
             "#8e0152"
            ],
            [
             0.1,
             "#c51b7d"
            ],
            [
             0.2,
             "#de77ae"
            ],
            [
             0.3,
             "#f1b6da"
            ],
            [
             0.4,
             "#fde0ef"
            ],
            [
             0.5,
             "#f7f7f7"
            ],
            [
             0.6,
             "#e6f5d0"
            ],
            [
             0.7,
             "#b8e186"
            ],
            [
             0.8,
             "#7fbc41"
            ],
            [
             0.9,
             "#4d9221"
            ],
            [
             1,
             "#276419"
            ]
           ],
           "sequential": [
            [
             0,
             "#0d0887"
            ],
            [
             0.1111111111111111,
             "#46039f"
            ],
            [
             0.2222222222222222,
             "#7201a8"
            ],
            [
             0.3333333333333333,
             "#9c179e"
            ],
            [
             0.4444444444444444,
             "#bd3786"
            ],
            [
             0.5555555555555556,
             "#d8576b"
            ],
            [
             0.6666666666666666,
             "#ed7953"
            ],
            [
             0.7777777777777778,
             "#fb9f3a"
            ],
            [
             0.8888888888888888,
             "#fdca26"
            ],
            [
             1,
             "#f0f921"
            ]
           ],
           "sequentialminus": [
            [
             0,
             "#0d0887"
            ],
            [
             0.1111111111111111,
             "#46039f"
            ],
            [
             0.2222222222222222,
             "#7201a8"
            ],
            [
             0.3333333333333333,
             "#9c179e"
            ],
            [
             0.4444444444444444,
             "#bd3786"
            ],
            [
             0.5555555555555556,
             "#d8576b"
            ],
            [
             0.6666666666666666,
             "#ed7953"
            ],
            [
             0.7777777777777778,
             "#fb9f3a"
            ],
            [
             0.8888888888888888,
             "#fdca26"
            ],
            [
             1,
             "#f0f921"
            ]
           ]
          },
          "colorway": [
           "#636efa",
           "#EF553B",
           "#00cc96",
           "#ab63fa",
           "#FFA15A",
           "#19d3f3",
           "#FF6692",
           "#B6E880",
           "#FF97FF",
           "#FECB52"
          ],
          "font": {
           "color": "#2a3f5f"
          },
          "geo": {
           "bgcolor": "white",
           "lakecolor": "white",
           "landcolor": "#E5ECF6",
           "showlakes": true,
           "showland": true,
           "subunitcolor": "white"
          },
          "hoverlabel": {
           "align": "left"
          },
          "hovermode": "closest",
          "mapbox": {
           "style": "light"
          },
          "paper_bgcolor": "white",
          "plot_bgcolor": "#E5ECF6",
          "polar": {
           "angularaxis": {
            "gridcolor": "white",
            "linecolor": "white",
            "ticks": ""
           },
           "bgcolor": "#E5ECF6",
           "radialaxis": {
            "gridcolor": "white",
            "linecolor": "white",
            "ticks": ""
           }
          },
          "scene": {
           "xaxis": {
            "backgroundcolor": "#E5ECF6",
            "gridcolor": "white",
            "gridwidth": 2,
            "linecolor": "white",
            "showbackground": true,
            "ticks": "",
            "zerolinecolor": "white"
           },
           "yaxis": {
            "backgroundcolor": "#E5ECF6",
            "gridcolor": "white",
            "gridwidth": 2,
            "linecolor": "white",
            "showbackground": true,
            "ticks": "",
            "zerolinecolor": "white"
           },
           "zaxis": {
            "backgroundcolor": "#E5ECF6",
            "gridcolor": "white",
            "gridwidth": 2,
            "linecolor": "white",
            "showbackground": true,
            "ticks": "",
            "zerolinecolor": "white"
           }
          },
          "shapedefaults": {
           "line": {
            "color": "#2a3f5f"
           }
          },
          "ternary": {
           "aaxis": {
            "gridcolor": "white",
            "linecolor": "white",
            "ticks": ""
           },
           "baxis": {
            "gridcolor": "white",
            "linecolor": "white",
            "ticks": ""
           },
           "bgcolor": "#E5ECF6",
           "caxis": {
            "gridcolor": "white",
            "linecolor": "white",
            "ticks": ""
           }
          },
          "title": {
           "x": 0.05
          },
          "xaxis": {
           "automargin": true,
           "gridcolor": "white",
           "linecolor": "white",
           "ticks": "",
           "title": {
            "standoff": 15
           },
           "zerolinecolor": "white",
           "zerolinewidth": 2
          },
          "yaxis": {
           "automargin": true,
           "gridcolor": "white",
           "linecolor": "white",
           "ticks": "",
           "title": {
            "standoff": 15
           },
           "zerolinecolor": "white",
           "zerolinewidth": 2
          }
         }
        },
        "title": {
         "text": "Passengers by Cabin Letter"
        },
        "xaxis": {
         "anchor": "y",
         "domain": [
          0,
          1
         ],
         "title": {
          "text": "Cabin_letter"
         }
        },
        "yaxis": {
         "anchor": "x",
         "domain": [
          0,
          1
         ],
         "title": {
          "text": "count"
         }
        }
       }
      }
     },
     "metadata": {},
     "output_type": "display_data"
    }
   ],
   "source": [
    "fig = px.histogram(combined, x='Cabin_letter', color='Pclass', title='Passengers by Cabin Letter')\n",
    "fig.show()"
   ]
  },
  {
   "cell_type": "code",
   "execution_count": 1158,
   "metadata": {},
   "outputs": [],
   "source": [
    "combined = combined.drop('Cabin_letter', axis=1)"
   ]
  },
  {
   "cell_type": "code",
   "execution_count": 1159,
   "metadata": {},
   "outputs": [
    {
     "data": {
      "application/vnd.plotly.v1+json": {
       "config": {
        "plotlyServerURL": "https://plot.ly"
       },
       "data": [
        {
         "alignmentgroup": "True",
         "hovertemplate": "Embarked=%{x}<br>Fare=%{y}<extra></extra>",
         "legendgroup": "S",
         "marker": {
          "color": "#636efa"
         },
         "name": "S",
         "notched": false,
         "offsetgroup": "S",
         "orientation": "v",
         "showlegend": true,
         "type": "box",
         "x": [
          "S",
          "S",
          "S",
          "S",
          "S",
          "S",
          "S",
          "S",
          "S",
          "S",
          "S",
          "S",
          "S",
          "S",
          "S",
          "S",
          "S",
          "S",
          "S",
          "S",
          "S",
          "S",
          "S",
          "S",
          "S",
          "S",
          "S",
          "S",
          "S",
          "S",
          "S",
          "S",
          "S",
          "S",
          "S",
          "S",
          "S",
          "S",
          "S",
          "S",
          "S",
          "S",
          "S",
          "S",
          "S",
          "S",
          "S",
          "S",
          "S",
          "S",
          "S",
          "S",
          "S",
          "S",
          "S",
          "S",
          "S",
          "S",
          "S",
          "S",
          "S",
          "S",
          "S",
          "S",
          "S",
          "S",
          "S",
          "S",
          "S",
          "S",
          "S",
          "S",
          "S",
          "S",
          "S",
          "S",
          "S",
          "S",
          "S",
          "S",
          "S",
          "S",
          "S",
          "S",
          "S",
          "S",
          "S",
          "S",
          "S",
          "S",
          "S",
          "S",
          "S",
          "S",
          "S",
          "S",
          "S",
          "S",
          "S",
          "S",
          "S",
          "S",
          "S",
          "S",
          "S",
          "S",
          "S",
          "S",
          "S",
          "S",
          "S",
          "S",
          "S",
          "S",
          "S",
          "S",
          "S",
          "S",
          "S",
          "S",
          "S",
          "S",
          "S",
          "S",
          "S",
          "S",
          "S",
          "S",
          "S",
          "S",
          "S",
          "S",
          "S",
          "S",
          "S",
          "S",
          "S",
          "S",
          "S",
          "S",
          "S",
          "S",
          "S",
          "S",
          "S",
          "S",
          "S",
          "S",
          "S",
          "S",
          "S",
          "S",
          "S",
          "S",
          "S",
          "S",
          "S",
          "S",
          "S",
          "S",
          "S",
          "S",
          "S",
          "S",
          "S",
          "S",
          "S",
          "S",
          "S",
          "S",
          "S",
          "S",
          "S",
          "S",
          "S",
          "S",
          "S",
          "S",
          "S",
          "S",
          "S",
          "S",
          "S",
          "S",
          "S",
          "S",
          "S",
          "S",
          "S",
          "S",
          "S",
          "S",
          "S",
          "S",
          "S",
          "S",
          "S",
          "S",
          "S",
          "S",
          "S",
          "S",
          "S",
          "S",
          "S",
          "S",
          "S",
          "S",
          "S",
          "S",
          "S",
          "S",
          "S",
          "S",
          "S",
          "S",
          "S",
          "S",
          "S",
          "S",
          "S",
          "S",
          "S",
          "S",
          "S",
          "S",
          "S",
          "S",
          "S",
          "S",
          "S",
          "S",
          "S",
          "S",
          "S",
          "S",
          "S",
          "S",
          "S",
          "S",
          "S",
          "S",
          "S",
          "S",
          "S",
          "S",
          "S",
          "S",
          "S",
          "S",
          "S",
          "S",
          "S",
          "S",
          "S",
          "S",
          "S",
          "S",
          "S",
          "S",
          "S",
          "S",
          "S",
          "S",
          "S",
          "S",
          "S",
          "S",
          "S",
          "S",
          "S",
          "S",
          "S",
          "S",
          "S",
          "S",
          "S",
          "S",
          "S",
          "S",
          "S",
          "S",
          "S",
          "S",
          "S",
          "S",
          "S",
          "S",
          "S",
          "S",
          "S",
          "S",
          "S",
          "S",
          "S",
          "S",
          "S",
          "S",
          "S",
          "S",
          "S",
          "S",
          "S",
          "S",
          "S",
          "S",
          "S",
          "S",
          "S",
          "S",
          "S",
          "S",
          "S",
          "S",
          "S",
          "S",
          "S",
          "S",
          "S",
          "S",
          "S",
          "S",
          "S",
          "S",
          "S",
          "S",
          "S",
          "S",
          "S",
          "S",
          "S",
          "S",
          "S",
          "S",
          "S",
          "S",
          "S",
          "S",
          "S",
          "S",
          "S",
          "S",
          "S",
          "S",
          "S",
          "S",
          "S",
          "S",
          "S",
          "S",
          "S",
          "S",
          "S",
          "S",
          "S",
          "S",
          "S",
          "S",
          "S",
          "S",
          "S",
          "S",
          "S",
          "S",
          "S",
          "S",
          "S",
          "S",
          "S",
          "S",
          "S",
          "S",
          "S",
          "S",
          "S",
          "S",
          "S",
          "S",
          "S",
          "S",
          "S",
          "S",
          "S",
          "S",
          "S",
          "S",
          "S",
          "S",
          "S",
          "S",
          "S",
          "S",
          "S",
          "S",
          "S",
          "S",
          "S",
          "S",
          "S",
          "S",
          "S",
          "S",
          "S",
          "S",
          "S",
          "S",
          "S",
          "S",
          "S",
          "S",
          "S",
          "S",
          "S",
          "S",
          "S",
          "S",
          "S",
          "S",
          "S",
          "S",
          "S",
          "S",
          "S",
          "S",
          "S",
          "S",
          "S",
          "S",
          "S",
          "S",
          "S",
          "S",
          "S",
          "S",
          "S",
          "S",
          "S",
          "S",
          "S",
          "S",
          "S",
          "S",
          "S",
          "S",
          "S",
          "S",
          "S",
          "S",
          "S",
          "S",
          "S",
          "S",
          "S",
          "S",
          "S",
          "S",
          "S",
          "S",
          "S",
          "S",
          "S",
          "S",
          "S",
          "S",
          "S",
          "S",
          "S",
          "S",
          "S",
          "S",
          "S",
          "S",
          "S",
          "S",
          "S",
          "S",
          "S",
          "S",
          "S",
          "S",
          "S",
          "S",
          "S",
          "S",
          "S",
          "S",
          "S",
          "S",
          "S",
          "S",
          "S",
          "S",
          "S",
          "S",
          "S",
          "S",
          "S",
          "S",
          "S",
          "S",
          "S",
          "S",
          "S",
          "S",
          "S",
          "S",
          "S",
          "S",
          "S",
          "S",
          "S",
          "S",
          "S",
          "S",
          "S",
          "S",
          "S",
          "S",
          "S",
          "S",
          "S",
          "S",
          "S",
          "S",
          "S",
          "S",
          "S",
          "S",
          "S",
          "S",
          "S",
          "S",
          "S",
          "S",
          "S",
          "S",
          "S",
          "S",
          "S",
          "S",
          "S",
          "S",
          "S",
          "S",
          "S",
          "S",
          "S",
          "S",
          "S",
          "S",
          "S",
          "S",
          "S",
          "S",
          "S",
          "S",
          "S",
          "S",
          "S",
          "S",
          "S",
          "S",
          "S",
          "S",
          "S",
          "S",
          "S",
          "S",
          "S",
          "S",
          "S",
          "S",
          "S",
          "S",
          "S",
          "S",
          "S",
          "S",
          "S",
          "S",
          "S",
          "S",
          "S",
          "S",
          "S",
          "S",
          "S",
          "S",
          "S",
          "S",
          "S",
          "S",
          "S",
          "S",
          "S",
          "S",
          "S",
          "S",
          "S",
          "S",
          "S",
          "S",
          "S",
          "S",
          "S",
          "S",
          "S",
          "S",
          "S",
          "S",
          "S",
          "S",
          "S",
          "S",
          "S",
          "S",
          "S",
          "S",
          "S",
          "S",
          "S",
          "S",
          "S",
          "S",
          "S",
          "S",
          "S",
          "S",
          "S",
          "S",
          "S",
          "S",
          "S",
          "S",
          "S",
          "S",
          "S",
          "S",
          "S",
          "S",
          "S",
          "S",
          "S",
          "S",
          "S",
          "S",
          "S",
          "S",
          "S",
          "S",
          "S",
          "S",
          "S",
          "S",
          "S",
          "S",
          "S",
          "S",
          "S",
          "S",
          "S",
          "S",
          "S",
          "S",
          "S",
          "S",
          "S",
          "S",
          "S",
          "S",
          "S",
          "S",
          "S",
          "S",
          "S",
          "S",
          "S",
          "S",
          "S",
          "S",
          "S",
          "S",
          "S",
          "S",
          "S",
          "S",
          "S",
          "S",
          "S",
          "S",
          "S",
          "S",
          "S",
          "S",
          "S",
          "S",
          "S",
          "S",
          "S",
          "S",
          "S",
          "S",
          "S",
          "S",
          "S",
          "S",
          "S",
          "S",
          "S",
          "S",
          "S",
          "S",
          "S",
          "S",
          "S",
          "S",
          "S",
          "S",
          "S",
          "S",
          "S",
          "S",
          "S",
          "S",
          "S",
          "S",
          "S",
          "S",
          "S",
          "S",
          "S",
          "S",
          "S",
          "S",
          "S",
          "S",
          "S",
          "S",
          "S",
          "S",
          "S",
          "S",
          "S",
          "S",
          "S",
          "S",
          "S",
          "S",
          "S",
          "S",
          "S",
          "S",
          "S",
          "S",
          "S",
          "S",
          "S",
          "S",
          "S",
          "S",
          "S",
          "S",
          "S",
          "S",
          "S",
          "S",
          "S",
          "S"
         ],
         "x0": " ",
         "xaxis": "x",
         "y": {
          "bdata": "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",
          "dtype": "f8"
         },
         "y0": " ",
         "yaxis": "y"
        },
        {
         "alignmentgroup": "True",
         "hovertemplate": "Embarked=%{x}<br>Fare=%{y}<extra></extra>",
         "legendgroup": "C",
         "marker": {
          "color": "#EF553B"
         },
         "name": "C",
         "notched": false,
         "offsetgroup": "C",
         "orientation": "v",
         "showlegend": true,
         "type": "box",
         "x": [
          "C",
          "C",
          "C",
          "C",
          "C",
          "C",
          "C",
          "C",
          "C",
          "C",
          "C",
          "C",
          "C",
          "C",
          "C",
          "C",
          "C",
          "C",
          "C",
          "C",
          "C",
          "C",
          "C",
          "C",
          "C",
          "C",
          "C",
          "C",
          "C",
          "C",
          "C",
          "C",
          "C",
          "C",
          "C",
          "C",
          "C",
          "C",
          "C",
          "C",
          "C",
          "C",
          "C",
          "C",
          "C",
          "C",
          "C",
          "C",
          "C",
          "C",
          "C",
          "C",
          "C",
          "C",
          "C",
          "C",
          "C",
          "C",
          "C",
          "C",
          "C",
          "C",
          "C",
          "C",
          "C",
          "C",
          "C",
          "C",
          "C",
          "C",
          "C",
          "C",
          "C",
          "C",
          "C",
          "C",
          "C",
          "C",
          "C",
          "C",
          "C",
          "C",
          "C",
          "C",
          "C",
          "C",
          "C",
          "C",
          "C",
          "C",
          "C",
          "C",
          "C",
          "C",
          "C",
          "C",
          "C",
          "C",
          "C",
          "C",
          "C",
          "C",
          "C",
          "C",
          "C",
          "C",
          "C",
          "C",
          "C",
          "C",
          "C",
          "C",
          "C",
          "C",
          "C",
          "C",
          "C",
          "C",
          "C",
          "C",
          "C",
          "C",
          "C",
          "C",
          "C",
          "C",
          "C",
          "C",
          "C",
          "C",
          "C",
          "C",
          "C",
          "C",
          "C",
          "C",
          "C",
          "C",
          "C",
          "C",
          "C",
          "C",
          "C",
          "C",
          "C",
          "C",
          "C",
          "C",
          "C",
          "C",
          "C",
          "C",
          "C",
          "C",
          "C",
          "C",
          "C",
          "C",
          "C",
          "C",
          "C",
          "C",
          "C",
          "C",
          "C",
          "C",
          "C",
          "C",
          "C",
          "C",
          "C",
          "C",
          "C",
          "C",
          "C",
          "C",
          "C",
          "C",
          "C",
          "C",
          "C",
          "C",
          "C",
          "C",
          "C",
          "C",
          "C",
          "C",
          "C",
          "C",
          "C",
          "C",
          "C",
          "C",
          "C",
          "C",
          "C",
          "C",
          "C",
          "C",
          "C",
          "C",
          "C",
          "C",
          "C",
          "C",
          "C",
          "C",
          "C",
          "C",
          "C",
          "C",
          "C",
          "C"
         ],
         "x0": " ",
         "xaxis": "x",
         "y": {
          "bdata": "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",
          "dtype": "f8"
         },
         "y0": " ",
         "yaxis": "y"
        },
        {
         "alignmentgroup": "True",
         "hovertemplate": "Embarked=%{x}<br>Fare=%{y}<extra></extra>",
         "legendgroup": "Q",
         "marker": {
          "color": "#00cc96"
         },
         "name": "Q",
         "notched": false,
         "offsetgroup": "Q",
         "orientation": "v",
         "showlegend": true,
         "type": "box",
         "x": [
          "Q",
          "Q",
          "Q",
          "Q",
          "Q",
          "Q",
          "Q",
          "Q",
          "Q",
          "Q",
          "Q",
          "Q",
          "Q",
          "Q",
          "Q",
          "Q",
          "Q",
          "Q",
          "Q",
          "Q",
          "Q",
          "Q",
          "Q",
          "Q",
          "Q",
          "Q",
          "Q",
          "Q",
          "Q",
          "Q",
          "Q",
          "Q",
          "Q",
          "Q",
          "Q",
          "Q",
          "Q",
          "Q",
          "Q",
          "Q",
          "Q",
          "Q",
          "Q",
          "Q",
          "Q",
          "Q",
          "Q",
          "Q",
          "Q",
          "Q",
          "Q",
          "Q",
          "Q",
          "Q",
          "Q",
          "Q",
          "Q",
          "Q",
          "Q",
          "Q",
          "Q",
          "Q",
          "Q",
          "Q",
          "Q",
          "Q",
          "Q",
          "Q",
          "Q",
          "Q",
          "Q",
          "Q",
          "Q",
          "Q",
          "Q",
          "Q",
          "Q",
          "Q",
          "Q",
          "Q",
          "Q",
          "Q",
          "Q",
          "Q",
          "Q",
          "Q",
          "Q",
          "Q",
          "Q",
          "Q",
          "Q",
          "Q",
          "Q",
          "Q",
          "Q",
          "Q",
          "Q"
         ],
         "x0": " ",
         "xaxis": "x",
         "y": {
          "bdata": "e4MvTKbqIEAAAAAAACA9QB4Wak3zDiBAo5I6AU2EH0AAAAAAAAAfQKOSOgFNhB9AAAAAAAAAL0AAAAAAAAAfQGZmZmZmJh9AZmZmZmYmOEAAAAAAAAAfQAAAAAAAAB9AAAAAAAAAG0CQoPgx5u4eQAAAAAAAID1AAAAAAAAAL0AAAAAAAAAvQAAAAAAAAB9AAAAAAAAAH0AAAAAAAAAfQAAAAAAAAB9AAAAAAAAAL0AAAAAAAIBWQAAAAAAAAB9AAAAAAAAAH0AAAAAAAAAfQAAAAAAAID1AAAAAAAAAH0AAAAAAAAAfQAAAAAAAAB9AAAAAAABAN0AzMzMzM7MoQDMzMzMzsyhAAAAAAABAN0CjkjoBTYQfQKOSOgFNhB9AAAAAAAAAL0AAAAAAAAAfQAn5oGez6h5AkKD4MeZuG0AAAAAAAIBWQJCg+DHm7h5AAAAAAAAAH0AAAAAAAAAfQGZmZmZm5h5AAAAAAAAAH0CjkjoBTYQeQAAAAAAAAB9AZmZmZmYmOEAAAAAAAAAfQHBfB84ZUR9AAAAAAAAAH0AAAAAAAAAfQAAAAAAAAB9AAAAAAAAAL0AAAAAAAAAfQDMzMzMzsyhAkKD4MebuHkBwXwfOGVEfQAAAAAAAABtAAAAAAAAAL0BmZmZmZkYgQJCg+DHm7h5A1sVtNID3HkAAAAAAAAAvQDMzMzMz8x5AAAAAAAAAH0AAAAAAAAAfQGZmZmZmJjhAAAAAAAAAH0AzMzMzM/MeQAAAAAAAID1AAAAAAAAAH0DNzMzMzMwbQAAAAAAAAB9AAAAAAAAgPUAAAAAAAAAfQHBfB84ZUR9Ao5I6AU2EHkAzMzMzM7MoQAAAAAAAID1AZmZmZmbmHkCjkjoBTYQfQAAAAAAAAB9AAAAAAAAAH0AAAAAAAEA3QAAAAAAAAC9AAAAAAAAAH0AAAAAAAAAfQAAAAAAAAC9AAAAAAAAAH0DNzMzMzMwbQAAAAAAAAB9AAAAAAAAAH0AAAAAAAAAfQAAAAAAAAB9AAAAAAACAVkA=",
          "dtype": "f8"
         },
         "y0": " ",
         "yaxis": "y"
        }
       ],
       "layout": {
        "boxmode": "overlay",
        "legend": {
         "title": {
          "text": "Embarked"
         },
         "tracegroupgap": 0
        },
        "template": {
         "data": {
          "bar": [
           {
            "error_x": {
             "color": "#2a3f5f"
            },
            "error_y": {
             "color": "#2a3f5f"
            },
            "marker": {
             "line": {
              "color": "#E5ECF6",
              "width": 0.5
             },
             "pattern": {
              "fillmode": "overlay",
              "size": 10,
              "solidity": 0.2
             }
            },
            "type": "bar"
           }
          ],
          "barpolar": [
           {
            "marker": {
             "line": {
              "color": "#E5ECF6",
              "width": 0.5
             },
             "pattern": {
              "fillmode": "overlay",
              "size": 10,
              "solidity": 0.2
             }
            },
            "type": "barpolar"
           }
          ],
          "carpet": [
           {
            "aaxis": {
             "endlinecolor": "#2a3f5f",
             "gridcolor": "white",
             "linecolor": "white",
             "minorgridcolor": "white",
             "startlinecolor": "#2a3f5f"
            },
            "baxis": {
             "endlinecolor": "#2a3f5f",
             "gridcolor": "white",
             "linecolor": "white",
             "minorgridcolor": "white",
             "startlinecolor": "#2a3f5f"
            },
            "type": "carpet"
           }
          ],
          "choropleth": [
           {
            "colorbar": {
             "outlinewidth": 0,
             "ticks": ""
            },
            "type": "choropleth"
           }
          ],
          "contour": [
           {
            "colorbar": {
             "outlinewidth": 0,
             "ticks": ""
            },
            "colorscale": [
             [
              0,
              "#0d0887"
             ],
             [
              0.1111111111111111,
              "#46039f"
             ],
             [
              0.2222222222222222,
              "#7201a8"
             ],
             [
              0.3333333333333333,
              "#9c179e"
             ],
             [
              0.4444444444444444,
              "#bd3786"
             ],
             [
              0.5555555555555556,
              "#d8576b"
             ],
             [
              0.6666666666666666,
              "#ed7953"
             ],
             [
              0.7777777777777778,
              "#fb9f3a"
             ],
             [
              0.8888888888888888,
              "#fdca26"
             ],
             [
              1,
              "#f0f921"
             ]
            ],
            "type": "contour"
           }
          ],
          "contourcarpet": [
           {
            "colorbar": {
             "outlinewidth": 0,
             "ticks": ""
            },
            "type": "contourcarpet"
           }
          ],
          "heatmap": [
           {
            "colorbar": {
             "outlinewidth": 0,
             "ticks": ""
            },
            "colorscale": [
             [
              0,
              "#0d0887"
             ],
             [
              0.1111111111111111,
              "#46039f"
             ],
             [
              0.2222222222222222,
              "#7201a8"
             ],
             [
              0.3333333333333333,
              "#9c179e"
             ],
             [
              0.4444444444444444,
              "#bd3786"
             ],
             [
              0.5555555555555556,
              "#d8576b"
             ],
             [
              0.6666666666666666,
              "#ed7953"
             ],
             [
              0.7777777777777778,
              "#fb9f3a"
             ],
             [
              0.8888888888888888,
              "#fdca26"
             ],
             [
              1,
              "#f0f921"
             ]
            ],
            "type": "heatmap"
           }
          ],
          "histogram": [
           {
            "marker": {
             "pattern": {
              "fillmode": "overlay",
              "size": 10,
              "solidity": 0.2
             }
            },
            "type": "histogram"
           }
          ],
          "histogram2d": [
           {
            "colorbar": {
             "outlinewidth": 0,
             "ticks": ""
            },
            "colorscale": [
             [
              0,
              "#0d0887"
             ],
             [
              0.1111111111111111,
              "#46039f"
             ],
             [
              0.2222222222222222,
              "#7201a8"
             ],
             [
              0.3333333333333333,
              "#9c179e"
             ],
             [
              0.4444444444444444,
              "#bd3786"
             ],
             [
              0.5555555555555556,
              "#d8576b"
             ],
             [
              0.6666666666666666,
              "#ed7953"
             ],
             [
              0.7777777777777778,
              "#fb9f3a"
             ],
             [
              0.8888888888888888,
              "#fdca26"
             ],
             [
              1,
              "#f0f921"
             ]
            ],
            "type": "histogram2d"
           }
          ],
          "histogram2dcontour": [
           {
            "colorbar": {
             "outlinewidth": 0,
             "ticks": ""
            },
            "colorscale": [
             [
              0,
              "#0d0887"
             ],
             [
              0.1111111111111111,
              "#46039f"
             ],
             [
              0.2222222222222222,
              "#7201a8"
             ],
             [
              0.3333333333333333,
              "#9c179e"
             ],
             [
              0.4444444444444444,
              "#bd3786"
             ],
             [
              0.5555555555555556,
              "#d8576b"
             ],
             [
              0.6666666666666666,
              "#ed7953"
             ],
             [
              0.7777777777777778,
              "#fb9f3a"
             ],
             [
              0.8888888888888888,
              "#fdca26"
             ],
             [
              1,
              "#f0f921"
             ]
            ],
            "type": "histogram2dcontour"
           }
          ],
          "mesh3d": [
           {
            "colorbar": {
             "outlinewidth": 0,
             "ticks": ""
            },
            "type": "mesh3d"
           }
          ],
          "parcoords": [
           {
            "line": {
             "colorbar": {
              "outlinewidth": 0,
              "ticks": ""
             }
            },
            "type": "parcoords"
           }
          ],
          "pie": [
           {
            "automargin": true,
            "type": "pie"
           }
          ],
          "scatter": [
           {
            "fillpattern": {
             "fillmode": "overlay",
             "size": 10,
             "solidity": 0.2
            },
            "type": "scatter"
           }
          ],
          "scatter3d": [
           {
            "line": {
             "colorbar": {
              "outlinewidth": 0,
              "ticks": ""
             }
            },
            "marker": {
             "colorbar": {
              "outlinewidth": 0,
              "ticks": ""
             }
            },
            "type": "scatter3d"
           }
          ],
          "scattercarpet": [
           {
            "marker": {
             "colorbar": {
              "outlinewidth": 0,
              "ticks": ""
             }
            },
            "type": "scattercarpet"
           }
          ],
          "scattergeo": [
           {
            "marker": {
             "colorbar": {
              "outlinewidth": 0,
              "ticks": ""
             }
            },
            "type": "scattergeo"
           }
          ],
          "scattergl": [
           {
            "marker": {
             "colorbar": {
              "outlinewidth": 0,
              "ticks": ""
             }
            },
            "type": "scattergl"
           }
          ],
          "scattermap": [
           {
            "marker": {
             "colorbar": {
              "outlinewidth": 0,
              "ticks": ""
             }
            },
            "type": "scattermap"
           }
          ],
          "scattermapbox": [
           {
            "marker": {
             "colorbar": {
              "outlinewidth": 0,
              "ticks": ""
             }
            },
            "type": "scattermapbox"
           }
          ],
          "scatterpolar": [
           {
            "marker": {
             "colorbar": {
              "outlinewidth": 0,
              "ticks": ""
             }
            },
            "type": "scatterpolar"
           }
          ],
          "scatterpolargl": [
           {
            "marker": {
             "colorbar": {
              "outlinewidth": 0,
              "ticks": ""
             }
            },
            "type": "scatterpolargl"
           }
          ],
          "scatterternary": [
           {
            "marker": {
             "colorbar": {
              "outlinewidth": 0,
              "ticks": ""
             }
            },
            "type": "scatterternary"
           }
          ],
          "surface": [
           {
            "colorbar": {
             "outlinewidth": 0,
             "ticks": ""
            },
            "colorscale": [
             [
              0,
              "#0d0887"
             ],
             [
              0.1111111111111111,
              "#46039f"
             ],
             [
              0.2222222222222222,
              "#7201a8"
             ],
             [
              0.3333333333333333,
              "#9c179e"
             ],
             [
              0.4444444444444444,
              "#bd3786"
             ],
             [
              0.5555555555555556,
              "#d8576b"
             ],
             [
              0.6666666666666666,
              "#ed7953"
             ],
             [
              0.7777777777777778,
              "#fb9f3a"
             ],
             [
              0.8888888888888888,
              "#fdca26"
             ],
             [
              1,
              "#f0f921"
             ]
            ],
            "type": "surface"
           }
          ],
          "table": [
           {
            "cells": {
             "fill": {
              "color": "#EBF0F8"
             },
             "line": {
              "color": "white"
             }
            },
            "header": {
             "fill": {
              "color": "#C8D4E3"
             },
             "line": {
              "color": "white"
             }
            },
            "type": "table"
           }
          ]
         },
         "layout": {
          "annotationdefaults": {
           "arrowcolor": "#2a3f5f",
           "arrowhead": 0,
           "arrowwidth": 1
          },
          "autotypenumbers": "strict",
          "coloraxis": {
           "colorbar": {
            "outlinewidth": 0,
            "ticks": ""
           }
          },
          "colorscale": {
           "diverging": [
            [
             0,
             "#8e0152"
            ],
            [
             0.1,
             "#c51b7d"
            ],
            [
             0.2,
             "#de77ae"
            ],
            [
             0.3,
             "#f1b6da"
            ],
            [
             0.4,
             "#fde0ef"
            ],
            [
             0.5,
             "#f7f7f7"
            ],
            [
             0.6,
             "#e6f5d0"
            ],
            [
             0.7,
             "#b8e186"
            ],
            [
             0.8,
             "#7fbc41"
            ],
            [
             0.9,
             "#4d9221"
            ],
            [
             1,
             "#276419"
            ]
           ],
           "sequential": [
            [
             0,
             "#0d0887"
            ],
            [
             0.1111111111111111,
             "#46039f"
            ],
            [
             0.2222222222222222,
             "#7201a8"
            ],
            [
             0.3333333333333333,
             "#9c179e"
            ],
            [
             0.4444444444444444,
             "#bd3786"
            ],
            [
             0.5555555555555556,
             "#d8576b"
            ],
            [
             0.6666666666666666,
             "#ed7953"
            ],
            [
             0.7777777777777778,
             "#fb9f3a"
            ],
            [
             0.8888888888888888,
             "#fdca26"
            ],
            [
             1,
             "#f0f921"
            ]
           ],
           "sequentialminus": [
            [
             0,
             "#0d0887"
            ],
            [
             0.1111111111111111,
             "#46039f"
            ],
            [
             0.2222222222222222,
             "#7201a8"
            ],
            [
             0.3333333333333333,
             "#9c179e"
            ],
            [
             0.4444444444444444,
             "#bd3786"
            ],
            [
             0.5555555555555556,
             "#d8576b"
            ],
            [
             0.6666666666666666,
             "#ed7953"
            ],
            [
             0.7777777777777778,
             "#fb9f3a"
            ],
            [
             0.8888888888888888,
             "#fdca26"
            ],
            [
             1,
             "#f0f921"
            ]
           ]
          },
          "colorway": [
           "#636efa",
           "#EF553B",
           "#00cc96",
           "#ab63fa",
           "#FFA15A",
           "#19d3f3",
           "#FF6692",
           "#B6E880",
           "#FF97FF",
           "#FECB52"
          ],
          "font": {
           "color": "#2a3f5f"
          },
          "geo": {
           "bgcolor": "white",
           "lakecolor": "white",
           "landcolor": "#E5ECF6",
           "showlakes": true,
           "showland": true,
           "subunitcolor": "white"
          },
          "hoverlabel": {
           "align": "left"
          },
          "hovermode": "closest",
          "mapbox": {
           "style": "light"
          },
          "paper_bgcolor": "white",
          "plot_bgcolor": "#E5ECF6",
          "polar": {
           "angularaxis": {
            "gridcolor": "white",
            "linecolor": "white",
            "ticks": ""
           },
           "bgcolor": "#E5ECF6",
           "radialaxis": {
            "gridcolor": "white",
            "linecolor": "white",
            "ticks": ""
           }
          },
          "scene": {
           "xaxis": {
            "backgroundcolor": "#E5ECF6",
            "gridcolor": "white",
            "gridwidth": 2,
            "linecolor": "white",
            "showbackground": true,
            "ticks": "",
            "zerolinecolor": "white"
           },
           "yaxis": {
            "backgroundcolor": "#E5ECF6",
            "gridcolor": "white",
            "gridwidth": 2,
            "linecolor": "white",
            "showbackground": true,
            "ticks": "",
            "zerolinecolor": "white"
           },
           "zaxis": {
            "backgroundcolor": "#E5ECF6",
            "gridcolor": "white",
            "gridwidth": 2,
            "linecolor": "white",
            "showbackground": true,
            "ticks": "",
            "zerolinecolor": "white"
           }
          },
          "shapedefaults": {
           "line": {
            "color": "#2a3f5f"
           }
          },
          "ternary": {
           "aaxis": {
            "gridcolor": "white",
            "linecolor": "white",
            "ticks": ""
           },
           "baxis": {
            "gridcolor": "white",
            "linecolor": "white",
            "ticks": ""
           },
           "bgcolor": "#E5ECF6",
           "caxis": {
            "gridcolor": "white",
            "linecolor": "white",
            "ticks": ""
           }
          },
          "title": {
           "x": 0.05
          },
          "xaxis": {
           "automargin": true,
           "gridcolor": "white",
           "linecolor": "white",
           "ticks": "",
           "title": {
            "standoff": 15
           },
           "zerolinecolor": "white",
           "zerolinewidth": 2
          },
          "yaxis": {
           "automargin": true,
           "gridcolor": "white",
           "linecolor": "white",
           "ticks": "",
           "title": {
            "standoff": 15
           },
           "zerolinecolor": "white",
           "zerolinewidth": 2
          }
         }
        },
        "title": {
         "text": "Fare by Embarkation Port"
        },
        "xaxis": {
         "anchor": "y",
         "categoryarray": [
          "S",
          "C",
          "Q"
         ],
         "categoryorder": "array",
         "domain": [
          0,
          1
         ],
         "title": {
          "text": "Embarked"
         }
        },
        "yaxis": {
         "anchor": "x",
         "domain": [
          0,
          1
         ],
         "title": {
          "text": "Fare"
         }
        }
       }
      }
     },
     "metadata": {},
     "output_type": "display_data"
    }
   ],
   "source": [
    "fig = px.box(combined, x='Embarked', y='Fare', color='Embarked', title='Fare by Embarkation Port')\n",
    "fig.show()\n"
   ]
  },
  {
   "cell_type": "code",
   "execution_count": 1160,
   "metadata": {},
   "outputs": [
    {
     "data": {
      "application/vnd.plotly.v1+json": {
       "config": {
        "plotlyServerURL": "https://plot.ly"
       },
       "data": [
        {
         "alignmentgroup": "True",
         "boxpoints": "all",
         "hovertemplate": "Pclass=%{x}<br>Fare=%{y}<extra></extra>",
         "legendgroup": "",
         "marker": {
          "color": "#636efa"
         },
         "name": "",
         "notched": false,
         "offsetgroup": "",
         "orientation": "v",
         "showlegend": false,
         "type": "box",
         "x": {
          "bdata": "AwEDAQMDAQMDAgMBAwMDAgMCAwMCAgMBAwMDAQMDAQEDAgEBAwMDAwMCAwIDAwMDAwMDAwECAQECAwIDAwEBAwEDAgMDAwIDAgMDAwMDAgMDAwMBAgMDAwEDAwMBAwMDAQECAgMDAQMDAwMDAwMBAwMDAwMDAgEDAgMCAgEDAwMDAwMDAwICAgEBAwEDAwMDAgIDAwICAgEDAwMBAwMDAwMCAwMDAwEDAQMBAwMDAQMDAQIDAwIDAgMBAwEDAwICAwIBAQMDAwIDAwMDAwMDAwMBAwIDAgMBAwIBAgMCAwMBAwIDAgMBAwIDAgMCAgICAwMCAwMBAwIBAgMDAQMDAwEBAQIDAwEBAwIDAwEBAQMCAQMBAwIDAwMDAwMBAwMDAgMBAQIDAwEDAQEBAwMDAgMBAQECAQEBAgMCAwICAQEDAwICAwEDAgMBAwEBAwEDAQEDAQIBAgICAgIDAwMDAQMDAwMBAgMDAwIDAwMDAQMDAQEDAwEDAQMBAwMBAwMBAwIDAgMCAQMDAQMDAwICAgMDAwMDAgMCAwMDAwECAwMCAgIDAwMDAwMDAgIDAwEDAgMBAQMCAQICAwMCAwECAQMBAgMBAQMDAQECAwEDAQIDAwIBAwMDAwICAwECAwMDAwIDAwEDAQEDAwMDAQEDAwEDAQMDAwMDAQECAQMDAwMBAQMBAgMCAwEDAwEDAwIBAwICAwMDAwIBAQMBAQMDAgEBAgIDAgECAwMDAQEBAQMDAwIDAwMDAwMDAgEBAwMDAgEDAwIBAgEDAQIBAwMDAQMDAgMCAwMBAgMBAwEDAwECAQMDAwMDAgMDAgIDAQMDAwECAQMDAQMBAQMCAwIDAwMBAwMDAQMBAwMDAgMDAwIDAwIBAQMBAwMCAgMDAQIBAgICAwMDAwEDAQMDAgIDAwMBAQMDAwECAwMBAwEBAwMDAgIBAQMBAQEDAgMBAgMDAgMCAgEDAgMCAwEDAgICAwMBAwMBAQEDAwEDAgEDAgMDAwICAwIDAQMDAwEDAQEDAwMDAwIDAgMDAwMBAwEBAwMDAwMDAQMCAwEDAgEDAwMCAgEDAwMBAwIBAwMCAwMBAwIDAwEDAQMDAwMCAwEDAgMDAwEDAwMBAwIBAwMDAwMCAQMDAwECAwEBAwMDAgEDAgICAQMDAwEBAwIDAwMDAQIDAwIDAwIBAwEDAwMDAwIDAQICAwEDAQEDAQMCAwMDAwMBAwECAQMDAwMBAwEBAwIBAQIDAwMDAwICAwMDAwMDAwMBAwMCAwMDAgMDAwICAQEBAQIDAwIDAgMBAwMDAQICAwMBAQICAwMDAgMBAQECAQMBAgICAwMCAwMDAwICAwMDAwMDAwECAwMDAgMBAQMBAwMDAQECAwMCAgIDAwMDAwMBAwIBAgMBAwMCAQMDAgEBAwMDAwMCAwMBAwMBAQECAQEBAQM=",
          "dtype": "i1"
         },
         "x0": " ",
         "xaxis": "x",
         "y": {
          "bdata": "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",
          "dtype": "f8"
         },
         "y0": " ",
         "yaxis": "y"
        }
       ],
       "layout": {
        "boxmode": "group",
        "legend": {
         "tracegroupgap": 0
        },
        "template": {
         "data": {
          "bar": [
           {
            "error_x": {
             "color": "#2a3f5f"
            },
            "error_y": {
             "color": "#2a3f5f"
            },
            "marker": {
             "line": {
              "color": "#E5ECF6",
              "width": 0.5
             },
             "pattern": {
              "fillmode": "overlay",
              "size": 10,
              "solidity": 0.2
             }
            },
            "type": "bar"
           }
          ],
          "barpolar": [
           {
            "marker": {
             "line": {
              "color": "#E5ECF6",
              "width": 0.5
             },
             "pattern": {
              "fillmode": "overlay",
              "size": 10,
              "solidity": 0.2
             }
            },
            "type": "barpolar"
           }
          ],
          "carpet": [
           {
            "aaxis": {
             "endlinecolor": "#2a3f5f",
             "gridcolor": "white",
             "linecolor": "white",
             "minorgridcolor": "white",
             "startlinecolor": "#2a3f5f"
            },
            "baxis": {
             "endlinecolor": "#2a3f5f",
             "gridcolor": "white",
             "linecolor": "white",
             "minorgridcolor": "white",
             "startlinecolor": "#2a3f5f"
            },
            "type": "carpet"
           }
          ],
          "choropleth": [
           {
            "colorbar": {
             "outlinewidth": 0,
             "ticks": ""
            },
            "type": "choropleth"
           }
          ],
          "contour": [
           {
            "colorbar": {
             "outlinewidth": 0,
             "ticks": ""
            },
            "colorscale": [
             [
              0,
              "#0d0887"
             ],
             [
              0.1111111111111111,
              "#46039f"
             ],
             [
              0.2222222222222222,
              "#7201a8"
             ],
             [
              0.3333333333333333,
              "#9c179e"
             ],
             [
              0.4444444444444444,
              "#bd3786"
             ],
             [
              0.5555555555555556,
              "#d8576b"
             ],
             [
              0.6666666666666666,
              "#ed7953"
             ],
             [
              0.7777777777777778,
              "#fb9f3a"
             ],
             [
              0.8888888888888888,
              "#fdca26"
             ],
             [
              1,
              "#f0f921"
             ]
            ],
            "type": "contour"
           }
          ],
          "contourcarpet": [
           {
            "colorbar": {
             "outlinewidth": 0,
             "ticks": ""
            },
            "type": "contourcarpet"
           }
          ],
          "heatmap": [
           {
            "colorbar": {
             "outlinewidth": 0,
             "ticks": ""
            },
            "colorscale": [
             [
              0,
              "#0d0887"
             ],
             [
              0.1111111111111111,
              "#46039f"
             ],
             [
              0.2222222222222222,
              "#7201a8"
             ],
             [
              0.3333333333333333,
              "#9c179e"
             ],
             [
              0.4444444444444444,
              "#bd3786"
             ],
             [
              0.5555555555555556,
              "#d8576b"
             ],
             [
              0.6666666666666666,
              "#ed7953"
             ],
             [
              0.7777777777777778,
              "#fb9f3a"
             ],
             [
              0.8888888888888888,
              "#fdca26"
             ],
             [
              1,
              "#f0f921"
             ]
            ],
            "type": "heatmap"
           }
          ],
          "histogram": [
           {
            "marker": {
             "pattern": {
              "fillmode": "overlay",
              "size": 10,
              "solidity": 0.2
             }
            },
            "type": "histogram"
           }
          ],
          "histogram2d": [
           {
            "colorbar": {
             "outlinewidth": 0,
             "ticks": ""
            },
            "colorscale": [
             [
              0,
              "#0d0887"
             ],
             [
              0.1111111111111111,
              "#46039f"
             ],
             [
              0.2222222222222222,
              "#7201a8"
             ],
             [
              0.3333333333333333,
              "#9c179e"
             ],
             [
              0.4444444444444444,
              "#bd3786"
             ],
             [
              0.5555555555555556,
              "#d8576b"
             ],
             [
              0.6666666666666666,
              "#ed7953"
             ],
             [
              0.7777777777777778,
              "#fb9f3a"
             ],
             [
              0.8888888888888888,
              "#fdca26"
             ],
             [
              1,
              "#f0f921"
             ]
            ],
            "type": "histogram2d"
           }
          ],
          "histogram2dcontour": [
           {
            "colorbar": {
             "outlinewidth": 0,
             "ticks": ""
            },
            "colorscale": [
             [
              0,
              "#0d0887"
             ],
             [
              0.1111111111111111,
              "#46039f"
             ],
             [
              0.2222222222222222,
              "#7201a8"
             ],
             [
              0.3333333333333333,
              "#9c179e"
             ],
             [
              0.4444444444444444,
              "#bd3786"
             ],
             [
              0.5555555555555556,
              "#d8576b"
             ],
             [
              0.6666666666666666,
              "#ed7953"
             ],
             [
              0.7777777777777778,
              "#fb9f3a"
             ],
             [
              0.8888888888888888,
              "#fdca26"
             ],
             [
              1,
              "#f0f921"
             ]
            ],
            "type": "histogram2dcontour"
           }
          ],
          "mesh3d": [
           {
            "colorbar": {
             "outlinewidth": 0,
             "ticks": ""
            },
            "type": "mesh3d"
           }
          ],
          "parcoords": [
           {
            "line": {
             "colorbar": {
              "outlinewidth": 0,
              "ticks": ""
             }
            },
            "type": "parcoords"
           }
          ],
          "pie": [
           {
            "automargin": true,
            "type": "pie"
           }
          ],
          "scatter": [
           {
            "fillpattern": {
             "fillmode": "overlay",
             "size": 10,
             "solidity": 0.2
            },
            "type": "scatter"
           }
          ],
          "scatter3d": [
           {
            "line": {
             "colorbar": {
              "outlinewidth": 0,
              "ticks": ""
             }
            },
            "marker": {
             "colorbar": {
              "outlinewidth": 0,
              "ticks": ""
             }
            },
            "type": "scatter3d"
           }
          ],
          "scattercarpet": [
           {
            "marker": {
             "colorbar": {
              "outlinewidth": 0,
              "ticks": ""
             }
            },
            "type": "scattercarpet"
           }
          ],
          "scattergeo": [
           {
            "marker": {
             "colorbar": {
              "outlinewidth": 0,
              "ticks": ""
             }
            },
            "type": "scattergeo"
           }
          ],
          "scattergl": [
           {
            "marker": {
             "colorbar": {
              "outlinewidth": 0,
              "ticks": ""
             }
            },
            "type": "scattergl"
           }
          ],
          "scattermap": [
           {
            "marker": {
             "colorbar": {
              "outlinewidth": 0,
              "ticks": ""
             }
            },
            "type": "scattermap"
           }
          ],
          "scattermapbox": [
           {
            "marker": {
             "colorbar": {
              "outlinewidth": 0,
              "ticks": ""
             }
            },
            "type": "scattermapbox"
           }
          ],
          "scatterpolar": [
           {
            "marker": {
             "colorbar": {
              "outlinewidth": 0,
              "ticks": ""
             }
            },
            "type": "scatterpolar"
           }
          ],
          "scatterpolargl": [
           {
            "marker": {
             "colorbar": {
              "outlinewidth": 0,
              "ticks": ""
             }
            },
            "type": "scatterpolargl"
           }
          ],
          "scatterternary": [
           {
            "marker": {
             "colorbar": {
              "outlinewidth": 0,
              "ticks": ""
             }
            },
            "type": "scatterternary"
           }
          ],
          "surface": [
           {
            "colorbar": {
             "outlinewidth": 0,
             "ticks": ""
            },
            "colorscale": [
             [
              0,
              "#0d0887"
             ],
             [
              0.1111111111111111,
              "#46039f"
             ],
             [
              0.2222222222222222,
              "#7201a8"
             ],
             [
              0.3333333333333333,
              "#9c179e"
             ],
             [
              0.4444444444444444,
              "#bd3786"
             ],
             [
              0.5555555555555556,
              "#d8576b"
             ],
             [
              0.6666666666666666,
              "#ed7953"
             ],
             [
              0.7777777777777778,
              "#fb9f3a"
             ],
             [
              0.8888888888888888,
              "#fdca26"
             ],
             [
              1,
              "#f0f921"
             ]
            ],
            "type": "surface"
           }
          ],
          "table": [
           {
            "cells": {
             "fill": {
              "color": "#EBF0F8"
             },
             "line": {
              "color": "white"
             }
            },
            "header": {
             "fill": {
              "color": "#C8D4E3"
             },
             "line": {
              "color": "white"
             }
            },
            "type": "table"
           }
          ]
         },
         "layout": {
          "annotationdefaults": {
           "arrowcolor": "#2a3f5f",
           "arrowhead": 0,
           "arrowwidth": 1
          },
          "autotypenumbers": "strict",
          "coloraxis": {
           "colorbar": {
            "outlinewidth": 0,
            "ticks": ""
           }
          },
          "colorscale": {
           "diverging": [
            [
             0,
             "#8e0152"
            ],
            [
             0.1,
             "#c51b7d"
            ],
            [
             0.2,
             "#de77ae"
            ],
            [
             0.3,
             "#f1b6da"
            ],
            [
             0.4,
             "#fde0ef"
            ],
            [
             0.5,
             "#f7f7f7"
            ],
            [
             0.6,
             "#e6f5d0"
            ],
            [
             0.7,
             "#b8e186"
            ],
            [
             0.8,
             "#7fbc41"
            ],
            [
             0.9,
             "#4d9221"
            ],
            [
             1,
             "#276419"
            ]
           ],
           "sequential": [
            [
             0,
             "#0d0887"
            ],
            [
             0.1111111111111111,
             "#46039f"
            ],
            [
             0.2222222222222222,
             "#7201a8"
            ],
            [
             0.3333333333333333,
             "#9c179e"
            ],
            [
             0.4444444444444444,
             "#bd3786"
            ],
            [
             0.5555555555555556,
             "#d8576b"
            ],
            [
             0.6666666666666666,
             "#ed7953"
            ],
            [
             0.7777777777777778,
             "#fb9f3a"
            ],
            [
             0.8888888888888888,
             "#fdca26"
            ],
            [
             1,
             "#f0f921"
            ]
           ],
           "sequentialminus": [
            [
             0,
             "#0d0887"
            ],
            [
             0.1111111111111111,
             "#46039f"
            ],
            [
             0.2222222222222222,
             "#7201a8"
            ],
            [
             0.3333333333333333,
             "#9c179e"
            ],
            [
             0.4444444444444444,
             "#bd3786"
            ],
            [
             0.5555555555555556,
             "#d8576b"
            ],
            [
             0.6666666666666666,
             "#ed7953"
            ],
            [
             0.7777777777777778,
             "#fb9f3a"
            ],
            [
             0.8888888888888888,
             "#fdca26"
            ],
            [
             1,
             "#f0f921"
            ]
           ]
          },
          "colorway": [
           "#636efa",
           "#EF553B",
           "#00cc96",
           "#ab63fa",
           "#FFA15A",
           "#19d3f3",
           "#FF6692",
           "#B6E880",
           "#FF97FF",
           "#FECB52"
          ],
          "font": {
           "color": "#2a3f5f"
          },
          "geo": {
           "bgcolor": "white",
           "lakecolor": "white",
           "landcolor": "#E5ECF6",
           "showlakes": true,
           "showland": true,
           "subunitcolor": "white"
          },
          "hoverlabel": {
           "align": "left"
          },
          "hovermode": "closest",
          "mapbox": {
           "style": "light"
          },
          "paper_bgcolor": "white",
          "plot_bgcolor": "#E5ECF6",
          "polar": {
           "angularaxis": {
            "gridcolor": "white",
            "linecolor": "white",
            "ticks": ""
           },
           "bgcolor": "#E5ECF6",
           "radialaxis": {
            "gridcolor": "white",
            "linecolor": "white",
            "ticks": ""
           }
          },
          "scene": {
           "xaxis": {
            "backgroundcolor": "#E5ECF6",
            "gridcolor": "white",
            "gridwidth": 2,
            "linecolor": "white",
            "showbackground": true,
            "ticks": "",
            "zerolinecolor": "white"
           },
           "yaxis": {
            "backgroundcolor": "#E5ECF6",
            "gridcolor": "white",
            "gridwidth": 2,
            "linecolor": "white",
            "showbackground": true,
            "ticks": "",
            "zerolinecolor": "white"
           },
           "zaxis": {
            "backgroundcolor": "#E5ECF6",
            "gridcolor": "white",
            "gridwidth": 2,
            "linecolor": "white",
            "showbackground": true,
            "ticks": "",
            "zerolinecolor": "white"
           }
          },
          "shapedefaults": {
           "line": {
            "color": "#2a3f5f"
           }
          },
          "ternary": {
           "aaxis": {
            "gridcolor": "white",
            "linecolor": "white",
            "ticks": ""
           },
           "baxis": {
            "gridcolor": "white",
            "linecolor": "white",
            "ticks": ""
           },
           "bgcolor": "#E5ECF6",
           "caxis": {
            "gridcolor": "white",
            "linecolor": "white",
            "ticks": ""
           }
          },
          "title": {
           "x": 0.05
          },
          "xaxis": {
           "automargin": true,
           "gridcolor": "white",
           "linecolor": "white",
           "ticks": "",
           "title": {
            "standoff": 15
           },
           "zerolinecolor": "white",
           "zerolinewidth": 2
          },
          "yaxis": {
           "automargin": true,
           "gridcolor": "white",
           "linecolor": "white",
           "ticks": "",
           "title": {
            "standoff": 15
           },
           "zerolinecolor": "white",
           "zerolinewidth": 2
          }
         }
        },
        "title": {
         "text": "Fare Distribution by Passenger Class"
        },
        "xaxis": {
         "anchor": "y",
         "domain": [
          0,
          1
         ],
         "title": {
          "text": "Pclass"
         }
        },
        "yaxis": {
         "anchor": "x",
         "domain": [
          0,
          1
         ],
         "title": {
          "text": "Fare"
         }
        }
       }
      }
     },
     "metadata": {},
     "output_type": "display_data"
    }
   ],
   "source": [
    "fig = px.box(combined, x='Pclass', y='Fare', points='all', title='Fare Distribution by Passenger Class')\n",
    "fig.show()"
   ]
  },
  {
   "cell_type": "markdown",
   "metadata": {},
   "source": [
    "### Normalise"
   ]
  },
  {
   "cell_type": "code",
   "execution_count": 1161,
   "metadata": {},
   "outputs": [],
   "source": [
    "from sklearn.preprocessing import StandardScaler\n",
    "\n",
    "scaler = StandardScaler()\n",
    "cols_to_scale = ['Pclass', 'SibSp', 'Parch', 'Age', 'Fare', 'FamilySize', 'LastName_encoded', 'Title_encoded', 'Cabin_letter_encoded']\n",
    "\n",
    "combined[cols_to_scale] = scaler.fit_transform(combined[cols_to_scale])"
   ]
  },
  {
   "cell_type": "code",
   "execution_count": 1162,
   "metadata": {},
   "outputs": [
    {
     "name": "stdout",
     "output_type": "stream",
     "text": [
      "Missing values in combined data:\n",
      "Survived                188\n",
      "Pclass                    0\n",
      "Sex                       0\n",
      "Age                       0\n",
      "SibSp                     0\n",
      "Parch                     0\n",
      "Fare                      0\n",
      "Embarked                  0\n",
      "source                    0\n",
      "FamilySize                0\n",
      "LastName_encoded          0\n",
      "Title_encoded             0\n",
      "Cabin_letter_encoded      0\n",
      "dtype: int64\n"
     ]
    }
   ],
   "source": [
    "missing_values = combined.isnull().sum()\n",
    "print(\"Missing values in combined data:\")\n",
    "print(missing_values)"
   ]
  },
  {
   "cell_type": "markdown",
   "metadata": {},
   "source": [
    "### 5. Export Cleaned Data"
   ]
  },
  {
   "cell_type": "code",
   "execution_count": 1163,
   "metadata": {},
   "outputs": [],
   "source": [
    "train = combined[combined['source'] == 'train'].drop(columns=['source'])\n",
    "test = combined[combined['source'] == 'test'].drop(columns=['source'])"
   ]
  },
  {
   "cell_type": "code",
   "execution_count": 1164,
   "metadata": {},
   "outputs": [],
   "source": [
    "train.to_csv('../data/processed/train_cleaned.csv', index=False)\n",
    "test.to_csv('../data/processed/test_cleaned.csv', index=False)"
   ]
  },
  {
   "cell_type": "code",
   "execution_count": 1165,
   "metadata": {},
   "outputs": [
    {
     "data": {
      "text/html": [
       "<div>\n",
       "<style scoped>\n",
       "    .dataframe tbody tr th:only-of-type {\n",
       "        vertical-align: middle;\n",
       "    }\n",
       "\n",
       "    .dataframe tbody tr th {\n",
       "        vertical-align: top;\n",
       "    }\n",
       "\n",
       "    .dataframe thead th {\n",
       "        text-align: right;\n",
       "    }\n",
       "</style>\n",
       "<table border=\"1\" class=\"dataframe\">\n",
       "  <thead>\n",
       "    <tr style=\"text-align: right;\">\n",
       "      <th></th>\n",
       "      <th>Survived</th>\n",
       "      <th>Pclass</th>\n",
       "      <th>Sex</th>\n",
       "      <th>Age</th>\n",
       "      <th>SibSp</th>\n",
       "      <th>Parch</th>\n",
       "      <th>Fare</th>\n",
       "      <th>Embarked</th>\n",
       "      <th>source</th>\n",
       "      <th>FamilySize</th>\n",
       "      <th>LastName_encoded</th>\n",
       "      <th>Title_encoded</th>\n",
       "      <th>Cabin_letter_encoded</th>\n",
       "    </tr>\n",
       "  </thead>\n",
       "  <tbody>\n",
       "    <tr>\n",
       "      <th>5</th>\n",
       "      <td>NaN</td>\n",
       "      <td>0.831128</td>\n",
       "      <td>male</td>\n",
       "      <td>-1.120477</td>\n",
       "      <td>-0.518045</td>\n",
       "      <td>-0.493553</td>\n",
       "      <td>-0.474047</td>\n",
       "      <td>S</td>\n",
       "      <td>test</td>\n",
       "      <td>-0.614088</td>\n",
       "      <td>-0.898412</td>\n",
       "      <td>-0.855763</td>\n",
       "      <td>-0.521637</td>\n",
       "    </tr>\n",
       "    <tr>\n",
       "      <th>14</th>\n",
       "      <td>NaN</td>\n",
       "      <td>-1.560305</td>\n",
       "      <td>female</td>\n",
       "      <td>1.248129</td>\n",
       "      <td>0.376308</td>\n",
       "      <td>-0.493553</td>\n",
       "      <td>0.499087</td>\n",
       "      <td>S</td>\n",
       "      <td>test</td>\n",
       "      <td>-0.023008</td>\n",
       "      <td>-0.898412</td>\n",
       "      <td>1.377861</td>\n",
       "      <td>2.247097</td>\n",
       "    </tr>\n",
       "    <tr>\n",
       "      <th>15</th>\n",
       "      <td>NaN</td>\n",
       "      <td>-0.364588</td>\n",
       "      <td>female</td>\n",
       "      <td>-0.402718</td>\n",
       "      <td>0.376308</td>\n",
       "      <td>-0.493553</td>\n",
       "      <td>-0.127581</td>\n",
       "      <td>C</td>\n",
       "      <td>test</td>\n",
       "      <td>-0.023008</td>\n",
       "      <td>-0.898412</td>\n",
       "      <td>1.377861</td>\n",
       "      <td>-0.521637</td>\n",
       "    </tr>\n",
       "    <tr>\n",
       "      <th>18</th>\n",
       "      <td>NaN</td>\n",
       "      <td>0.831128</td>\n",
       "      <td>female</td>\n",
       "      <td>-0.187390</td>\n",
       "      <td>0.376308</td>\n",
       "      <td>-0.493553</td>\n",
       "      <td>-0.498399</td>\n",
       "      <td>S</td>\n",
       "      <td>test</td>\n",
       "      <td>-0.023008</td>\n",
       "      <td>-0.898412</td>\n",
       "      <td>1.046689</td>\n",
       "      <td>-0.521637</td>\n",
       "    </tr>\n",
       "    <tr>\n",
       "      <th>21</th>\n",
       "      <td>NaN</td>\n",
       "      <td>0.831128</td>\n",
       "      <td>male</td>\n",
       "      <td>-1.479357</td>\n",
       "      <td>-0.518045</td>\n",
       "      <td>0.580124</td>\n",
       "      <td>-0.587455</td>\n",
       "      <td>S</td>\n",
       "      <td>test</td>\n",
       "      <td>-0.023008</td>\n",
       "      <td>-0.898412</td>\n",
       "      <td>0.614952</td>\n",
       "      <td>-0.521637</td>\n",
       "    </tr>\n",
       "    <tr>\n",
       "      <th>...</th>\n",
       "      <td>...</td>\n",
       "      <td>...</td>\n",
       "      <td>...</td>\n",
       "      <td>...</td>\n",
       "      <td>...</td>\n",
       "      <td>...</td>\n",
       "      <td>...</td>\n",
       "      <td>...</td>\n",
       "      <td>...</td>\n",
       "      <td>...</td>\n",
       "      <td>...</td>\n",
       "      <td>...</td>\n",
       "      <td>...</td>\n",
       "    </tr>\n",
       "    <tr>\n",
       "      <th>398</th>\n",
       "      <td>0.0</td>\n",
       "      <td>-0.364588</td>\n",
       "      <td>male</td>\n",
       "      <td>-0.474494</td>\n",
       "      <td>-0.518045</td>\n",
       "      <td>-0.493553</td>\n",
       "      <td>-0.450164</td>\n",
       "      <td>S</td>\n",
       "      <td>train</td>\n",
       "      <td>-0.614088</td>\n",
       "      <td>-0.898412</td>\n",
       "      <td>0.100152</td>\n",
       "      <td>-0.521637</td>\n",
       "    </tr>\n",
       "    <tr>\n",
       "      <th>401</th>\n",
       "      <td>0.0</td>\n",
       "      <td>0.831128</td>\n",
       "      <td>male</td>\n",
       "      <td>-0.259166</td>\n",
       "      <td>-0.518045</td>\n",
       "      <td>-0.493553</td>\n",
       "      <td>-0.496057</td>\n",
       "      <td>S</td>\n",
       "      <td>train</td>\n",
       "      <td>-0.614088</td>\n",
       "      <td>-0.898412</td>\n",
       "      <td>-0.855763</td>\n",
       "      <td>-0.521637</td>\n",
       "    </tr>\n",
       "    <tr>\n",
       "      <th>404</th>\n",
       "      <td>0.0</td>\n",
       "      <td>0.831128</td>\n",
       "      <td>female</td>\n",
       "      <td>-0.689822</td>\n",
       "      <td>-0.518045</td>\n",
       "      <td>-0.493553</td>\n",
       "      <td>-0.484584</td>\n",
       "      <td>S</td>\n",
       "      <td>train</td>\n",
       "      <td>-0.614088</td>\n",
       "      <td>-0.898412</td>\n",
       "      <td>1.046689</td>\n",
       "      <td>-0.521637</td>\n",
       "    </tr>\n",
       "    <tr>\n",
       "      <th>405</th>\n",
       "      <td>0.0</td>\n",
       "      <td>-0.364588</td>\n",
       "      <td>male</td>\n",
       "      <td>0.315041</td>\n",
       "      <td>0.376308</td>\n",
       "      <td>-0.493553</td>\n",
       "      <td>-0.253476</td>\n",
       "      <td>S</td>\n",
       "      <td>train</td>\n",
       "      <td>-0.023008</td>\n",
       "      <td>-0.898412</td>\n",
       "      <td>-0.855763</td>\n",
       "      <td>-0.521637</td>\n",
       "    </tr>\n",
       "    <tr>\n",
       "      <th>406</th>\n",
       "      <td>0.0</td>\n",
       "      <td>0.831128</td>\n",
       "      <td>male</td>\n",
       "      <td>1.535232</td>\n",
       "      <td>-0.518045</td>\n",
       "      <td>-0.493553</td>\n",
       "      <td>-0.501677</td>\n",
       "      <td>S</td>\n",
       "      <td>train</td>\n",
       "      <td>-0.614088</td>\n",
       "      <td>-0.898412</td>\n",
       "      <td>-0.855763</td>\n",
       "      <td>-0.521637</td>\n",
       "    </tr>\n",
       "  </tbody>\n",
       "</table>\n",
       "<p>400 rows × 13 columns</p>\n",
       "</div>"
      ],
      "text/plain": [
       "     Survived    Pclass     Sex       Age     SibSp     Parch      Fare  \\\n",
       "5         NaN  0.831128    male -1.120477 -0.518045 -0.493553 -0.474047   \n",
       "14        NaN -1.560305  female  1.248129  0.376308 -0.493553  0.499087   \n",
       "15        NaN -0.364588  female -0.402718  0.376308 -0.493553 -0.127581   \n",
       "18        NaN  0.831128  female -0.187390  0.376308 -0.493553 -0.498399   \n",
       "21        NaN  0.831128    male -1.479357 -0.518045  0.580124 -0.587455   \n",
       "..        ...       ...     ...       ...       ...       ...       ...   \n",
       "398       0.0 -0.364588    male -0.474494 -0.518045 -0.493553 -0.450164   \n",
       "401       0.0  0.831128    male -0.259166 -0.518045 -0.493553 -0.496057   \n",
       "404       0.0  0.831128  female -0.689822 -0.518045 -0.493553 -0.484584   \n",
       "405       0.0 -0.364588    male  0.315041  0.376308 -0.493553 -0.253476   \n",
       "406       0.0  0.831128    male  1.535232 -0.518045 -0.493553 -0.501677   \n",
       "\n",
       "    Embarked source  FamilySize  LastName_encoded  Title_encoded  \\\n",
       "5          S   test   -0.614088         -0.898412      -0.855763   \n",
       "14         S   test   -0.023008         -0.898412       1.377861   \n",
       "15         C   test   -0.023008         -0.898412       1.377861   \n",
       "18         S   test   -0.023008         -0.898412       1.046689   \n",
       "21         S   test   -0.023008         -0.898412       0.614952   \n",
       "..       ...    ...         ...               ...            ...   \n",
       "398        S  train   -0.614088         -0.898412       0.100152   \n",
       "401        S  train   -0.614088         -0.898412      -0.855763   \n",
       "404        S  train   -0.614088         -0.898412       1.046689   \n",
       "405        S  train   -0.023008         -0.898412      -0.855763   \n",
       "406        S  train   -0.614088         -0.898412      -0.855763   \n",
       "\n",
       "     Cabin_letter_encoded  \n",
       "5               -0.521637  \n",
       "14               2.247097  \n",
       "15              -0.521637  \n",
       "18              -0.521637  \n",
       "21              -0.521637  \n",
       "..                    ...  \n",
       "398             -0.521637  \n",
       "401             -0.521637  \n",
       "404             -0.521637  \n",
       "405             -0.521637  \n",
       "406             -0.521637  \n",
       "\n",
       "[400 rows x 13 columns]"
      ]
     },
     "execution_count": 1165,
     "metadata": {},
     "output_type": "execute_result"
    }
   ],
   "source": [
    "combined.sort_values(by=['source', 'LastName_encoded'], ascending=[True, True]).head(400)"
   ]
  },
  {
   "cell_type": "code",
   "execution_count": 1166,
   "metadata": {},
   "outputs": [
    {
     "name": "stdout",
     "output_type": "stream",
     "text": [
      "Missing values in train data:\n",
      "Survived                188\n",
      "Pclass                    0\n",
      "Sex                       0\n",
      "Age                       0\n",
      "SibSp                     0\n",
      "Parch                     0\n",
      "Fare                      0\n",
      "Embarked                  0\n",
      "source                    0\n",
      "FamilySize                0\n",
      "LastName_encoded          0\n",
      "Title_encoded             0\n",
      "Cabin_letter_encoded      0\n",
      "dtype: int64\n"
     ]
    },
    {
     "data": {
      "text/html": [
       "<div>\n",
       "<style scoped>\n",
       "    .dataframe tbody tr th:only-of-type {\n",
       "        vertical-align: middle;\n",
       "    }\n",
       "\n",
       "    .dataframe tbody tr th {\n",
       "        vertical-align: top;\n",
       "    }\n",
       "\n",
       "    .dataframe thead th {\n",
       "        text-align: right;\n",
       "    }\n",
       "</style>\n",
       "<table border=\"1\" class=\"dataframe\">\n",
       "  <thead>\n",
       "    <tr style=\"text-align: right;\">\n",
       "      <th></th>\n",
       "      <th>Survived</th>\n",
       "      <th>Pclass</th>\n",
       "      <th>Sex</th>\n",
       "      <th>Age</th>\n",
       "      <th>SibSp</th>\n",
       "      <th>Parch</th>\n",
       "      <th>Fare</th>\n",
       "      <th>Embarked</th>\n",
       "      <th>FamilySize</th>\n",
       "      <th>LastName_encoded</th>\n",
       "      <th>Title_encoded</th>\n",
       "      <th>Cabin_letter_encoded</th>\n",
       "    </tr>\n",
       "  </thead>\n",
       "  <tbody>\n",
       "    <tr>\n",
       "      <th>0</th>\n",
       "      <td>NaN</td>\n",
       "      <td>0.831128</td>\n",
       "      <td>male</td>\n",
       "      <td>0.350929</td>\n",
       "      <td>-0.518045</td>\n",
       "      <td>-0.493553</td>\n",
       "      <td>-0.500193</td>\n",
       "      <td>Q</td>\n",
       "      <td>-0.614088</td>\n",
       "      <td>0.778298</td>\n",
       "      <td>-0.855763</td>\n",
       "      <td>-0.521637</td>\n",
       "    </tr>\n",
       "    <tr>\n",
       "      <th>4</th>\n",
       "      <td>NaN</td>\n",
       "      <td>0.831128</td>\n",
       "      <td>female</td>\n",
       "      <td>-0.546270</td>\n",
       "      <td>0.376308</td>\n",
       "      <td>0.580124</td>\n",
       "      <td>-0.416680</td>\n",
       "      <td>S</td>\n",
       "      <td>0.568072</td>\n",
       "      <td>1.337201</td>\n",
       "      <td>1.377861</td>\n",
       "      <td>-0.521637</td>\n",
       "    </tr>\n",
       "    <tr>\n",
       "      <th>5</th>\n",
       "      <td>NaN</td>\n",
       "      <td>0.831128</td>\n",
       "      <td>male</td>\n",
       "      <td>-1.120477</td>\n",
       "      <td>-0.518045</td>\n",
       "      <td>-0.493553</td>\n",
       "      <td>-0.474047</td>\n",
       "      <td>S</td>\n",
       "      <td>-0.614088</td>\n",
       "      <td>-0.898412</td>\n",
       "      <td>-0.855763</td>\n",
       "      <td>-0.521637</td>\n",
       "    </tr>\n",
       "    <tr>\n",
       "      <th>6</th>\n",
       "      <td>NaN</td>\n",
       "      <td>0.831128</td>\n",
       "      <td>female</td>\n",
       "      <td>0.027938</td>\n",
       "      <td>-0.518045</td>\n",
       "      <td>-0.493553</td>\n",
       "      <td>-0.503940</td>\n",
       "      <td>Q</td>\n",
       "      <td>-0.614088</td>\n",
       "      <td>1.337201</td>\n",
       "      <td>1.046689</td>\n",
       "      <td>-0.521637</td>\n",
       "    </tr>\n",
       "    <tr>\n",
       "      <th>7</th>\n",
       "      <td>NaN</td>\n",
       "      <td>-0.364588</td>\n",
       "      <td>male</td>\n",
       "      <td>-0.259166</td>\n",
       "      <td>0.376308</td>\n",
       "      <td>0.580124</td>\n",
       "      <td>-0.103619</td>\n",
       "      <td>S</td>\n",
       "      <td>0.568072</td>\n",
       "      <td>1.337201</td>\n",
       "      <td>-0.855763</td>\n",
       "      <td>-0.521637</td>\n",
       "    </tr>\n",
       "    <tr>\n",
       "      <th>9</th>\n",
       "      <td>NaN</td>\n",
       "      <td>0.831128</td>\n",
       "      <td>male</td>\n",
       "      <td>-0.618046</td>\n",
       "      <td>1.270660</td>\n",
       "      <td>-0.493553</td>\n",
       "      <td>-0.194470</td>\n",
       "      <td>S</td>\n",
       "      <td>0.568072</td>\n",
       "      <td>-0.153208</td>\n",
       "      <td>-0.855763</td>\n",
       "      <td>-0.521637</td>\n",
       "    </tr>\n",
       "    <tr>\n",
       "      <th>14</th>\n",
       "      <td>NaN</td>\n",
       "      <td>-1.560305</td>\n",
       "      <td>female</td>\n",
       "      <td>1.248129</td>\n",
       "      <td>0.376308</td>\n",
       "      <td>-0.493553</td>\n",
       "      <td>0.499087</td>\n",
       "      <td>S</td>\n",
       "      <td>-0.023008</td>\n",
       "      <td>-0.898412</td>\n",
       "      <td>1.377861</td>\n",
       "      <td>2.247097</td>\n",
       "    </tr>\n",
       "    <tr>\n",
       "      <th>15</th>\n",
       "      <td>NaN</td>\n",
       "      <td>-0.364588</td>\n",
       "      <td>female</td>\n",
       "      <td>-0.402718</td>\n",
       "      <td>0.376308</td>\n",
       "      <td>-0.493553</td>\n",
       "      <td>-0.127581</td>\n",
       "      <td>C</td>\n",
       "      <td>-0.023008</td>\n",
       "      <td>-0.898412</td>\n",
       "      <td>1.377861</td>\n",
       "      <td>-0.521637</td>\n",
       "    </tr>\n",
       "    <tr>\n",
       "      <th>16</th>\n",
       "      <td>NaN</td>\n",
       "      <td>-0.364588</td>\n",
       "      <td>male</td>\n",
       "      <td>0.386817</td>\n",
       "      <td>-0.518045</td>\n",
       "      <td>-0.493553</td>\n",
       "      <td>-0.415509</td>\n",
       "      <td>Q</td>\n",
       "      <td>-0.614088</td>\n",
       "      <td>0.219394</td>\n",
       "      <td>-0.855763</td>\n",
       "      <td>-0.521637</td>\n",
       "    </tr>\n",
       "    <tr>\n",
       "      <th>18</th>\n",
       "      <td>NaN</td>\n",
       "      <td>0.831128</td>\n",
       "      <td>female</td>\n",
       "      <td>-0.187390</td>\n",
       "      <td>0.376308</td>\n",
       "      <td>-0.493553</td>\n",
       "      <td>-0.498399</td>\n",
       "      <td>S</td>\n",
       "      <td>-0.023008</td>\n",
       "      <td>-0.898412</td>\n",
       "      <td>1.046689</td>\n",
       "      <td>-0.521637</td>\n",
       "    </tr>\n",
       "    <tr>\n",
       "      <th>20</th>\n",
       "      <td>NaN</td>\n",
       "      <td>-1.560305</td>\n",
       "      <td>male</td>\n",
       "      <td>1.822336</td>\n",
       "      <td>0.376308</td>\n",
       "      <td>-0.493553</td>\n",
       "      <td>0.465838</td>\n",
       "      <td>C</td>\n",
       "      <td>-0.023008</td>\n",
       "      <td>1.337201</td>\n",
       "      <td>-0.855763</td>\n",
       "      <td>-0.521637</td>\n",
       "    </tr>\n",
       "    <tr>\n",
       "      <th>21</th>\n",
       "      <td>NaN</td>\n",
       "      <td>0.831128</td>\n",
       "      <td>male</td>\n",
       "      <td>-1.479357</td>\n",
       "      <td>-0.518045</td>\n",
       "      <td>0.580124</td>\n",
       "      <td>-0.587455</td>\n",
       "      <td>S</td>\n",
       "      <td>-0.023008</td>\n",
       "      <td>-0.898412</td>\n",
       "      <td>0.614952</td>\n",
       "      <td>-0.521637</td>\n",
       "    </tr>\n",
       "    <tr>\n",
       "      <th>23</th>\n",
       "      <td>NaN</td>\n",
       "      <td>-1.560305</td>\n",
       "      <td>male</td>\n",
       "      <td>-0.618046</td>\n",
       "      <td>-0.518045</td>\n",
       "      <td>0.580124</td>\n",
       "      <td>0.502912</td>\n",
       "      <td>C</td>\n",
       "      <td>-0.023008</td>\n",
       "      <td>-0.339509</td>\n",
       "      <td>-0.855763</td>\n",
       "      <td>-0.521637</td>\n",
       "    </tr>\n",
       "    <tr>\n",
       "      <th>24</th>\n",
       "      <td>NaN</td>\n",
       "      <td>-1.560305</td>\n",
       "      <td>female</td>\n",
       "      <td>1.319905</td>\n",
       "      <td>0.376308</td>\n",
       "      <td>2.727478</td>\n",
       "      <td>4.267992</td>\n",
       "      <td>C</td>\n",
       "      <td>1.750233</td>\n",
       "      <td>1.337201</td>\n",
       "      <td>1.377861</td>\n",
       "      <td>2.214380</td>\n",
       "    </tr>\n",
       "    <tr>\n",
       "      <th>25</th>\n",
       "      <td>NaN</td>\n",
       "      <td>0.831128</td>\n",
       "      <td>male</td>\n",
       "      <td>1.463456</td>\n",
       "      <td>0.376308</td>\n",
       "      <td>-0.493553</td>\n",
       "      <td>-0.375235</td>\n",
       "      <td>S</td>\n",
       "      <td>-0.023008</td>\n",
       "      <td>-0.898412</td>\n",
       "      <td>-0.855763</td>\n",
       "      <td>-0.521637</td>\n",
       "    </tr>\n",
       "    <tr>\n",
       "      <th>26</th>\n",
       "      <td>NaN</td>\n",
       "      <td>-1.560305</td>\n",
       "      <td>female</td>\n",
       "      <td>-0.546270</td>\n",
       "      <td>-0.518045</td>\n",
       "      <td>0.580124</td>\n",
       "      <td>0.514152</td>\n",
       "      <td>C</td>\n",
       "      <td>-0.023008</td>\n",
       "      <td>-0.898412</td>\n",
       "      <td>1.046689</td>\n",
       "      <td>2.214380</td>\n",
       "    </tr>\n",
       "    <tr>\n",
       "      <th>29</th>\n",
       "      <td>NaN</td>\n",
       "      <td>0.831128</td>\n",
       "      <td>male</td>\n",
       "      <td>-0.795207</td>\n",
       "      <td>1.270660</td>\n",
       "      <td>-0.493553</td>\n",
       "      <td>-0.240753</td>\n",
       "      <td>C</td>\n",
       "      <td>0.568072</td>\n",
       "      <td>-0.898412</td>\n",
       "      <td>-0.855763</td>\n",
       "      <td>-0.521637</td>\n",
       "    </tr>\n",
       "    <tr>\n",
       "      <th>30</th>\n",
       "      <td>NaN</td>\n",
       "      <td>-0.364588</td>\n",
       "      <td>male</td>\n",
       "      <td>1.463456</td>\n",
       "      <td>0.376308</td>\n",
       "      <td>-0.493553</td>\n",
       "      <td>-0.159816</td>\n",
       "      <td>S</td>\n",
       "      <td>-0.023008</td>\n",
       "      <td>1.337201</td>\n",
       "      <td>-0.855763</td>\n",
       "      <td>-0.521637</td>\n",
       "    </tr>\n",
       "    <tr>\n",
       "      <th>32</th>\n",
       "      <td>NaN</td>\n",
       "      <td>0.831128</td>\n",
       "      <td>female</td>\n",
       "      <td>0.243265</td>\n",
       "      <td>0.376308</td>\n",
       "      <td>1.653801</td>\n",
       "      <td>-0.261437</td>\n",
       "      <td>S</td>\n",
       "      <td>1.159153</td>\n",
       "      <td>0.219394</td>\n",
       "      <td>1.377861</td>\n",
       "      <td>-0.521637</td>\n",
       "    </tr>\n",
       "    <tr>\n",
       "      <th>33</th>\n",
       "      <td>NaN</td>\n",
       "      <td>0.831128</td>\n",
       "      <td>female</td>\n",
       "      <td>0.156012</td>\n",
       "      <td>0.376308</td>\n",
       "      <td>1.653801</td>\n",
       "      <td>-0.207582</td>\n",
       "      <td>S</td>\n",
       "      <td>1.159153</td>\n",
       "      <td>-0.898412</td>\n",
       "      <td>1.377861</td>\n",
       "      <td>-0.521637</td>\n",
       "    </tr>\n",
       "    <tr>\n",
       "      <th>37</th>\n",
       "      <td>NaN</td>\n",
       "      <td>0.831128</td>\n",
       "      <td>female</td>\n",
       "      <td>-0.618046</td>\n",
       "      <td>-0.518045</td>\n",
       "      <td>-0.493553</td>\n",
       "      <td>-0.484584</td>\n",
       "      <td>S</td>\n",
       "      <td>-0.614088</td>\n",
       "      <td>-0.898412</td>\n",
       "      <td>1.046689</td>\n",
       "      <td>-0.521637</td>\n",
       "    </tr>\n",
       "    <tr>\n",
       "      <th>40</th>\n",
       "      <td>NaN</td>\n",
       "      <td>0.831128</td>\n",
       "      <td>male</td>\n",
       "      <td>0.673921</td>\n",
       "      <td>-0.518045</td>\n",
       "      <td>0.580124</td>\n",
       "      <td>-0.395528</td>\n",
       "      <td>C</td>\n",
       "      <td>-0.023008</td>\n",
       "      <td>1.337201</td>\n",
       "      <td>-0.855763</td>\n",
       "      <td>-0.521637</td>\n",
       "    </tr>\n",
       "    <tr>\n",
       "      <th>42</th>\n",
       "      <td>NaN</td>\n",
       "      <td>0.831128</td>\n",
       "      <td>male</td>\n",
       "      <td>0.817473</td>\n",
       "      <td>-0.518045</td>\n",
       "      <td>-0.493553</td>\n",
       "      <td>-0.499804</td>\n",
       "      <td>S</td>\n",
       "      <td>-0.614088</td>\n",
       "      <td>0.591997</td>\n",
       "      <td>-0.855763</td>\n",
       "      <td>-0.521637</td>\n",
       "    </tr>\n",
       "    <tr>\n",
       "      <th>44</th>\n",
       "      <td>NaN</td>\n",
       "      <td>-1.560305</td>\n",
       "      <td>female</td>\n",
       "      <td>1.104577</td>\n",
       "      <td>0.376308</td>\n",
       "      <td>-0.493553</td>\n",
       "      <td>0.337601</td>\n",
       "      <td>S</td>\n",
       "      <td>-0.023008</td>\n",
       "      <td>1.337201</td>\n",
       "      <td>1.377861</td>\n",
       "      <td>2.293694</td>\n",
       "    </tr>\n",
       "    <tr>\n",
       "      <th>49</th>\n",
       "      <td>NaN</td>\n",
       "      <td>0.831128</td>\n",
       "      <td>female</td>\n",
       "      <td>0.458593</td>\n",
       "      <td>-0.518045</td>\n",
       "      <td>1.653801</td>\n",
       "      <td>-0.349010</td>\n",
       "      <td>S</td>\n",
       "      <td>0.568072</td>\n",
       "      <td>1.337201</td>\n",
       "      <td>1.377861</td>\n",
       "      <td>-0.521637</td>\n",
       "    </tr>\n",
       "    <tr>\n",
       "      <th>50</th>\n",
       "      <td>NaN</td>\n",
       "      <td>-1.560305</td>\n",
       "      <td>male</td>\n",
       "      <td>-0.402718</td>\n",
       "      <td>0.376308</td>\n",
       "      <td>-0.493553</td>\n",
       "      <td>0.477077</td>\n",
       "      <td>S</td>\n",
       "      <td>-0.023008</td>\n",
       "      <td>-0.339509</td>\n",
       "      <td>-0.855763</td>\n",
       "      <td>1.282784</td>\n",
       "    </tr>\n",
       "    <tr>\n",
       "      <th>52</th>\n",
       "      <td>NaN</td>\n",
       "      <td>-0.364588</td>\n",
       "      <td>female</td>\n",
       "      <td>-0.689822</td>\n",
       "      <td>1.270660</td>\n",
       "      <td>0.580124</td>\n",
       "      <td>-0.216012</td>\n",
       "      <td>S</td>\n",
       "      <td>1.159153</td>\n",
       "      <td>0.219394</td>\n",
       "      <td>1.046689</td>\n",
       "      <td>-0.521637</td>\n",
       "    </tr>\n",
       "    <tr>\n",
       "      <th>53</th>\n",
       "      <td>NaN</td>\n",
       "      <td>-1.560305</td>\n",
       "      <td>female</td>\n",
       "      <td>-0.115614</td>\n",
       "      <td>2.165013</td>\n",
       "      <td>1.653801</td>\n",
       "      <td>4.279700</td>\n",
       "      <td>S</td>\n",
       "      <td>2.341313</td>\n",
       "      <td>0.219394</td>\n",
       "      <td>1.046689</td>\n",
       "      <td>1.282784</td>\n",
       "    </tr>\n",
       "    <tr>\n",
       "      <th>55</th>\n",
       "      <td>NaN</td>\n",
       "      <td>0.831128</td>\n",
       "      <td>male</td>\n",
       "      <td>-1.407581</td>\n",
       "      <td>3.059366</td>\n",
       "      <td>0.580124</td>\n",
       "      <td>-0.101278</td>\n",
       "      <td>Q</td>\n",
       "      <td>2.341313</td>\n",
       "      <td>-0.898412</td>\n",
       "      <td>0.614952</td>\n",
       "      <td>-0.521637</td>\n",
       "    </tr>\n",
       "    <tr>\n",
       "      <th>56</th>\n",
       "      <td>NaN</td>\n",
       "      <td>0.831128</td>\n",
       "      <td>male</td>\n",
       "      <td>0.386817</td>\n",
       "      <td>-0.518045</td>\n",
       "      <td>-0.493553</td>\n",
       "      <td>-0.498946</td>\n",
       "      <td>S</td>\n",
       "      <td>-0.614088</td>\n",
       "      <td>-0.898412</td>\n",
       "      <td>-0.855763</td>\n",
       "      <td>-0.521637</td>\n",
       "    </tr>\n",
       "    <tr>\n",
       "      <th>58</th>\n",
       "      <td>NaN</td>\n",
       "      <td>0.831128</td>\n",
       "      <td>male</td>\n",
       "      <td>-0.138242</td>\n",
       "      <td>0.376308</td>\n",
       "      <td>-0.493553</td>\n",
       "      <td>-0.345264</td>\n",
       "      <td>S</td>\n",
       "      <td>-0.023008</td>\n",
       "      <td>1.337201</td>\n",
       "      <td>-0.855763</td>\n",
       "      <td>-0.521637</td>\n",
       "    </tr>\n",
       "    <tr>\n",
       "      <th>63</th>\n",
       "      <td>NaN</td>\n",
       "      <td>0.831128</td>\n",
       "      <td>female</td>\n",
       "      <td>-0.546270</td>\n",
       "      <td>-0.518045</td>\n",
       "      <td>-0.493553</td>\n",
       "      <td>-0.502145</td>\n",
       "      <td>Q</td>\n",
       "      <td>-0.614088</td>\n",
       "      <td>1.337201</td>\n",
       "      <td>1.046689</td>\n",
       "      <td>-0.521637</td>\n",
       "    </tr>\n",
       "    <tr>\n",
       "      <th>64</th>\n",
       "      <td>NaN</td>\n",
       "      <td>-1.560305</td>\n",
       "      <td>male</td>\n",
       "      <td>-1.192253</td>\n",
       "      <td>1.270660</td>\n",
       "      <td>1.653801</td>\n",
       "      <td>4.267992</td>\n",
       "      <td>C</td>\n",
       "      <td>1.750233</td>\n",
       "      <td>1.337201</td>\n",
       "      <td>0.614952</td>\n",
       "      <td>2.214380</td>\n",
       "    </tr>\n",
       "    <tr>\n",
       "      <th>66</th>\n",
       "      <td>NaN</td>\n",
       "      <td>0.831128</td>\n",
       "      <td>female</td>\n",
       "      <td>-0.833374</td>\n",
       "      <td>-0.518045</td>\n",
       "      <td>-0.493553</td>\n",
       "      <td>-0.499257</td>\n",
       "      <td>Q</td>\n",
       "      <td>-0.614088</td>\n",
       "      <td>1.337201</td>\n",
       "      <td>1.046689</td>\n",
       "      <td>-0.521637</td>\n",
       "    </tr>\n",
       "    <tr>\n",
       "      <th>67</th>\n",
       "      <td>NaN</td>\n",
       "      <td>-1.560305</td>\n",
       "      <td>male</td>\n",
       "      <td>1.248129</td>\n",
       "      <td>-0.518045</td>\n",
       "      <td>-0.493553</td>\n",
       "      <td>0.147391</td>\n",
       "      <td>S</td>\n",
       "      <td>-0.614088</td>\n",
       "      <td>-0.898412</td>\n",
       "      <td>-0.855763</td>\n",
       "      <td>-0.521637</td>\n",
       "    </tr>\n",
       "    <tr>\n",
       "      <th>69</th>\n",
       "      <td>NaN</td>\n",
       "      <td>-1.560305</td>\n",
       "      <td>female</td>\n",
       "      <td>2.181216</td>\n",
       "      <td>0.376308</td>\n",
       "      <td>3.801155</td>\n",
       "      <td>4.279700</td>\n",
       "      <td>S</td>\n",
       "      <td>2.341313</td>\n",
       "      <td>0.219394</td>\n",
       "      <td>1.377861</td>\n",
       "      <td>1.282784</td>\n",
       "    </tr>\n",
       "    <tr>\n",
       "      <th>80</th>\n",
       "      <td>NaN</td>\n",
       "      <td>0.831128</td>\n",
       "      <td>male</td>\n",
       "      <td>-1.694685</td>\n",
       "      <td>0.376308</td>\n",
       "      <td>0.580124</td>\n",
       "      <td>-0.361265</td>\n",
       "      <td>C</td>\n",
       "      <td>0.568072</td>\n",
       "      <td>-0.898412</td>\n",
       "      <td>0.614952</td>\n",
       "      <td>-0.521637</td>\n",
       "    </tr>\n",
       "    <tr>\n",
       "      <th>89</th>\n",
       "      <td>NaN</td>\n",
       "      <td>-0.364588</td>\n",
       "      <td>male</td>\n",
       "      <td>-1.981789</td>\n",
       "      <td>0.376308</td>\n",
       "      <td>0.580124</td>\n",
       "      <td>-0.216012</td>\n",
       "      <td>S</td>\n",
       "      <td>0.568072</td>\n",
       "      <td>1.337201</td>\n",
       "      <td>0.614952</td>\n",
       "      <td>-0.521637</td>\n",
       "    </tr>\n",
       "    <tr>\n",
       "      <th>92</th>\n",
       "      <td>NaN</td>\n",
       "      <td>-1.560305</td>\n",
       "      <td>female</td>\n",
       "      <td>-0.187390</td>\n",
       "      <td>0.376308</td>\n",
       "      <td>1.653801</td>\n",
       "      <td>0.327220</td>\n",
       "      <td>S</td>\n",
       "      <td>1.159153</td>\n",
       "      <td>-0.898412</td>\n",
       "      <td>1.377861</td>\n",
       "      <td>2.214380</td>\n",
       "    </tr>\n",
       "    <tr>\n",
       "      <th>96</th>\n",
       "      <td>NaN</td>\n",
       "      <td>-1.560305</td>\n",
       "      <td>female</td>\n",
       "      <td>3.329631</td>\n",
       "      <td>0.376308</td>\n",
       "      <td>-0.493553</td>\n",
       "      <td>0.830178</td>\n",
       "      <td>S</td>\n",
       "      <td>-0.023008</td>\n",
       "      <td>-0.898412</td>\n",
       "      <td>1.377861</td>\n",
       "      <td>1.282784</td>\n",
       "    </tr>\n",
       "    <tr>\n",
       "      <th>101</th>\n",
       "      <td>NaN</td>\n",
       "      <td>-0.364588</td>\n",
       "      <td>male</td>\n",
       "      <td>-0.187390</td>\n",
       "      <td>0.376308</td>\n",
       "      <td>-0.493553</td>\n",
       "      <td>-0.159816</td>\n",
       "      <td>S</td>\n",
       "      <td>-0.023008</td>\n",
       "      <td>1.337201</td>\n",
       "      <td>-0.855763</td>\n",
       "      <td>-0.521637</td>\n",
       "    </tr>\n",
       "    <tr>\n",
       "      <th>104</th>\n",
       "      <td>NaN</td>\n",
       "      <td>0.831128</td>\n",
       "      <td>female</td>\n",
       "      <td>-0.976926</td>\n",
       "      <td>0.376308</td>\n",
       "      <td>0.580124</td>\n",
       "      <td>-0.487315</td>\n",
       "      <td>C</td>\n",
       "      <td>0.568072</td>\n",
       "      <td>1.337201</td>\n",
       "      <td>1.377861</td>\n",
       "      <td>-0.521637</td>\n",
       "    </tr>\n",
       "    <tr>\n",
       "      <th>107</th>\n",
       "      <td>NaN</td>\n",
       "      <td>0.831128</td>\n",
       "      <td>male</td>\n",
       "      <td>0.707857</td>\n",
       "      <td>-0.518045</td>\n",
       "      <td>-0.493553</td>\n",
       "      <td>-0.501677</td>\n",
       "      <td>Q</td>\n",
       "      <td>-0.614088</td>\n",
       "      <td>-0.898412</td>\n",
       "      <td>-0.855763</td>\n",
       "      <td>-0.521637</td>\n",
       "    </tr>\n",
       "    <tr>\n",
       "      <th>115</th>\n",
       "      <td>NaN</td>\n",
       "      <td>0.831128</td>\n",
       "      <td>male</td>\n",
       "      <td>-0.833374</td>\n",
       "      <td>0.376308</td>\n",
       "      <td>-0.493553</td>\n",
       "      <td>-0.376093</td>\n",
       "      <td>C</td>\n",
       "      <td>-0.023008</td>\n",
       "      <td>-0.898412</td>\n",
       "      <td>-0.855763</td>\n",
       "      <td>-0.521637</td>\n",
       "    </tr>\n",
       "    <tr>\n",
       "      <th>116</th>\n",
       "      <td>NaN</td>\n",
       "      <td>0.831128</td>\n",
       "      <td>male</td>\n",
       "      <td>0.276932</td>\n",
       "      <td>-0.518045</td>\n",
       "      <td>-0.493553</td>\n",
       "      <td>-0.526263</td>\n",
       "      <td>C</td>\n",
       "      <td>-0.614088</td>\n",
       "      <td>1.337201</td>\n",
       "      <td>-0.855763</td>\n",
       "      <td>-0.521637</td>\n",
       "    </tr>\n",
       "    <tr>\n",
       "      <th>117</th>\n",
       "      <td>NaN</td>\n",
       "      <td>0.831128</td>\n",
       "      <td>female</td>\n",
       "      <td>-2.053565</td>\n",
       "      <td>0.376308</td>\n",
       "      <td>0.580124</td>\n",
       "      <td>-0.334024</td>\n",
       "      <td>S</td>\n",
       "      <td>0.568072</td>\n",
       "      <td>1.337201</td>\n",
       "      <td>1.046689</td>\n",
       "      <td>0.709409</td>\n",
       "    </tr>\n",
       "    <tr>\n",
       "      <th>119</th>\n",
       "      <td>NaN</td>\n",
       "      <td>-0.364588</td>\n",
       "      <td>female</td>\n",
       "      <td>-0.043838</td>\n",
       "      <td>0.376308</td>\n",
       "      <td>-0.493553</td>\n",
       "      <td>-0.159816</td>\n",
       "      <td>S</td>\n",
       "      <td>-0.023008</td>\n",
       "      <td>-0.898412</td>\n",
       "      <td>1.377861</td>\n",
       "      <td>-0.521637</td>\n",
       "    </tr>\n",
       "    <tr>\n",
       "      <th>120</th>\n",
       "      <td>NaN</td>\n",
       "      <td>-0.364588</td>\n",
       "      <td>female</td>\n",
       "      <td>-1.264029</td>\n",
       "      <td>-0.518045</td>\n",
       "      <td>-0.493553</td>\n",
       "      <td>-0.351820</td>\n",
       "      <td>S</td>\n",
       "      <td>-0.614088</td>\n",
       "      <td>1.337201</td>\n",
       "      <td>1.046689</td>\n",
       "      <td>-0.521637</td>\n",
       "    </tr>\n",
       "    <tr>\n",
       "      <th>121</th>\n",
       "      <td>NaN</td>\n",
       "      <td>0.831128</td>\n",
       "      <td>male</td>\n",
       "      <td>0.423954</td>\n",
       "      <td>0.376308</td>\n",
       "      <td>-0.493553</td>\n",
       "      <td>-0.501677</td>\n",
       "      <td>Q</td>\n",
       "      <td>-0.023008</td>\n",
       "      <td>-0.898412</td>\n",
       "      <td>-0.855763</td>\n",
       "      <td>-0.521637</td>\n",
       "    </tr>\n",
       "    <tr>\n",
       "      <th>125</th>\n",
       "      <td>NaN</td>\n",
       "      <td>0.831128</td>\n",
       "      <td>female</td>\n",
       "      <td>-0.905150</td>\n",
       "      <td>-0.518045</td>\n",
       "      <td>0.580124</td>\n",
       "      <td>-0.345264</td>\n",
       "      <td>S</td>\n",
       "      <td>-0.023008</td>\n",
       "      <td>-0.898412</td>\n",
       "      <td>1.046689</td>\n",
       "      <td>-0.521637</td>\n",
       "    </tr>\n",
       "  </tbody>\n",
       "</table>\n",
       "</div>"
      ],
      "text/plain": [
       "     Survived    Pclass     Sex       Age     SibSp     Parch      Fare  \\\n",
       "0         NaN  0.831128    male  0.350929 -0.518045 -0.493553 -0.500193   \n",
       "4         NaN  0.831128  female -0.546270  0.376308  0.580124 -0.416680   \n",
       "5         NaN  0.831128    male -1.120477 -0.518045 -0.493553 -0.474047   \n",
       "6         NaN  0.831128  female  0.027938 -0.518045 -0.493553 -0.503940   \n",
       "7         NaN -0.364588    male -0.259166  0.376308  0.580124 -0.103619   \n",
       "9         NaN  0.831128    male -0.618046  1.270660 -0.493553 -0.194470   \n",
       "14        NaN -1.560305  female  1.248129  0.376308 -0.493553  0.499087   \n",
       "15        NaN -0.364588  female -0.402718  0.376308 -0.493553 -0.127581   \n",
       "16        NaN -0.364588    male  0.386817 -0.518045 -0.493553 -0.415509   \n",
       "18        NaN  0.831128  female -0.187390  0.376308 -0.493553 -0.498399   \n",
       "20        NaN -1.560305    male  1.822336  0.376308 -0.493553  0.465838   \n",
       "21        NaN  0.831128    male -1.479357 -0.518045  0.580124 -0.587455   \n",
       "23        NaN -1.560305    male -0.618046 -0.518045  0.580124  0.502912   \n",
       "24        NaN -1.560305  female  1.319905  0.376308  2.727478  4.267992   \n",
       "25        NaN  0.831128    male  1.463456  0.376308 -0.493553 -0.375235   \n",
       "26        NaN -1.560305  female -0.546270 -0.518045  0.580124  0.514152   \n",
       "29        NaN  0.831128    male -0.795207  1.270660 -0.493553 -0.240753   \n",
       "30        NaN -0.364588    male  1.463456  0.376308 -0.493553 -0.159816   \n",
       "32        NaN  0.831128  female  0.243265  0.376308  1.653801 -0.261437   \n",
       "33        NaN  0.831128  female  0.156012  0.376308  1.653801 -0.207582   \n",
       "37        NaN  0.831128  female -0.618046 -0.518045 -0.493553 -0.484584   \n",
       "40        NaN  0.831128    male  0.673921 -0.518045  0.580124 -0.395528   \n",
       "42        NaN  0.831128    male  0.817473 -0.518045 -0.493553 -0.499804   \n",
       "44        NaN -1.560305  female  1.104577  0.376308 -0.493553  0.337601   \n",
       "49        NaN  0.831128  female  0.458593 -0.518045  1.653801 -0.349010   \n",
       "50        NaN -1.560305    male -0.402718  0.376308 -0.493553  0.477077   \n",
       "52        NaN -0.364588  female -0.689822  1.270660  0.580124 -0.216012   \n",
       "53        NaN -1.560305  female -0.115614  2.165013  1.653801  4.279700   \n",
       "55        NaN  0.831128    male -1.407581  3.059366  0.580124 -0.101278   \n",
       "56        NaN  0.831128    male  0.386817 -0.518045 -0.493553 -0.498946   \n",
       "58        NaN  0.831128    male -0.138242  0.376308 -0.493553 -0.345264   \n",
       "63        NaN  0.831128  female -0.546270 -0.518045 -0.493553 -0.502145   \n",
       "64        NaN -1.560305    male -1.192253  1.270660  1.653801  4.267992   \n",
       "66        NaN  0.831128  female -0.833374 -0.518045 -0.493553 -0.499257   \n",
       "67        NaN -1.560305    male  1.248129 -0.518045 -0.493553  0.147391   \n",
       "69        NaN -1.560305  female  2.181216  0.376308  3.801155  4.279700   \n",
       "80        NaN  0.831128    male -1.694685  0.376308  0.580124 -0.361265   \n",
       "89        NaN -0.364588    male -1.981789  0.376308  0.580124 -0.216012   \n",
       "92        NaN -1.560305  female -0.187390  0.376308  1.653801  0.327220   \n",
       "96        NaN -1.560305  female  3.329631  0.376308 -0.493553  0.830178   \n",
       "101       NaN -0.364588    male -0.187390  0.376308 -0.493553 -0.159816   \n",
       "104       NaN  0.831128  female -0.976926  0.376308  0.580124 -0.487315   \n",
       "107       NaN  0.831128    male  0.707857 -0.518045 -0.493553 -0.501677   \n",
       "115       NaN  0.831128    male -0.833374  0.376308 -0.493553 -0.376093   \n",
       "116       NaN  0.831128    male  0.276932 -0.518045 -0.493553 -0.526263   \n",
       "117       NaN  0.831128  female -2.053565  0.376308  0.580124 -0.334024   \n",
       "119       NaN -0.364588  female -0.043838  0.376308 -0.493553 -0.159816   \n",
       "120       NaN -0.364588  female -1.264029 -0.518045 -0.493553 -0.351820   \n",
       "121       NaN  0.831128    male  0.423954  0.376308 -0.493553 -0.501677   \n",
       "125       NaN  0.831128  female -0.905150 -0.518045  0.580124 -0.345264   \n",
       "\n",
       "    Embarked  FamilySize  LastName_encoded  Title_encoded  \\\n",
       "0          Q   -0.614088          0.778298      -0.855763   \n",
       "4          S    0.568072          1.337201       1.377861   \n",
       "5          S   -0.614088         -0.898412      -0.855763   \n",
       "6          Q   -0.614088          1.337201       1.046689   \n",
       "7          S    0.568072          1.337201      -0.855763   \n",
       "9          S    0.568072         -0.153208      -0.855763   \n",
       "14         S   -0.023008         -0.898412       1.377861   \n",
       "15         C   -0.023008         -0.898412       1.377861   \n",
       "16         Q   -0.614088          0.219394      -0.855763   \n",
       "18         S   -0.023008         -0.898412       1.046689   \n",
       "20         C   -0.023008          1.337201      -0.855763   \n",
       "21         S   -0.023008         -0.898412       0.614952   \n",
       "23         C   -0.023008         -0.339509      -0.855763   \n",
       "24         C    1.750233          1.337201       1.377861   \n",
       "25         S   -0.023008         -0.898412      -0.855763   \n",
       "26         C   -0.023008         -0.898412       1.046689   \n",
       "29         C    0.568072         -0.898412      -0.855763   \n",
       "30         S   -0.023008          1.337201      -0.855763   \n",
       "32         S    1.159153          0.219394       1.377861   \n",
       "33         S    1.159153         -0.898412       1.377861   \n",
       "37         S   -0.614088         -0.898412       1.046689   \n",
       "40         C   -0.023008          1.337201      -0.855763   \n",
       "42         S   -0.614088          0.591997      -0.855763   \n",
       "44         S   -0.023008          1.337201       1.377861   \n",
       "49         S    0.568072          1.337201       1.377861   \n",
       "50         S   -0.023008         -0.339509      -0.855763   \n",
       "52         S    1.159153          0.219394       1.046689   \n",
       "53         S    2.341313          0.219394       1.046689   \n",
       "55         Q    2.341313         -0.898412       0.614952   \n",
       "56         S   -0.614088         -0.898412      -0.855763   \n",
       "58         S   -0.023008          1.337201      -0.855763   \n",
       "63         Q   -0.614088          1.337201       1.046689   \n",
       "64         C    1.750233          1.337201       0.614952   \n",
       "66         Q   -0.614088          1.337201       1.046689   \n",
       "67         S   -0.614088         -0.898412      -0.855763   \n",
       "69         S    2.341313          0.219394       1.377861   \n",
       "80         C    0.568072         -0.898412       0.614952   \n",
       "89         S    0.568072          1.337201       0.614952   \n",
       "92         S    1.159153         -0.898412       1.377861   \n",
       "96         S   -0.023008         -0.898412       1.377861   \n",
       "101        S   -0.023008          1.337201      -0.855763   \n",
       "104        C    0.568072          1.337201       1.377861   \n",
       "107        Q   -0.614088         -0.898412      -0.855763   \n",
       "115        C   -0.023008         -0.898412      -0.855763   \n",
       "116        C   -0.614088          1.337201      -0.855763   \n",
       "117        S    0.568072          1.337201       1.046689   \n",
       "119        S   -0.023008         -0.898412       1.377861   \n",
       "120        S   -0.614088          1.337201       1.046689   \n",
       "121        Q   -0.023008         -0.898412      -0.855763   \n",
       "125        S   -0.023008         -0.898412       1.046689   \n",
       "\n",
       "     Cabin_letter_encoded  \n",
       "0               -0.521637  \n",
       "4               -0.521637  \n",
       "5               -0.521637  \n",
       "6               -0.521637  \n",
       "7               -0.521637  \n",
       "9               -0.521637  \n",
       "14               2.247097  \n",
       "15              -0.521637  \n",
       "16              -0.521637  \n",
       "18              -0.521637  \n",
       "20              -0.521637  \n",
       "21              -0.521637  \n",
       "23              -0.521637  \n",
       "24               2.214380  \n",
       "25              -0.521637  \n",
       "26               2.214380  \n",
       "29              -0.521637  \n",
       "30              -0.521637  \n",
       "32              -0.521637  \n",
       "33              -0.521637  \n",
       "37              -0.521637  \n",
       "40              -0.521637  \n",
       "42              -0.521637  \n",
       "44               2.293694  \n",
       "49              -0.521637  \n",
       "50               1.282784  \n",
       "52              -0.521637  \n",
       "53               1.282784  \n",
       "55              -0.521637  \n",
       "56              -0.521637  \n",
       "58              -0.521637  \n",
       "63              -0.521637  \n",
       "64               2.214380  \n",
       "66              -0.521637  \n",
       "67              -0.521637  \n",
       "69               1.282784  \n",
       "80              -0.521637  \n",
       "89              -0.521637  \n",
       "92               2.214380  \n",
       "96               1.282784  \n",
       "101             -0.521637  \n",
       "104             -0.521637  \n",
       "107             -0.521637  \n",
       "115             -0.521637  \n",
       "116             -0.521637  \n",
       "117              0.709409  \n",
       "119             -0.521637  \n",
       "120             -0.521637  \n",
       "121             -0.521637  \n",
       "125             -0.521637  "
      ]
     },
     "execution_count": 1166,
     "metadata": {},
     "output_type": "execute_result"
    }
   ],
   "source": [
    "missing_values = combined.isnull().sum()\n",
    "print(\"Missing values in train data:\")\n",
    "print(missing_values)\n",
    "\n",
    "test.head(50)"
   ]
  }
 ],
 "metadata": {
  "kernelspec": {
   "display_name": "AI_Team",
   "language": "python",
   "name": "python3"
  },
  "language_info": {
   "codemirror_mode": {
    "name": "ipython",
    "version": 3
   },
   "file_extension": ".py",
   "mimetype": "text/x-python",
   "name": "python",
   "nbconvert_exporter": "python",
   "pygments_lexer": "ipython3",
   "version": "3.11.8"
  }
 },
 "nbformat": 4,
 "nbformat_minor": 2
}
