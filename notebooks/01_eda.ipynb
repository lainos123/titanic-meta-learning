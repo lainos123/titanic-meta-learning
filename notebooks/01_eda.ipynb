{
 "cells": [
  {
   "cell_type": "markdown",
   "metadata": {},
   "source": [
    "# Exploratory Data Analysis with python and plotly"
   ]
  },
  {
   "cell_type": "markdown",
   "metadata": {},
   "source": [
    "##### Contents\n",
    "\n",
    "[1. Load data](###1.-Load-data)\n",
    "\n",
    "[2. Data Understanding and Cleaning](###2.-data-understanding-and-cleaning)"
   ]
  },
  {
   "cell_type": "markdown",
   "metadata": {},
   "source": [
    "### 1. Load data"
   ]
  },
  {
   "cell_type": "code",
   "execution_count": 399,
   "metadata": {},
   "outputs": [],
   "source": [
    "\n",
    "import pandas as pd\n",
    "\n",
    "train = pd.read_csv('../data/raw/train.csv') \n",
    "test = pd.read_csv('../data/raw/test.csv')\n"
   ]
  },
  {
   "cell_type": "markdown",
   "metadata": {},
   "source": [
    "Stick training and test data together so that feature engineering is done to the test set as well. "
   ]
  },
  {
   "cell_type": "code",
   "execution_count": 400,
   "metadata": {},
   "outputs": [],
   "source": [
    "train['source'] = 'train'\n",
    "test['source'] = 'test'\n",
    "combined = pd.concat([train, test], sort=False)"
   ]
  },
  {
   "cell_type": "markdown",
   "metadata": {},
   "source": [
    "### 2. Data Understanding and Cleaning"
   ]
  },
  {
   "cell_type": "markdown",
   "metadata": {},
   "source": [
    "#### Understanding"
   ]
  },
  {
   "cell_type": "code",
   "execution_count": 401,
   "metadata": {},
   "outputs": [
    {
     "data": {
      "text/html": [
       "<div>\n",
       "<style scoped>\n",
       "    .dataframe tbody tr th:only-of-type {\n",
       "        vertical-align: middle;\n",
       "    }\n",
       "\n",
       "    .dataframe tbody tr th {\n",
       "        vertical-align: top;\n",
       "    }\n",
       "\n",
       "    .dataframe thead th {\n",
       "        text-align: right;\n",
       "    }\n",
       "</style>\n",
       "<table border=\"1\" class=\"dataframe\">\n",
       "  <thead>\n",
       "    <tr style=\"text-align: right;\">\n",
       "      <th></th>\n",
       "      <th>PassengerId</th>\n",
       "      <th>Survived</th>\n",
       "      <th>Pclass</th>\n",
       "      <th>Name</th>\n",
       "      <th>Sex</th>\n",
       "      <th>Age</th>\n",
       "      <th>SibSp</th>\n",
       "      <th>Parch</th>\n",
       "      <th>Ticket</th>\n",
       "      <th>Fare</th>\n",
       "      <th>Cabin</th>\n",
       "      <th>Embarked</th>\n",
       "      <th>source</th>\n",
       "    </tr>\n",
       "  </thead>\n",
       "  <tbody>\n",
       "    <tr>\n",
       "      <th>0</th>\n",
       "      <td>1</td>\n",
       "      <td>0.0</td>\n",
       "      <td>3</td>\n",
       "      <td>Braund, Mr. Owen Harris</td>\n",
       "      <td>male</td>\n",
       "      <td>22.0</td>\n",
       "      <td>1</td>\n",
       "      <td>0</td>\n",
       "      <td>A/5 21171</td>\n",
       "      <td>7.2500</td>\n",
       "      <td>NaN</td>\n",
       "      <td>S</td>\n",
       "      <td>train</td>\n",
       "    </tr>\n",
       "    <tr>\n",
       "      <th>1</th>\n",
       "      <td>2</td>\n",
       "      <td>1.0</td>\n",
       "      <td>1</td>\n",
       "      <td>Cumings, Mrs. John Bradley (Florence Briggs Th...</td>\n",
       "      <td>female</td>\n",
       "      <td>38.0</td>\n",
       "      <td>1</td>\n",
       "      <td>0</td>\n",
       "      <td>PC 17599</td>\n",
       "      <td>71.2833</td>\n",
       "      <td>C85</td>\n",
       "      <td>C</td>\n",
       "      <td>train</td>\n",
       "    </tr>\n",
       "    <tr>\n",
       "      <th>2</th>\n",
       "      <td>3</td>\n",
       "      <td>1.0</td>\n",
       "      <td>3</td>\n",
       "      <td>Heikkinen, Miss. Laina</td>\n",
       "      <td>female</td>\n",
       "      <td>26.0</td>\n",
       "      <td>0</td>\n",
       "      <td>0</td>\n",
       "      <td>STON/O2. 3101282</td>\n",
       "      <td>7.9250</td>\n",
       "      <td>NaN</td>\n",
       "      <td>S</td>\n",
       "      <td>train</td>\n",
       "    </tr>\n",
       "    <tr>\n",
       "      <th>3</th>\n",
       "      <td>4</td>\n",
       "      <td>1.0</td>\n",
       "      <td>1</td>\n",
       "      <td>Futrelle, Mrs. Jacques Heath (Lily May Peel)</td>\n",
       "      <td>female</td>\n",
       "      <td>35.0</td>\n",
       "      <td>1</td>\n",
       "      <td>0</td>\n",
       "      <td>113803</td>\n",
       "      <td>53.1000</td>\n",
       "      <td>C123</td>\n",
       "      <td>S</td>\n",
       "      <td>train</td>\n",
       "    </tr>\n",
       "    <tr>\n",
       "      <th>4</th>\n",
       "      <td>5</td>\n",
       "      <td>0.0</td>\n",
       "      <td>3</td>\n",
       "      <td>Allen, Mr. William Henry</td>\n",
       "      <td>male</td>\n",
       "      <td>35.0</td>\n",
       "      <td>0</td>\n",
       "      <td>0</td>\n",
       "      <td>373450</td>\n",
       "      <td>8.0500</td>\n",
       "      <td>NaN</td>\n",
       "      <td>S</td>\n",
       "      <td>train</td>\n",
       "    </tr>\n",
       "    <tr>\n",
       "      <th>5</th>\n",
       "      <td>6</td>\n",
       "      <td>0.0</td>\n",
       "      <td>3</td>\n",
       "      <td>Moran, Mr. James</td>\n",
       "      <td>male</td>\n",
       "      <td>NaN</td>\n",
       "      <td>0</td>\n",
       "      <td>0</td>\n",
       "      <td>330877</td>\n",
       "      <td>8.4583</td>\n",
       "      <td>NaN</td>\n",
       "      <td>Q</td>\n",
       "      <td>train</td>\n",
       "    </tr>\n",
       "    <tr>\n",
       "      <th>6</th>\n",
       "      <td>7</td>\n",
       "      <td>0.0</td>\n",
       "      <td>1</td>\n",
       "      <td>McCarthy, Mr. Timothy J</td>\n",
       "      <td>male</td>\n",
       "      <td>54.0</td>\n",
       "      <td>0</td>\n",
       "      <td>0</td>\n",
       "      <td>17463</td>\n",
       "      <td>51.8625</td>\n",
       "      <td>E46</td>\n",
       "      <td>S</td>\n",
       "      <td>train</td>\n",
       "    </tr>\n",
       "    <tr>\n",
       "      <th>7</th>\n",
       "      <td>8</td>\n",
       "      <td>0.0</td>\n",
       "      <td>3</td>\n",
       "      <td>Palsson, Master. Gosta Leonard</td>\n",
       "      <td>male</td>\n",
       "      <td>2.0</td>\n",
       "      <td>3</td>\n",
       "      <td>1</td>\n",
       "      <td>349909</td>\n",
       "      <td>21.0750</td>\n",
       "      <td>NaN</td>\n",
       "      <td>S</td>\n",
       "      <td>train</td>\n",
       "    </tr>\n",
       "    <tr>\n",
       "      <th>8</th>\n",
       "      <td>9</td>\n",
       "      <td>1.0</td>\n",
       "      <td>3</td>\n",
       "      <td>Johnson, Mrs. Oscar W (Elisabeth Vilhelmina Berg)</td>\n",
       "      <td>female</td>\n",
       "      <td>27.0</td>\n",
       "      <td>0</td>\n",
       "      <td>2</td>\n",
       "      <td>347742</td>\n",
       "      <td>11.1333</td>\n",
       "      <td>NaN</td>\n",
       "      <td>S</td>\n",
       "      <td>train</td>\n",
       "    </tr>\n",
       "    <tr>\n",
       "      <th>9</th>\n",
       "      <td>10</td>\n",
       "      <td>1.0</td>\n",
       "      <td>2</td>\n",
       "      <td>Nasser, Mrs. Nicholas (Adele Achem)</td>\n",
       "      <td>female</td>\n",
       "      <td>14.0</td>\n",
       "      <td>1</td>\n",
       "      <td>0</td>\n",
       "      <td>237736</td>\n",
       "      <td>30.0708</td>\n",
       "      <td>NaN</td>\n",
       "      <td>C</td>\n",
       "      <td>train</td>\n",
       "    </tr>\n",
       "  </tbody>\n",
       "</table>\n",
       "</div>"
      ],
      "text/plain": [
       "   PassengerId  Survived  Pclass  \\\n",
       "0            1       0.0       3   \n",
       "1            2       1.0       1   \n",
       "2            3       1.0       3   \n",
       "3            4       1.0       1   \n",
       "4            5       0.0       3   \n",
       "5            6       0.0       3   \n",
       "6            7       0.0       1   \n",
       "7            8       0.0       3   \n",
       "8            9       1.0       3   \n",
       "9           10       1.0       2   \n",
       "\n",
       "                                                Name     Sex   Age  SibSp  \\\n",
       "0                            Braund, Mr. Owen Harris    male  22.0      1   \n",
       "1  Cumings, Mrs. John Bradley (Florence Briggs Th...  female  38.0      1   \n",
       "2                             Heikkinen, Miss. Laina  female  26.0      0   \n",
       "3       Futrelle, Mrs. Jacques Heath (Lily May Peel)  female  35.0      1   \n",
       "4                           Allen, Mr. William Henry    male  35.0      0   \n",
       "5                                   Moran, Mr. James    male   NaN      0   \n",
       "6                            McCarthy, Mr. Timothy J    male  54.0      0   \n",
       "7                     Palsson, Master. Gosta Leonard    male   2.0      3   \n",
       "8  Johnson, Mrs. Oscar W (Elisabeth Vilhelmina Berg)  female  27.0      0   \n",
       "9                Nasser, Mrs. Nicholas (Adele Achem)  female  14.0      1   \n",
       "\n",
       "   Parch            Ticket     Fare Cabin Embarked source  \n",
       "0      0         A/5 21171   7.2500   NaN        S  train  \n",
       "1      0          PC 17599  71.2833   C85        C  train  \n",
       "2      0  STON/O2. 3101282   7.9250   NaN        S  train  \n",
       "3      0            113803  53.1000  C123        S  train  \n",
       "4      0            373450   8.0500   NaN        S  train  \n",
       "5      0            330877   8.4583   NaN        Q  train  \n",
       "6      0             17463  51.8625   E46        S  train  \n",
       "7      1            349909  21.0750   NaN        S  train  \n",
       "8      2            347742  11.1333   NaN        S  train  \n",
       "9      0            237736  30.0708   NaN        C  train  "
      ]
     },
     "execution_count": 401,
     "metadata": {},
     "output_type": "execute_result"
    }
   ],
   "source": [
    "combined.head(10)\n",
    "\n"
   ]
  },
  {
   "cell_type": "code",
   "execution_count": 402,
   "metadata": {},
   "outputs": [
    {
     "name": "stdout",
     "output_type": "stream",
     "text": [
      "<class 'pandas.core.frame.DataFrame'>\n",
      "Index: 1309 entries, 0 to 417\n",
      "Data columns (total 13 columns):\n",
      " #   Column       Non-Null Count  Dtype  \n",
      "---  ------       --------------  -----  \n",
      " 0   PassengerId  1309 non-null   int64  \n",
      " 1   Survived     891 non-null    float64\n",
      " 2   Pclass       1309 non-null   int64  \n",
      " 3   Name         1309 non-null   object \n",
      " 4   Sex          1309 non-null   object \n",
      " 5   Age          1046 non-null   float64\n",
      " 6   SibSp        1309 non-null   int64  \n",
      " 7   Parch        1309 non-null   int64  \n",
      " 8   Ticket       1309 non-null   object \n",
      " 9   Fare         1308 non-null   float64\n",
      " 10  Cabin        295 non-null    object \n",
      " 11  Embarked     1307 non-null   object \n",
      " 12  source       1309 non-null   object \n",
      "dtypes: float64(3), int64(4), object(6)\n",
      "memory usage: 143.2+ KB\n"
     ]
    }
   ],
   "source": [
    "combined.info()"
   ]
  },
  {
   "cell_type": "markdown",
   "metadata": {},
   "source": [
    "All of these datatypes make sense, none need to be converted"
   ]
  },
  {
   "cell_type": "code",
   "execution_count": 403,
   "metadata": {},
   "outputs": [
    {
     "data": {
      "text/html": [
       "<div>\n",
       "<style scoped>\n",
       "    .dataframe tbody tr th:only-of-type {\n",
       "        vertical-align: middle;\n",
       "    }\n",
       "\n",
       "    .dataframe tbody tr th {\n",
       "        vertical-align: top;\n",
       "    }\n",
       "\n",
       "    .dataframe thead th {\n",
       "        text-align: right;\n",
       "    }\n",
       "</style>\n",
       "<table border=\"1\" class=\"dataframe\">\n",
       "  <thead>\n",
       "    <tr style=\"text-align: right;\">\n",
       "      <th></th>\n",
       "      <th>PassengerId</th>\n",
       "      <th>Survived</th>\n",
       "      <th>Pclass</th>\n",
       "      <th>Age</th>\n",
       "      <th>SibSp</th>\n",
       "      <th>Parch</th>\n",
       "      <th>Fare</th>\n",
       "    </tr>\n",
       "  </thead>\n",
       "  <tbody>\n",
       "    <tr>\n",
       "      <th>count</th>\n",
       "      <td>1309.00</td>\n",
       "      <td>891.00</td>\n",
       "      <td>1309.00</td>\n",
       "      <td>1046.00</td>\n",
       "      <td>1309.00</td>\n",
       "      <td>1309.00</td>\n",
       "      <td>1308.00</td>\n",
       "    </tr>\n",
       "    <tr>\n",
       "      <th>mean</th>\n",
       "      <td>655.00</td>\n",
       "      <td>0.38</td>\n",
       "      <td>2.29</td>\n",
       "      <td>29.88</td>\n",
       "      <td>0.50</td>\n",
       "      <td>0.39</td>\n",
       "      <td>33.30</td>\n",
       "    </tr>\n",
       "    <tr>\n",
       "      <th>std</th>\n",
       "      <td>378.02</td>\n",
       "      <td>0.49</td>\n",
       "      <td>0.84</td>\n",
       "      <td>14.41</td>\n",
       "      <td>1.04</td>\n",
       "      <td>0.87</td>\n",
       "      <td>51.76</td>\n",
       "    </tr>\n",
       "    <tr>\n",
       "      <th>min</th>\n",
       "      <td>1.00</td>\n",
       "      <td>0.00</td>\n",
       "      <td>1.00</td>\n",
       "      <td>0.17</td>\n",
       "      <td>0.00</td>\n",
       "      <td>0.00</td>\n",
       "      <td>0.00</td>\n",
       "    </tr>\n",
       "    <tr>\n",
       "      <th>25%</th>\n",
       "      <td>328.00</td>\n",
       "      <td>0.00</td>\n",
       "      <td>2.00</td>\n",
       "      <td>21.00</td>\n",
       "      <td>0.00</td>\n",
       "      <td>0.00</td>\n",
       "      <td>7.90</td>\n",
       "    </tr>\n",
       "    <tr>\n",
       "      <th>50%</th>\n",
       "      <td>655.00</td>\n",
       "      <td>0.00</td>\n",
       "      <td>3.00</td>\n",
       "      <td>28.00</td>\n",
       "      <td>0.00</td>\n",
       "      <td>0.00</td>\n",
       "      <td>14.45</td>\n",
       "    </tr>\n",
       "    <tr>\n",
       "      <th>75%</th>\n",
       "      <td>982.00</td>\n",
       "      <td>1.00</td>\n",
       "      <td>3.00</td>\n",
       "      <td>39.00</td>\n",
       "      <td>1.00</td>\n",
       "      <td>0.00</td>\n",
       "      <td>31.28</td>\n",
       "    </tr>\n",
       "    <tr>\n",
       "      <th>max</th>\n",
       "      <td>1309.00</td>\n",
       "      <td>1.00</td>\n",
       "      <td>3.00</td>\n",
       "      <td>80.00</td>\n",
       "      <td>8.00</td>\n",
       "      <td>9.00</td>\n",
       "      <td>512.33</td>\n",
       "    </tr>\n",
       "  </tbody>\n",
       "</table>\n",
       "</div>"
      ],
      "text/plain": [
       "       PassengerId  Survived   Pclass      Age    SibSp    Parch     Fare\n",
       "count      1309.00    891.00  1309.00  1046.00  1309.00  1309.00  1308.00\n",
       "mean        655.00      0.38     2.29    29.88     0.50     0.39    33.30\n",
       "std         378.02      0.49     0.84    14.41     1.04     0.87    51.76\n",
       "min           1.00      0.00     1.00     0.17     0.00     0.00     0.00\n",
       "25%         328.00      0.00     2.00    21.00     0.00     0.00     7.90\n",
       "50%         655.00      0.00     3.00    28.00     0.00     0.00    14.45\n",
       "75%         982.00      1.00     3.00    39.00     1.00     0.00    31.28\n",
       "max        1309.00      1.00     3.00    80.00     8.00     9.00   512.33"
      ]
     },
     "execution_count": 403,
     "metadata": {},
     "output_type": "execute_result"
    }
   ],
   "source": [
    "combined.describe().round(2)\n"
   ]
  },
  {
   "cell_type": "markdown",
   "metadata": {},
   "source": [
    "#### Deal with Missing Values"
   ]
  },
  {
   "cell_type": "code",
   "execution_count": 404,
   "metadata": {},
   "outputs": [
    {
     "name": "stdout",
     "output_type": "stream",
     "text": [
      "Missing values in train data:\n",
      "Survived     418\n",
      "Age          263\n",
      "Fare           1\n",
      "Cabin       1014\n",
      "Embarked       2\n",
      "dtype: int64\n"
     ]
    }
   ],
   "source": [
    "missing_values = combined.isnull().sum()\n",
    "missing_values = missing_values[missing_values > 0]\n",
    "print(\"Missing values in train data:\")\n",
    "print(missing_values)"
   ]
  },
  {
   "cell_type": "markdown",
   "metadata": {},
   "source": [
    "possible values"
   ]
  },
  {
   "cell_type": "code",
   "execution_count": 405,
   "metadata": {},
   "outputs": [
    {
     "name": "stdout",
     "output_type": "stream",
     "text": [
      "PassengerId    1309\n",
      "Survived          2\n",
      "Pclass            3\n",
      "Name           1307\n",
      "Sex               2\n",
      "Age              98\n",
      "SibSp             7\n",
      "Parch             8\n",
      "Ticket          929\n",
      "Fare            281\n",
      "Cabin           186\n",
      "Embarked          3\n",
      "source            2\n",
      "dtype: int64\n",
      "Survived: [ 0.  1. nan]\n",
      "Pclass: [3 1 2]\n",
      "Sex: ['male' 'female']\n",
      "SibSp: [1 0 3 4 2 5 8]\n",
      "Parch: [0 1 2 5 3 4 6 9]\n",
      "Embarked: ['S' 'C' 'Q' nan]\n",
      "source: ['train' 'test']\n"
     ]
    }
   ],
   "source": [
    "unique_values = combined.nunique()\n",
    "print(unique_values)\n",
    "\n",
    "for col in combined.columns:\n",
    "    if combined[col].nunique() < 10:\n",
    "        print(f\"{col}: {combined[col].unique()}\") # show unique values for columns with less than 10 unique values\n"
   ]
  },
  {
   "cell_type": "markdown",
   "metadata": {},
   "source": [
    "##### Embarked Column"
   ]
  },
  {
   "cell_type": "code",
   "execution_count": 406,
   "metadata": {},
   "outputs": [
    {
     "name": "stdout",
     "output_type": "stream",
     "text": [
      "Embarked\n",
      "S    914\n",
      "C    270\n",
      "Q    123\n",
      "Name: count, dtype: int64\n",
      "Embarked\n",
      "S    1.025814\n",
      "C    0.303030\n",
      "Q    0.138047\n",
      "Name: count, dtype: float64\n"
     ]
    }
   ],
   "source": [
    "print(combined['Embarked'].value_counts())\n",
    "print(combined['Embarked'].value_counts() / len(train))\n"
   ]
  },
  {
   "cell_type": "markdown",
   "metadata": {},
   "source": [
    "Becuase there is a 73% chance a passanger embarked in Cherbourg (C), it makes sense to fill in the two missing values in with C"
   ]
  },
  {
   "cell_type": "code",
   "execution_count": 407,
   "metadata": {},
   "outputs": [
    {
     "name": "stdout",
     "output_type": "stream",
     "text": [
      "Before filling:\n",
      "2\n",
      "\n",
      "After filling:\n",
      "0\n"
     ]
    }
   ],
   "source": [
    "print(\"Before filling:\")\n",
    "print(combined['Embarked'].isnull().sum()) # 2\n",
    "\n",
    "# Fill missing values\n",
    "combined['Embarked'] = combined['Embarked'].fillna(combined['Embarked'].mode()[0])\n",
    "\n",
    "print(\"\\nAfter filling:\")\n",
    "print(combined['Embarked'].isnull().sum()) # should be 0"
   ]
  },
  {
   "cell_type": "markdown",
   "metadata": {},
   "source": [
    "##### Age Column"
   ]
  },
  {
   "cell_type": "code",
   "execution_count": 408,
   "metadata": {},
   "outputs": [
    {
     "name": "stdout",
     "output_type": "stream",
     "text": [
      "Survived    0.469136\n",
      "dtype: float64\n",
      "count    1046.00\n",
      "mean       29.88\n",
      "std        14.41\n",
      "min         0.17\n",
      "25%        21.00\n",
      "50%        28.00\n",
      "75%        39.00\n",
      "max        80.00\n",
      "Name: Age, dtype: float64\n"
     ]
    }
   ],
   "source": [
    "print(missing_values[0:1] / len(train))\n",
    "\n",
    "print(combined['Age'].describe().round(2))"
   ]
  },
  {
   "cell_type": "markdown",
   "metadata": {},
   "source": [
    "For age, we have 20% of rows missing an entry. This is probably an important predictive columns so we we will impute values. \n",
    "\n",
    "First lets extract a title, beucase that coule be useful. "
   ]
  },
  {
   "cell_type": "code",
   "execution_count": 409,
   "metadata": {},
   "outputs": [
    {
     "name": "stdout",
     "output_type": "stream",
     "text": [
      "Title\n",
      "Mr              757\n",
      "Miss            260\n",
      "Mrs             197\n",
      "Master           61\n",
      "Rev               8\n",
      "Dr                8\n",
      "Col               4\n",
      "Mlle              2\n",
      "Major             2\n",
      "Ms                2\n",
      "Lady              1\n",
      "Sir               1\n",
      "Mme               1\n",
      "Don               1\n",
      "Capt              1\n",
      "the Countess      1\n",
      "Jonkheer          1\n",
      "Dona              1\n",
      "Name: count, dtype: int64\n"
     ]
    }
   ],
   "source": [
    "# add a nnew column for the title, found in the second index after splitting the name column\n",
    "combined['Title'] = combined['Name'].str.split(',').str[1].str.split('.').str[0]\n",
    "\n",
    "# print the unique values in the title column and the number of occurences\n",
    "print(combined['Title'].value_counts())\n",
    "\n"
   ]
  },
  {
   "cell_type": "markdown",
   "metadata": {},
   "source": [
    "Predict the missing vlaues of age using XGBoost"
   ]
  },
  {
   "cell_type": "code",
   "execution_count": 410,
   "metadata": {},
   "outputs": [
    {
     "name": "stdout",
     "output_type": "stream",
     "text": [
      "\n",
      "Missing values after prediction:\n",
      "0\n",
      "\n",
      "Age statistics after imputation:\n",
      "count    1309.00\n",
      "mean       29.90\n",
      "std        13.52\n",
      "min         0.17\n",
      "25%        21.96\n",
      "50%        28.12\n",
      "75%        38.00\n",
      "max        80.00\n",
      "Name: Age, dtype: float64\n"
     ]
    }
   ],
   "source": [
    "# lets use a Gradient Boosting Regressor to predict the missing values of age \n",
    "# using columns Pclass, Sex, SibSp, Parch, Embarked, Title.\n",
    "\n",
    "import xgboost as xgb\n",
    "import numpy as np\n",
    "from sklearn.preprocessing import LabelEncoder\n",
    "\n",
    "# First, let's prepare the data for XGBoost\n",
    "# Create a copy of the data we'll use for prediction\n",
    "age_data = combined[['Age', 'Pclass', 'Sex', 'SibSp', 'Parch', 'Embarked', 'Title', 'Fare']].copy()\n",
    "\n",
    "# Encode categorical variables\n",
    "le_sex = LabelEncoder()\n",
    "le_emb = LabelEncoder()\n",
    "le_title = LabelEncoder()\n",
    "\n",
    "age_data['Sex'] = le_sex.fit_transform(age_data['Sex'])\n",
    "age_data['Embarked'] = le_emb.fit_transform(age_data['Embarked'])\n",
    "age_data['Title'] = le_title.fit_transform(age_data['Title'])\n",
    "\n",
    "# Split into two sets: known age and unknown age\n",
    "known_age = age_data[age_data['Age'].notnull()]\n",
    "unknown_age = age_data[age_data['Age'].isnull()]\n",
    "\n",
    "# Prepare the training data\n",
    "X_train = known_age.drop('Age', axis=1)\n",
    "y_train = known_age['Age']\n",
    "\n",
    "# Train XGBoost model\n",
    "xgb_reg = xgb.XGBRegressor(\n",
    "    n_estimators=100,\n",
    "    learning_rate=0.1,\n",
    "    max_depth=6,\n",
    "    subsample=0.8,\n",
    "    colsample_bytree=0.8,\n",
    "    random_state=42\n",
    ")\n",
    "\n",
    "xgb_reg.fit(X_train, y_train)\n",
    "\n",
    "# Predict missing ages\n",
    "X_test = unknown_age.drop('Age', axis=1)\n",
    "predicted_ages = xgb_reg.predict(X_test)\n",
    "\n",
    "# Fill the missing values in the original dataframe\n",
    "combined.loc[combined['Age'].isnull(), 'Age'] = predicted_ages\n",
    "\n",
    "# Verify the results\n",
    "print(\"\\nMissing values after prediction:\")\n",
    "print(combined['Age'].isnull().sum())\n",
    "\n",
    "# Show age distribution statistics before and after\n",
    "print(\"\\nAge statistics after imputation:\")\n",
    "print(combined['Age'].describe().round(2))\n",
    "\n"
   ]
  },
  {
   "cell_type": "markdown",
   "metadata": {},
   "source": [
    "##### Cabin Column"
   ]
  },
  {
   "cell_type": "markdown",
   "metadata": {},
   "source": [
    "For cabin we have two components, the letter and the number. Lets split these, creating new columns and deleting the old ones.\n",
    "\n",
    "note that for some tickets that are booked together, there are multiple Cabins recoded, for these we can only take the cabin letter."
   ]
  },
  {
   "cell_type": "code",
   "execution_count": 411,
   "metadata": {},
   "outputs": [
    {
     "data": {
      "text/html": [
       "<div>\n",
       "<style scoped>\n",
       "    .dataframe tbody tr th:only-of-type {\n",
       "        vertical-align: middle;\n",
       "    }\n",
       "\n",
       "    .dataframe tbody tr th {\n",
       "        vertical-align: top;\n",
       "    }\n",
       "\n",
       "    .dataframe thead th {\n",
       "        text-align: right;\n",
       "    }\n",
       "</style>\n",
       "<table border=\"1\" class=\"dataframe\">\n",
       "  <thead>\n",
       "    <tr style=\"text-align: right;\">\n",
       "      <th></th>\n",
       "      <th>PassengerId</th>\n",
       "      <th>Survived</th>\n",
       "      <th>Pclass</th>\n",
       "      <th>Name</th>\n",
       "      <th>Sex</th>\n",
       "      <th>Age</th>\n",
       "      <th>SibSp</th>\n",
       "      <th>Parch</th>\n",
       "      <th>Ticket</th>\n",
       "      <th>Fare</th>\n",
       "      <th>Embarked</th>\n",
       "      <th>source</th>\n",
       "      <th>Title</th>\n",
       "      <th>Cabin_letter</th>\n",
       "      <th>Cabin_number</th>\n",
       "    </tr>\n",
       "  </thead>\n",
       "  <tbody>\n",
       "    <tr>\n",
       "      <th>0</th>\n",
       "      <td>1</td>\n",
       "      <td>0.0</td>\n",
       "      <td>3</td>\n",
       "      <td>Braund, Mr. Owen Harris</td>\n",
       "      <td>male</td>\n",
       "      <td>22.0</td>\n",
       "      <td>1</td>\n",
       "      <td>0</td>\n",
       "      <td>A/5 21171</td>\n",
       "      <td>7.2500</td>\n",
       "      <td>S</td>\n",
       "      <td>train</td>\n",
       "      <td>Mr</td>\n",
       "      <td>NaN</td>\n",
       "      <td>NaN</td>\n",
       "    </tr>\n",
       "    <tr>\n",
       "      <th>1</th>\n",
       "      <td>2</td>\n",
       "      <td>1.0</td>\n",
       "      <td>1</td>\n",
       "      <td>Cumings, Mrs. John Bradley (Florence Briggs Th...</td>\n",
       "      <td>female</td>\n",
       "      <td>38.0</td>\n",
       "      <td>1</td>\n",
       "      <td>0</td>\n",
       "      <td>PC 17599</td>\n",
       "      <td>71.2833</td>\n",
       "      <td>C</td>\n",
       "      <td>train</td>\n",
       "      <td>Mrs</td>\n",
       "      <td>C</td>\n",
       "      <td>85</td>\n",
       "    </tr>\n",
       "    <tr>\n",
       "      <th>2</th>\n",
       "      <td>3</td>\n",
       "      <td>1.0</td>\n",
       "      <td>3</td>\n",
       "      <td>Heikkinen, Miss. Laina</td>\n",
       "      <td>female</td>\n",
       "      <td>26.0</td>\n",
       "      <td>0</td>\n",
       "      <td>0</td>\n",
       "      <td>STON/O2. 3101282</td>\n",
       "      <td>7.9250</td>\n",
       "      <td>S</td>\n",
       "      <td>train</td>\n",
       "      <td>Miss</td>\n",
       "      <td>NaN</td>\n",
       "      <td>NaN</td>\n",
       "    </tr>\n",
       "    <tr>\n",
       "      <th>3</th>\n",
       "      <td>4</td>\n",
       "      <td>1.0</td>\n",
       "      <td>1</td>\n",
       "      <td>Futrelle, Mrs. Jacques Heath (Lily May Peel)</td>\n",
       "      <td>female</td>\n",
       "      <td>35.0</td>\n",
       "      <td>1</td>\n",
       "      <td>0</td>\n",
       "      <td>113803</td>\n",
       "      <td>53.1000</td>\n",
       "      <td>S</td>\n",
       "      <td>train</td>\n",
       "      <td>Mrs</td>\n",
       "      <td>C</td>\n",
       "      <td>123</td>\n",
       "    </tr>\n",
       "    <tr>\n",
       "      <th>4</th>\n",
       "      <td>5</td>\n",
       "      <td>0.0</td>\n",
       "      <td>3</td>\n",
       "      <td>Allen, Mr. William Henry</td>\n",
       "      <td>male</td>\n",
       "      <td>35.0</td>\n",
       "      <td>0</td>\n",
       "      <td>0</td>\n",
       "      <td>373450</td>\n",
       "      <td>8.0500</td>\n",
       "      <td>S</td>\n",
       "      <td>train</td>\n",
       "      <td>Mr</td>\n",
       "      <td>NaN</td>\n",
       "      <td>NaN</td>\n",
       "    </tr>\n",
       "  </tbody>\n",
       "</table>\n",
       "</div>"
      ],
      "text/plain": [
       "   PassengerId  Survived  Pclass  \\\n",
       "0            1       0.0       3   \n",
       "1            2       1.0       1   \n",
       "2            3       1.0       3   \n",
       "3            4       1.0       1   \n",
       "4            5       0.0       3   \n",
       "\n",
       "                                                Name     Sex   Age  SibSp  \\\n",
       "0                            Braund, Mr. Owen Harris    male  22.0      1   \n",
       "1  Cumings, Mrs. John Bradley (Florence Briggs Th...  female  38.0      1   \n",
       "2                             Heikkinen, Miss. Laina  female  26.0      0   \n",
       "3       Futrelle, Mrs. Jacques Heath (Lily May Peel)  female  35.0      1   \n",
       "4                           Allen, Mr. William Henry    male  35.0      0   \n",
       "\n",
       "   Parch            Ticket     Fare Embarked source  Title Cabin_letter  \\\n",
       "0      0         A/5 21171   7.2500        S  train     Mr          NaN   \n",
       "1      0          PC 17599  71.2833        C  train    Mrs            C   \n",
       "2      0  STON/O2. 3101282   7.9250        S  train   Miss          NaN   \n",
       "3      0            113803  53.1000        S  train    Mrs            C   \n",
       "4      0            373450   8.0500        S  train     Mr          NaN   \n",
       "\n",
       "  Cabin_number  \n",
       "0          NaN  \n",
       "1           85  \n",
       "2          NaN  \n",
       "3          123  \n",
       "4          NaN  "
      ]
     },
     "execution_count": 411,
     "metadata": {},
     "output_type": "execute_result"
    }
   ],
   "source": [
    "def extract_cabin_info(cabin_entry):\n",
    "    if pd.isna(cabin_entry):\n",
    "        return pd.Series([np.nan, np.nan])\n",
    "    cabins = cabin_entry.split()\n",
    "    first_cabin = cabins[0]\n",
    "    cabin_letter = first_cabin[0]\n",
    "    cabin_number = first_cabin[1:] if len(cabins) == 1 else np.nan\n",
    "    return pd.Series([cabin_letter, cabin_number])\n",
    "\n",
    "combined[['Cabin_letter', 'Cabin_number']] = combined['Cabin'].apply(extract_cabin_info)\n",
    "\n",
    "combined = combined.drop('Cabin', axis=1)\n",
    "\n",
    "combined.head(5)"
   ]
  },
  {
   "cell_type": "code",
   "execution_count": 412,
   "metadata": {},
   "outputs": [
    {
     "name": "stdout",
     "output_type": "stream",
     "text": [
      "Age    0.295174\n",
      "dtype: float64\n"
     ]
    }
   ],
   "source": [
    "\n",
    "print(missing_values[1:2] / len(train))"
   ]
  },
  {
   "cell_type": "markdown",
   "metadata": {},
   "source": [
    "77% of the Cabin letter and number were not recorded. This is too much to drop, and hard to predict given our other predictors. We will leave it as NaN."
   ]
  },
  {
   "cell_type": "markdown",
   "metadata": {},
   "source": [
    "### 3. Feature Engineering"
   ]
  },
  {
   "cell_type": "markdown",
   "metadata": {},
   "source": [
    "#### Last Name"
   ]
  },
  {
   "cell_type": "code",
   "execution_count": 413,
   "metadata": {},
   "outputs": [
    {
     "name": "stdout",
     "output_type": "stream",
     "text": [
      "LastName\n",
      "Andersson    11\n",
      "Sage         11\n",
      "Goodwin       8\n",
      "Asplund       8\n",
      "Davies        7\n",
      "             ..\n",
      "Milling       1\n",
      "Maisner       1\n",
      "Goncalves     1\n",
      "Campbell      1\n",
      "Saether       1\n",
      "Name: count, Length: 875, dtype: int64\n"
     ]
    }
   ],
   "source": [
    "combined['LastName'] = combined['Name'].str.split(',').str[0].str.split('.').str[0]\n",
    "print(combined['LastName'].value_counts())"
   ]
  },
  {
   "cell_type": "markdown",
   "metadata": {},
   "source": [
    "#### Family Size"
   ]
  },
  {
   "cell_type": "code",
   "execution_count": 414,
   "metadata": {},
   "outputs": [
    {
     "data": {
      "text/html": [
       "<div>\n",
       "<style scoped>\n",
       "    .dataframe tbody tr th:only-of-type {\n",
       "        vertical-align: middle;\n",
       "    }\n",
       "\n",
       "    .dataframe tbody tr th {\n",
       "        vertical-align: top;\n",
       "    }\n",
       "\n",
       "    .dataframe thead th {\n",
       "        text-align: right;\n",
       "    }\n",
       "</style>\n",
       "<table border=\"1\" class=\"dataframe\">\n",
       "  <thead>\n",
       "    <tr style=\"text-align: right;\">\n",
       "      <th></th>\n",
       "      <th>PassengerId</th>\n",
       "      <th>Survived</th>\n",
       "      <th>Pclass</th>\n",
       "      <th>Name</th>\n",
       "      <th>Sex</th>\n",
       "      <th>Age</th>\n",
       "      <th>SibSp</th>\n",
       "      <th>Parch</th>\n",
       "      <th>Ticket</th>\n",
       "      <th>Fare</th>\n",
       "      <th>Embarked</th>\n",
       "      <th>source</th>\n",
       "      <th>Title</th>\n",
       "      <th>Cabin_letter</th>\n",
       "      <th>Cabin_number</th>\n",
       "      <th>LastName</th>\n",
       "      <th>FamilySize</th>\n",
       "    </tr>\n",
       "  </thead>\n",
       "  <tbody>\n",
       "    <tr>\n",
       "      <th>159</th>\n",
       "      <td>160</td>\n",
       "      <td>0.0</td>\n",
       "      <td>3</td>\n",
       "      <td>Sage, Master. Thomas Henry</td>\n",
       "      <td>male</td>\n",
       "      <td>15.969364</td>\n",
       "      <td>8</td>\n",
       "      <td>2</td>\n",
       "      <td>CA. 2343</td>\n",
       "      <td>69.5500</td>\n",
       "      <td>S</td>\n",
       "      <td>train</td>\n",
       "      <td>Master</td>\n",
       "      <td>NaN</td>\n",
       "      <td>NaN</td>\n",
       "      <td>Sage</td>\n",
       "      <td>11</td>\n",
       "    </tr>\n",
       "    <tr>\n",
       "      <th>180</th>\n",
       "      <td>181</td>\n",
       "      <td>0.0</td>\n",
       "      <td>3</td>\n",
       "      <td>Sage, Miss. Constance Gladys</td>\n",
       "      <td>female</td>\n",
       "      <td>23.197212</td>\n",
       "      <td>8</td>\n",
       "      <td>2</td>\n",
       "      <td>CA. 2343</td>\n",
       "      <td>69.5500</td>\n",
       "      <td>S</td>\n",
       "      <td>train</td>\n",
       "      <td>Miss</td>\n",
       "      <td>NaN</td>\n",
       "      <td>NaN</td>\n",
       "      <td>Sage</td>\n",
       "      <td>11</td>\n",
       "    </tr>\n",
       "    <tr>\n",
       "      <th>201</th>\n",
       "      <td>202</td>\n",
       "      <td>0.0</td>\n",
       "      <td>3</td>\n",
       "      <td>Sage, Mr. Frederick</td>\n",
       "      <td>male</td>\n",
       "      <td>20.659479</td>\n",
       "      <td>8</td>\n",
       "      <td>2</td>\n",
       "      <td>CA. 2343</td>\n",
       "      <td>69.5500</td>\n",
       "      <td>S</td>\n",
       "      <td>train</td>\n",
       "      <td>Mr</td>\n",
       "      <td>NaN</td>\n",
       "      <td>NaN</td>\n",
       "      <td>Sage</td>\n",
       "      <td>11</td>\n",
       "    </tr>\n",
       "    <tr>\n",
       "      <th>324</th>\n",
       "      <td>325</td>\n",
       "      <td>0.0</td>\n",
       "      <td>3</td>\n",
       "      <td>Sage, Mr. George John Jr</td>\n",
       "      <td>male</td>\n",
       "      <td>20.659479</td>\n",
       "      <td>8</td>\n",
       "      <td>2</td>\n",
       "      <td>CA. 2343</td>\n",
       "      <td>69.5500</td>\n",
       "      <td>S</td>\n",
       "      <td>train</td>\n",
       "      <td>Mr</td>\n",
       "      <td>NaN</td>\n",
       "      <td>NaN</td>\n",
       "      <td>Sage</td>\n",
       "      <td>11</td>\n",
       "    </tr>\n",
       "    <tr>\n",
       "      <th>792</th>\n",
       "      <td>793</td>\n",
       "      <td>0.0</td>\n",
       "      <td>3</td>\n",
       "      <td>Sage, Miss. Stella Anna</td>\n",
       "      <td>female</td>\n",
       "      <td>23.197212</td>\n",
       "      <td>8</td>\n",
       "      <td>2</td>\n",
       "      <td>CA. 2343</td>\n",
       "      <td>69.5500</td>\n",
       "      <td>S</td>\n",
       "      <td>train</td>\n",
       "      <td>Miss</td>\n",
       "      <td>NaN</td>\n",
       "      <td>NaN</td>\n",
       "      <td>Sage</td>\n",
       "      <td>11</td>\n",
       "    </tr>\n",
       "    <tr>\n",
       "      <th>846</th>\n",
       "      <td>847</td>\n",
       "      <td>0.0</td>\n",
       "      <td>3</td>\n",
       "      <td>Sage, Mr. Douglas Bullen</td>\n",
       "      <td>male</td>\n",
       "      <td>20.659479</td>\n",
       "      <td>8</td>\n",
       "      <td>2</td>\n",
       "      <td>CA. 2343</td>\n",
       "      <td>69.5500</td>\n",
       "      <td>S</td>\n",
       "      <td>train</td>\n",
       "      <td>Mr</td>\n",
       "      <td>NaN</td>\n",
       "      <td>NaN</td>\n",
       "      <td>Sage</td>\n",
       "      <td>11</td>\n",
       "    </tr>\n",
       "    <tr>\n",
       "      <th>863</th>\n",
       "      <td>864</td>\n",
       "      <td>0.0</td>\n",
       "      <td>3</td>\n",
       "      <td>Sage, Miss. Dorothy Edith \"Dolly\"</td>\n",
       "      <td>female</td>\n",
       "      <td>23.197212</td>\n",
       "      <td>8</td>\n",
       "      <td>2</td>\n",
       "      <td>CA. 2343</td>\n",
       "      <td>69.5500</td>\n",
       "      <td>S</td>\n",
       "      <td>train</td>\n",
       "      <td>Miss</td>\n",
       "      <td>NaN</td>\n",
       "      <td>NaN</td>\n",
       "      <td>Sage</td>\n",
       "      <td>11</td>\n",
       "    </tr>\n",
       "    <tr>\n",
       "      <th>188</th>\n",
       "      <td>1080</td>\n",
       "      <td>NaN</td>\n",
       "      <td>3</td>\n",
       "      <td>Sage, Miss. Ada</td>\n",
       "      <td>female</td>\n",
       "      <td>23.197212</td>\n",
       "      <td>8</td>\n",
       "      <td>2</td>\n",
       "      <td>CA. 2343</td>\n",
       "      <td>69.5500</td>\n",
       "      <td>S</td>\n",
       "      <td>test</td>\n",
       "      <td>Miss</td>\n",
       "      <td>NaN</td>\n",
       "      <td>NaN</td>\n",
       "      <td>Sage</td>\n",
       "      <td>11</td>\n",
       "    </tr>\n",
       "    <tr>\n",
       "      <th>342</th>\n",
       "      <td>1234</td>\n",
       "      <td>NaN</td>\n",
       "      <td>3</td>\n",
       "      <td>Sage, Mr. John George</td>\n",
       "      <td>male</td>\n",
       "      <td>39.557892</td>\n",
       "      <td>1</td>\n",
       "      <td>9</td>\n",
       "      <td>CA. 2343</td>\n",
       "      <td>69.5500</td>\n",
       "      <td>S</td>\n",
       "      <td>test</td>\n",
       "      <td>Mr</td>\n",
       "      <td>NaN</td>\n",
       "      <td>NaN</td>\n",
       "      <td>Sage</td>\n",
       "      <td>11</td>\n",
       "    </tr>\n",
       "    <tr>\n",
       "      <th>360</th>\n",
       "      <td>1252</td>\n",
       "      <td>NaN</td>\n",
       "      <td>3</td>\n",
       "      <td>Sage, Master. William Henry</td>\n",
       "      <td>male</td>\n",
       "      <td>14.500000</td>\n",
       "      <td>8</td>\n",
       "      <td>2</td>\n",
       "      <td>CA. 2343</td>\n",
       "      <td>69.5500</td>\n",
       "      <td>S</td>\n",
       "      <td>test</td>\n",
       "      <td>Master</td>\n",
       "      <td>NaN</td>\n",
       "      <td>NaN</td>\n",
       "      <td>Sage</td>\n",
       "      <td>11</td>\n",
       "    </tr>\n",
       "    <tr>\n",
       "      <th>365</th>\n",
       "      <td>1257</td>\n",
       "      <td>NaN</td>\n",
       "      <td>3</td>\n",
       "      <td>Sage, Mrs. John (Annie Bullen)</td>\n",
       "      <td>female</td>\n",
       "      <td>42.789989</td>\n",
       "      <td>1</td>\n",
       "      <td>9</td>\n",
       "      <td>CA. 2343</td>\n",
       "      <td>69.5500</td>\n",
       "      <td>S</td>\n",
       "      <td>test</td>\n",
       "      <td>Mrs</td>\n",
       "      <td>NaN</td>\n",
       "      <td>NaN</td>\n",
       "      <td>Sage</td>\n",
       "      <td>11</td>\n",
       "    </tr>\n",
       "    <tr>\n",
       "      <th>59</th>\n",
       "      <td>60</td>\n",
       "      <td>0.0</td>\n",
       "      <td>3</td>\n",
       "      <td>Goodwin, Master. William Frederick</td>\n",
       "      <td>male</td>\n",
       "      <td>11.000000</td>\n",
       "      <td>5</td>\n",
       "      <td>2</td>\n",
       "      <td>CA 2144</td>\n",
       "      <td>46.9000</td>\n",
       "      <td>S</td>\n",
       "      <td>train</td>\n",
       "      <td>Master</td>\n",
       "      <td>NaN</td>\n",
       "      <td>NaN</td>\n",
       "      <td>Goodwin</td>\n",
       "      <td>8</td>\n",
       "    </tr>\n",
       "    <tr>\n",
       "      <th>71</th>\n",
       "      <td>72</td>\n",
       "      <td>0.0</td>\n",
       "      <td>3</td>\n",
       "      <td>Goodwin, Miss. Lillian Amy</td>\n",
       "      <td>female</td>\n",
       "      <td>16.000000</td>\n",
       "      <td>5</td>\n",
       "      <td>2</td>\n",
       "      <td>CA 2144</td>\n",
       "      <td>46.9000</td>\n",
       "      <td>S</td>\n",
       "      <td>train</td>\n",
       "      <td>Miss</td>\n",
       "      <td>NaN</td>\n",
       "      <td>NaN</td>\n",
       "      <td>Goodwin</td>\n",
       "      <td>8</td>\n",
       "    </tr>\n",
       "    <tr>\n",
       "      <th>386</th>\n",
       "      <td>387</td>\n",
       "      <td>0.0</td>\n",
       "      <td>3</td>\n",
       "      <td>Goodwin, Master. Sidney Leonard</td>\n",
       "      <td>male</td>\n",
       "      <td>1.000000</td>\n",
       "      <td>5</td>\n",
       "      <td>2</td>\n",
       "      <td>CA 2144</td>\n",
       "      <td>46.9000</td>\n",
       "      <td>S</td>\n",
       "      <td>train</td>\n",
       "      <td>Master</td>\n",
       "      <td>NaN</td>\n",
       "      <td>NaN</td>\n",
       "      <td>Goodwin</td>\n",
       "      <td>8</td>\n",
       "    </tr>\n",
       "    <tr>\n",
       "      <th>480</th>\n",
       "      <td>481</td>\n",
       "      <td>0.0</td>\n",
       "      <td>3</td>\n",
       "      <td>Goodwin, Master. Harold Victor</td>\n",
       "      <td>male</td>\n",
       "      <td>9.000000</td>\n",
       "      <td>5</td>\n",
       "      <td>2</td>\n",
       "      <td>CA 2144</td>\n",
       "      <td>46.9000</td>\n",
       "      <td>S</td>\n",
       "      <td>train</td>\n",
       "      <td>Master</td>\n",
       "      <td>NaN</td>\n",
       "      <td>NaN</td>\n",
       "      <td>Goodwin</td>\n",
       "      <td>8</td>\n",
       "    </tr>\n",
       "    <tr>\n",
       "      <th>678</th>\n",
       "      <td>679</td>\n",
       "      <td>0.0</td>\n",
       "      <td>3</td>\n",
       "      <td>Goodwin, Mrs. Frederick (Augusta Tyler)</td>\n",
       "      <td>female</td>\n",
       "      <td>43.000000</td>\n",
       "      <td>1</td>\n",
       "      <td>6</td>\n",
       "      <td>CA 2144</td>\n",
       "      <td>46.9000</td>\n",
       "      <td>S</td>\n",
       "      <td>train</td>\n",
       "      <td>Mrs</td>\n",
       "      <td>NaN</td>\n",
       "      <td>NaN</td>\n",
       "      <td>Goodwin</td>\n",
       "      <td>8</td>\n",
       "    </tr>\n",
       "    <tr>\n",
       "      <th>683</th>\n",
       "      <td>684</td>\n",
       "      <td>0.0</td>\n",
       "      <td>3</td>\n",
       "      <td>Goodwin, Mr. Charles Edward</td>\n",
       "      <td>male</td>\n",
       "      <td>14.000000</td>\n",
       "      <td>5</td>\n",
       "      <td>2</td>\n",
       "      <td>CA 2144</td>\n",
       "      <td>46.9000</td>\n",
       "      <td>S</td>\n",
       "      <td>train</td>\n",
       "      <td>Mr</td>\n",
       "      <td>NaN</td>\n",
       "      <td>NaN</td>\n",
       "      <td>Goodwin</td>\n",
       "      <td>8</td>\n",
       "    </tr>\n",
       "    <tr>\n",
       "      <th>139</th>\n",
       "      <td>1031</td>\n",
       "      <td>NaN</td>\n",
       "      <td>3</td>\n",
       "      <td>Goodwin, Mr. Charles Frederick</td>\n",
       "      <td>male</td>\n",
       "      <td>40.000000</td>\n",
       "      <td>1</td>\n",
       "      <td>6</td>\n",
       "      <td>CA 2144</td>\n",
       "      <td>46.9000</td>\n",
       "      <td>S</td>\n",
       "      <td>test</td>\n",
       "      <td>Mr</td>\n",
       "      <td>NaN</td>\n",
       "      <td>NaN</td>\n",
       "      <td>Goodwin</td>\n",
       "      <td>8</td>\n",
       "    </tr>\n",
       "    <tr>\n",
       "      <th>140</th>\n",
       "      <td>1032</td>\n",
       "      <td>NaN</td>\n",
       "      <td>3</td>\n",
       "      <td>Goodwin, Miss. Jessie Allis</td>\n",
       "      <td>female</td>\n",
       "      <td>10.000000</td>\n",
       "      <td>5</td>\n",
       "      <td>2</td>\n",
       "      <td>CA 2144</td>\n",
       "      <td>46.9000</td>\n",
       "      <td>S</td>\n",
       "      <td>test</td>\n",
       "      <td>Miss</td>\n",
       "      <td>NaN</td>\n",
       "      <td>NaN</td>\n",
       "      <td>Goodwin</td>\n",
       "      <td>8</td>\n",
       "    </tr>\n",
       "    <tr>\n",
       "      <th>25</th>\n",
       "      <td>26</td>\n",
       "      <td>1.0</td>\n",
       "      <td>3</td>\n",
       "      <td>Asplund, Mrs. Carl Oscar (Selma Augusta Emilia...</td>\n",
       "      <td>female</td>\n",
       "      <td>38.000000</td>\n",
       "      <td>1</td>\n",
       "      <td>5</td>\n",
       "      <td>347077</td>\n",
       "      <td>31.3875</td>\n",
       "      <td>S</td>\n",
       "      <td>train</td>\n",
       "      <td>Mrs</td>\n",
       "      <td>NaN</td>\n",
       "      <td>NaN</td>\n",
       "      <td>Asplund</td>\n",
       "      <td>7</td>\n",
       "    </tr>\n",
       "    <tr>\n",
       "      <th>182</th>\n",
       "      <td>183</td>\n",
       "      <td>0.0</td>\n",
       "      <td>3</td>\n",
       "      <td>Asplund, Master. Clarence Gustaf Hugo</td>\n",
       "      <td>male</td>\n",
       "      <td>9.000000</td>\n",
       "      <td>4</td>\n",
       "      <td>2</td>\n",
       "      <td>347077</td>\n",
       "      <td>31.3875</td>\n",
       "      <td>S</td>\n",
       "      <td>train</td>\n",
       "      <td>Master</td>\n",
       "      <td>NaN</td>\n",
       "      <td>NaN</td>\n",
       "      <td>Asplund</td>\n",
       "      <td>7</td>\n",
       "    </tr>\n",
       "    <tr>\n",
       "      <th>233</th>\n",
       "      <td>234</td>\n",
       "      <td>1.0</td>\n",
       "      <td>3</td>\n",
       "      <td>Asplund, Miss. Lillian Gertrud</td>\n",
       "      <td>female</td>\n",
       "      <td>5.000000</td>\n",
       "      <td>4</td>\n",
       "      <td>2</td>\n",
       "      <td>347077</td>\n",
       "      <td>31.3875</td>\n",
       "      <td>S</td>\n",
       "      <td>train</td>\n",
       "      <td>Miss</td>\n",
       "      <td>NaN</td>\n",
       "      <td>NaN</td>\n",
       "      <td>Asplund</td>\n",
       "      <td>7</td>\n",
       "    </tr>\n",
       "    <tr>\n",
       "      <th>261</th>\n",
       "      <td>262</td>\n",
       "      <td>1.0</td>\n",
       "      <td>3</td>\n",
       "      <td>Asplund, Master. Edvin Rojj Felix</td>\n",
       "      <td>male</td>\n",
       "      <td>3.000000</td>\n",
       "      <td>4</td>\n",
       "      <td>2</td>\n",
       "      <td>347077</td>\n",
       "      <td>31.3875</td>\n",
       "      <td>S</td>\n",
       "      <td>train</td>\n",
       "      <td>Master</td>\n",
       "      <td>NaN</td>\n",
       "      <td>NaN</td>\n",
       "      <td>Asplund</td>\n",
       "      <td>7</td>\n",
       "    </tr>\n",
       "    <tr>\n",
       "      <th>154</th>\n",
       "      <td>1046</td>\n",
       "      <td>NaN</td>\n",
       "      <td>3</td>\n",
       "      <td>Asplund, Master. Filip Oscar</td>\n",
       "      <td>male</td>\n",
       "      <td>13.000000</td>\n",
       "      <td>4</td>\n",
       "      <td>2</td>\n",
       "      <td>347077</td>\n",
       "      <td>31.3875</td>\n",
       "      <td>S</td>\n",
       "      <td>test</td>\n",
       "      <td>Master</td>\n",
       "      <td>NaN</td>\n",
       "      <td>NaN</td>\n",
       "      <td>Asplund</td>\n",
       "      <td>7</td>\n",
       "    </tr>\n",
       "    <tr>\n",
       "      <th>174</th>\n",
       "      <td>1066</td>\n",
       "      <td>NaN</td>\n",
       "      <td>3</td>\n",
       "      <td>Asplund, Mr. Carl Oscar Vilhelm Gustafsson</td>\n",
       "      <td>male</td>\n",
       "      <td>40.000000</td>\n",
       "      <td>1</td>\n",
       "      <td>5</td>\n",
       "      <td>347077</td>\n",
       "      <td>31.3875</td>\n",
       "      <td>S</td>\n",
       "      <td>test</td>\n",
       "      <td>Mr</td>\n",
       "      <td>NaN</td>\n",
       "      <td>NaN</td>\n",
       "      <td>Asplund</td>\n",
       "      <td>7</td>\n",
       "    </tr>\n",
       "    <tr>\n",
       "      <th>379</th>\n",
       "      <td>1271</td>\n",
       "      <td>NaN</td>\n",
       "      <td>3</td>\n",
       "      <td>Asplund, Master. Carl Edgar</td>\n",
       "      <td>male</td>\n",
       "      <td>5.000000</td>\n",
       "      <td>4</td>\n",
       "      <td>2</td>\n",
       "      <td>347077</td>\n",
       "      <td>31.3875</td>\n",
       "      <td>S</td>\n",
       "      <td>test</td>\n",
       "      <td>Master</td>\n",
       "      <td>NaN</td>\n",
       "      <td>NaN</td>\n",
       "      <td>Asplund</td>\n",
       "      <td>7</td>\n",
       "    </tr>\n",
       "    <tr>\n",
       "      <th>68</th>\n",
       "      <td>69</td>\n",
       "      <td>1.0</td>\n",
       "      <td>3</td>\n",
       "      <td>Andersson, Miss. Erna Alexandra</td>\n",
       "      <td>female</td>\n",
       "      <td>17.000000</td>\n",
       "      <td>4</td>\n",
       "      <td>2</td>\n",
       "      <td>3101281</td>\n",
       "      <td>7.9250</td>\n",
       "      <td>S</td>\n",
       "      <td>train</td>\n",
       "      <td>Miss</td>\n",
       "      <td>NaN</td>\n",
       "      <td>NaN</td>\n",
       "      <td>Andersson</td>\n",
       "      <td>7</td>\n",
       "    </tr>\n",
       "    <tr>\n",
       "      <th>13</th>\n",
       "      <td>14</td>\n",
       "      <td>0.0</td>\n",
       "      <td>3</td>\n",
       "      <td>Andersson, Mr. Anders Johan</td>\n",
       "      <td>male</td>\n",
       "      <td>39.000000</td>\n",
       "      <td>1</td>\n",
       "      <td>5</td>\n",
       "      <td>347082</td>\n",
       "      <td>31.2750</td>\n",
       "      <td>S</td>\n",
       "      <td>train</td>\n",
       "      <td>Mr</td>\n",
       "      <td>NaN</td>\n",
       "      <td>NaN</td>\n",
       "      <td>Andersson</td>\n",
       "      <td>7</td>\n",
       "    </tr>\n",
       "    <tr>\n",
       "      <th>119</th>\n",
       "      <td>120</td>\n",
       "      <td>0.0</td>\n",
       "      <td>3</td>\n",
       "      <td>Andersson, Miss. Ellis Anna Maria</td>\n",
       "      <td>female</td>\n",
       "      <td>2.000000</td>\n",
       "      <td>4</td>\n",
       "      <td>2</td>\n",
       "      <td>347082</td>\n",
       "      <td>31.2750</td>\n",
       "      <td>S</td>\n",
       "      <td>train</td>\n",
       "      <td>Miss</td>\n",
       "      <td>NaN</td>\n",
       "      <td>NaN</td>\n",
       "      <td>Andersson</td>\n",
       "      <td>7</td>\n",
       "    </tr>\n",
       "    <tr>\n",
       "      <th>541</th>\n",
       "      <td>542</td>\n",
       "      <td>0.0</td>\n",
       "      <td>3</td>\n",
       "      <td>Andersson, Miss. Ingeborg Constanzia</td>\n",
       "      <td>female</td>\n",
       "      <td>9.000000</td>\n",
       "      <td>4</td>\n",
       "      <td>2</td>\n",
       "      <td>347082</td>\n",
       "      <td>31.2750</td>\n",
       "      <td>S</td>\n",
       "      <td>train</td>\n",
       "      <td>Miss</td>\n",
       "      <td>NaN</td>\n",
       "      <td>NaN</td>\n",
       "      <td>Andersson</td>\n",
       "      <td>7</td>\n",
       "    </tr>\n",
       "    <tr>\n",
       "      <th>542</th>\n",
       "      <td>543</td>\n",
       "      <td>0.0</td>\n",
       "      <td>3</td>\n",
       "      <td>Andersson, Miss. Sigrid Elisabeth</td>\n",
       "      <td>female</td>\n",
       "      <td>11.000000</td>\n",
       "      <td>4</td>\n",
       "      <td>2</td>\n",
       "      <td>347082</td>\n",
       "      <td>31.2750</td>\n",
       "      <td>S</td>\n",
       "      <td>train</td>\n",
       "      <td>Miss</td>\n",
       "      <td>NaN</td>\n",
       "      <td>NaN</td>\n",
       "      <td>Andersson</td>\n",
       "      <td>7</td>\n",
       "    </tr>\n",
       "    <tr>\n",
       "      <th>610</th>\n",
       "      <td>611</td>\n",
       "      <td>0.0</td>\n",
       "      <td>3</td>\n",
       "      <td>Andersson, Mrs. Anders Johan (Alfrida Konstant...</td>\n",
       "      <td>female</td>\n",
       "      <td>39.000000</td>\n",
       "      <td>1</td>\n",
       "      <td>5</td>\n",
       "      <td>347082</td>\n",
       "      <td>31.2750</td>\n",
       "      <td>S</td>\n",
       "      <td>train</td>\n",
       "      <td>Mrs</td>\n",
       "      <td>NaN</td>\n",
       "      <td>NaN</td>\n",
       "      <td>Andersson</td>\n",
       "      <td>7</td>\n",
       "    </tr>\n",
       "    <tr>\n",
       "      <th>813</th>\n",
       "      <td>814</td>\n",
       "      <td>0.0</td>\n",
       "      <td>3</td>\n",
       "      <td>Andersson, Miss. Ebba Iris Alfrida</td>\n",
       "      <td>female</td>\n",
       "      <td>6.000000</td>\n",
       "      <td>4</td>\n",
       "      <td>2</td>\n",
       "      <td>347082</td>\n",
       "      <td>31.2750</td>\n",
       "      <td>S</td>\n",
       "      <td>train</td>\n",
       "      <td>Miss</td>\n",
       "      <td>NaN</td>\n",
       "      <td>NaN</td>\n",
       "      <td>Andersson</td>\n",
       "      <td>7</td>\n",
       "    </tr>\n",
       "    <tr>\n",
       "      <th>850</th>\n",
       "      <td>851</td>\n",
       "      <td>0.0</td>\n",
       "      <td>3</td>\n",
       "      <td>Andersson, Master. Sigvard Harald Elias</td>\n",
       "      <td>male</td>\n",
       "      <td>4.000000</td>\n",
       "      <td>4</td>\n",
       "      <td>2</td>\n",
       "      <td>347082</td>\n",
       "      <td>31.2750</td>\n",
       "      <td>S</td>\n",
       "      <td>train</td>\n",
       "      <td>Master</td>\n",
       "      <td>NaN</td>\n",
       "      <td>NaN</td>\n",
       "      <td>Andersson</td>\n",
       "      <td>7</td>\n",
       "    </tr>\n",
       "    <tr>\n",
       "      <th>214</th>\n",
       "      <td>1106</td>\n",
       "      <td>NaN</td>\n",
       "      <td>3</td>\n",
       "      <td>Andersson, Miss. Ida Augusta Margareta</td>\n",
       "      <td>female</td>\n",
       "      <td>38.000000</td>\n",
       "      <td>4</td>\n",
       "      <td>2</td>\n",
       "      <td>347091</td>\n",
       "      <td>7.7750</td>\n",
       "      <td>S</td>\n",
       "      <td>test</td>\n",
       "      <td>Miss</td>\n",
       "      <td>NaN</td>\n",
       "      <td>NaN</td>\n",
       "      <td>Andersson</td>\n",
       "      <td>7</td>\n",
       "    </tr>\n",
       "    <tr>\n",
       "      <th>63</th>\n",
       "      <td>64</td>\n",
       "      <td>0.0</td>\n",
       "      <td>3</td>\n",
       "      <td>Skoog, Master. Harald</td>\n",
       "      <td>male</td>\n",
       "      <td>4.000000</td>\n",
       "      <td>3</td>\n",
       "      <td>2</td>\n",
       "      <td>347088</td>\n",
       "      <td>27.9000</td>\n",
       "      <td>S</td>\n",
       "      <td>train</td>\n",
       "      <td>Master</td>\n",
       "      <td>NaN</td>\n",
       "      <td>NaN</td>\n",
       "      <td>Skoog</td>\n",
       "      <td>6</td>\n",
       "    </tr>\n",
       "    <tr>\n",
       "      <th>167</th>\n",
       "      <td>168</td>\n",
       "      <td>0.0</td>\n",
       "      <td>3</td>\n",
       "      <td>Skoog, Mrs. William (Anna Bernhardina Karlsson)</td>\n",
       "      <td>female</td>\n",
       "      <td>45.000000</td>\n",
       "      <td>1</td>\n",
       "      <td>4</td>\n",
       "      <td>347088</td>\n",
       "      <td>27.9000</td>\n",
       "      <td>S</td>\n",
       "      <td>train</td>\n",
       "      <td>Mrs</td>\n",
       "      <td>NaN</td>\n",
       "      <td>NaN</td>\n",
       "      <td>Skoog</td>\n",
       "      <td>6</td>\n",
       "    </tr>\n",
       "    <tr>\n",
       "      <th>360</th>\n",
       "      <td>361</td>\n",
       "      <td>0.0</td>\n",
       "      <td>3</td>\n",
       "      <td>Skoog, Mr. Wilhelm</td>\n",
       "      <td>male</td>\n",
       "      <td>40.000000</td>\n",
       "      <td>1</td>\n",
       "      <td>4</td>\n",
       "      <td>347088</td>\n",
       "      <td>27.9000</td>\n",
       "      <td>S</td>\n",
       "      <td>train</td>\n",
       "      <td>Mr</td>\n",
       "      <td>NaN</td>\n",
       "      <td>NaN</td>\n",
       "      <td>Skoog</td>\n",
       "      <td>6</td>\n",
       "    </tr>\n",
       "    <tr>\n",
       "      <th>634</th>\n",
       "      <td>635</td>\n",
       "      <td>0.0</td>\n",
       "      <td>3</td>\n",
       "      <td>Skoog, Miss. Mabel</td>\n",
       "      <td>female</td>\n",
       "      <td>9.000000</td>\n",
       "      <td>3</td>\n",
       "      <td>2</td>\n",
       "      <td>347088</td>\n",
       "      <td>27.9000</td>\n",
       "      <td>S</td>\n",
       "      <td>train</td>\n",
       "      <td>Miss</td>\n",
       "      <td>NaN</td>\n",
       "      <td>NaN</td>\n",
       "      <td>Skoog</td>\n",
       "      <td>6</td>\n",
       "    </tr>\n",
       "    <tr>\n",
       "      <th>642</th>\n",
       "      <td>643</td>\n",
       "      <td>0.0</td>\n",
       "      <td>3</td>\n",
       "      <td>Skoog, Miss. Margit Elizabeth</td>\n",
       "      <td>female</td>\n",
       "      <td>2.000000</td>\n",
       "      <td>3</td>\n",
       "      <td>2</td>\n",
       "      <td>347088</td>\n",
       "      <td>27.9000</td>\n",
       "      <td>S</td>\n",
       "      <td>train</td>\n",
       "      <td>Miss</td>\n",
       "      <td>NaN</td>\n",
       "      <td>NaN</td>\n",
       "      <td>Skoog</td>\n",
       "      <td>6</td>\n",
       "    </tr>\n",
       "    <tr>\n",
       "      <th>819</th>\n",
       "      <td>820</td>\n",
       "      <td>0.0</td>\n",
       "      <td>3</td>\n",
       "      <td>Skoog, Master. Karl Thorsten</td>\n",
       "      <td>male</td>\n",
       "      <td>10.000000</td>\n",
       "      <td>3</td>\n",
       "      <td>2</td>\n",
       "      <td>347088</td>\n",
       "      <td>27.9000</td>\n",
       "      <td>S</td>\n",
       "      <td>train</td>\n",
       "      <td>Master</td>\n",
       "      <td>NaN</td>\n",
       "      <td>NaN</td>\n",
       "      <td>Skoog</td>\n",
       "      <td>6</td>\n",
       "    </tr>\n",
       "    <tr>\n",
       "      <th>437</th>\n",
       "      <td>438</td>\n",
       "      <td>1.0</td>\n",
       "      <td>2</td>\n",
       "      <td>Richards, Mrs. Sidney (Emily Hocking)</td>\n",
       "      <td>female</td>\n",
       "      <td>24.000000</td>\n",
       "      <td>2</td>\n",
       "      <td>3</td>\n",
       "      <td>29106</td>\n",
       "      <td>18.7500</td>\n",
       "      <td>S</td>\n",
       "      <td>train</td>\n",
       "      <td>Mrs</td>\n",
       "      <td>NaN</td>\n",
       "      <td>NaN</td>\n",
       "      <td>Richards</td>\n",
       "      <td>6</td>\n",
       "    </tr>\n",
       "    <tr>\n",
       "      <th>16</th>\n",
       "      <td>17</td>\n",
       "      <td>0.0</td>\n",
       "      <td>3</td>\n",
       "      <td>Rice, Master. Eugene</td>\n",
       "      <td>male</td>\n",
       "      <td>2.000000</td>\n",
       "      <td>4</td>\n",
       "      <td>1</td>\n",
       "      <td>382652</td>\n",
       "      <td>29.1250</td>\n",
       "      <td>Q</td>\n",
       "      <td>train</td>\n",
       "      <td>Master</td>\n",
       "      <td>NaN</td>\n",
       "      <td>NaN</td>\n",
       "      <td>Rice</td>\n",
       "      <td>6</td>\n",
       "    </tr>\n",
       "    <tr>\n",
       "      <th>171</th>\n",
       "      <td>172</td>\n",
       "      <td>0.0</td>\n",
       "      <td>3</td>\n",
       "      <td>Rice, Master. Arthur</td>\n",
       "      <td>male</td>\n",
       "      <td>4.000000</td>\n",
       "      <td>4</td>\n",
       "      <td>1</td>\n",
       "      <td>382652</td>\n",
       "      <td>29.1250</td>\n",
       "      <td>Q</td>\n",
       "      <td>train</td>\n",
       "      <td>Master</td>\n",
       "      <td>NaN</td>\n",
       "      <td>NaN</td>\n",
       "      <td>Rice</td>\n",
       "      <td>6</td>\n",
       "    </tr>\n",
       "    <tr>\n",
       "      <th>278</th>\n",
       "      <td>279</td>\n",
       "      <td>0.0</td>\n",
       "      <td>3</td>\n",
       "      <td>Rice, Master. Eric</td>\n",
       "      <td>male</td>\n",
       "      <td>7.000000</td>\n",
       "      <td>4</td>\n",
       "      <td>1</td>\n",
       "      <td>382652</td>\n",
       "      <td>29.1250</td>\n",
       "      <td>Q</td>\n",
       "      <td>train</td>\n",
       "      <td>Master</td>\n",
       "      <td>NaN</td>\n",
       "      <td>NaN</td>\n",
       "      <td>Rice</td>\n",
       "      <td>6</td>\n",
       "    </tr>\n",
       "    <tr>\n",
       "      <th>787</th>\n",
       "      <td>788</td>\n",
       "      <td>0.0</td>\n",
       "      <td>3</td>\n",
       "      <td>Rice, Master. George Hugh</td>\n",
       "      <td>male</td>\n",
       "      <td>8.000000</td>\n",
       "      <td>4</td>\n",
       "      <td>1</td>\n",
       "      <td>382652</td>\n",
       "      <td>29.1250</td>\n",
       "      <td>Q</td>\n",
       "      <td>train</td>\n",
       "      <td>Master</td>\n",
       "      <td>NaN</td>\n",
       "      <td>NaN</td>\n",
       "      <td>Rice</td>\n",
       "      <td>6</td>\n",
       "    </tr>\n",
       "    <tr>\n",
       "      <th>885</th>\n",
       "      <td>886</td>\n",
       "      <td>0.0</td>\n",
       "      <td>3</td>\n",
       "      <td>Rice, Mrs. William (Margaret Norton)</td>\n",
       "      <td>female</td>\n",
       "      <td>39.000000</td>\n",
       "      <td>0</td>\n",
       "      <td>5</td>\n",
       "      <td>382652</td>\n",
       "      <td>29.1250</td>\n",
       "      <td>Q</td>\n",
       "      <td>train</td>\n",
       "      <td>Mrs</td>\n",
       "      <td>NaN</td>\n",
       "      <td>NaN</td>\n",
       "      <td>Rice</td>\n",
       "      <td>6</td>\n",
       "    </tr>\n",
       "    <tr>\n",
       "      <th>55</th>\n",
       "      <td>947</td>\n",
       "      <td>NaN</td>\n",
       "      <td>3</td>\n",
       "      <td>Rice, Master. Albert</td>\n",
       "      <td>male</td>\n",
       "      <td>10.000000</td>\n",
       "      <td>4</td>\n",
       "      <td>1</td>\n",
       "      <td>382652</td>\n",
       "      <td>29.1250</td>\n",
       "      <td>Q</td>\n",
       "      <td>test</td>\n",
       "      <td>Master</td>\n",
       "      <td>NaN</td>\n",
       "      <td>NaN</td>\n",
       "      <td>Rice</td>\n",
       "      <td>6</td>\n",
       "    </tr>\n",
       "    <tr>\n",
       "      <th>50</th>\n",
       "      <td>51</td>\n",
       "      <td>0.0</td>\n",
       "      <td>3</td>\n",
       "      <td>Panula, Master. Juha Niilo</td>\n",
       "      <td>male</td>\n",
       "      <td>7.000000</td>\n",
       "      <td>4</td>\n",
       "      <td>1</td>\n",
       "      <td>3101295</td>\n",
       "      <td>39.6875</td>\n",
       "      <td>S</td>\n",
       "      <td>train</td>\n",
       "      <td>Master</td>\n",
       "      <td>NaN</td>\n",
       "      <td>NaN</td>\n",
       "      <td>Panula</td>\n",
       "      <td>6</td>\n",
       "    </tr>\n",
       "    <tr>\n",
       "      <th>164</th>\n",
       "      <td>165</td>\n",
       "      <td>0.0</td>\n",
       "      <td>3</td>\n",
       "      <td>Panula, Master. Eino Viljami</td>\n",
       "      <td>male</td>\n",
       "      <td>1.000000</td>\n",
       "      <td>4</td>\n",
       "      <td>1</td>\n",
       "      <td>3101295</td>\n",
       "      <td>39.6875</td>\n",
       "      <td>S</td>\n",
       "      <td>train</td>\n",
       "      <td>Master</td>\n",
       "      <td>NaN</td>\n",
       "      <td>NaN</td>\n",
       "      <td>Panula</td>\n",
       "      <td>6</td>\n",
       "    </tr>\n",
       "  </tbody>\n",
       "</table>\n",
       "</div>"
      ],
      "text/plain": [
       "     PassengerId  Survived  Pclass  \\\n",
       "159          160       0.0       3   \n",
       "180          181       0.0       3   \n",
       "201          202       0.0       3   \n",
       "324          325       0.0       3   \n",
       "792          793       0.0       3   \n",
       "846          847       0.0       3   \n",
       "863          864       0.0       3   \n",
       "188         1080       NaN       3   \n",
       "342         1234       NaN       3   \n",
       "360         1252       NaN       3   \n",
       "365         1257       NaN       3   \n",
       "59            60       0.0       3   \n",
       "71            72       0.0       3   \n",
       "386          387       0.0       3   \n",
       "480          481       0.0       3   \n",
       "678          679       0.0       3   \n",
       "683          684       0.0       3   \n",
       "139         1031       NaN       3   \n",
       "140         1032       NaN       3   \n",
       "25            26       1.0       3   \n",
       "182          183       0.0       3   \n",
       "233          234       1.0       3   \n",
       "261          262       1.0       3   \n",
       "154         1046       NaN       3   \n",
       "174         1066       NaN       3   \n",
       "379         1271       NaN       3   \n",
       "68            69       1.0       3   \n",
       "13            14       0.0       3   \n",
       "119          120       0.0       3   \n",
       "541          542       0.0       3   \n",
       "542          543       0.0       3   \n",
       "610          611       0.0       3   \n",
       "813          814       0.0       3   \n",
       "850          851       0.0       3   \n",
       "214         1106       NaN       3   \n",
       "63            64       0.0       3   \n",
       "167          168       0.0       3   \n",
       "360          361       0.0       3   \n",
       "634          635       0.0       3   \n",
       "642          643       0.0       3   \n",
       "819          820       0.0       3   \n",
       "437          438       1.0       2   \n",
       "16            17       0.0       3   \n",
       "171          172       0.0       3   \n",
       "278          279       0.0       3   \n",
       "787          788       0.0       3   \n",
       "885          886       0.0       3   \n",
       "55           947       NaN       3   \n",
       "50            51       0.0       3   \n",
       "164          165       0.0       3   \n",
       "\n",
       "                                                  Name     Sex        Age  \\\n",
       "159                         Sage, Master. Thomas Henry    male  15.969364   \n",
       "180                       Sage, Miss. Constance Gladys  female  23.197212   \n",
       "201                                Sage, Mr. Frederick    male  20.659479   \n",
       "324                           Sage, Mr. George John Jr    male  20.659479   \n",
       "792                            Sage, Miss. Stella Anna  female  23.197212   \n",
       "846                           Sage, Mr. Douglas Bullen    male  20.659479   \n",
       "863                  Sage, Miss. Dorothy Edith \"Dolly\"  female  23.197212   \n",
       "188                                    Sage, Miss. Ada  female  23.197212   \n",
       "342                              Sage, Mr. John George    male  39.557892   \n",
       "360                        Sage, Master. William Henry    male  14.500000   \n",
       "365                     Sage, Mrs. John (Annie Bullen)  female  42.789989   \n",
       "59                  Goodwin, Master. William Frederick    male  11.000000   \n",
       "71                          Goodwin, Miss. Lillian Amy  female  16.000000   \n",
       "386                    Goodwin, Master. Sidney Leonard    male   1.000000   \n",
       "480                     Goodwin, Master. Harold Victor    male   9.000000   \n",
       "678            Goodwin, Mrs. Frederick (Augusta Tyler)  female  43.000000   \n",
       "683                        Goodwin, Mr. Charles Edward    male  14.000000   \n",
       "139                     Goodwin, Mr. Charles Frederick    male  40.000000   \n",
       "140                        Goodwin, Miss. Jessie Allis  female  10.000000   \n",
       "25   Asplund, Mrs. Carl Oscar (Selma Augusta Emilia...  female  38.000000   \n",
       "182              Asplund, Master. Clarence Gustaf Hugo    male   9.000000   \n",
       "233                     Asplund, Miss. Lillian Gertrud  female   5.000000   \n",
       "261                  Asplund, Master. Edvin Rojj Felix    male   3.000000   \n",
       "154                       Asplund, Master. Filip Oscar    male  13.000000   \n",
       "174         Asplund, Mr. Carl Oscar Vilhelm Gustafsson    male  40.000000   \n",
       "379                        Asplund, Master. Carl Edgar    male   5.000000   \n",
       "68                     Andersson, Miss. Erna Alexandra  female  17.000000   \n",
       "13                         Andersson, Mr. Anders Johan    male  39.000000   \n",
       "119                  Andersson, Miss. Ellis Anna Maria  female   2.000000   \n",
       "541               Andersson, Miss. Ingeborg Constanzia  female   9.000000   \n",
       "542                  Andersson, Miss. Sigrid Elisabeth  female  11.000000   \n",
       "610  Andersson, Mrs. Anders Johan (Alfrida Konstant...  female  39.000000   \n",
       "813                 Andersson, Miss. Ebba Iris Alfrida  female   6.000000   \n",
       "850            Andersson, Master. Sigvard Harald Elias    male   4.000000   \n",
       "214             Andersson, Miss. Ida Augusta Margareta  female  38.000000   \n",
       "63                               Skoog, Master. Harald    male   4.000000   \n",
       "167    Skoog, Mrs. William (Anna Bernhardina Karlsson)  female  45.000000   \n",
       "360                                 Skoog, Mr. Wilhelm    male  40.000000   \n",
       "634                                 Skoog, Miss. Mabel  female   9.000000   \n",
       "642                      Skoog, Miss. Margit Elizabeth  female   2.000000   \n",
       "819                       Skoog, Master. Karl Thorsten    male  10.000000   \n",
       "437              Richards, Mrs. Sidney (Emily Hocking)  female  24.000000   \n",
       "16                                Rice, Master. Eugene    male   2.000000   \n",
       "171                               Rice, Master. Arthur    male   4.000000   \n",
       "278                                 Rice, Master. Eric    male   7.000000   \n",
       "787                          Rice, Master. George Hugh    male   8.000000   \n",
       "885               Rice, Mrs. William (Margaret Norton)  female  39.000000   \n",
       "55                                Rice, Master. Albert    male  10.000000   \n",
       "50                          Panula, Master. Juha Niilo    male   7.000000   \n",
       "164                       Panula, Master. Eino Viljami    male   1.000000   \n",
       "\n",
       "     SibSp  Parch    Ticket     Fare Embarked source    Title Cabin_letter  \\\n",
       "159      8      2  CA. 2343  69.5500        S  train   Master          NaN   \n",
       "180      8      2  CA. 2343  69.5500        S  train     Miss          NaN   \n",
       "201      8      2  CA. 2343  69.5500        S  train       Mr          NaN   \n",
       "324      8      2  CA. 2343  69.5500        S  train       Mr          NaN   \n",
       "792      8      2  CA. 2343  69.5500        S  train     Miss          NaN   \n",
       "846      8      2  CA. 2343  69.5500        S  train       Mr          NaN   \n",
       "863      8      2  CA. 2343  69.5500        S  train     Miss          NaN   \n",
       "188      8      2  CA. 2343  69.5500        S   test     Miss          NaN   \n",
       "342      1      9  CA. 2343  69.5500        S   test       Mr          NaN   \n",
       "360      8      2  CA. 2343  69.5500        S   test   Master          NaN   \n",
       "365      1      9  CA. 2343  69.5500        S   test      Mrs          NaN   \n",
       "59       5      2   CA 2144  46.9000        S  train   Master          NaN   \n",
       "71       5      2   CA 2144  46.9000        S  train     Miss          NaN   \n",
       "386      5      2   CA 2144  46.9000        S  train   Master          NaN   \n",
       "480      5      2   CA 2144  46.9000        S  train   Master          NaN   \n",
       "678      1      6   CA 2144  46.9000        S  train      Mrs          NaN   \n",
       "683      5      2   CA 2144  46.9000        S  train       Mr          NaN   \n",
       "139      1      6   CA 2144  46.9000        S   test       Mr          NaN   \n",
       "140      5      2   CA 2144  46.9000        S   test     Miss          NaN   \n",
       "25       1      5    347077  31.3875        S  train      Mrs          NaN   \n",
       "182      4      2    347077  31.3875        S  train   Master          NaN   \n",
       "233      4      2    347077  31.3875        S  train     Miss          NaN   \n",
       "261      4      2    347077  31.3875        S  train   Master          NaN   \n",
       "154      4      2    347077  31.3875        S   test   Master          NaN   \n",
       "174      1      5    347077  31.3875        S   test       Mr          NaN   \n",
       "379      4      2    347077  31.3875        S   test   Master          NaN   \n",
       "68       4      2   3101281   7.9250        S  train     Miss          NaN   \n",
       "13       1      5    347082  31.2750        S  train       Mr          NaN   \n",
       "119      4      2    347082  31.2750        S  train     Miss          NaN   \n",
       "541      4      2    347082  31.2750        S  train     Miss          NaN   \n",
       "542      4      2    347082  31.2750        S  train     Miss          NaN   \n",
       "610      1      5    347082  31.2750        S  train      Mrs          NaN   \n",
       "813      4      2    347082  31.2750        S  train     Miss          NaN   \n",
       "850      4      2    347082  31.2750        S  train   Master          NaN   \n",
       "214      4      2    347091   7.7750        S   test     Miss          NaN   \n",
       "63       3      2    347088  27.9000        S  train   Master          NaN   \n",
       "167      1      4    347088  27.9000        S  train      Mrs          NaN   \n",
       "360      1      4    347088  27.9000        S  train       Mr          NaN   \n",
       "634      3      2    347088  27.9000        S  train     Miss          NaN   \n",
       "642      3      2    347088  27.9000        S  train     Miss          NaN   \n",
       "819      3      2    347088  27.9000        S  train   Master          NaN   \n",
       "437      2      3     29106  18.7500        S  train      Mrs          NaN   \n",
       "16       4      1    382652  29.1250        Q  train   Master          NaN   \n",
       "171      4      1    382652  29.1250        Q  train   Master          NaN   \n",
       "278      4      1    382652  29.1250        Q  train   Master          NaN   \n",
       "787      4      1    382652  29.1250        Q  train   Master          NaN   \n",
       "885      0      5    382652  29.1250        Q  train      Mrs          NaN   \n",
       "55       4      1    382652  29.1250        Q   test   Master          NaN   \n",
       "50       4      1   3101295  39.6875        S  train   Master          NaN   \n",
       "164      4      1   3101295  39.6875        S  train   Master          NaN   \n",
       "\n",
       "    Cabin_number   LastName  FamilySize  \n",
       "159          NaN       Sage          11  \n",
       "180          NaN       Sage          11  \n",
       "201          NaN       Sage          11  \n",
       "324          NaN       Sage          11  \n",
       "792          NaN       Sage          11  \n",
       "846          NaN       Sage          11  \n",
       "863          NaN       Sage          11  \n",
       "188          NaN       Sage          11  \n",
       "342          NaN       Sage          11  \n",
       "360          NaN       Sage          11  \n",
       "365          NaN       Sage          11  \n",
       "59           NaN    Goodwin           8  \n",
       "71           NaN    Goodwin           8  \n",
       "386          NaN    Goodwin           8  \n",
       "480          NaN    Goodwin           8  \n",
       "678          NaN    Goodwin           8  \n",
       "683          NaN    Goodwin           8  \n",
       "139          NaN    Goodwin           8  \n",
       "140          NaN    Goodwin           8  \n",
       "25           NaN    Asplund           7  \n",
       "182          NaN    Asplund           7  \n",
       "233          NaN    Asplund           7  \n",
       "261          NaN    Asplund           7  \n",
       "154          NaN    Asplund           7  \n",
       "174          NaN    Asplund           7  \n",
       "379          NaN    Asplund           7  \n",
       "68           NaN  Andersson           7  \n",
       "13           NaN  Andersson           7  \n",
       "119          NaN  Andersson           7  \n",
       "541          NaN  Andersson           7  \n",
       "542          NaN  Andersson           7  \n",
       "610          NaN  Andersson           7  \n",
       "813          NaN  Andersson           7  \n",
       "850          NaN  Andersson           7  \n",
       "214          NaN  Andersson           7  \n",
       "63           NaN      Skoog           6  \n",
       "167          NaN      Skoog           6  \n",
       "360          NaN      Skoog           6  \n",
       "634          NaN      Skoog           6  \n",
       "642          NaN      Skoog           6  \n",
       "819          NaN      Skoog           6  \n",
       "437          NaN   Richards           6  \n",
       "16           NaN       Rice           6  \n",
       "171          NaN       Rice           6  \n",
       "278          NaN       Rice           6  \n",
       "787          NaN       Rice           6  \n",
       "885          NaN       Rice           6  \n",
       "55           NaN       Rice           6  \n",
       "50           NaN     Panula           6  \n",
       "164          NaN     Panula           6  "
      ]
     },
     "execution_count": 414,
     "metadata": {},
     "output_type": "execute_result"
    }
   ],
   "source": [
    "# Create family size column\n",
    "combined['FamilySize'] = combined['SibSp'] + combined['Parch'] + 1  # +1 to include the passenger themselves\n",
    "\n",
    "# Sort by FamilySize and then by Fare to help identify family groups\n",
    "families = combined.loc[combined['FamilySize'] > 1].sort_values(\n",
    "    ['FamilySize', 'LastName', 'Ticket', 'Fare'], \n",
    "    ascending=[False, False, True, True]\n",
    ")\n",
    "\n",
    "families.head(50)\n"
   ]
  },
  {
   "cell_type": "markdown",
   "metadata": {},
   "source": [
    "Sweet that kind of works, its problems is that parents will (moslty) show up as having no parents on board, so will have incorrect family sizes. The family size will only work for the rows of children.\n",
    "\n",
    "Note in the Sage's case there are parents and grandparents, so grandparents will not have the correct family size."
   ]
  },
  {
   "cell_type": "markdown",
   "metadata": {},
   "source": [
    "#### LastName"
   ]
  },
  {
   "cell_type": "markdown",
   "metadata": {},
   "source": [
    "The last name is currently our most effective method for grouping families. However, due to its high cardinality, we will encode this feature using target encoding by assigning the mean survival rate to a new variable, LastName_encoded"
   ]
  },
  {
   "cell_type": "code",
   "execution_count": 415,
   "metadata": {},
   "outputs": [
    {
     "name": "stdout",
     "output_type": "stream",
     "text": [
      "           Survived_Mean  Count\n",
      "LastName                       \n",
      "Andersson       0.222222      9\n",
      "Sage            0.000000      7\n",
      "Goodwin         0.000000      6\n",
      "Panula          0.000000      6\n",
      "Carter          0.666667      6\n",
      "...                  ...    ...\n",
      "Salander             NaN      0\n",
      "McNeill              NaN      0\n",
      "Salomon              NaN      0\n",
      "Hiltunen             NaN      0\n",
      "Chevre               NaN      0\n",
      "\n",
      "[875 rows x 2 columns]\n"
     ]
    }
   ],
   "source": [
    "combined[\"LastName_encoded\"] = combined.groupby(\"LastName\")[\"Survived\"].transform(\"mean\")\n",
    "\n",
    "combined[[\"LastName\", \"Survived\", \"LastName_encoded\"]].head(10)\n",
    "\n",
    "LName_stats = combined.groupby(\"LastName\").agg(\n",
    "    Survived_Mean=(\"Survived\", \"mean\"),\n",
    "    Count=(\"Survived\", \"count\")\n",
    ").sort_values(by=\"Count\", ascending=False)\n",
    "\n",
    "print(LName_stats)"
   ]
  },
  {
   "cell_type": "code",
   "execution_count": 416,
   "metadata": {},
   "outputs": [],
   "source": [
    "combined = combined.drop('LastName', axis=1)"
   ]
  },
  {
   "cell_type": "markdown",
   "metadata": {},
   "source": [
    "#### Title"
   ]
  },
  {
   "cell_type": "markdown",
   "metadata": {},
   "source": [
    "We will also do target encoding with Title due to its high cartinality"
   ]
  },
  {
   "cell_type": "code",
   "execution_count": 417,
   "metadata": {},
   "outputs": [
    {
     "name": "stdout",
     "output_type": "stream",
     "text": [
      "              Survived_Mean  Count\n",
      "Title                             \n",
      "Mr                 0.156673    517\n",
      "Miss               0.697802    182\n",
      "Mrs                0.792000    125\n",
      "Master             0.575000     40\n",
      "Dr                 0.428571      7\n",
      "Rev                0.000000      6\n",
      "Major              0.500000      2\n",
      "Col                0.500000      2\n",
      "Mlle               1.000000      2\n",
      "Sir                1.000000      1\n",
      "Ms                 1.000000      1\n",
      "Capt               0.000000      1\n",
      "Mme                1.000000      1\n",
      "Lady               1.000000      1\n",
      "Jonkheer           0.000000      1\n",
      "Don                0.000000      1\n",
      "the Countess       1.000000      1\n",
      "Dona                    NaN      0\n"
     ]
    }
   ],
   "source": [
    "combined[\"Title_encoded\"] = combined.groupby(\"Title\")[\"Survived\"].transform(\"mean\")\n",
    "\n",
    "title_stats = combined.groupby(\"Title\").agg(\n",
    "    Survived_Mean=(\"Survived\", \"mean\"),\n",
    "    Count=(\"Survived\", \"count\")\n",
    ").sort_values(by=\"Count\", ascending=False)\n",
    "\n",
    "print(title_stats)"
   ]
  },
  {
   "cell_type": "code",
   "execution_count": 418,
   "metadata": {},
   "outputs": [],
   "source": [
    "combined = combined.drop('Title', axis=1)"
   ]
  },
  {
   "cell_type": "markdown",
   "metadata": {},
   "source": [
    "### 4. Visual Exploatory Analysis"
   ]
  },
  {
   "cell_type": "code",
   "execution_count": 419,
   "metadata": {},
   "outputs": [
    {
     "data": {
      "application/vnd.plotly.v1+json": {
       "config": {
        "plotlyServerURL": "https://plot.ly"
       },
       "data": [
        {
         "bingroup": "x",
         "hovertemplate": "Pclass=3<br>Sex=male<br>Age=%{x}<br>count=%{y}<extra></extra>",
         "legendgroup": "3",
         "marker": {
          "color": "#636efa",
          "opacity": 0.6,
          "pattern": {
           "shape": ""
          }
         },
         "name": "3",
         "orientation": "v",
         "showlegend": true,
         "type": "histogram",
         "x": {
          "bdata": "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",
          "dtype": "f8"
         },
         "xaxis": "x",
         "yaxis": "y"
        },
        {
         "bingroup": "x",
         "hovertemplate": "Pclass=3<br>Sex=female<br>Age=%{x}<br>count=%{y}<extra></extra>",
         "legendgroup": "3",
         "marker": {
          "color": "#636efa",
          "opacity": 0.6,
          "pattern": {
           "shape": ""
          }
         },
         "name": "3",
         "orientation": "v",
         "showlegend": false,
         "type": "histogram",
         "x": {
          "bdata": "AAAAAAAAOkAAAAAAAAA7QAAAAAAAABBAAAAAAAAALEAAAAAAAAA/QAAAACBB3ENAAAAAAAAALkAAAAAAAAAgQAAAAAAAAENAAAAAYBXGNUAAAACAd9w6QAAAAAAAADJAAAAAAAAALEAAAAAAAABEQAAAAAAAADNAAAAAgHfcOkAAAAAAAAAyQAAAAAAAADFAAAAAAAAAMEAAAAAAAAA+QAAAAED1fTZAAAAAAACAQEAAAAAAAAA8QAAAAAAAADVAAAAAQEx1NEAAAAAAAAAtQAAAAAAAADRAAAAAAAAAMUAAAAAAAAAAQAAAAID+YQ1AAAAAAACAR0AAAADAjt8+QAAAAAAAADZAAAAAAAAAOEAAAAAAAAAiQAAAAAAAADBAAAAAAACARkAAAAAAAADwPwAAAIB8MjdAAAAAAAAAEEAAAAAA1OhBQAAAAAAAADNAAAAAgHfcOkAAAAAAAAAAQAAAAAAAADBAAAAAAAAAO0AAAABgzCsaQAAAAAAAABRAAAAAQJicN0AAAAAg3IEtQAAAAAD6YDNAAAAAAAAAOUAAAAAAAAA9QAAAAAAAgERAAAAAAAAAPUAAAACAd9w6QAAAAIB33DpAAAAAAACARkAAAAAAAIBBQAAAAAAAADZAAAAAAAAAOEAAAACAd9w6QAAAAAAAADpAAAAAAAAAP0AAAADg5W4zQAAAAEDOHzxAAAAAYBXGNUAAAABgFcY1QAAAAAAAgEZAAAAAoAUDQEAAAACAd9w6QAAAAAAAAAhAAAAAAAAANkAAAAAAAADwPwAAAAAAADhAAAAAAAAAP0AAAAAAAAA1QAAAAAAAADRAAAAAYMwrGkAAAABAQQdCQAAAAAAAACRAAAAAAAAAPEAAAABAzh88QAAAAAAAADVAAAAAAAAAFEAAAAAAAADoPwAAAAAAADZAAAAAAAAAAEAAAAAAAIBPQAAAAGDMKxpAAAAAAAAANUAAAAAA0vk2QAAAAAAAgEJAAAAAoLnAO0AAAAAAAAA+QAAAAAAAACJAAAAAAAAAJkAAAAAAAAA2QAAAAAAAAEJAAAAAQH3aNkAAAAAAAAA9QAAAAIB33DpAAAAA4Hf5N0AAAADgPmE8QAAAAAAAgENAAAAAAPpgM0AAAAAAAAA6QAAAAAAAACJAAAAAAACAREAAAAAAAAAAQAAAAAAAAOg/AAAAAAAAN0AAAABAvn03QAAAAAAAADJAAAAAAAAAQEAAAAAAAAAyQAAAAAAAgEVAAAAAQLeSNUAAAAAAAAAQQAAAAOA8wDFAAAAAAAAAMkAAAADgPMAxQAAAAAAAADlAAAAAAAAASEAAAAAAAIA+QAAAAAAAABRAAAAAAAAAKkAAAAAAAAAyQAAAAIB8MjdAAAAAAAAAP0AAAAAAAAA+QAAAAAAAADJAAAAAAAAAGEAAAAAAAAA3QAAAAAAAADtAAAAAAAAALkAAAAAAAAAiQAAAAAAAADJAAAAAAAAAOEAAAACAfDI3QAAAAAAAAC5AAAAAAAAANkAAAAAAAIBDQAAAAEAcXxhAAAAAAACAR0AAAAAAAAA2QAAAAAAAAD5AAAAAAAAAMkAAAAAAAAA7QAAAAAAAgEZAAAAAAACAQEAAAADgy8g/QAAAAEB92jZAAAAAAAAANUAAAAAAAABCQAAAAAAAADZAAAAAAAAAMkAAAAAAAAA4QAAAAAAAAD1AAAAAAAAAOEAAAAAAAAA7QAAAAAAAADJAAAAAwGzbREAAAAAAAAA2QAAAAAAAADRAAAAAAAAAMEAAAABA9X02QAAAAAAAgDJAAAAAAAAA8D8AAAAAAAAxQAAAAODlbjNAAAAAwEIhQkAAAAAAAAA3QAAAAAAAACRAAAAAAAAAQkAAAAAAAAA3QAAAAAAAADpAAAAA4DzAMUAAAAAAAAA6QAAAAAAAADZAAAAAgHwyN0AAAAAAAAAyQAAAAEBBB0JAAAAAwD0BM0AAAAAAAIBBQAAAAAAAAENAAAAAYBXGNUAAAADAjt8+QAAAAIB33DpAAAAAgJn2NUAAAAAAAADwPwAAAEB92jZAAAAAAPpgM0AAAAAAAAA3QAAAAIB33DpAAAAAAAAAIkAAAAAAAAAAQAAAAAAAAD5AAAAAgHfcOkAAAAAAAIBGQAAAAAAAgEJAAAAAAAAAMUAAAAAAAAAzQAAAAAAAADBAAAAAAAAAQ0DD9Shcj8LFPwAAAAAAAD5AAAAAYB5lRUAAAAAAAAA2QAAAAAAAADZAAAAAoMNuQ0AAAAAAAAAzQAAAAMDjVzRAAAAAAAAACEAAAACAd9w6QAAAAAAAADxA",
          "dtype": "f8"
         },
         "xaxis": "x2",
         "yaxis": "y2"
        },
        {
         "bingroup": "x",
         "hovertemplate": "Pclass=1<br>Sex=male<br>Age=%{x}<br>count=%{y}<extra></extra>",
         "legendgroup": "1",
         "marker": {
          "color": "#EF553B",
          "opacity": 0.6,
          "pattern": {
           "shape": ""
          }
         },
         "name": "1",
         "orientation": "v",
         "showlegend": true,
         "type": "histogram",
         "x": {
          "bdata": "AAAAAAAAS0AAAAAAAAA8QAAAAAAAADNAAAAAAAAAREAAAAAAAAA8QAAAAAAAAEVAAAAAAABAUEAAAABgZDlFQAAAAAAAgEZAAAAAAFkEQ0AAAAAAAAA8QAAAAAAAAEdAAAAAAADAUUAAAAAAAAA3QAAAAAAAADVAAAAAAACAR0AAAAAAAAA4QAAAAAAAAEtAAAAAAACAQkAAAAAAAAA4QAAAAAAAgElAAAAAQNCNRkAAAAAAAIBOQAAAAAAAAExAAAAAQLvISEAAAAAAAIBGQAAAAAAAAERAAAAAAAAAQ0AAAAAAAABGQAAAAAAAgEJAAAAAAAAAT0AAAAAAAABKQAAAAAAAAERAAAAAAOV3R0AAAAAAAIBCQAAAAMA4QkZAAAAAAFkEQ0AAAADAKdtGQHE9CtejcO0/AAAAAADARkAAAAAAAABDQAAAAAAAAD1AAAAAAACARkAAAAAgXc5LQAAAAAAAADlAAAAAAAAANkAAAAAAAAA7QAAAAAAAAEJAAAAAAAAAPEAAAAAAAABJQAAAAAAAAFBAAAAAAAAAEEAAAAAAAABBQAAAAAAAAEpAAAAAAAAAPkAAAAAAAIBIQAAAAAAAQFBAAAAAAAAASEAAAAAAAIBHQAAAAAAAAExAAAAAINb5REAAAAAAAAA5QAAAAAAAAE1AAAAAAACAS0AAAAAAAMBRQAAAAAAAADJAAAAAIHEwR0AAAAAAAABCQAAAAAAAgEdAAAAA4LquR0AAAAAAAIBGQAAAAAAAAElAAAAAAAAAUEAAAAAAAAAxQAAAAAAAAE9AAAAAQJKVPUAAAAAAAABCQAAAAAAAAEJAAAAAAAAATkAAAAAAAIBIQAAAAEBb3ERAAAAAAACAQUAAAAAAAAA7QAAAAAAAAEVAAAAAAACATkAAAAAAAABUQAAAAAAAAEBAAAAAoAqbREAAAAAAAABIQAAAAAAAAExAAAAAAAAATUAAAAAAAABJQAAAAAAAgEdAAAAAAAAAP0AAAAAAAABCQAAAAAAAADtAAAAAAAAAP0AAAAAAAABOQAAAAAAAgEhAAAAAAACAQUAAAAAAAABFQAAAACBxMEdAAAAAAAAASEAAAAAAAAA7QAAAAAAAgEFAAAAAIBsCR0AAAAAAAABCQAAAAAAAgFFAAAAAAAAAM0AAAADgq5tFQAAAAAAAAD1AAAAAAAAAR0AAAADgAeZGQAAAAAAAACZAAAAAAACAQ0AAAACgCptEQAAAAAAAAENAAAAAQLdARUAAAAAAAIBJQAAAAAAAAD9AAAAAAACAQEAAAAAAAAA6QAAAAAAAAEdAAAAAAACAS0AAAAAAAAA1QAAAAAAAgERAAAAAAAAAPkAAAAAgcTBHQAAAAAAAgEZAAAAAAAAAOEAAAAAAAAAqQAAAAAAAgEdAAAAAAAAAP0AAAAAAAIA8QAAAAAAAQEBAAAAAAADAUEAAAAAAAIBIQAAAAAAAADlAAAAAAAAAQkAAAAAAAIBKQAAAAAAAgE5AAAAAAAAARUAAAACgBlRHQAAAACBxMEdAAAAAAAAARUAAAAAAAABIQAAAAAAAAEtAAAAAAACAQkAAAADAOEJGQAAAAAAAABhAAAAAAACAR0AAAAAgj2xCQAAAAAAAAEVAAAAAAACATEAAAAAAAIBDQAAAAAAAAFBAAAAAAACARkAAAAAAAIBEQAAAAAAAADtAAAAAoAqbREAAAAAAAABHQAAAAAAAADhAAAAAgOMORkAAAAAAAIBKQAAAAAAAAD5AAAAAAAAAPkAAAAAAAIBLQAAAAAAAgExAAAAAAACAQEAAAAAAAABHQAAAAAAAgENAAAAAAAAAPkAAAAAAAABJQAAAAAAAgEhAAAAAAACAS0AAAAAAAAA3QAAAAAAAADFAAAAAAACARUAAAAAAAABJQA==",
          "dtype": "f8"
         },
         "xaxis": "x",
         "yaxis": "y"
        },
        {
         "bingroup": "x",
         "hovertemplate": "Pclass=1<br>Sex=female<br>Age=%{x}<br>count=%{y}<extra></extra>",
         "legendgroup": "1",
         "marker": {
          "color": "#EF553B",
          "opacity": 0.6,
          "pattern": {
           "shape": ""
          }
         },
         "name": "1",
         "orientation": "v",
         "showlegend": false,
         "type": "histogram",
         "x": {
          "bdata": "AAAAAAAAQ0AAAAAAAIBBQAAAAAAAAE1AAAAAAHq2RUAAAAAAAIBIQAAAAAAAAENAAAAAAAAAN0AAAAAAAAAzQAAAAAAAADZAAAAAYAnZQ0AAAAAAAABJQAAAAAAAAEZAAAAAAAAATUAAAAAAAAA/QAAAAAAAAEBAAAAAAACAQUAAAABA+v1JQAAAAAAAAD5AAAAAAACAQUAAAAAAAABNQAAAAAAAgEFAAAAAAACAT0AAAAAAAAA6QAAAAAAAADNAAAAAAAAAAEAAAAAAAABJQAAAAKBxWztAAAAAAAAAMUAAAAAAAAA+QAAAAAAAADhAAAAAAAAAMkAAAAAAAAA/QAAAAAAAAERAAAAAAAAAQkAAAAAAAAAwQAAAAIAxHEBAAAAAAACAREAAAAAAAAA4QAAAAAAAADZAAAAAAAAATkAAAAAAAAA4QAAAAECD3jtAAAAAAAAARUAAAAAAAIBBQAAAAAAAADdAAAAAAACAQEAAAAAAAAAsQAAAAEDTL0VAAAAAAACAQUAAAAAAAABLQAAAAAAAADlAAAAAAAAAMEAAAAAAAABLQAAAAAAAAD5AAAAAAAAARkAAAAAAAAA+QAAAAAAAADZAAAAAAAAAQkAAAAAAAABIQAAAAAAAgENAAAAAAACASkAAAAAAAIBDQAAAAAAAgENAAAAAAAAAMkAAAAAAAABKQAAAAAAAAERAAAAAAAAANUAAAAAAAAA4QAAAAOCMBkNAAAAAAAAALkAAAAAAAAAyQAAAAAAAADZAAAAAAAAAOEAAAAAAAABDQAAAAAAAAD1AAAAAAAAANUAAAAAAAIBAQAAAAAAAAEJAAAAAAACASUAAAAAAAIBFQAAAAAAAADFAAAAAAACASEAAAAAAAIBAQAAAAAAAAEpAAAAAAAAAT0AAAAAAAIBDQAAAAAAAAD5AAAAAgIqCQEAAAAAAAAAwQAAAAAAAgEZAAAAAAAAASEAAAAAAAIBHQAAAAAAAAExAAAAAAAAAM0AAAAAAAAA3QAAAAAAAgEdAAAAAoEYbSUAAAAAAAABIQAAAAAAAADZAAAAAAACARkAAAAAAAABOQAAAAAAAADxAAAAAAAAAQkAAAAAAAABOQAAAAAAAgEFAAAAAAACAS0AAAAAAAAA7QAAAAAAAAFNAAAAAAACARUAAAAAAAABCQAAAAAAAgE9AAAAAAACAQUAAAAAAAIBAQAAAAAAAADdAAAAAAAAAPUAAAABAO6tIQAAAAAAAAFBAAAAAAAAAMkAAAAAAAAA7QAAAAAAAgEBAAAAAAAAASUAAAAAAAIBKQAAAAAAAADVAAAAAAAAASEAAAAAAAIBLQAAAAAAAADpAAAAAAAAAUEAAAAAAAIBLQAAAAAAAgENAAAAAAAAATUAAAAAAAIBGQAAAAAAAgE1AAAAAAAAAOUAAAAAAAIBGQAAAAAAAAD9AAAAAAAAAS0AAAAAAAIBGQAAAAAAAgElAAAAAAAAAMkAAAAAAAABIQAAAAAAAAD5AAAAAAAAANkAAAAAAAIBCQAAAAAAAgENA",
          "dtype": "f8"
         },
         "xaxis": "x2",
         "yaxis": "y2"
        },
        {
         "bingroup": "x",
         "hovertemplate": "Pclass=2<br>Sex=male<br>Age=%{x}<br>count=%{y}<extra></extra>",
         "legendgroup": "2",
         "marker": {
          "color": "#00cc96",
          "opacity": 0.6,
          "pattern": {
           "shape": ""
          }
         },
         "name": "2",
         "orientation": "v",
         "showlegend": true,
         "type": "histogram",
         "x": {
          "bdata": "AAAAAFRVQEAAAAAAAIBBQAAAAAAAAEFAAAAAAACAUEAAAAAAAABAQAAAAAAAADVAj8L1KFyP6j8AAAAAAABBQAAAAAAAAD1AAAAAAAAANUAAAAAAAEBAQAAAAAAAADlAAAAAAAAAN0AAAAAAAAAyQAAAAAAAADNAAAAAAABAQkAAAAAAAABFQAAAAAAAgElAAAAAAAAAPkAAAADgEeY+QAAAAAAAAPA/AAAAAAAAM0AAAAAAAAAIQAAAAAAAAD5AAAAAAAAARUAAAAAAAAA+QAAAAAAAADtAAAAAAAAAM0AAAAAAAAAyQAAAAAAAgE1AAAAAAAAAOEAAAAAAAABGQAAAAAAAADNAAAAAAACAQEAAAAAAAAA9QAAAAAAAAEtAAAAAAAAAQkAAAACg99JBQAAAAAAAAEVAAAAAAAAAQkAAAAAAAAA+QAAAAAAAgEVAAAAAAAAAS0AAAAAAAAAAQAAAAAAAADxAAAAAAAAAOUAAAAAAAABCQAAAAAAAAD1AAAAAAAAAMkAAAAAAAABHQAAAAAAAADdAAAAAAAAAQUAAAAAAAAAIQAAAAKD30kFAAAAAAAAAPkAAAAAAAAA/QAAAAAAAAEJAAAAAAAAASEAAAACg99JBQAAAAAAAAEFAAAAAoPfSQUAAAAAAAAA3QAAAAAAAAEBAAAAA4OWnOEAAAAAAAAAgQAAAAAAAADtAAAAAAAAAPEAAAAAAAABPQAAAAAAAAEtAAAAAAACAR0AAAAAAAIBCQAAAAAAAADpAAAAAAACATEAAAAAAAAA/QAAAAAAAADhAAAAAAAAAN0AAAAAAAABAQAAAAAAAADlAAAAAAACAUUAAAAAAAAA/QAAAAKD30kFAAAAAAAAATkAAAAAAAAA5QAAAAAAAAEpAAAAAAACAQ0AAAAAAAABKQAAAAAAAAEFAAAAAAAAASUAAAAAAAAA5QAAAAKD30kFAAAAAAAAAN0AAAAAAAAA3QHE9CtejcOU/AAAAAAAAMkAAAAAAAAAwQAAAAAAAgENAAAAAAAAAQUAAAAAAAIBDQAAAAAAAgEFAAAAAAAAAP0AAAAAAAADwP4/C9Shcj+o/AAAAAAAAMEAAAAAAAAA8QAAAAAAAADVAAAAAAAAAOEAAAAAAAAA8QAAAAAAAADtAAAAAAAAAT0AAAAAAAAA6QAAAAAAAgE9AAAAAAACAQUAAAAAAAABJQAAAAAAAADhAAAAAAAAAO0AAAADgBB47QAAAAAAAAEBAAAAAAAAAPkAAAAAg5v5EQAAAAAAAAABAAAAAAAAAO0AAAAAAAIAyQAAAAAAAgERAAAAAAAAARUAAAAAAAAA6QAAAAAAAADxAAAAAAAAAPkAAAAAAAIBEQAAAAAAAAD5AAAAAAAAAREAAAAAAAABEQAAAAAAAAEFAAAAAAACATkAAAAAAAAAgQAAAAAAAADdAAAAAAAAAOUAAAAAAAAA4QAAAAAAAADFAAAAAAAAAQkAAAAAAAAAsQAAAAAAAAEVAAAAAAAAAPkAAAAAAAAA8QAAAAAAAAERAAAAAAAAAPkAAAAAAAAA2QAAAAOAR5j5AAAAAAACARUAAAAAAAAAzQAAAAAAAADZAAAAAAAAAOkAAAAAAAAA9QAAAAAAAADVAAAAAAAAAQEAAAAAAAAA5QAAAAAAAADJAAAAAAAAAOkAAAAAAAAA4QAAAAAAAADlAAAAAAAAAMkAAAAAAAIBIQAAAAAAAAD1AAAAAAAAANUAAAAAAAABGQAAAAAAAADVAAAAAAFRVQEAAAAAAAIBMQAAAAAAAgEdAAAAAAAAAQ0AAAAAAAAA0QAAAAAAAADdA",
          "dtype": "f8"
         },
         "xaxis": "x",
         "yaxis": "y"
        },
        {
         "bingroup": "x",
         "hovertemplate": "Pclass=2<br>Sex=female<br>Age=%{x}<br>count=%{y}<extra></extra>",
         "legendgroup": "2",
         "marker": {
          "color": "#00cc96",
          "opacity": 0.6,
          "pattern": {
           "shape": ""
          }
         },
         "name": "2",
         "orientation": "v",
         "showlegend": false,
         "type": "histogram",
         "x": {
          "bdata": "AAAAAAAALEAAAAAAAIBLQAAAAAAAADtAAAAAAAAACEAAAAAAAAA9QAAAAAAAADVAAAAAAAAAFEAAAAAAAAA9QAAAAAAAADFAAAAAAAAAQUAAAAAAAEBAQAAAAAAAAD1AAAAAAAAAREAAAAAAAABAQAAAAAAAADhAAAAAAACAQUAAAAAAAAAgQAAAAAAAADhAAAAAAAAASUAAAAAAAIBEQAAAAOBnxT1AAAAAAAAAOkAAAAAAAAA4QAAAAAAAAD5AAAAAAAAANkAAAAAAAABCQAAAAAAAADhAAAAAAAAAREAAAAAAAABDQAAAAAAAAEJAAAAAAAAAMUAAAAAAAAA8QAAAAAAAAEFAAAAAAAAAMkAAAAAAAAA8QAAAAAAAADNAAAAAAAAARUAAAAAAAAA4QAAAAAAAgEZAAAAAAAAAPEAAAAAAAAAqQAAAAAAAAElAAAAAAACAQEAAAAAAAAA3QAAAAAAAgEBAAAAAAAAAQUAAAAAAAABCQAAAAAAAAElAAAAAAAAAAEAAAAAAAAAcQAAAAAAAADNAAAAAAAAAQUAAAAAAAAA5QAAAAICdojVAAAAAAAAAOEAAAAAAAAA2QAAAAAAAADhAAAAAAAAAEEAAAAAAAAA8QAAAAAAAADJAAAAAAAAAREAAAAAAAIBGQAAAAAAAADtAAAAAAAAAGEAAAAAAAAA+QAAAAAAAAD5AAAAAAAAAEEAAAAAAAABIQAAAAAAAgExAAAAAAAAAS0AAAAAAAAA/QAAAAAAAAEZAAAAAAAAARUAAAAAAAAA7QAAAAAAAADxAAAAAAAAAOUAAAAAAAAA4QAAAAAAAAD5AAAAAAAAANEAAAABgH4VBQAAAAAAAAD1AAAAAAAAAKEAAAAAAAAA6QAAAAAAAAC5AAAAAAAAANEAAAAAAAABCQAAAAAAAADVAAAAAAAAAIEAAAAAAAABOQAAAAAAAAD5AAAAAAAAANkAAAAAAAAAyQAAAAAAAgEZAAAAAAAAANkAAAAAAAAA9QHE9CtejcO0/AAAAAAAAM0AAAAAAAAA9QAAAAAAAADRAAAAAAAAA8D8AAAAAAAAoQAAAAAAAAEhAAAAAAAAAP0AAAAAAAAA4QAAAAAAAAD9AAAAAAAAAOEA=",
          "dtype": "f8"
         },
         "xaxis": "x2",
         "yaxis": "y2"
        }
       ],
       "layout": {
        "annotations": [
         {
          "font": {},
          "showarrow": false,
          "text": "Sex=male",
          "x": 0.245,
          "xanchor": "center",
          "xref": "paper",
          "y": 1,
          "yanchor": "bottom",
          "yref": "paper"
         },
         {
          "font": {},
          "showarrow": false,
          "text": "Sex=female",
          "x": 0.755,
          "xanchor": "center",
          "xref": "paper",
          "y": 1,
          "yanchor": "bottom",
          "yref": "paper"
         }
        ],
        "barmode": "overlay",
        "legend": {
         "title": {
          "text": "Pclass"
         },
         "tracegroupgap": 0
        },
        "template": {
         "data": {
          "bar": [
           {
            "error_x": {
             "color": "#2a3f5f"
            },
            "error_y": {
             "color": "#2a3f5f"
            },
            "marker": {
             "line": {
              "color": "#E5ECF6",
              "width": 0.5
             },
             "pattern": {
              "fillmode": "overlay",
              "size": 10,
              "solidity": 0.2
             }
            },
            "type": "bar"
           }
          ],
          "barpolar": [
           {
            "marker": {
             "line": {
              "color": "#E5ECF6",
              "width": 0.5
             },
             "pattern": {
              "fillmode": "overlay",
              "size": 10,
              "solidity": 0.2
             }
            },
            "type": "barpolar"
           }
          ],
          "carpet": [
           {
            "aaxis": {
             "endlinecolor": "#2a3f5f",
             "gridcolor": "white",
             "linecolor": "white",
             "minorgridcolor": "white",
             "startlinecolor": "#2a3f5f"
            },
            "baxis": {
             "endlinecolor": "#2a3f5f",
             "gridcolor": "white",
             "linecolor": "white",
             "minorgridcolor": "white",
             "startlinecolor": "#2a3f5f"
            },
            "type": "carpet"
           }
          ],
          "choropleth": [
           {
            "colorbar": {
             "outlinewidth": 0,
             "ticks": ""
            },
            "type": "choropleth"
           }
          ],
          "contour": [
           {
            "colorbar": {
             "outlinewidth": 0,
             "ticks": ""
            },
            "colorscale": [
             [
              0,
              "#0d0887"
             ],
             [
              0.1111111111111111,
              "#46039f"
             ],
             [
              0.2222222222222222,
              "#7201a8"
             ],
             [
              0.3333333333333333,
              "#9c179e"
             ],
             [
              0.4444444444444444,
              "#bd3786"
             ],
             [
              0.5555555555555556,
              "#d8576b"
             ],
             [
              0.6666666666666666,
              "#ed7953"
             ],
             [
              0.7777777777777778,
              "#fb9f3a"
             ],
             [
              0.8888888888888888,
              "#fdca26"
             ],
             [
              1,
              "#f0f921"
             ]
            ],
            "type": "contour"
           }
          ],
          "contourcarpet": [
           {
            "colorbar": {
             "outlinewidth": 0,
             "ticks": ""
            },
            "type": "contourcarpet"
           }
          ],
          "heatmap": [
           {
            "colorbar": {
             "outlinewidth": 0,
             "ticks": ""
            },
            "colorscale": [
             [
              0,
              "#0d0887"
             ],
             [
              0.1111111111111111,
              "#46039f"
             ],
             [
              0.2222222222222222,
              "#7201a8"
             ],
             [
              0.3333333333333333,
              "#9c179e"
             ],
             [
              0.4444444444444444,
              "#bd3786"
             ],
             [
              0.5555555555555556,
              "#d8576b"
             ],
             [
              0.6666666666666666,
              "#ed7953"
             ],
             [
              0.7777777777777778,
              "#fb9f3a"
             ],
             [
              0.8888888888888888,
              "#fdca26"
             ],
             [
              1,
              "#f0f921"
             ]
            ],
            "type": "heatmap"
           }
          ],
          "histogram": [
           {
            "marker": {
             "pattern": {
              "fillmode": "overlay",
              "size": 10,
              "solidity": 0.2
             }
            },
            "type": "histogram"
           }
          ],
          "histogram2d": [
           {
            "colorbar": {
             "outlinewidth": 0,
             "ticks": ""
            },
            "colorscale": [
             [
              0,
              "#0d0887"
             ],
             [
              0.1111111111111111,
              "#46039f"
             ],
             [
              0.2222222222222222,
              "#7201a8"
             ],
             [
              0.3333333333333333,
              "#9c179e"
             ],
             [
              0.4444444444444444,
              "#bd3786"
             ],
             [
              0.5555555555555556,
              "#d8576b"
             ],
             [
              0.6666666666666666,
              "#ed7953"
             ],
             [
              0.7777777777777778,
              "#fb9f3a"
             ],
             [
              0.8888888888888888,
              "#fdca26"
             ],
             [
              1,
              "#f0f921"
             ]
            ],
            "type": "histogram2d"
           }
          ],
          "histogram2dcontour": [
           {
            "colorbar": {
             "outlinewidth": 0,
             "ticks": ""
            },
            "colorscale": [
             [
              0,
              "#0d0887"
             ],
             [
              0.1111111111111111,
              "#46039f"
             ],
             [
              0.2222222222222222,
              "#7201a8"
             ],
             [
              0.3333333333333333,
              "#9c179e"
             ],
             [
              0.4444444444444444,
              "#bd3786"
             ],
             [
              0.5555555555555556,
              "#d8576b"
             ],
             [
              0.6666666666666666,
              "#ed7953"
             ],
             [
              0.7777777777777778,
              "#fb9f3a"
             ],
             [
              0.8888888888888888,
              "#fdca26"
             ],
             [
              1,
              "#f0f921"
             ]
            ],
            "type": "histogram2dcontour"
           }
          ],
          "mesh3d": [
           {
            "colorbar": {
             "outlinewidth": 0,
             "ticks": ""
            },
            "type": "mesh3d"
           }
          ],
          "parcoords": [
           {
            "line": {
             "colorbar": {
              "outlinewidth": 0,
              "ticks": ""
             }
            },
            "type": "parcoords"
           }
          ],
          "pie": [
           {
            "automargin": true,
            "type": "pie"
           }
          ],
          "scatter": [
           {
            "fillpattern": {
             "fillmode": "overlay",
             "size": 10,
             "solidity": 0.2
            },
            "type": "scatter"
           }
          ],
          "scatter3d": [
           {
            "line": {
             "colorbar": {
              "outlinewidth": 0,
              "ticks": ""
             }
            },
            "marker": {
             "colorbar": {
              "outlinewidth": 0,
              "ticks": ""
             }
            },
            "type": "scatter3d"
           }
          ],
          "scattercarpet": [
           {
            "marker": {
             "colorbar": {
              "outlinewidth": 0,
              "ticks": ""
             }
            },
            "type": "scattercarpet"
           }
          ],
          "scattergeo": [
           {
            "marker": {
             "colorbar": {
              "outlinewidth": 0,
              "ticks": ""
             }
            },
            "type": "scattergeo"
           }
          ],
          "scattergl": [
           {
            "marker": {
             "colorbar": {
              "outlinewidth": 0,
              "ticks": ""
             }
            },
            "type": "scattergl"
           }
          ],
          "scattermap": [
           {
            "marker": {
             "colorbar": {
              "outlinewidth": 0,
              "ticks": ""
             }
            },
            "type": "scattermap"
           }
          ],
          "scattermapbox": [
           {
            "marker": {
             "colorbar": {
              "outlinewidth": 0,
              "ticks": ""
             }
            },
            "type": "scattermapbox"
           }
          ],
          "scatterpolar": [
           {
            "marker": {
             "colorbar": {
              "outlinewidth": 0,
              "ticks": ""
             }
            },
            "type": "scatterpolar"
           }
          ],
          "scatterpolargl": [
           {
            "marker": {
             "colorbar": {
              "outlinewidth": 0,
              "ticks": ""
             }
            },
            "type": "scatterpolargl"
           }
          ],
          "scatterternary": [
           {
            "marker": {
             "colorbar": {
              "outlinewidth": 0,
              "ticks": ""
             }
            },
            "type": "scatterternary"
           }
          ],
          "surface": [
           {
            "colorbar": {
             "outlinewidth": 0,
             "ticks": ""
            },
            "colorscale": [
             [
              0,
              "#0d0887"
             ],
             [
              0.1111111111111111,
              "#46039f"
             ],
             [
              0.2222222222222222,
              "#7201a8"
             ],
             [
              0.3333333333333333,
              "#9c179e"
             ],
             [
              0.4444444444444444,
              "#bd3786"
             ],
             [
              0.5555555555555556,
              "#d8576b"
             ],
             [
              0.6666666666666666,
              "#ed7953"
             ],
             [
              0.7777777777777778,
              "#fb9f3a"
             ],
             [
              0.8888888888888888,
              "#fdca26"
             ],
             [
              1,
              "#f0f921"
             ]
            ],
            "type": "surface"
           }
          ],
          "table": [
           {
            "cells": {
             "fill": {
              "color": "#EBF0F8"
             },
             "line": {
              "color": "white"
             }
            },
            "header": {
             "fill": {
              "color": "#C8D4E3"
             },
             "line": {
              "color": "white"
             }
            },
            "type": "table"
           }
          ]
         },
         "layout": {
          "annotationdefaults": {
           "arrowcolor": "#2a3f5f",
           "arrowhead": 0,
           "arrowwidth": 1
          },
          "autotypenumbers": "strict",
          "coloraxis": {
           "colorbar": {
            "outlinewidth": 0,
            "ticks": ""
           }
          },
          "colorscale": {
           "diverging": [
            [
             0,
             "#8e0152"
            ],
            [
             0.1,
             "#c51b7d"
            ],
            [
             0.2,
             "#de77ae"
            ],
            [
             0.3,
             "#f1b6da"
            ],
            [
             0.4,
             "#fde0ef"
            ],
            [
             0.5,
             "#f7f7f7"
            ],
            [
             0.6,
             "#e6f5d0"
            ],
            [
             0.7,
             "#b8e186"
            ],
            [
             0.8,
             "#7fbc41"
            ],
            [
             0.9,
             "#4d9221"
            ],
            [
             1,
             "#276419"
            ]
           ],
           "sequential": [
            [
             0,
             "#0d0887"
            ],
            [
             0.1111111111111111,
             "#46039f"
            ],
            [
             0.2222222222222222,
             "#7201a8"
            ],
            [
             0.3333333333333333,
             "#9c179e"
            ],
            [
             0.4444444444444444,
             "#bd3786"
            ],
            [
             0.5555555555555556,
             "#d8576b"
            ],
            [
             0.6666666666666666,
             "#ed7953"
            ],
            [
             0.7777777777777778,
             "#fb9f3a"
            ],
            [
             0.8888888888888888,
             "#fdca26"
            ],
            [
             1,
             "#f0f921"
            ]
           ],
           "sequentialminus": [
            [
             0,
             "#0d0887"
            ],
            [
             0.1111111111111111,
             "#46039f"
            ],
            [
             0.2222222222222222,
             "#7201a8"
            ],
            [
             0.3333333333333333,
             "#9c179e"
            ],
            [
             0.4444444444444444,
             "#bd3786"
            ],
            [
             0.5555555555555556,
             "#d8576b"
            ],
            [
             0.6666666666666666,
             "#ed7953"
            ],
            [
             0.7777777777777778,
             "#fb9f3a"
            ],
            [
             0.8888888888888888,
             "#fdca26"
            ],
            [
             1,
             "#f0f921"
            ]
           ]
          },
          "colorway": [
           "#636efa",
           "#EF553B",
           "#00cc96",
           "#ab63fa",
           "#FFA15A",
           "#19d3f3",
           "#FF6692",
           "#B6E880",
           "#FF97FF",
           "#FECB52"
          ],
          "font": {
           "color": "#2a3f5f"
          },
          "geo": {
           "bgcolor": "white",
           "lakecolor": "white",
           "landcolor": "#E5ECF6",
           "showlakes": true,
           "showland": true,
           "subunitcolor": "white"
          },
          "hoverlabel": {
           "align": "left"
          },
          "hovermode": "closest",
          "mapbox": {
           "style": "light"
          },
          "paper_bgcolor": "white",
          "plot_bgcolor": "#E5ECF6",
          "polar": {
           "angularaxis": {
            "gridcolor": "white",
            "linecolor": "white",
            "ticks": ""
           },
           "bgcolor": "#E5ECF6",
           "radialaxis": {
            "gridcolor": "white",
            "linecolor": "white",
            "ticks": ""
           }
          },
          "scene": {
           "xaxis": {
            "backgroundcolor": "#E5ECF6",
            "gridcolor": "white",
            "gridwidth": 2,
            "linecolor": "white",
            "showbackground": true,
            "ticks": "",
            "zerolinecolor": "white"
           },
           "yaxis": {
            "backgroundcolor": "#E5ECF6",
            "gridcolor": "white",
            "gridwidth": 2,
            "linecolor": "white",
            "showbackground": true,
            "ticks": "",
            "zerolinecolor": "white"
           },
           "zaxis": {
            "backgroundcolor": "#E5ECF6",
            "gridcolor": "white",
            "gridwidth": 2,
            "linecolor": "white",
            "showbackground": true,
            "ticks": "",
            "zerolinecolor": "white"
           }
          },
          "shapedefaults": {
           "line": {
            "color": "#2a3f5f"
           }
          },
          "ternary": {
           "aaxis": {
            "gridcolor": "white",
            "linecolor": "white",
            "ticks": ""
           },
           "baxis": {
            "gridcolor": "white",
            "linecolor": "white",
            "ticks": ""
           },
           "bgcolor": "#E5ECF6",
           "caxis": {
            "gridcolor": "white",
            "linecolor": "white",
            "ticks": ""
           }
          },
          "title": {
           "x": 0.05
          },
          "xaxis": {
           "automargin": true,
           "gridcolor": "white",
           "linecolor": "white",
           "ticks": "",
           "title": {
            "standoff": 15
           },
           "zerolinecolor": "white",
           "zerolinewidth": 2
          },
          "yaxis": {
           "automargin": true,
           "gridcolor": "white",
           "linecolor": "white",
           "ticks": "",
           "title": {
            "standoff": 15
           },
           "zerolinecolor": "white",
           "zerolinewidth": 2
          }
         }
        },
        "title": {
         "text": "Age Distribution by Passenger Class and Sex"
        },
        "xaxis": {
         "anchor": "y",
         "domain": [
          0,
          0.49
         ],
         "title": {
          "text": "Age"
         }
        },
        "xaxis2": {
         "anchor": "y2",
         "domain": [
          0.51,
          1
         ],
         "matches": "x",
         "title": {
          "text": "Age"
         }
        },
        "yaxis": {
         "anchor": "x",
         "domain": [
          0,
          1
         ],
         "title": {
          "text": "count"
         }
        },
        "yaxis2": {
         "anchor": "x2",
         "domain": [
          0,
          1
         ],
         "matches": "y",
         "showticklabels": false
        }
       }
      }
     },
     "metadata": {},
     "output_type": "display_data"
    }
   ],
   "source": [
    "fig = px.histogram(combined, x='Age', color='Pclass', barmode='overlay', \n",
    "                   facet_col='Sex',\n",
    "                   title='Age Distribution by Passenger Class and Sex',\n",
    "                   opacity=0.6)\n",
    "fig.show()"
   ]
  },
  {
   "cell_type": "code",
   "execution_count": 420,
   "metadata": {},
   "outputs": [
    {
     "data": {
      "application/vnd.plotly.v1+json": {
       "config": {
        "plotlyServerURL": "https://plot.ly"
       },
       "data": [
        {
         "bingroup": "x",
         "hovertemplate": "Title_encoded=0.15667311411992263<br>Cabin_letter=%{x}<br>count=%{y}<extra></extra>",
         "legendgroup": "0.15667311411992263",
         "marker": {
          "color": "#636efa",
          "pattern": {
           "shape": ""
          }
         },
         "name": "0.15667311411992263",
         "orientation": "v",
         "showlegend": true,
         "type": "histogram",
         "x": [
          null,
          null,
          null,
          "E",
          null,
          null,
          null,
          null,
          "D",
          "A",
          null,
          "C",
          null,
          null,
          null,
          null,
          null,
          null,
          null,
          null,
          null,
          null,
          null,
          "B",
          "C",
          null,
          null,
          "C",
          null,
          null,
          null,
          null,
          null,
          null,
          null,
          "F",
          null,
          null,
          null,
          null,
          null,
          null,
          null,
          null,
          null,
          null,
          "E",
          null,
          null,
          null,
          "A",
          "D",
          null,
          null,
          "D",
          null,
          null,
          null,
          null,
          null,
          "C",
          null,
          null,
          null,
          null,
          "B",
          null,
          null,
          null,
          "D",
          null,
          null,
          null,
          null,
          null,
          null,
          null,
          "C",
          null,
          "B",
          null,
          null,
          null,
          null,
          "F",
          null,
          null,
          null,
          null,
          null,
          null,
          null,
          null,
          null,
          null,
          null,
          "B",
          null,
          "A",
          null,
          null,
          null,
          null,
          "A",
          null,
          null,
          null,
          null,
          null,
          null,
          null,
          null,
          null,
          null,
          null,
          null,
          null,
          "A",
          null,
          null,
          null,
          null,
          null,
          null,
          null,
          null,
          null,
          null,
          "C",
          null,
          null,
          null,
          null,
          null,
          null,
          null,
          null,
          null,
          null,
          null,
          null,
          null,
          "D",
          null,
          "C",
          null,
          null,
          "E",
          "B",
          null,
          null,
          null,
          null,
          null,
          "C",
          null,
          null,
          null,
          null,
          null,
          "A",
          null,
          null,
          null,
          null,
          "D",
          null,
          null,
          null,
          "C",
          null,
          null,
          null,
          null,
          null,
          null,
          null,
          null,
          null,
          null,
          "C",
          "C",
          null,
          null,
          "C",
          null,
          "T",
          null,
          null,
          null,
          null,
          null,
          "C",
          null,
          null,
          null,
          null,
          null,
          null,
          null,
          null,
          null,
          "E",
          null,
          null,
          null,
          "C",
          null,
          null,
          null,
          null,
          null,
          null,
          "B",
          null,
          null,
          null,
          null,
          null,
          null,
          null,
          null,
          null,
          null,
          null,
          null,
          null,
          null,
          null,
          null,
          null,
          null,
          null,
          null,
          null,
          "E",
          "C",
          null,
          "E",
          "C",
          null,
          null,
          null,
          null,
          null,
          null,
          null,
          "C",
          "C",
          null,
          null,
          "E",
          null,
          "E",
          null,
          "E",
          null,
          null,
          null,
          null,
          null,
          null,
          null,
          null,
          "A",
          null,
          null,
          null,
          null,
          null,
          "B",
          "B",
          null,
          null,
          null,
          "C",
          null,
          null,
          null,
          null,
          null,
          null,
          "C",
          null,
          null,
          null,
          null,
          null,
          "E",
          null,
          "D",
          null,
          null,
          null,
          null,
          null,
          null,
          "C",
          null,
          null,
          null,
          null,
          null,
          null,
          "C",
          null,
          null,
          null,
          "C",
          null,
          null,
          null,
          null,
          null,
          null,
          null,
          null,
          null,
          null,
          null,
          null,
          null,
          null,
          "E",
          null,
          null,
          null,
          null,
          "A",
          null,
          null,
          "B",
          null,
          null,
          null,
          null,
          null,
          null,
          null,
          null,
          null,
          null,
          null,
          null,
          null,
          null,
          null,
          null,
          null,
          null,
          null,
          null,
          null,
          "D",
          null,
          null,
          null,
          "D",
          null,
          null,
          "A",
          null,
          null,
          null,
          null,
          null,
          null,
          null,
          "D",
          null,
          null,
          null,
          null,
          null,
          null,
          null,
          "D",
          null,
          "E",
          null,
          null,
          null,
          null,
          null,
          null,
          "B",
          null,
          null,
          null,
          null,
          null,
          "B",
          "D",
          null,
          null,
          null,
          null,
          null,
          null,
          null,
          "B",
          null,
          null,
          null,
          null,
          "C",
          "F",
          "E",
          null,
          null,
          null,
          "E",
          "C",
          "C",
          null,
          null,
          "F",
          null,
          null,
          null,
          null,
          null,
          "E",
          null,
          null,
          null,
          null,
          null,
          null,
          null,
          "B",
          null,
          null,
          "D",
          "C",
          null,
          null,
          null,
          "D",
          null,
          null,
          null,
          null,
          null,
          null,
          null,
          null,
          null,
          null,
          null,
          null,
          null,
          null,
          null,
          null,
          "F",
          null,
          "D",
          null,
          null,
          null,
          "B",
          null,
          null,
          null,
          null,
          null,
          null,
          null,
          null,
          null,
          "A",
          null,
          null,
          null,
          null,
          null,
          "B",
          null,
          null,
          null,
          null,
          null,
          null,
          null,
          null,
          null,
          null,
          null,
          null,
          "C",
          null,
          null,
          null,
          null,
          null,
          null,
          null,
          null,
          "E",
          null,
          null,
          null,
          null,
          "A",
          null,
          null,
          "B",
          null,
          null,
          null,
          null,
          null,
          null,
          null,
          "C",
          null,
          null,
          null,
          null,
          null,
          null,
          null,
          null,
          null,
          null,
          null,
          null,
          null,
          null,
          null,
          null,
          "A",
          null,
          null,
          null,
          "C",
          null,
          null,
          null,
          null,
          "D",
          null,
          null,
          "A",
          null,
          "C",
          null,
          null,
          null,
          "F",
          null,
          null,
          null,
          null,
          null,
          "C",
          null,
          "D",
          "C",
          null,
          null,
          "C",
          null,
          null,
          null,
          null,
          null,
          null,
          null,
          null,
          null,
          null,
          null,
          null,
          null,
          null,
          null,
          null,
          null,
          "F",
          null,
          null,
          null,
          "C",
          null,
          null,
          null,
          null,
          null,
          null,
          null,
          null,
          null,
          null,
          null,
          null,
          null,
          "B",
          null,
          null,
          null,
          "E",
          null,
          null,
          null,
          null,
          null,
          "D",
          null,
          "B",
          null,
          null,
          null,
          null,
          null,
          null,
          "C",
          null,
          "E",
          null,
          null,
          null,
          null,
          null,
          null,
          null,
          null,
          null,
          null,
          null,
          null,
          null,
          null,
          null,
          null,
          "B",
          null,
          null,
          null,
          null,
          null,
          null,
          null,
          null,
          null,
          null,
          "C",
          null,
          "D",
          null,
          "E",
          null,
          "D",
          null,
          null,
          "C",
          null,
          null,
          null,
          null,
          null,
          null,
          null,
          null,
          null,
          null,
          null,
          null,
          null,
          "C",
          null,
          null,
          null,
          null,
          null,
          null,
          null,
          null,
          "B",
          "F",
          null,
          null,
          null,
          null,
          null,
          null,
          null,
          null,
          null,
          "D",
          null,
          null,
          "C",
          "B",
          null,
          null,
          null,
          "B",
          null,
          null,
          null,
          null,
          "F",
          "F",
          null,
          null,
          null,
          null,
          null,
          "A",
          null,
          null,
          "C",
          null,
          null,
          null,
          null,
          null,
          null,
          null,
          null,
          null,
          null,
          null,
          "E",
          null,
          null,
          null,
          null,
          null,
          null,
          "B",
          null,
          null,
          "C",
          null,
          null,
          null,
          null,
          null,
          null,
          "B",
          null,
          null,
          null,
          null,
          null,
          null,
          null,
          "D",
          "D",
          null,
          "C",
          null,
          null,
          null
         ],
         "xaxis": "x",
         "yaxis": "y"
        },
        {
         "bingroup": "x",
         "hovertemplate": "Title_encoded=0.792<br>Cabin_letter=%{x}<br>count=%{y}<extra></extra>",
         "legendgroup": "0.792",
         "marker": {
          "color": "#EF553B",
          "pattern": {
           "shape": ""
          }
         },
         "name": "0.792",
         "orientation": "v",
         "showlegend": true,
         "type": "histogram",
         "x": [
          "C",
          "C",
          null,
          null,
          null,
          null,
          null,
          null,
          "B",
          null,
          null,
          null,
          "D",
          null,
          "F",
          null,
          null,
          null,
          null,
          null,
          null,
          "C",
          null,
          "E",
          null,
          null,
          null,
          "B",
          "C",
          null,
          "G",
          null,
          null,
          null,
          null,
          "C",
          null,
          null,
          "B",
          "B",
          "C",
          null,
          null,
          "E",
          null,
          "D",
          null,
          null,
          null,
          null,
          "D",
          null,
          null,
          null,
          "G",
          null,
          null,
          null,
          null,
          null,
          null,
          null,
          null,
          null,
          "D",
          null,
          "D",
          null,
          "C",
          "C",
          null,
          null,
          "F",
          null,
          "B",
          null,
          null,
          "E",
          null,
          null,
          "C",
          "E",
          null,
          "C",
          "D",
          null,
          null,
          null,
          null,
          null,
          null,
          "C",
          null,
          null,
          "C",
          null,
          null,
          null,
          null,
          "B",
          "D",
          "E",
          null,
          "B",
          "B",
          null,
          null,
          null,
          "E",
          "B",
          "E",
          "B",
          null,
          "C",
          null,
          null,
          null,
          null,
          "D",
          null,
          "D",
          null,
          "C",
          null,
          null,
          null,
          null,
          null,
          "B",
          "E",
          null,
          null,
          null,
          "B",
          null,
          null,
          null,
          "D",
          "D",
          null,
          null,
          "C",
          "C",
          null,
          "B",
          "C",
          "C",
          null,
          "C",
          null,
          "C",
          null,
          "C",
          null,
          null,
          null,
          null,
          "F",
          "E",
          "D",
          "B",
          null,
          null,
          "C",
          "F",
          null,
          null,
          "C",
          null,
          null,
          null,
          null,
          null,
          null,
          "C",
          "B",
          null,
          "C",
          null,
          null,
          "B",
          null,
          "D",
          "C",
          null,
          null,
          null,
          "E",
          null,
          null,
          "A",
          null,
          null,
          "D",
          "C",
          "B",
          "C"
         ],
         "xaxis": "x",
         "yaxis": "y"
        },
        {
         "bingroup": "x",
         "hovertemplate": "Title_encoded=0.6978021978021978<br>Cabin_letter=%{x}<br>count=%{y}<extra></extra>",
         "legendgroup": "0.6978021978021978",
         "marker": {
          "color": "#00cc96",
          "pattern": {
           "shape": ""
          }
         },
         "name": "0.6978021978021978",
         "orientation": "v",
         "showlegend": true,
         "type": "histogram",
         "x": [
          null,
          "G",
          "C",
          null,
          null,
          null,
          null,
          null,
          null,
          null,
          null,
          null,
          null,
          null,
          null,
          "B",
          null,
          null,
          null,
          null,
          null,
          "C",
          null,
          null,
          null,
          null,
          null,
          null,
          null,
          "E",
          "F",
          "D",
          null,
          null,
          null,
          null,
          "C",
          null,
          null,
          null,
          "B",
          null,
          null,
          "G",
          null,
          null,
          "D",
          null,
          "D",
          null,
          null,
          null,
          null,
          null,
          null,
          null,
          "B",
          null,
          null,
          "C",
          null,
          "D",
          null,
          null,
          null,
          null,
          "C",
          null,
          "E",
          null,
          "E",
          "C",
          "B",
          null,
          "C",
          null,
          "C",
          "B",
          null,
          "E",
          "C",
          "F",
          null,
          "E",
          null,
          null,
          null,
          null,
          null,
          null,
          null,
          null,
          null,
          null,
          "D",
          null,
          null,
          null,
          null,
          "C",
          null,
          null,
          null,
          "B",
          null,
          null,
          null,
          null,
          null,
          null,
          null,
          null,
          "D",
          null,
          null,
          null,
          "B",
          "B",
          null,
          null,
          null,
          null,
          null,
          "B",
          "B",
          null,
          null,
          null,
          null,
          null,
          null,
          null,
          "E",
          null,
          null,
          "C",
          null,
          null,
          "F",
          "D",
          null,
          null,
          null,
          null,
          null,
          null,
          null,
          null,
          null,
          null,
          "B",
          null,
          null,
          null,
          null,
          "C",
          "E",
          null,
          null,
          null,
          "B",
          "B",
          null,
          null,
          null,
          null,
          null,
          null,
          null,
          null,
          null,
          null,
          "E",
          null,
          null,
          "D",
          null,
          null,
          null,
          null,
          "B",
          null,
          null,
          null,
          "B",
          null,
          null,
          null,
          "C",
          "B",
          null,
          null,
          null,
          null,
          "C",
          null,
          null,
          null,
          null,
          null,
          "A",
          null,
          "G",
          null,
          null,
          null,
          null,
          null,
          null,
          "C",
          null,
          null,
          null,
          null,
          null,
          null,
          null,
          null,
          null,
          null,
          null,
          null,
          "A",
          null,
          null,
          null,
          null,
          null,
          null,
          null,
          null,
          null,
          null,
          null,
          null,
          null,
          null,
          null,
          null,
          null,
          null,
          null,
          null,
          null,
          null,
          "F",
          null,
          null,
          null,
          null,
          "E",
          null,
          null,
          null,
          "C",
          null,
          null,
          null,
          null,
          null
         ],
         "xaxis": "x",
         "yaxis": "y"
        },
        {
         "bingroup": "x",
         "hovertemplate": "Title_encoded=0.575<br>Cabin_letter=%{x}<br>count=%{y}<extra></extra>",
         "legendgroup": "0.575",
         "marker": {
          "color": "#ab63fa",
          "pattern": {
           "shape": ""
          }
         },
         "name": "0.575",
         "orientation": "v",
         "showlegend": true,
         "type": "histogram",
         "x": [
          null,
          null,
          null,
          null,
          null,
          null,
          null,
          null,
          null,
          null,
          null,
          null,
          null,
          null,
          "F",
          "F",
          null,
          null,
          "C",
          "F",
          null,
          null,
          null,
          "A",
          null,
          null,
          null,
          null,
          "E",
          null,
          null,
          null,
          "B",
          null,
          null,
          null,
          null,
          null,
          null,
          null,
          null,
          null,
          "B",
          null,
          null,
          null,
          null,
          null,
          null,
          "E",
          null,
          null,
          null,
          null,
          null,
          null,
          null,
          null,
          null,
          null,
          null
         ],
         "xaxis": "x",
         "yaxis": "y"
        },
        {
         "bingroup": "x",
         "hovertemplate": "Title_encoded=0.0<br>Cabin_letter=%{x}<br>count=%{y}<extra></extra>",
         "legendgroup": "0.0",
         "marker": {
          "color": "#FFA15A",
          "pattern": {
           "shape": ""
          }
         },
         "name": "0.0",
         "orientation": "v",
         "showlegend": true,
         "type": "histogram",
         "x": [
          null,
          null,
          null,
          null,
          null,
          "B",
          null,
          null,
          null,
          null,
          null
         ],
         "xaxis": "x",
         "yaxis": "y"
        },
        {
         "bingroup": "x",
         "hovertemplate": "Title_encoded=0.42857142857142855<br>Cabin_letter=%{x}<br>count=%{y}<extra></extra>",
         "legendgroup": "0.42857142857142855",
         "marker": {
          "color": "#19d3f3",
          "pattern": {
           "shape": ""
          }
         },
         "name": "0.42857142857142855",
         "orientation": "v",
         "showlegend": true,
         "type": "histogram",
         "x": [
          "C",
          null,
          null,
          "B",
          null,
          null,
          "D",
          "A"
         ],
         "xaxis": "x",
         "yaxis": "y"
        },
        {
         "bingroup": "x",
         "hovertemplate": "Title_encoded=1.0<br>Cabin_letter=%{x}<br>count=%{y}<extra></extra>",
         "legendgroup": "1.0",
         "marker": {
          "color": "#FF6692",
          "pattern": {
           "shape": ""
          }
         },
         "name": "1.0",
         "orientation": "v",
         "showlegend": true,
         "type": "histogram",
         "x": [
          "B",
          null,
          "A",
          "A",
          "B",
          "C",
          "B",
          null
         ],
         "xaxis": "x",
         "yaxis": "y"
        },
        {
         "bingroup": "x",
         "hovertemplate": "Title_encoded=0.5<br>Cabin_letter=%{x}<br>count=%{y}<extra></extra>",
         "legendgroup": "0.5",
         "marker": {
          "color": "#B6E880",
          "pattern": {
           "shape": ""
          }
         },
         "name": "0.5",
         "orientation": "v",
         "showlegend": true,
         "type": "histogram",
         "x": [
          "C",
          "B",
          "A",
          null,
          "C",
          "C"
         ],
         "xaxis": "x",
         "yaxis": "y"
        }
       ],
       "layout": {
        "barmode": "relative",
        "legend": {
         "title": {
          "text": "Title_encoded"
         },
         "tracegroupgap": 0
        },
        "template": {
         "data": {
          "bar": [
           {
            "error_x": {
             "color": "#2a3f5f"
            },
            "error_y": {
             "color": "#2a3f5f"
            },
            "marker": {
             "line": {
              "color": "#E5ECF6",
              "width": 0.5
             },
             "pattern": {
              "fillmode": "overlay",
              "size": 10,
              "solidity": 0.2
             }
            },
            "type": "bar"
           }
          ],
          "barpolar": [
           {
            "marker": {
             "line": {
              "color": "#E5ECF6",
              "width": 0.5
             },
             "pattern": {
              "fillmode": "overlay",
              "size": 10,
              "solidity": 0.2
             }
            },
            "type": "barpolar"
           }
          ],
          "carpet": [
           {
            "aaxis": {
             "endlinecolor": "#2a3f5f",
             "gridcolor": "white",
             "linecolor": "white",
             "minorgridcolor": "white",
             "startlinecolor": "#2a3f5f"
            },
            "baxis": {
             "endlinecolor": "#2a3f5f",
             "gridcolor": "white",
             "linecolor": "white",
             "minorgridcolor": "white",
             "startlinecolor": "#2a3f5f"
            },
            "type": "carpet"
           }
          ],
          "choropleth": [
           {
            "colorbar": {
             "outlinewidth": 0,
             "ticks": ""
            },
            "type": "choropleth"
           }
          ],
          "contour": [
           {
            "colorbar": {
             "outlinewidth": 0,
             "ticks": ""
            },
            "colorscale": [
             [
              0,
              "#0d0887"
             ],
             [
              0.1111111111111111,
              "#46039f"
             ],
             [
              0.2222222222222222,
              "#7201a8"
             ],
             [
              0.3333333333333333,
              "#9c179e"
             ],
             [
              0.4444444444444444,
              "#bd3786"
             ],
             [
              0.5555555555555556,
              "#d8576b"
             ],
             [
              0.6666666666666666,
              "#ed7953"
             ],
             [
              0.7777777777777778,
              "#fb9f3a"
             ],
             [
              0.8888888888888888,
              "#fdca26"
             ],
             [
              1,
              "#f0f921"
             ]
            ],
            "type": "contour"
           }
          ],
          "contourcarpet": [
           {
            "colorbar": {
             "outlinewidth": 0,
             "ticks": ""
            },
            "type": "contourcarpet"
           }
          ],
          "heatmap": [
           {
            "colorbar": {
             "outlinewidth": 0,
             "ticks": ""
            },
            "colorscale": [
             [
              0,
              "#0d0887"
             ],
             [
              0.1111111111111111,
              "#46039f"
             ],
             [
              0.2222222222222222,
              "#7201a8"
             ],
             [
              0.3333333333333333,
              "#9c179e"
             ],
             [
              0.4444444444444444,
              "#bd3786"
             ],
             [
              0.5555555555555556,
              "#d8576b"
             ],
             [
              0.6666666666666666,
              "#ed7953"
             ],
             [
              0.7777777777777778,
              "#fb9f3a"
             ],
             [
              0.8888888888888888,
              "#fdca26"
             ],
             [
              1,
              "#f0f921"
             ]
            ],
            "type": "heatmap"
           }
          ],
          "histogram": [
           {
            "marker": {
             "pattern": {
              "fillmode": "overlay",
              "size": 10,
              "solidity": 0.2
             }
            },
            "type": "histogram"
           }
          ],
          "histogram2d": [
           {
            "colorbar": {
             "outlinewidth": 0,
             "ticks": ""
            },
            "colorscale": [
             [
              0,
              "#0d0887"
             ],
             [
              0.1111111111111111,
              "#46039f"
             ],
             [
              0.2222222222222222,
              "#7201a8"
             ],
             [
              0.3333333333333333,
              "#9c179e"
             ],
             [
              0.4444444444444444,
              "#bd3786"
             ],
             [
              0.5555555555555556,
              "#d8576b"
             ],
             [
              0.6666666666666666,
              "#ed7953"
             ],
             [
              0.7777777777777778,
              "#fb9f3a"
             ],
             [
              0.8888888888888888,
              "#fdca26"
             ],
             [
              1,
              "#f0f921"
             ]
            ],
            "type": "histogram2d"
           }
          ],
          "histogram2dcontour": [
           {
            "colorbar": {
             "outlinewidth": 0,
             "ticks": ""
            },
            "colorscale": [
             [
              0,
              "#0d0887"
             ],
             [
              0.1111111111111111,
              "#46039f"
             ],
             [
              0.2222222222222222,
              "#7201a8"
             ],
             [
              0.3333333333333333,
              "#9c179e"
             ],
             [
              0.4444444444444444,
              "#bd3786"
             ],
             [
              0.5555555555555556,
              "#d8576b"
             ],
             [
              0.6666666666666666,
              "#ed7953"
             ],
             [
              0.7777777777777778,
              "#fb9f3a"
             ],
             [
              0.8888888888888888,
              "#fdca26"
             ],
             [
              1,
              "#f0f921"
             ]
            ],
            "type": "histogram2dcontour"
           }
          ],
          "mesh3d": [
           {
            "colorbar": {
             "outlinewidth": 0,
             "ticks": ""
            },
            "type": "mesh3d"
           }
          ],
          "parcoords": [
           {
            "line": {
             "colorbar": {
              "outlinewidth": 0,
              "ticks": ""
             }
            },
            "type": "parcoords"
           }
          ],
          "pie": [
           {
            "automargin": true,
            "type": "pie"
           }
          ],
          "scatter": [
           {
            "fillpattern": {
             "fillmode": "overlay",
             "size": 10,
             "solidity": 0.2
            },
            "type": "scatter"
           }
          ],
          "scatter3d": [
           {
            "line": {
             "colorbar": {
              "outlinewidth": 0,
              "ticks": ""
             }
            },
            "marker": {
             "colorbar": {
              "outlinewidth": 0,
              "ticks": ""
             }
            },
            "type": "scatter3d"
           }
          ],
          "scattercarpet": [
           {
            "marker": {
             "colorbar": {
              "outlinewidth": 0,
              "ticks": ""
             }
            },
            "type": "scattercarpet"
           }
          ],
          "scattergeo": [
           {
            "marker": {
             "colorbar": {
              "outlinewidth": 0,
              "ticks": ""
             }
            },
            "type": "scattergeo"
           }
          ],
          "scattergl": [
           {
            "marker": {
             "colorbar": {
              "outlinewidth": 0,
              "ticks": ""
             }
            },
            "type": "scattergl"
           }
          ],
          "scattermap": [
           {
            "marker": {
             "colorbar": {
              "outlinewidth": 0,
              "ticks": ""
             }
            },
            "type": "scattermap"
           }
          ],
          "scattermapbox": [
           {
            "marker": {
             "colorbar": {
              "outlinewidth": 0,
              "ticks": ""
             }
            },
            "type": "scattermapbox"
           }
          ],
          "scatterpolar": [
           {
            "marker": {
             "colorbar": {
              "outlinewidth": 0,
              "ticks": ""
             }
            },
            "type": "scatterpolar"
           }
          ],
          "scatterpolargl": [
           {
            "marker": {
             "colorbar": {
              "outlinewidth": 0,
              "ticks": ""
             }
            },
            "type": "scatterpolargl"
           }
          ],
          "scatterternary": [
           {
            "marker": {
             "colorbar": {
              "outlinewidth": 0,
              "ticks": ""
             }
            },
            "type": "scatterternary"
           }
          ],
          "surface": [
           {
            "colorbar": {
             "outlinewidth": 0,
             "ticks": ""
            },
            "colorscale": [
             [
              0,
              "#0d0887"
             ],
             [
              0.1111111111111111,
              "#46039f"
             ],
             [
              0.2222222222222222,
              "#7201a8"
             ],
             [
              0.3333333333333333,
              "#9c179e"
             ],
             [
              0.4444444444444444,
              "#bd3786"
             ],
             [
              0.5555555555555556,
              "#d8576b"
             ],
             [
              0.6666666666666666,
              "#ed7953"
             ],
             [
              0.7777777777777778,
              "#fb9f3a"
             ],
             [
              0.8888888888888888,
              "#fdca26"
             ],
             [
              1,
              "#f0f921"
             ]
            ],
            "type": "surface"
           }
          ],
          "table": [
           {
            "cells": {
             "fill": {
              "color": "#EBF0F8"
             },
             "line": {
              "color": "white"
             }
            },
            "header": {
             "fill": {
              "color": "#C8D4E3"
             },
             "line": {
              "color": "white"
             }
            },
            "type": "table"
           }
          ]
         },
         "layout": {
          "annotationdefaults": {
           "arrowcolor": "#2a3f5f",
           "arrowhead": 0,
           "arrowwidth": 1
          },
          "autotypenumbers": "strict",
          "coloraxis": {
           "colorbar": {
            "outlinewidth": 0,
            "ticks": ""
           }
          },
          "colorscale": {
           "diverging": [
            [
             0,
             "#8e0152"
            ],
            [
             0.1,
             "#c51b7d"
            ],
            [
             0.2,
             "#de77ae"
            ],
            [
             0.3,
             "#f1b6da"
            ],
            [
             0.4,
             "#fde0ef"
            ],
            [
             0.5,
             "#f7f7f7"
            ],
            [
             0.6,
             "#e6f5d0"
            ],
            [
             0.7,
             "#b8e186"
            ],
            [
             0.8,
             "#7fbc41"
            ],
            [
             0.9,
             "#4d9221"
            ],
            [
             1,
             "#276419"
            ]
           ],
           "sequential": [
            [
             0,
             "#0d0887"
            ],
            [
             0.1111111111111111,
             "#46039f"
            ],
            [
             0.2222222222222222,
             "#7201a8"
            ],
            [
             0.3333333333333333,
             "#9c179e"
            ],
            [
             0.4444444444444444,
             "#bd3786"
            ],
            [
             0.5555555555555556,
             "#d8576b"
            ],
            [
             0.6666666666666666,
             "#ed7953"
            ],
            [
             0.7777777777777778,
             "#fb9f3a"
            ],
            [
             0.8888888888888888,
             "#fdca26"
            ],
            [
             1,
             "#f0f921"
            ]
           ],
           "sequentialminus": [
            [
             0,
             "#0d0887"
            ],
            [
             0.1111111111111111,
             "#46039f"
            ],
            [
             0.2222222222222222,
             "#7201a8"
            ],
            [
             0.3333333333333333,
             "#9c179e"
            ],
            [
             0.4444444444444444,
             "#bd3786"
            ],
            [
             0.5555555555555556,
             "#d8576b"
            ],
            [
             0.6666666666666666,
             "#ed7953"
            ],
            [
             0.7777777777777778,
             "#fb9f3a"
            ],
            [
             0.8888888888888888,
             "#fdca26"
            ],
            [
             1,
             "#f0f921"
            ]
           ]
          },
          "colorway": [
           "#636efa",
           "#EF553B",
           "#00cc96",
           "#ab63fa",
           "#FFA15A",
           "#19d3f3",
           "#FF6692",
           "#B6E880",
           "#FF97FF",
           "#FECB52"
          ],
          "font": {
           "color": "#2a3f5f"
          },
          "geo": {
           "bgcolor": "white",
           "lakecolor": "white",
           "landcolor": "#E5ECF6",
           "showlakes": true,
           "showland": true,
           "subunitcolor": "white"
          },
          "hoverlabel": {
           "align": "left"
          },
          "hovermode": "closest",
          "mapbox": {
           "style": "light"
          },
          "paper_bgcolor": "white",
          "plot_bgcolor": "#E5ECF6",
          "polar": {
           "angularaxis": {
            "gridcolor": "white",
            "linecolor": "white",
            "ticks": ""
           },
           "bgcolor": "#E5ECF6",
           "radialaxis": {
            "gridcolor": "white",
            "linecolor": "white",
            "ticks": ""
           }
          },
          "scene": {
           "xaxis": {
            "backgroundcolor": "#E5ECF6",
            "gridcolor": "white",
            "gridwidth": 2,
            "linecolor": "white",
            "showbackground": true,
            "ticks": "",
            "zerolinecolor": "white"
           },
           "yaxis": {
            "backgroundcolor": "#E5ECF6",
            "gridcolor": "white",
            "gridwidth": 2,
            "linecolor": "white",
            "showbackground": true,
            "ticks": "",
            "zerolinecolor": "white"
           },
           "zaxis": {
            "backgroundcolor": "#E5ECF6",
            "gridcolor": "white",
            "gridwidth": 2,
            "linecolor": "white",
            "showbackground": true,
            "ticks": "",
            "zerolinecolor": "white"
           }
          },
          "shapedefaults": {
           "line": {
            "color": "#2a3f5f"
           }
          },
          "ternary": {
           "aaxis": {
            "gridcolor": "white",
            "linecolor": "white",
            "ticks": ""
           },
           "baxis": {
            "gridcolor": "white",
            "linecolor": "white",
            "ticks": ""
           },
           "bgcolor": "#E5ECF6",
           "caxis": {
            "gridcolor": "white",
            "linecolor": "white",
            "ticks": ""
           }
          },
          "title": {
           "x": 0.05
          },
          "xaxis": {
           "automargin": true,
           "gridcolor": "white",
           "linecolor": "white",
           "ticks": "",
           "title": {
            "standoff": 15
           },
           "zerolinecolor": "white",
           "zerolinewidth": 2
          },
          "yaxis": {
           "automargin": true,
           "gridcolor": "white",
           "linecolor": "white",
           "ticks": "",
           "title": {
            "standoff": 15
           },
           "zerolinecolor": "white",
           "zerolinewidth": 2
          }
         }
        },
        "title": {
         "text": "Passengers by Cabin Letter"
        },
        "xaxis": {
         "anchor": "y",
         "domain": [
          0,
          1
         ],
         "title": {
          "text": "Cabin_letter"
         }
        },
        "yaxis": {
         "anchor": "x",
         "domain": [
          0,
          1
         ],
         "title": {
          "text": "count"
         }
        }
       }
      }
     },
     "metadata": {},
     "output_type": "display_data"
    }
   ],
   "source": [
    "fig = px.histogram(combined, x='Cabin_letter', color='Title_encoded', title='Passengers by Cabin Letter')\n",
    "fig.show()"
   ]
  },
  {
   "cell_type": "code",
   "execution_count": 421,
   "metadata": {},
   "outputs": [
    {
     "data": {
      "application/vnd.plotly.v1+json": {
       "config": {
        "plotlyServerURL": "https://plot.ly"
       },
       "data": [
        {
         "alignmentgroup": "True",
         "hovertemplate": "Embarked=%{x}<br>Fare=%{y}<extra></extra>",
         "legendgroup": "S",
         "marker": {
          "color": "#636efa"
         },
         "name": "S",
         "notched": false,
         "offsetgroup": "S",
         "orientation": "v",
         "showlegend": true,
         "type": "box",
         "x": [
          "S",
          "S",
          "S",
          "S",
          "S",
          "S",
          "S",
          "S",
          "S",
          "S",
          "S",
          "S",
          "S",
          "S",
          "S",
          "S",
          "S",
          "S",
          "S",
          "S",
          "S",
          "S",
          "S",
          "S",
          "S",
          "S",
          "S",
          "S",
          "S",
          "S",
          "S",
          "S",
          "S",
          "S",
          "S",
          "S",
          "S",
          "S",
          "S",
          "S",
          "S",
          "S",
          "S",
          "S",
          "S",
          "S",
          "S",
          "S",
          "S",
          "S",
          "S",
          "S",
          "S",
          "S",
          "S",
          "S",
          "S",
          "S",
          "S",
          "S",
          "S",
          "S",
          "S",
          "S",
          "S",
          "S",
          "S",
          "S",
          "S",
          "S",
          "S",
          "S",
          "S",
          "S",
          "S",
          "S",
          "S",
          "S",
          "S",
          "S",
          "S",
          "S",
          "S",
          "S",
          "S",
          "S",
          "S",
          "S",
          "S",
          "S",
          "S",
          "S",
          "S",
          "S",
          "S",
          "S",
          "S",
          "S",
          "S",
          "S",
          "S",
          "S",
          "S",
          "S",
          "S",
          "S",
          "S",
          "S",
          "S",
          "S",
          "S",
          "S",
          "S",
          "S",
          "S",
          "S",
          "S",
          "S",
          "S",
          "S",
          "S",
          "S",
          "S",
          "S",
          "S",
          "S",
          "S",
          "S",
          "S",
          "S",
          "S",
          "S",
          "S",
          "S",
          "S",
          "S",
          "S",
          "S",
          "S",
          "S",
          "S",
          "S",
          "S",
          "S",
          "S",
          "S",
          "S",
          "S",
          "S",
          "S",
          "S",
          "S",
          "S",
          "S",
          "S",
          "S",
          "S",
          "S",
          "S",
          "S",
          "S",
          "S",
          "S",
          "S",
          "S",
          "S",
          "S",
          "S",
          "S",
          "S",
          "S",
          "S",
          "S",
          "S",
          "S",
          "S",
          "S",
          "S",
          "S",
          "S",
          "S",
          "S",
          "S",
          "S",
          "S",
          "S",
          "S",
          "S",
          "S",
          "S",
          "S",
          "S",
          "S",
          "S",
          "S",
          "S",
          "S",
          "S",
          "S",
          "S",
          "S",
          "S",
          "S",
          "S",
          "S",
          "S",
          "S",
          "S",
          "S",
          "S",
          "S",
          "S",
          "S",
          "S",
          "S",
          "S",
          "S",
          "S",
          "S",
          "S",
          "S",
          "S",
          "S",
          "S",
          "S",
          "S",
          "S",
          "S",
          "S",
          "S",
          "S",
          "S",
          "S",
          "S",
          "S",
          "S",
          "S",
          "S",
          "S",
          "S",
          "S",
          "S",
          "S",
          "S",
          "S",
          "S",
          "S",
          "S",
          "S",
          "S",
          "S",
          "S",
          "S",
          "S",
          "S",
          "S",
          "S",
          "S",
          "S",
          "S",
          "S",
          "S",
          "S",
          "S",
          "S",
          "S",
          "S",
          "S",
          "S",
          "S",
          "S",
          "S",
          "S",
          "S",
          "S",
          "S",
          "S",
          "S",
          "S",
          "S",
          "S",
          "S",
          "S",
          "S",
          "S",
          "S",
          "S",
          "S",
          "S",
          "S",
          "S",
          "S",
          "S",
          "S",
          "S",
          "S",
          "S",
          "S",
          "S",
          "S",
          "S",
          "S",
          "S",
          "S",
          "S",
          "S",
          "S",
          "S",
          "S",
          "S",
          "S",
          "S",
          "S",
          "S",
          "S",
          "S",
          "S",
          "S",
          "S",
          "S",
          "S",
          "S",
          "S",
          "S",
          "S",
          "S",
          "S",
          "S",
          "S",
          "S",
          "S",
          "S",
          "S",
          "S",
          "S",
          "S",
          "S",
          "S",
          "S",
          "S",
          "S",
          "S",
          "S",
          "S",
          "S",
          "S",
          "S",
          "S",
          "S",
          "S",
          "S",
          "S",
          "S",
          "S",
          "S",
          "S",
          "S",
          "S",
          "S",
          "S",
          "S",
          "S",
          "S",
          "S",
          "S",
          "S",
          "S",
          "S",
          "S",
          "S",
          "S",
          "S",
          "S",
          "S",
          "S",
          "S",
          "S",
          "S",
          "S",
          "S",
          "S",
          "S",
          "S",
          "S",
          "S",
          "S",
          "S",
          "S",
          "S",
          "S",
          "S",
          "S",
          "S",
          "S",
          "S",
          "S",
          "S",
          "S",
          "S",
          "S",
          "S",
          "S",
          "S",
          "S",
          "S",
          "S",
          "S",
          "S",
          "S",
          "S",
          "S",
          "S",
          "S",
          "S",
          "S",
          "S",
          "S",
          "S",
          "S",
          "S",
          "S",
          "S",
          "S",
          "S",
          "S",
          "S",
          "S",
          "S",
          "S",
          "S",
          "S",
          "S",
          "S",
          "S",
          "S",
          "S",
          "S",
          "S",
          "S",
          "S",
          "S",
          "S",
          "S",
          "S",
          "S",
          "S",
          "S",
          "S",
          "S",
          "S",
          "S",
          "S",
          "S",
          "S",
          "S",
          "S",
          "S",
          "S",
          "S",
          "S",
          "S",
          "S",
          "S",
          "S",
          "S",
          "S",
          "S",
          "S",
          "S",
          "S",
          "S",
          "S",
          "S",
          "S",
          "S",
          "S",
          "S",
          "S",
          "S",
          "S",
          "S",
          "S",
          "S",
          "S",
          "S",
          "S",
          "S",
          "S",
          "S",
          "S",
          "S",
          "S",
          "S",
          "S",
          "S",
          "S",
          "S",
          "S",
          "S",
          "S",
          "S",
          "S",
          "S",
          "S",
          "S",
          "S",
          "S",
          "S",
          "S",
          "S",
          "S",
          "S",
          "S",
          "S",
          "S",
          "S",
          "S",
          "S",
          "S",
          "S",
          "S",
          "S",
          "S",
          "S",
          "S",
          "S",
          "S",
          "S",
          "S",
          "S",
          "S",
          "S",
          "S",
          "S",
          "S",
          "S",
          "S",
          "S",
          "S",
          "S",
          "S",
          "S",
          "S",
          "S",
          "S",
          "S",
          "S",
          "S",
          "S",
          "S",
          "S",
          "S",
          "S",
          "S",
          "S",
          "S",
          "S",
          "S",
          "S",
          "S",
          "S",
          "S",
          "S",
          "S",
          "S",
          "S",
          "S",
          "S",
          "S",
          "S",
          "S",
          "S",
          "S",
          "S",
          "S",
          "S",
          "S",
          "S",
          "S",
          "S",
          "S",
          "S",
          "S",
          "S",
          "S",
          "S",
          "S",
          "S",
          "S",
          "S",
          "S",
          "S",
          "S",
          "S",
          "S",
          "S",
          "S",
          "S",
          "S",
          "S",
          "S",
          "S",
          "S",
          "S",
          "S",
          "S",
          "S",
          "S",
          "S",
          "S",
          "S",
          "S",
          "S",
          "S",
          "S",
          "S",
          "S",
          "S",
          "S",
          "S",
          "S",
          "S",
          "S",
          "S",
          "S",
          "S",
          "S",
          "S",
          "S",
          "S",
          "S",
          "S",
          "S",
          "S",
          "S",
          "S",
          "S",
          "S",
          "S",
          "S",
          "S",
          "S",
          "S",
          "S",
          "S",
          "S",
          "S",
          "S",
          "S",
          "S",
          "S",
          "S",
          "S",
          "S",
          "S",
          "S",
          "S",
          "S",
          "S",
          "S",
          "S",
          "S",
          "S",
          "S",
          "S",
          "S",
          "S",
          "S",
          "S",
          "S",
          "S",
          "S",
          "S",
          "S",
          "S",
          "S",
          "S",
          "S",
          "S",
          "S",
          "S",
          "S",
          "S",
          "S",
          "S",
          "S",
          "S",
          "S",
          "S",
          "S",
          "S",
          "S",
          "S",
          "S",
          "S",
          "S",
          "S",
          "S",
          "S",
          "S",
          "S",
          "S",
          "S",
          "S",
          "S",
          "S",
          "S",
          "S",
          "S",
          "S",
          "S",
          "S",
          "S",
          "S",
          "S",
          "S",
          "S",
          "S",
          "S",
          "S",
          "S",
          "S",
          "S",
          "S",
          "S",
          "S",
          "S",
          "S",
          "S",
          "S",
          "S",
          "S",
          "S",
          "S",
          "S",
          "S",
          "S",
          "S",
          "S",
          "S",
          "S",
          "S",
          "S",
          "S",
          "S",
          "S",
          "S",
          "S",
          "S",
          "S",
          "S",
          "S",
          "S",
          "S",
          "S",
          "S",
          "S",
          "S",
          "S",
          "S",
          "S",
          "S",
          "S",
          "S",
          "S",
          "S",
          "S",
          "S",
          "S",
          "S",
          "S",
          "S",
          "S",
          "S",
          "S",
          "S",
          "S",
          "S",
          "S",
          "S",
          "S",
          "S",
          "S",
          "S",
          "S",
          "S",
          "S",
          "S",
          "S",
          "S",
          "S",
          "S",
          "S",
          "S",
          "S",
          "S",
          "S",
          "S",
          "S",
          "S",
          "S",
          "S",
          "S",
          "S",
          "S",
          "S",
          "S",
          "S",
          "S",
          "S",
          "S",
          "S",
          "S",
          "S",
          "S",
          "S",
          "S",
          "S",
          "S",
          "S",
          "S",
          "S",
          "S",
          "S",
          "S",
          "S",
          "S",
          "S",
          "S",
          "S",
          "S",
          "S",
          "S",
          "S",
          "S",
          "S",
          "S",
          "S",
          "S",
          "S",
          "S",
          "S",
          "S",
          "S",
          "S",
          "S",
          "S",
          "S",
          "S",
          "S",
          "S",
          "S",
          "S",
          "S",
          "S",
          "S",
          "S",
          "S",
          "S",
          "S",
          "S",
          "S",
          "S",
          "S",
          "S",
          "S",
          "S",
          "S",
          "S",
          "S",
          "S",
          "S",
          "S",
          "S",
          "S",
          "S",
          "S",
          "S",
          "S",
          "S",
          "S",
          "S",
          "S",
          "S",
          "S",
          "S",
          "S",
          "S",
          "S",
          "S",
          "S",
          "S",
          "S",
          "S",
          "S",
          "S",
          "S",
          "S",
          "S",
          "S",
          "S",
          "S",
          "S",
          "S",
          "S",
          "S",
          "S",
          "S",
          "S",
          "S",
          "S",
          "S",
          "S",
          "S",
          "S",
          "S"
         ],
         "x0": " ",
         "xaxis": "x",
         "y": {
          "bdata": "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",
          "dtype": "f8"
         },
         "y0": " ",
         "yaxis": "y"
        },
        {
         "alignmentgroup": "True",
         "hovertemplate": "Embarked=%{x}<br>Fare=%{y}<extra></extra>",
         "legendgroup": "C",
         "marker": {
          "color": "#EF553B"
         },
         "name": "C",
         "notched": false,
         "offsetgroup": "C",
         "orientation": "v",
         "showlegend": true,
         "type": "box",
         "x": [
          "C",
          "C",
          "C",
          "C",
          "C",
          "C",
          "C",
          "C",
          "C",
          "C",
          "C",
          "C",
          "C",
          "C",
          "C",
          "C",
          "C",
          "C",
          "C",
          "C",
          "C",
          "C",
          "C",
          "C",
          "C",
          "C",
          "C",
          "C",
          "C",
          "C",
          "C",
          "C",
          "C",
          "C",
          "C",
          "C",
          "C",
          "C",
          "C",
          "C",
          "C",
          "C",
          "C",
          "C",
          "C",
          "C",
          "C",
          "C",
          "C",
          "C",
          "C",
          "C",
          "C",
          "C",
          "C",
          "C",
          "C",
          "C",
          "C",
          "C",
          "C",
          "C",
          "C",
          "C",
          "C",
          "C",
          "C",
          "C",
          "C",
          "C",
          "C",
          "C",
          "C",
          "C",
          "C",
          "C",
          "C",
          "C",
          "C",
          "C",
          "C",
          "C",
          "C",
          "C",
          "C",
          "C",
          "C",
          "C",
          "C",
          "C",
          "C",
          "C",
          "C",
          "C",
          "C",
          "C",
          "C",
          "C",
          "C",
          "C",
          "C",
          "C",
          "C",
          "C",
          "C",
          "C",
          "C",
          "C",
          "C",
          "C",
          "C",
          "C",
          "C",
          "C",
          "C",
          "C",
          "C",
          "C",
          "C",
          "C",
          "C",
          "C",
          "C",
          "C",
          "C",
          "C",
          "C",
          "C",
          "C",
          "C",
          "C",
          "C",
          "C",
          "C",
          "C",
          "C",
          "C",
          "C",
          "C",
          "C",
          "C",
          "C",
          "C",
          "C",
          "C",
          "C",
          "C",
          "C",
          "C",
          "C",
          "C",
          "C",
          "C",
          "C",
          "C",
          "C",
          "C",
          "C",
          "C",
          "C",
          "C",
          "C",
          "C",
          "C",
          "C",
          "C",
          "C",
          "C",
          "C",
          "C",
          "C",
          "C",
          "C",
          "C",
          "C",
          "C",
          "C",
          "C",
          "C",
          "C",
          "C",
          "C",
          "C",
          "C",
          "C",
          "C",
          "C",
          "C",
          "C",
          "C",
          "C",
          "C",
          "C",
          "C",
          "C",
          "C",
          "C",
          "C",
          "C",
          "C",
          "C",
          "C",
          "C",
          "C",
          "C",
          "C",
          "C",
          "C",
          "C",
          "C",
          "C",
          "C",
          "C",
          "C",
          "C",
          "C",
          "C",
          "C",
          "C",
          "C",
          "C",
          "C",
          "C",
          "C",
          "C",
          "C",
          "C",
          "C",
          "C",
          "C",
          "C",
          "C",
          "C",
          "C",
          "C",
          "C",
          "C",
          "C",
          "C",
          "C",
          "C",
          "C",
          "C",
          "C",
          "C",
          "C",
          "C",
          "C",
          "C",
          "C",
          "C",
          "C",
          "C",
          "C",
          "C",
          "C",
          "C",
          "C",
          "C",
          "C",
          "C",
          "C",
          "C",
          "C",
          "C",
          "C",
          "C",
          "C",
          "C",
          "C"
         ],
         "x0": " ",
         "xaxis": "x",
         "y": {
          "bdata": "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",
          "dtype": "f8"
         },
         "y0": " ",
         "yaxis": "y"
        },
        {
         "alignmentgroup": "True",
         "hovertemplate": "Embarked=%{x}<br>Fare=%{y}<extra></extra>",
         "legendgroup": "Q",
         "marker": {
          "color": "#00cc96"
         },
         "name": "Q",
         "notched": false,
         "offsetgroup": "Q",
         "orientation": "v",
         "showlegend": true,
         "type": "box",
         "x": [
          "Q",
          "Q",
          "Q",
          "Q",
          "Q",
          "Q",
          "Q",
          "Q",
          "Q",
          "Q",
          "Q",
          "Q",
          "Q",
          "Q",
          "Q",
          "Q",
          "Q",
          "Q",
          "Q",
          "Q",
          "Q",
          "Q",
          "Q",
          "Q",
          "Q",
          "Q",
          "Q",
          "Q",
          "Q",
          "Q",
          "Q",
          "Q",
          "Q",
          "Q",
          "Q",
          "Q",
          "Q",
          "Q",
          "Q",
          "Q",
          "Q",
          "Q",
          "Q",
          "Q",
          "Q",
          "Q",
          "Q",
          "Q",
          "Q",
          "Q",
          "Q",
          "Q",
          "Q",
          "Q",
          "Q",
          "Q",
          "Q",
          "Q",
          "Q",
          "Q",
          "Q",
          "Q",
          "Q",
          "Q",
          "Q",
          "Q",
          "Q",
          "Q",
          "Q",
          "Q",
          "Q",
          "Q",
          "Q",
          "Q",
          "Q",
          "Q",
          "Q",
          "Q",
          "Q",
          "Q",
          "Q",
          "Q",
          "Q",
          "Q",
          "Q",
          "Q",
          "Q",
          "Q",
          "Q",
          "Q",
          "Q",
          "Q",
          "Q",
          "Q",
          "Q",
          "Q",
          "Q",
          "Q",
          "Q",
          "Q",
          "Q",
          "Q",
          "Q",
          "Q",
          "Q",
          "Q",
          "Q",
          "Q",
          "Q",
          "Q",
          "Q",
          "Q",
          "Q",
          "Q",
          "Q",
          "Q",
          "Q",
          "Q",
          "Q",
          "Q",
          "Q",
          "Q",
          "Q"
         ],
         "x0": " ",
         "xaxis": "x",
         "y": {
          "bdata": "e4MvTKbqIEAAAAAAACA9QB4Wak3zDiBAo5I6AU2EH0AAAAAAAAAfQKOSOgFNhB9AAAAAAAAAL0AAAAAAAAAfQGZmZmZmJh9AZmZmZmYmOEAAAAAAAAAfQAAAAAAAAB9AAAAAAAAAG0CQoPgx5u4eQAAAAAAAID1AAAAAAAAAL0AAAAAAAAAvQAAAAAAAAB9AAAAAAAAAH0AAAAAAAAAfQAAAAAAAAB9AAAAAAAAAL0AAAAAAAIBWQAAAAAAAAB9AAAAAAAAAH0AAAAAAAAAfQAAAAAAAID1AAAAAAAAAH0AAAAAAAAAfQAAAAAAAAB9AAAAAAABAN0AzMzMzM7MoQDMzMzMzsyhAAAAAAABAN0CjkjoBTYQfQKOSOgFNhB9AAAAAAAAAL0AAAAAAAAAfQAn5oGez6h5AkKD4MeZuG0AAAAAAAIBWQJCg+DHm7h5AAAAAAAAAH0AAAAAAAAAfQGZmZmZm5h5AAAAAAAAAH0CjkjoBTYQeQAAAAAAAAB9AZmZmZmYmOEAAAAAAAAAfQHBfB84ZUR9AAAAAAAAAH0AAAAAAAAAfQAAAAAAAAB9AAAAAAAAAL0AAAAAAAAAfQDMzMzMzsyhAkKD4MebuHkBwXwfOGVEfQAAAAAAAABtAAAAAAAAAL0BmZmZmZkYgQJCg+DHm7h5A1sVtNID3HkAAAAAAAAAvQDMzMzMz8x5AAAAAAAAAH0AAAAAAAAAfQGZmZmZmJjhAAAAAAAAAH0AzMzMzM/MeQAAAAAAAID1AAAAAAAAAH0DNzMzMzMwbQAAAAAAAAB9AAAAAAAAgPUAAAAAAAAAfQHBfB84ZUR9AAAAAAABgI0CjkjoBTYQeQDMzMzMzsyhAAAAAAAAAH0AAAAAAACA9QGZmZmZm5h5Ao5I6AU2EH0AAAAAAAAAfQAAAAAAAAB9Ae4MvTKZqJUCjkjoBTYQfQAAAAAAAAB9AAAAAAAAAH0AqOpLLf0gfQAAAAAAAAB9APSzUmuYdH0DD0ytlGSIdQAAAAAAAAB9AAAAAAAAAH0AAAAAAAEA3QJCg+DHm7h5AAAAAAAAAH0AzMzMzM7MoQAAAAAAAAC9AAAAAAAAAH0CjkjoBTYQfQAAAAAAAAB9Ao5I6AU2EH0AAAAAAAAAfQAAAAAAAAB9AAAAAAAAAL0AAAAAAAAAfQM3MzMzMzBtAAAAAAAAAH0AAAAAAAAAfQJCg+DHm7h5AAAAAAAAAH0AAAAAAAAAfQKOSOgFNhB9AAAAAAAAAH0AAAAAAAAAdQJCg+DHm7h5Aw9MrZRniHkAAAAAAAAAfQAAAAAAAgFZA",
          "dtype": "f8"
         },
         "y0": " ",
         "yaxis": "y"
        }
       ],
       "layout": {
        "boxmode": "overlay",
        "legend": {
         "title": {
          "text": "Embarked"
         },
         "tracegroupgap": 0
        },
        "template": {
         "data": {
          "bar": [
           {
            "error_x": {
             "color": "#2a3f5f"
            },
            "error_y": {
             "color": "#2a3f5f"
            },
            "marker": {
             "line": {
              "color": "#E5ECF6",
              "width": 0.5
             },
             "pattern": {
              "fillmode": "overlay",
              "size": 10,
              "solidity": 0.2
             }
            },
            "type": "bar"
           }
          ],
          "barpolar": [
           {
            "marker": {
             "line": {
              "color": "#E5ECF6",
              "width": 0.5
             },
             "pattern": {
              "fillmode": "overlay",
              "size": 10,
              "solidity": 0.2
             }
            },
            "type": "barpolar"
           }
          ],
          "carpet": [
           {
            "aaxis": {
             "endlinecolor": "#2a3f5f",
             "gridcolor": "white",
             "linecolor": "white",
             "minorgridcolor": "white",
             "startlinecolor": "#2a3f5f"
            },
            "baxis": {
             "endlinecolor": "#2a3f5f",
             "gridcolor": "white",
             "linecolor": "white",
             "minorgridcolor": "white",
             "startlinecolor": "#2a3f5f"
            },
            "type": "carpet"
           }
          ],
          "choropleth": [
           {
            "colorbar": {
             "outlinewidth": 0,
             "ticks": ""
            },
            "type": "choropleth"
           }
          ],
          "contour": [
           {
            "colorbar": {
             "outlinewidth": 0,
             "ticks": ""
            },
            "colorscale": [
             [
              0,
              "#0d0887"
             ],
             [
              0.1111111111111111,
              "#46039f"
             ],
             [
              0.2222222222222222,
              "#7201a8"
             ],
             [
              0.3333333333333333,
              "#9c179e"
             ],
             [
              0.4444444444444444,
              "#bd3786"
             ],
             [
              0.5555555555555556,
              "#d8576b"
             ],
             [
              0.6666666666666666,
              "#ed7953"
             ],
             [
              0.7777777777777778,
              "#fb9f3a"
             ],
             [
              0.8888888888888888,
              "#fdca26"
             ],
             [
              1,
              "#f0f921"
             ]
            ],
            "type": "contour"
           }
          ],
          "contourcarpet": [
           {
            "colorbar": {
             "outlinewidth": 0,
             "ticks": ""
            },
            "type": "contourcarpet"
           }
          ],
          "heatmap": [
           {
            "colorbar": {
             "outlinewidth": 0,
             "ticks": ""
            },
            "colorscale": [
             [
              0,
              "#0d0887"
             ],
             [
              0.1111111111111111,
              "#46039f"
             ],
             [
              0.2222222222222222,
              "#7201a8"
             ],
             [
              0.3333333333333333,
              "#9c179e"
             ],
             [
              0.4444444444444444,
              "#bd3786"
             ],
             [
              0.5555555555555556,
              "#d8576b"
             ],
             [
              0.6666666666666666,
              "#ed7953"
             ],
             [
              0.7777777777777778,
              "#fb9f3a"
             ],
             [
              0.8888888888888888,
              "#fdca26"
             ],
             [
              1,
              "#f0f921"
             ]
            ],
            "type": "heatmap"
           }
          ],
          "histogram": [
           {
            "marker": {
             "pattern": {
              "fillmode": "overlay",
              "size": 10,
              "solidity": 0.2
             }
            },
            "type": "histogram"
           }
          ],
          "histogram2d": [
           {
            "colorbar": {
             "outlinewidth": 0,
             "ticks": ""
            },
            "colorscale": [
             [
              0,
              "#0d0887"
             ],
             [
              0.1111111111111111,
              "#46039f"
             ],
             [
              0.2222222222222222,
              "#7201a8"
             ],
             [
              0.3333333333333333,
              "#9c179e"
             ],
             [
              0.4444444444444444,
              "#bd3786"
             ],
             [
              0.5555555555555556,
              "#d8576b"
             ],
             [
              0.6666666666666666,
              "#ed7953"
             ],
             [
              0.7777777777777778,
              "#fb9f3a"
             ],
             [
              0.8888888888888888,
              "#fdca26"
             ],
             [
              1,
              "#f0f921"
             ]
            ],
            "type": "histogram2d"
           }
          ],
          "histogram2dcontour": [
           {
            "colorbar": {
             "outlinewidth": 0,
             "ticks": ""
            },
            "colorscale": [
             [
              0,
              "#0d0887"
             ],
             [
              0.1111111111111111,
              "#46039f"
             ],
             [
              0.2222222222222222,
              "#7201a8"
             ],
             [
              0.3333333333333333,
              "#9c179e"
             ],
             [
              0.4444444444444444,
              "#bd3786"
             ],
             [
              0.5555555555555556,
              "#d8576b"
             ],
             [
              0.6666666666666666,
              "#ed7953"
             ],
             [
              0.7777777777777778,
              "#fb9f3a"
             ],
             [
              0.8888888888888888,
              "#fdca26"
             ],
             [
              1,
              "#f0f921"
             ]
            ],
            "type": "histogram2dcontour"
           }
          ],
          "mesh3d": [
           {
            "colorbar": {
             "outlinewidth": 0,
             "ticks": ""
            },
            "type": "mesh3d"
           }
          ],
          "parcoords": [
           {
            "line": {
             "colorbar": {
              "outlinewidth": 0,
              "ticks": ""
             }
            },
            "type": "parcoords"
           }
          ],
          "pie": [
           {
            "automargin": true,
            "type": "pie"
           }
          ],
          "scatter": [
           {
            "fillpattern": {
             "fillmode": "overlay",
             "size": 10,
             "solidity": 0.2
            },
            "type": "scatter"
           }
          ],
          "scatter3d": [
           {
            "line": {
             "colorbar": {
              "outlinewidth": 0,
              "ticks": ""
             }
            },
            "marker": {
             "colorbar": {
              "outlinewidth": 0,
              "ticks": ""
             }
            },
            "type": "scatter3d"
           }
          ],
          "scattercarpet": [
           {
            "marker": {
             "colorbar": {
              "outlinewidth": 0,
              "ticks": ""
             }
            },
            "type": "scattercarpet"
           }
          ],
          "scattergeo": [
           {
            "marker": {
             "colorbar": {
              "outlinewidth": 0,
              "ticks": ""
             }
            },
            "type": "scattergeo"
           }
          ],
          "scattergl": [
           {
            "marker": {
             "colorbar": {
              "outlinewidth": 0,
              "ticks": ""
             }
            },
            "type": "scattergl"
           }
          ],
          "scattermap": [
           {
            "marker": {
             "colorbar": {
              "outlinewidth": 0,
              "ticks": ""
             }
            },
            "type": "scattermap"
           }
          ],
          "scattermapbox": [
           {
            "marker": {
             "colorbar": {
              "outlinewidth": 0,
              "ticks": ""
             }
            },
            "type": "scattermapbox"
           }
          ],
          "scatterpolar": [
           {
            "marker": {
             "colorbar": {
              "outlinewidth": 0,
              "ticks": ""
             }
            },
            "type": "scatterpolar"
           }
          ],
          "scatterpolargl": [
           {
            "marker": {
             "colorbar": {
              "outlinewidth": 0,
              "ticks": ""
             }
            },
            "type": "scatterpolargl"
           }
          ],
          "scatterternary": [
           {
            "marker": {
             "colorbar": {
              "outlinewidth": 0,
              "ticks": ""
             }
            },
            "type": "scatterternary"
           }
          ],
          "surface": [
           {
            "colorbar": {
             "outlinewidth": 0,
             "ticks": ""
            },
            "colorscale": [
             [
              0,
              "#0d0887"
             ],
             [
              0.1111111111111111,
              "#46039f"
             ],
             [
              0.2222222222222222,
              "#7201a8"
             ],
             [
              0.3333333333333333,
              "#9c179e"
             ],
             [
              0.4444444444444444,
              "#bd3786"
             ],
             [
              0.5555555555555556,
              "#d8576b"
             ],
             [
              0.6666666666666666,
              "#ed7953"
             ],
             [
              0.7777777777777778,
              "#fb9f3a"
             ],
             [
              0.8888888888888888,
              "#fdca26"
             ],
             [
              1,
              "#f0f921"
             ]
            ],
            "type": "surface"
           }
          ],
          "table": [
           {
            "cells": {
             "fill": {
              "color": "#EBF0F8"
             },
             "line": {
              "color": "white"
             }
            },
            "header": {
             "fill": {
              "color": "#C8D4E3"
             },
             "line": {
              "color": "white"
             }
            },
            "type": "table"
           }
          ]
         },
         "layout": {
          "annotationdefaults": {
           "arrowcolor": "#2a3f5f",
           "arrowhead": 0,
           "arrowwidth": 1
          },
          "autotypenumbers": "strict",
          "coloraxis": {
           "colorbar": {
            "outlinewidth": 0,
            "ticks": ""
           }
          },
          "colorscale": {
           "diverging": [
            [
             0,
             "#8e0152"
            ],
            [
             0.1,
             "#c51b7d"
            ],
            [
             0.2,
             "#de77ae"
            ],
            [
             0.3,
             "#f1b6da"
            ],
            [
             0.4,
             "#fde0ef"
            ],
            [
             0.5,
             "#f7f7f7"
            ],
            [
             0.6,
             "#e6f5d0"
            ],
            [
             0.7,
             "#b8e186"
            ],
            [
             0.8,
             "#7fbc41"
            ],
            [
             0.9,
             "#4d9221"
            ],
            [
             1,
             "#276419"
            ]
           ],
           "sequential": [
            [
             0,
             "#0d0887"
            ],
            [
             0.1111111111111111,
             "#46039f"
            ],
            [
             0.2222222222222222,
             "#7201a8"
            ],
            [
             0.3333333333333333,
             "#9c179e"
            ],
            [
             0.4444444444444444,
             "#bd3786"
            ],
            [
             0.5555555555555556,
             "#d8576b"
            ],
            [
             0.6666666666666666,
             "#ed7953"
            ],
            [
             0.7777777777777778,
             "#fb9f3a"
            ],
            [
             0.8888888888888888,
             "#fdca26"
            ],
            [
             1,
             "#f0f921"
            ]
           ],
           "sequentialminus": [
            [
             0,
             "#0d0887"
            ],
            [
             0.1111111111111111,
             "#46039f"
            ],
            [
             0.2222222222222222,
             "#7201a8"
            ],
            [
             0.3333333333333333,
             "#9c179e"
            ],
            [
             0.4444444444444444,
             "#bd3786"
            ],
            [
             0.5555555555555556,
             "#d8576b"
            ],
            [
             0.6666666666666666,
             "#ed7953"
            ],
            [
             0.7777777777777778,
             "#fb9f3a"
            ],
            [
             0.8888888888888888,
             "#fdca26"
            ],
            [
             1,
             "#f0f921"
            ]
           ]
          },
          "colorway": [
           "#636efa",
           "#EF553B",
           "#00cc96",
           "#ab63fa",
           "#FFA15A",
           "#19d3f3",
           "#FF6692",
           "#B6E880",
           "#FF97FF",
           "#FECB52"
          ],
          "font": {
           "color": "#2a3f5f"
          },
          "geo": {
           "bgcolor": "white",
           "lakecolor": "white",
           "landcolor": "#E5ECF6",
           "showlakes": true,
           "showland": true,
           "subunitcolor": "white"
          },
          "hoverlabel": {
           "align": "left"
          },
          "hovermode": "closest",
          "mapbox": {
           "style": "light"
          },
          "paper_bgcolor": "white",
          "plot_bgcolor": "#E5ECF6",
          "polar": {
           "angularaxis": {
            "gridcolor": "white",
            "linecolor": "white",
            "ticks": ""
           },
           "bgcolor": "#E5ECF6",
           "radialaxis": {
            "gridcolor": "white",
            "linecolor": "white",
            "ticks": ""
           }
          },
          "scene": {
           "xaxis": {
            "backgroundcolor": "#E5ECF6",
            "gridcolor": "white",
            "gridwidth": 2,
            "linecolor": "white",
            "showbackground": true,
            "ticks": "",
            "zerolinecolor": "white"
           },
           "yaxis": {
            "backgroundcolor": "#E5ECF6",
            "gridcolor": "white",
            "gridwidth": 2,
            "linecolor": "white",
            "showbackground": true,
            "ticks": "",
            "zerolinecolor": "white"
           },
           "zaxis": {
            "backgroundcolor": "#E5ECF6",
            "gridcolor": "white",
            "gridwidth": 2,
            "linecolor": "white",
            "showbackground": true,
            "ticks": "",
            "zerolinecolor": "white"
           }
          },
          "shapedefaults": {
           "line": {
            "color": "#2a3f5f"
           }
          },
          "ternary": {
           "aaxis": {
            "gridcolor": "white",
            "linecolor": "white",
            "ticks": ""
           },
           "baxis": {
            "gridcolor": "white",
            "linecolor": "white",
            "ticks": ""
           },
           "bgcolor": "#E5ECF6",
           "caxis": {
            "gridcolor": "white",
            "linecolor": "white",
            "ticks": ""
           }
          },
          "title": {
           "x": 0.05
          },
          "xaxis": {
           "automargin": true,
           "gridcolor": "white",
           "linecolor": "white",
           "ticks": "",
           "title": {
            "standoff": 15
           },
           "zerolinecolor": "white",
           "zerolinewidth": 2
          },
          "yaxis": {
           "automargin": true,
           "gridcolor": "white",
           "linecolor": "white",
           "ticks": "",
           "title": {
            "standoff": 15
           },
           "zerolinecolor": "white",
           "zerolinewidth": 2
          }
         }
        },
        "title": {
         "text": "Fare by Embarkation Port"
        },
        "xaxis": {
         "anchor": "y",
         "categoryarray": [
          "S",
          "C",
          "Q"
         ],
         "categoryorder": "array",
         "domain": [
          0,
          1
         ],
         "title": {
          "text": "Embarked"
         }
        },
        "yaxis": {
         "anchor": "x",
         "domain": [
          0,
          1
         ],
         "title": {
          "text": "Fare"
         }
        }
       }
      }
     },
     "metadata": {},
     "output_type": "display_data"
    }
   ],
   "source": [
    "fig = px.box(combined, x='Embarked', y='Fare', color='Embarked', title='Fare by Embarkation Port')\n",
    "fig.show()\n"
   ]
  },
  {
   "cell_type": "code",
   "execution_count": 422,
   "metadata": {},
   "outputs": [
    {
     "data": {
      "application/vnd.plotly.v1+json": {
       "config": {
        "plotlyServerURL": "https://plot.ly"
       },
       "data": [
        {
         "alignmentgroup": "True",
         "boxpoints": "all",
         "hovertemplate": "Pclass=%{x}<br>Fare=%{y}<extra></extra>",
         "legendgroup": "",
         "marker": {
          "color": "#636efa"
         },
         "name": "",
         "notched": false,
         "offsetgroup": "",
         "orientation": "v",
         "showlegend": false,
         "type": "box",
         "x": {
          "bdata": "AwEDAQMDAQMDAgMBAwMDAgMCAwMCAgMBAwMDAQMDAQEDAgEBAwMDAwMCAwIDAwMDAwMDAwECAQECAwIDAwEBAwEDAgMDAwIDAgMDAwMDAgMDAwMBAgMDAwEDAwMBAwMDAQECAgMDAQMDAwMDAwMBAwMDAwMDAgEDAgMCAgEDAwMDAwMDAwICAgEBAwEDAwMDAgIDAwICAgEDAwMBAwMDAwMCAwMDAwEDAQMBAwMDAQMDAQIDAwIDAgMBAwEDAwICAwIBAQMDAwIDAwMDAwMDAwMBAwIDAgMBAwIBAgMCAwMBAwIDAgMBAwIDAgMCAgICAwMCAwMBAwIBAgMDAQMDAwEBAQIDAwEBAwIDAwEBAQMCAQMBAwIDAwMDAwMBAwMDAgMBAQIDAwEDAQEBAwMDAgMBAQECAQEBAgMCAwICAQEDAwICAwEDAgMBAwEBAwEDAQEDAQIBAgICAgIDAwMDAQMDAwMBAgMDAwIDAwMDAQMDAQEDAwEDAQMBAwMBAwMBAwIDAgMCAQMDAQMDAwICAgMDAwMDAgMCAwMDAwECAwMCAgIDAwMDAwMDAgIDAwEDAgMBAQMCAQICAwMCAwECAQMBAgMBAQMDAQECAwEDAQIDAwIBAwMDAwICAwECAwMDAwIDAwEDAQEDAwMDAQEDAwEDAQMDAwMDAQECAQMDAwMBAQMBAgMCAwEDAwEDAwIBAwICAwMDAwIBAQMBAQMDAgEBAgIDAgECAwMDAQEBAQMDAwIDAwMDAwMDAgEBAwMDAgEDAwIBAgEDAQIBAwMDAQMDAgMCAwMBAgMBAwEDAwECAQMDAwMDAgMDAgIDAQMDAwECAQMDAQMBAQMCAwIDAwMBAwMDAQMBAwMDAgMDAwIDAwIBAQMBAwMCAgMDAQIBAgICAwMDAwEDAQMDAgIDAwMBAQMDAwECAwMBAwEBAwMDAgIBAQMBAQEDAgMBAgMDAgMCAgEDAgMCAwEDAgICAwMBAwMBAQEDAwEDAgEDAgMDAwICAwIDAQMDAwEDAQEDAwMDAwIDAgMDAwMBAwEBAwMDAwMDAQMCAwEDAgEDAwMCAgEDAwMBAwIBAwMCAwMBAwIDAwEDAQMDAwMCAwEDAgMDAwEDAwMBAwIBAwMDAwMCAQMDAwECAwEBAwMDAgEDAgICAQMDAwEBAwIDAwMDAQIDAwIDAwIBAwEDAwMCAwMDAwIDAwMBAQIBAgIDAwMBAwEBAQMBAwEDAgIDAwEDAwMDAwMBAwIBAwEDAQMBAgIBAgMDAwMBAwIDAwECAwEBAQMDAwEBAQMBAgMDAQEDAgMDAwMCAwMBAwEDAQMDAwECAwMDAwMDAwICAwEDAQMDAwECAgMBAwMDAwMCAwMBAwMDAwMCAwMDAQECAQMBAwECAQMDAwMDAQMBAwMDAgMCAwEDAQMDAwMDAwICAQIBAgEBAwECAgMDAgIBAwICAwEDAgMDAwECAgEDAgEDAwMCAgMBAwEBAwIDAgMBAwMDAwICAQMDAQMBAwIBAQIBAwMBAgICAwIDAQMDAwMDAgMDAwIDAgMBAwMDAQMBAwMCAgICAgMDAwMDAwMBAwMBAwMBAwMCAwEDAwICAwMBAQMBAwMDAwMBAwECAwIDAwIBAQMCAQICAgEDAwMBAgMCAwIDAwEDAwIDAgIBAgICAwEBAwMDAwICAwEDAwMBAgIBAQIBAQMCAQMDAwMDAgIDAgMDAQEDAgMBAwEDAwECAQEBAgIBAwMDAQMDAQMDAw==",
          "dtype": "i1"
         },
         "x0": " ",
         "xaxis": "x",
         "y": {
          "bdata": "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",
          "dtype": "f8"
         },
         "y0": " ",
         "yaxis": "y"
        }
       ],
       "layout": {
        "boxmode": "group",
        "legend": {
         "tracegroupgap": 0
        },
        "template": {
         "data": {
          "bar": [
           {
            "error_x": {
             "color": "#2a3f5f"
            },
            "error_y": {
             "color": "#2a3f5f"
            },
            "marker": {
             "line": {
              "color": "#E5ECF6",
              "width": 0.5
             },
             "pattern": {
              "fillmode": "overlay",
              "size": 10,
              "solidity": 0.2
             }
            },
            "type": "bar"
           }
          ],
          "barpolar": [
           {
            "marker": {
             "line": {
              "color": "#E5ECF6",
              "width": 0.5
             },
             "pattern": {
              "fillmode": "overlay",
              "size": 10,
              "solidity": 0.2
             }
            },
            "type": "barpolar"
           }
          ],
          "carpet": [
           {
            "aaxis": {
             "endlinecolor": "#2a3f5f",
             "gridcolor": "white",
             "linecolor": "white",
             "minorgridcolor": "white",
             "startlinecolor": "#2a3f5f"
            },
            "baxis": {
             "endlinecolor": "#2a3f5f",
             "gridcolor": "white",
             "linecolor": "white",
             "minorgridcolor": "white",
             "startlinecolor": "#2a3f5f"
            },
            "type": "carpet"
           }
          ],
          "choropleth": [
           {
            "colorbar": {
             "outlinewidth": 0,
             "ticks": ""
            },
            "type": "choropleth"
           }
          ],
          "contour": [
           {
            "colorbar": {
             "outlinewidth": 0,
             "ticks": ""
            },
            "colorscale": [
             [
              0,
              "#0d0887"
             ],
             [
              0.1111111111111111,
              "#46039f"
             ],
             [
              0.2222222222222222,
              "#7201a8"
             ],
             [
              0.3333333333333333,
              "#9c179e"
             ],
             [
              0.4444444444444444,
              "#bd3786"
             ],
             [
              0.5555555555555556,
              "#d8576b"
             ],
             [
              0.6666666666666666,
              "#ed7953"
             ],
             [
              0.7777777777777778,
              "#fb9f3a"
             ],
             [
              0.8888888888888888,
              "#fdca26"
             ],
             [
              1,
              "#f0f921"
             ]
            ],
            "type": "contour"
           }
          ],
          "contourcarpet": [
           {
            "colorbar": {
             "outlinewidth": 0,
             "ticks": ""
            },
            "type": "contourcarpet"
           }
          ],
          "heatmap": [
           {
            "colorbar": {
             "outlinewidth": 0,
             "ticks": ""
            },
            "colorscale": [
             [
              0,
              "#0d0887"
             ],
             [
              0.1111111111111111,
              "#46039f"
             ],
             [
              0.2222222222222222,
              "#7201a8"
             ],
             [
              0.3333333333333333,
              "#9c179e"
             ],
             [
              0.4444444444444444,
              "#bd3786"
             ],
             [
              0.5555555555555556,
              "#d8576b"
             ],
             [
              0.6666666666666666,
              "#ed7953"
             ],
             [
              0.7777777777777778,
              "#fb9f3a"
             ],
             [
              0.8888888888888888,
              "#fdca26"
             ],
             [
              1,
              "#f0f921"
             ]
            ],
            "type": "heatmap"
           }
          ],
          "histogram": [
           {
            "marker": {
             "pattern": {
              "fillmode": "overlay",
              "size": 10,
              "solidity": 0.2
             }
            },
            "type": "histogram"
           }
          ],
          "histogram2d": [
           {
            "colorbar": {
             "outlinewidth": 0,
             "ticks": ""
            },
            "colorscale": [
             [
              0,
              "#0d0887"
             ],
             [
              0.1111111111111111,
              "#46039f"
             ],
             [
              0.2222222222222222,
              "#7201a8"
             ],
             [
              0.3333333333333333,
              "#9c179e"
             ],
             [
              0.4444444444444444,
              "#bd3786"
             ],
             [
              0.5555555555555556,
              "#d8576b"
             ],
             [
              0.6666666666666666,
              "#ed7953"
             ],
             [
              0.7777777777777778,
              "#fb9f3a"
             ],
             [
              0.8888888888888888,
              "#fdca26"
             ],
             [
              1,
              "#f0f921"
             ]
            ],
            "type": "histogram2d"
           }
          ],
          "histogram2dcontour": [
           {
            "colorbar": {
             "outlinewidth": 0,
             "ticks": ""
            },
            "colorscale": [
             [
              0,
              "#0d0887"
             ],
             [
              0.1111111111111111,
              "#46039f"
             ],
             [
              0.2222222222222222,
              "#7201a8"
             ],
             [
              0.3333333333333333,
              "#9c179e"
             ],
             [
              0.4444444444444444,
              "#bd3786"
             ],
             [
              0.5555555555555556,
              "#d8576b"
             ],
             [
              0.6666666666666666,
              "#ed7953"
             ],
             [
              0.7777777777777778,
              "#fb9f3a"
             ],
             [
              0.8888888888888888,
              "#fdca26"
             ],
             [
              1,
              "#f0f921"
             ]
            ],
            "type": "histogram2dcontour"
           }
          ],
          "mesh3d": [
           {
            "colorbar": {
             "outlinewidth": 0,
             "ticks": ""
            },
            "type": "mesh3d"
           }
          ],
          "parcoords": [
           {
            "line": {
             "colorbar": {
              "outlinewidth": 0,
              "ticks": ""
             }
            },
            "type": "parcoords"
           }
          ],
          "pie": [
           {
            "automargin": true,
            "type": "pie"
           }
          ],
          "scatter": [
           {
            "fillpattern": {
             "fillmode": "overlay",
             "size": 10,
             "solidity": 0.2
            },
            "type": "scatter"
           }
          ],
          "scatter3d": [
           {
            "line": {
             "colorbar": {
              "outlinewidth": 0,
              "ticks": ""
             }
            },
            "marker": {
             "colorbar": {
              "outlinewidth": 0,
              "ticks": ""
             }
            },
            "type": "scatter3d"
           }
          ],
          "scattercarpet": [
           {
            "marker": {
             "colorbar": {
              "outlinewidth": 0,
              "ticks": ""
             }
            },
            "type": "scattercarpet"
           }
          ],
          "scattergeo": [
           {
            "marker": {
             "colorbar": {
              "outlinewidth": 0,
              "ticks": ""
             }
            },
            "type": "scattergeo"
           }
          ],
          "scattergl": [
           {
            "marker": {
             "colorbar": {
              "outlinewidth": 0,
              "ticks": ""
             }
            },
            "type": "scattergl"
           }
          ],
          "scattermap": [
           {
            "marker": {
             "colorbar": {
              "outlinewidth": 0,
              "ticks": ""
             }
            },
            "type": "scattermap"
           }
          ],
          "scattermapbox": [
           {
            "marker": {
             "colorbar": {
              "outlinewidth": 0,
              "ticks": ""
             }
            },
            "type": "scattermapbox"
           }
          ],
          "scatterpolar": [
           {
            "marker": {
             "colorbar": {
              "outlinewidth": 0,
              "ticks": ""
             }
            },
            "type": "scatterpolar"
           }
          ],
          "scatterpolargl": [
           {
            "marker": {
             "colorbar": {
              "outlinewidth": 0,
              "ticks": ""
             }
            },
            "type": "scatterpolargl"
           }
          ],
          "scatterternary": [
           {
            "marker": {
             "colorbar": {
              "outlinewidth": 0,
              "ticks": ""
             }
            },
            "type": "scatterternary"
           }
          ],
          "surface": [
           {
            "colorbar": {
             "outlinewidth": 0,
             "ticks": ""
            },
            "colorscale": [
             [
              0,
              "#0d0887"
             ],
             [
              0.1111111111111111,
              "#46039f"
             ],
             [
              0.2222222222222222,
              "#7201a8"
             ],
             [
              0.3333333333333333,
              "#9c179e"
             ],
             [
              0.4444444444444444,
              "#bd3786"
             ],
             [
              0.5555555555555556,
              "#d8576b"
             ],
             [
              0.6666666666666666,
              "#ed7953"
             ],
             [
              0.7777777777777778,
              "#fb9f3a"
             ],
             [
              0.8888888888888888,
              "#fdca26"
             ],
             [
              1,
              "#f0f921"
             ]
            ],
            "type": "surface"
           }
          ],
          "table": [
           {
            "cells": {
             "fill": {
              "color": "#EBF0F8"
             },
             "line": {
              "color": "white"
             }
            },
            "header": {
             "fill": {
              "color": "#C8D4E3"
             },
             "line": {
              "color": "white"
             }
            },
            "type": "table"
           }
          ]
         },
         "layout": {
          "annotationdefaults": {
           "arrowcolor": "#2a3f5f",
           "arrowhead": 0,
           "arrowwidth": 1
          },
          "autotypenumbers": "strict",
          "coloraxis": {
           "colorbar": {
            "outlinewidth": 0,
            "ticks": ""
           }
          },
          "colorscale": {
           "diverging": [
            [
             0,
             "#8e0152"
            ],
            [
             0.1,
             "#c51b7d"
            ],
            [
             0.2,
             "#de77ae"
            ],
            [
             0.3,
             "#f1b6da"
            ],
            [
             0.4,
             "#fde0ef"
            ],
            [
             0.5,
             "#f7f7f7"
            ],
            [
             0.6,
             "#e6f5d0"
            ],
            [
             0.7,
             "#b8e186"
            ],
            [
             0.8,
             "#7fbc41"
            ],
            [
             0.9,
             "#4d9221"
            ],
            [
             1,
             "#276419"
            ]
           ],
           "sequential": [
            [
             0,
             "#0d0887"
            ],
            [
             0.1111111111111111,
             "#46039f"
            ],
            [
             0.2222222222222222,
             "#7201a8"
            ],
            [
             0.3333333333333333,
             "#9c179e"
            ],
            [
             0.4444444444444444,
             "#bd3786"
            ],
            [
             0.5555555555555556,
             "#d8576b"
            ],
            [
             0.6666666666666666,
             "#ed7953"
            ],
            [
             0.7777777777777778,
             "#fb9f3a"
            ],
            [
             0.8888888888888888,
             "#fdca26"
            ],
            [
             1,
             "#f0f921"
            ]
           ],
           "sequentialminus": [
            [
             0,
             "#0d0887"
            ],
            [
             0.1111111111111111,
             "#46039f"
            ],
            [
             0.2222222222222222,
             "#7201a8"
            ],
            [
             0.3333333333333333,
             "#9c179e"
            ],
            [
             0.4444444444444444,
             "#bd3786"
            ],
            [
             0.5555555555555556,
             "#d8576b"
            ],
            [
             0.6666666666666666,
             "#ed7953"
            ],
            [
             0.7777777777777778,
             "#fb9f3a"
            ],
            [
             0.8888888888888888,
             "#fdca26"
            ],
            [
             1,
             "#f0f921"
            ]
           ]
          },
          "colorway": [
           "#636efa",
           "#EF553B",
           "#00cc96",
           "#ab63fa",
           "#FFA15A",
           "#19d3f3",
           "#FF6692",
           "#B6E880",
           "#FF97FF",
           "#FECB52"
          ],
          "font": {
           "color": "#2a3f5f"
          },
          "geo": {
           "bgcolor": "white",
           "lakecolor": "white",
           "landcolor": "#E5ECF6",
           "showlakes": true,
           "showland": true,
           "subunitcolor": "white"
          },
          "hoverlabel": {
           "align": "left"
          },
          "hovermode": "closest",
          "mapbox": {
           "style": "light"
          },
          "paper_bgcolor": "white",
          "plot_bgcolor": "#E5ECF6",
          "polar": {
           "angularaxis": {
            "gridcolor": "white",
            "linecolor": "white",
            "ticks": ""
           },
           "bgcolor": "#E5ECF6",
           "radialaxis": {
            "gridcolor": "white",
            "linecolor": "white",
            "ticks": ""
           }
          },
          "scene": {
           "xaxis": {
            "backgroundcolor": "#E5ECF6",
            "gridcolor": "white",
            "gridwidth": 2,
            "linecolor": "white",
            "showbackground": true,
            "ticks": "",
            "zerolinecolor": "white"
           },
           "yaxis": {
            "backgroundcolor": "#E5ECF6",
            "gridcolor": "white",
            "gridwidth": 2,
            "linecolor": "white",
            "showbackground": true,
            "ticks": "",
            "zerolinecolor": "white"
           },
           "zaxis": {
            "backgroundcolor": "#E5ECF6",
            "gridcolor": "white",
            "gridwidth": 2,
            "linecolor": "white",
            "showbackground": true,
            "ticks": "",
            "zerolinecolor": "white"
           }
          },
          "shapedefaults": {
           "line": {
            "color": "#2a3f5f"
           }
          },
          "ternary": {
           "aaxis": {
            "gridcolor": "white",
            "linecolor": "white",
            "ticks": ""
           },
           "baxis": {
            "gridcolor": "white",
            "linecolor": "white",
            "ticks": ""
           },
           "bgcolor": "#E5ECF6",
           "caxis": {
            "gridcolor": "white",
            "linecolor": "white",
            "ticks": ""
           }
          },
          "title": {
           "x": 0.05
          },
          "xaxis": {
           "automargin": true,
           "gridcolor": "white",
           "linecolor": "white",
           "ticks": "",
           "title": {
            "standoff": 15
           },
           "zerolinecolor": "white",
           "zerolinewidth": 2
          },
          "yaxis": {
           "automargin": true,
           "gridcolor": "white",
           "linecolor": "white",
           "ticks": "",
           "title": {
            "standoff": 15
           },
           "zerolinecolor": "white",
           "zerolinewidth": 2
          }
         }
        },
        "title": {
         "text": "Fare Distribution by Passenger Class"
        },
        "xaxis": {
         "anchor": "y",
         "domain": [
          0,
          1
         ],
         "title": {
          "text": "Pclass"
         }
        },
        "yaxis": {
         "anchor": "x",
         "domain": [
          0,
          1
         ],
         "title": {
          "text": "Fare"
         }
        }
       }
      }
     },
     "metadata": {},
     "output_type": "display_data"
    }
   ],
   "source": [
    "fig = px.box(combined, x='Pclass', y='Fare', points='all', title='Fare Distribution by Passenger Class')\n",
    "fig.show()"
   ]
  },
  {
   "cell_type": "markdown",
   "metadata": {},
   "source": [
    "### 5. Export Cleaned Data"
   ]
  },
  {
   "cell_type": "code",
   "execution_count": 423,
   "metadata": {},
   "outputs": [],
   "source": [
    "train = combined[combined['source'] == 'train'].drop(columns=['source'])\n",
    "test = combined[combined['source'] == 'test'].drop(columns=['source'])"
   ]
  },
  {
   "cell_type": "code",
   "execution_count": 424,
   "metadata": {},
   "outputs": [],
   "source": [
    "train.to_csv('../data/processed/train_cleaned.csv', index=False)\n",
    "test.to_csv('../data/processed/test_cleaned.csv', index=False)"
   ]
  }
 ],
 "metadata": {
  "kernelspec": {
   "display_name": "AI_Team",
   "language": "python",
   "name": "python3"
  },
  "language_info": {
   "codemirror_mode": {
    "name": "ipython",
    "version": 3
   },
   "file_extension": ".py",
   "mimetype": "text/x-python",
   "name": "python",
   "nbconvert_exporter": "python",
   "pygments_lexer": "ipython3",
   "version": "3.11.8"
  }
 },
 "nbformat": 4,
 "nbformat_minor": 2
}
